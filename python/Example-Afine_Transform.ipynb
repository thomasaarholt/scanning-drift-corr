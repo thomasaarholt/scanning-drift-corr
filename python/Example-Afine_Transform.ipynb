{
 "cells": [
  {
   "cell_type": "markdown",
   "metadata": {},
   "source": [
    "# Loads"
   ]
  },
  {
   "cell_type": "code",
   "execution_count": 1,
   "metadata": {},
   "outputs": [
    {
     "data": {
      "text/html": [
       "\n",
       "<style>\n",
       ".jp-OutputArea-prompt:empty {\n",
       "  padding: 0;\n",
       "  border: 0;\n",
       "}\n",
       "</style>\n"
      ],
      "text/plain": [
       "<IPython.core.display.HTML object>"
      ]
     },
     "metadata": {},
     "output_type": "display_data"
    }
   ],
   "source": [
    "%matplotlib widget\n",
    "\n",
    "# This thing just saves some whitespace from a bug in tqdm / notebook\n",
    "from IPython.display import HTML\n",
    "display(HTML(\"\"\"\n",
    "<style>\n",
    ".jp-OutputArea-prompt:empty {\n",
    "  padding: 0;\n",
    "  border: 0;\n",
    "}\n",
    "</style>\n",
    "\"\"\"))"
   ]
  },
  {
   "cell_type": "code",
   "execution_count": 2,
   "metadata": {},
   "outputs": [],
   "source": [
    "from importlib import reload\n",
    "import numpy as np\n",
    "import matplotlib.pyplot as plt\n",
    "from genSTEM import Model, Correct\n",
    "\n",
    "from ase.spacegroup import crystal\n",
    "from ase.build import make_supercell"
   ]
  },
  {
   "cell_type": "markdown",
   "metadata": {},
   "source": [
    "# Build an image"
   ]
  },
  {
   "cell_type": "markdown",
   "metadata": {},
   "source": [
    "Build the structure with ase"
   ]
  },
  {
   "cell_type": "code",
   "execution_count": 3,
   "metadata": {},
   "outputs": [],
   "source": [
    "a = 9.04\n",
    "skutterudite = crystal(('Co', 'Sb'),\n",
    "                       basis=[(0.25, 0.25, 0.25), (0.0, 0.335, 0.158)],\n",
    "                       spacegroup=204,\n",
    "                       cellpar=[a, a, a, 90, 90, 90])\n",
    "\n",
    "atoms = make_supercell(skutterudite, np.diag([4,4,1]))\n",
    "atoms.numbers[330] = 80\n",
    "atoms.numbers[331] = 80\n",
    "atoms.numbers[346] = 80"
   ]
  },
  {
   "cell_type": "markdown",
   "metadata": {},
   "source": [
    "Build the image with genSTEM"
   ]
  },
  {
   "cell_type": "code",
   "execution_count": 4,
   "metadata": {},
   "outputs": [
    {
     "data": {
      "application/vnd.jupyter.widget-view+json": {
       "model_id": "16899052e3174d2abd76dc9eb305244b",
       "version_major": 2,
       "version_minor": 0
      },
      "text/plain": [
       "  0%|          | 0/2 [00:00<?, ?it/s]"
      ]
     },
     "metadata": {},
     "output_type": "display_data"
    },
    {
     "name": "stdout",
     "output_type": "stream",
     "text": [
      "Size: 0.001227664 GB\n",
      "Shape: (2, 277, 277)\n"
     ]
    }
   ],
   "source": [
    "images, scanangles, random_angle = Model.get(atoms, drift_speed=12, vacuum=10, nImages=2, pixel_size=0.2, jitter=0, maxScanAngle=180, drift_angle=0)"
   ]
  },
  {
   "cell_type": "markdown",
   "metadata": {},
   "source": [
    "Here we add one line of artificcial jitter so that we can analyze the effect of an affine transformation mapped on scan imperfections."
   ]
  },
  {
   "cell_type": "code",
   "execution_count": 5,
   "metadata": {},
   "outputs": [],
   "source": [
    "images[0, 100, :272] = images[0, 100, 5:277]\n",
    "images[1, 150, :272] = images[1, 150, 5:277]"
   ]
  },
  {
   "cell_type": "markdown",
   "metadata": {},
   "source": [
    "Plot the generated images"
   ]
  },
  {
   "cell_type": "code",
   "execution_count": 6,
   "metadata": {},
   "outputs": [
    {
     "data": {
      "application/vnd.jupyter.widget-view+json": {
       "model_id": "d44d287cb3c74c25837f484423801a2d",
       "version_major": 2,
       "version_minor": 0
      },
      "text/plain": [
       "Canvas(toolbar=Toolbar(toolitems=[('Home', 'Reset original view', 'home', 'home'), ('Back', 'Back to previous …"
      ]
     },
     "metadata": {},
     "output_type": "display_data"
    },
    {
     "data": {
      "application/vnd.jupyter.widget-view+json": {
       "model_id": "5e5bfae1ba424ab2ab202aae52bedca0",
       "version_major": 2,
       "version_minor": 0
      },
      "text/plain": [
       "Canvas(toolbar=Toolbar(toolitems=[('Home', 'Reset original view', 'home', 'home'), ('Back', 'Back to previous …"
      ]
     },
     "metadata": {},
     "output_type": "display_data"
    },
    {
     "data": {
      "text/plain": [
       "Text(0.5, 1.0, 'Registration without Affine Correction')"
      ]
     },
     "execution_count": 6,
     "metadata": {},
     "output_type": "execute_result"
    }
   ],
   "source": [
    "ncols = 4 if len(images) > 4 else len(images)\n",
    "mult = 12 / ncols\n",
    "nrows = len(images) // ncols if len(images) % ncols == 0 else len(images) // ncols +1\n",
    "rowcols = np.array([nrows, ncols])\n",
    "\n",
    "fig, AX = plt.subplots(*rowcols, figsize=mult*rowcols[::-1])\n",
    "for ax, img in zip(AX.flatten(), images):\n",
    "    img = Correct.asnumpy(img)\n",
    "    ax.imshow(img, cmap='jet')\n",
    "    ax.axis('off')\n",
    "\n",
    "limits = images.min(), images.max()\n",
    "plt.figure()\n",
    "img = Correct.create_final_stack_and_average(images, scanangles, 0, 0, print_shifts=True)\n",
    "img[img == 0] = np.nan\n",
    "plt.imshow(img, clim=limits, cmap='jet')\n",
    "plt.title('Registration without Affine Correction')"
   ]
  },
  {
   "cell_type": "markdown",
   "metadata": {},
   "source": [
    "# Drift detection and correction\n",
    "We begin by finding the global sample drift by itteratively performing hybrid correlation. <br />\n",
    "The following cell plots the convergance of the hybrid correlation performed in the successive cell."
   ]
  },
  {
   "cell_type": "code",
   "execution_count": 7,
   "metadata": {},
   "outputs": [
    {
     "data": {
      "application/vnd.jupyter.widget-view+json": {
       "model_id": "7d181829438b484990ba9e0b5929ea25",
       "version_major": 2,
       "version_minor": 0
      },
      "text/plain": [
       "Canvas(toolbar=Toolbar(toolitems=[('Home', 'Reset original view', 'home', 'home'), ('Back', 'Back to previous …"
      ]
     },
     "metadata": {},
     "output_type": "display_data"
    }
   ],
   "source": [
    "fig = plt.figure(figsize = (12,4)) "
   ]
  },
  {
   "cell_type": "code",
   "execution_count": 8,
   "metadata": {},
   "outputs": [
    {
     "name": "stdout",
     "output_type": "stream",
     "text": [
      "\n",
      "Actual angle: 0.0°\n",
      "Getting fit with no drift first\n"
     ]
    },
    {
     "data": {
      "application/vnd.jupyter.widget-view+json": {
       "model_id": "459bd9823f7b430bbd749e28eb904415",
       "version_major": 2,
       "version_minor": 0
      },
      "text/plain": [
       "Iterating through drift angles:   0%|          | 0/1 [00:00<?, ?it/s]"
      ]
     },
     "metadata": {},
     "output_type": "display_data"
    },
    {
     "data": {
      "application/vnd.jupyter.widget-view+json": {
       "model_id": "",
       "version_major": 2,
       "version_minor": 0
      },
      "text/plain": [
       "Iterating through drift speeds:   0%|          | 0/1 [00:00<?, ?it/s]"
      ]
     },
     "metadata": {},
     "output_type": "display_data"
    },
    {
     "name": "stdout",
     "output_type": "stream",
     "text": [
      "\n",
      "Iteration #0: Best guess: Angle: 0°, Speed: 0.00e+00. Fit value: 8.87e+06\n",
      "Limits: [0.0°, 315.0°], [0.00e+00, 3.61e-03]\n"
     ]
    },
    {
     "data": {
      "application/vnd.jupyter.widget-view+json": {
       "model_id": "72be32266e794b5daac0149df593b646",
       "version_major": 2,
       "version_minor": 0
      },
      "text/plain": [
       "Iterating through drift angles:   0%|          | 0/8 [00:00<?, ?it/s]"
      ]
     },
     "metadata": {},
     "output_type": "display_data"
    },
    {
     "data": {
      "application/vnd.jupyter.widget-view+json": {
       "model_id": "",
       "version_major": 2,
       "version_minor": 0
      },
      "text/plain": [
       "Iterating through drift speeds:   0%|          | 0/8 [00:00<?, ?it/s]"
      ]
     },
     "metadata": {},
     "output_type": "display_data"
    },
    {
     "data": {
      "application/vnd.jupyter.widget-view+json": {
       "model_id": "",
       "version_major": 2,
       "version_minor": 0
      },
      "text/plain": [
       "Iterating through drift speeds:   0%|          | 0/8 [00:00<?, ?it/s]"
      ]
     },
     "metadata": {},
     "output_type": "display_data"
    },
    {
     "data": {
      "application/vnd.jupyter.widget-view+json": {
       "model_id": "",
       "version_major": 2,
       "version_minor": 0
      },
      "text/plain": [
       "Iterating through drift speeds:   0%|          | 0/8 [00:00<?, ?it/s]"
      ]
     },
     "metadata": {},
     "output_type": "display_data"
    },
    {
     "data": {
      "application/vnd.jupyter.widget-view+json": {
       "model_id": "",
       "version_major": 2,
       "version_minor": 0
      },
      "text/plain": [
       "Iterating through drift speeds:   0%|          | 0/8 [00:00<?, ?it/s]"
      ]
     },
     "metadata": {},
     "output_type": "display_data"
    },
    {
     "data": {
      "application/vnd.jupyter.widget-view+json": {
       "model_id": "",
       "version_major": 2,
       "version_minor": 0
      },
      "text/plain": [
       "Iterating through drift speeds:   0%|          | 0/8 [00:00<?, ?it/s]"
      ]
     },
     "metadata": {},
     "output_type": "display_data"
    },
    {
     "data": {
      "application/vnd.jupyter.widget-view+json": {
       "model_id": "",
       "version_major": 2,
       "version_minor": 0
      },
      "text/plain": [
       "Iterating through drift speeds:   0%|          | 0/8 [00:00<?, ?it/s]"
      ]
     },
     "metadata": {},
     "output_type": "display_data"
    },
    {
     "data": {
      "application/vnd.jupyter.widget-view+json": {
       "model_id": "",
       "version_major": 2,
       "version_minor": 0
      },
      "text/plain": [
       "Iterating through drift speeds:   0%|          | 0/8 [00:00<?, ?it/s]"
      ]
     },
     "metadata": {},
     "output_type": "display_data"
    },
    {
     "data": {
      "application/vnd.jupyter.widget-view+json": {
       "model_id": "",
       "version_major": 2,
       "version_minor": 0
      },
      "text/plain": [
       "Iterating through drift speeds:   0%|          | 0/8 [00:00<?, ?it/s]"
      ]
     },
     "metadata": {},
     "output_type": "display_data"
    },
    {
     "name": "stdout",
     "output_type": "stream",
     "text": [
      "Adjusting drift angle limits\n",
      "\n",
      "Iteration #1: Best guess: Angle: 0.0°, Speed: 1.03e-03. Fit value: 2.03e+07\n",
      "Limits: [270.0°, 90.0°], [0.00e+00, 3.61e-03]\n"
     ]
    },
    {
     "data": {
      "application/vnd.jupyter.widget-view+json": {
       "model_id": "9844243286964df3bbcfbd53600fd0f2",
       "version_major": 2,
       "version_minor": 0
      },
      "text/plain": [
       "Iterating through drift angles:   0%|          | 0/8 [00:00<?, ?it/s]"
      ]
     },
     "metadata": {},
     "output_type": "display_data"
    },
    {
     "data": {
      "application/vnd.jupyter.widget-view+json": {
       "model_id": "",
       "version_major": 2,
       "version_minor": 0
      },
      "text/plain": [
       "Iterating through drift speeds:   0%|          | 0/8 [00:00<?, ?it/s]"
      ]
     },
     "metadata": {},
     "output_type": "display_data"
    },
    {
     "data": {
      "application/vnd.jupyter.widget-view+json": {
       "model_id": "",
       "version_major": 2,
       "version_minor": 0
      },
      "text/plain": [
       "Iterating through drift speeds:   0%|          | 0/8 [00:00<?, ?it/s]"
      ]
     },
     "metadata": {},
     "output_type": "display_data"
    },
    {
     "data": {
      "application/vnd.jupyter.widget-view+json": {
       "model_id": "",
       "version_major": 2,
       "version_minor": 0
      },
      "text/plain": [
       "Iterating through drift speeds:   0%|          | 0/8 [00:00<?, ?it/s]"
      ]
     },
     "metadata": {},
     "output_type": "display_data"
    },
    {
     "data": {
      "application/vnd.jupyter.widget-view+json": {
       "model_id": "",
       "version_major": 2,
       "version_minor": 0
      },
      "text/plain": [
       "Iterating through drift speeds:   0%|          | 0/8 [00:00<?, ?it/s]"
      ]
     },
     "metadata": {},
     "output_type": "display_data"
    },
    {
     "data": {
      "application/vnd.jupyter.widget-view+json": {
       "model_id": "",
       "version_major": 2,
       "version_minor": 0
      },
      "text/plain": [
       "Iterating through drift speeds:   0%|          | 0/8 [00:00<?, ?it/s]"
      ]
     },
     "metadata": {},
     "output_type": "display_data"
    },
    {
     "data": {
      "application/vnd.jupyter.widget-view+json": {
       "model_id": "",
       "version_major": 2,
       "version_minor": 0
      },
      "text/plain": [
       "Iterating through drift speeds:   0%|          | 0/8 [00:00<?, ?it/s]"
      ]
     },
     "metadata": {},
     "output_type": "display_data"
    },
    {
     "data": {
      "application/vnd.jupyter.widget-view+json": {
       "model_id": "",
       "version_major": 2,
       "version_minor": 0
      },
      "text/plain": [
       "Iterating through drift speeds:   0%|          | 0/8 [00:00<?, ?it/s]"
      ]
     },
     "metadata": {},
     "output_type": "display_data"
    },
    {
     "data": {
      "application/vnd.jupyter.widget-view+json": {
       "model_id": "",
       "version_major": 2,
       "version_minor": 0
      },
      "text/plain": [
       "Iterating through drift speeds:   0%|          | 0/8 [00:00<?, ?it/s]"
      ]
     },
     "metadata": {},
     "output_type": "display_data"
    },
    {
     "name": "stdout",
     "output_type": "stream",
     "text": [
      "Initial drift speed intervals were too large. Reducing.\n",
      "\n",
      "Iteration #2: Best guess: Angle: -12.86°, Speed: 5.20e-04. Fit value: 1.61e+07\n",
      "Limits: [270.0°, 90.0°], [0.00e+00, 1.03e-03]\n"
     ]
    },
    {
     "data": {
      "application/vnd.jupyter.widget-view+json": {
       "model_id": "6e4f406c7e0649ffb67c4381917cded3",
       "version_major": 2,
       "version_minor": 0
      },
      "text/plain": [
       "Iterating through drift angles:   0%|          | 0/8 [00:00<?, ?it/s]"
      ]
     },
     "metadata": {},
     "output_type": "display_data"
    },
    {
     "data": {
      "application/vnd.jupyter.widget-view+json": {
       "model_id": "",
       "version_major": 2,
       "version_minor": 0
      },
      "text/plain": [
       "Iterating through drift speeds:   0%|          | 0/8 [00:00<?, ?it/s]"
      ]
     },
     "metadata": {},
     "output_type": "display_data"
    },
    {
     "data": {
      "application/vnd.jupyter.widget-view+json": {
       "model_id": "",
       "version_major": 2,
       "version_minor": 0
      },
      "text/plain": [
       "Iterating through drift speeds:   0%|          | 0/8 [00:00<?, ?it/s]"
      ]
     },
     "metadata": {},
     "output_type": "display_data"
    },
    {
     "data": {
      "application/vnd.jupyter.widget-view+json": {
       "model_id": "",
       "version_major": 2,
       "version_minor": 0
      },
      "text/plain": [
       "Iterating through drift speeds:   0%|          | 0/8 [00:00<?, ?it/s]"
      ]
     },
     "metadata": {},
     "output_type": "display_data"
    },
    {
     "data": {
      "application/vnd.jupyter.widget-view+json": {
       "model_id": "",
       "version_major": 2,
       "version_minor": 0
      },
      "text/plain": [
       "Iterating through drift speeds:   0%|          | 0/8 [00:00<?, ?it/s]"
      ]
     },
     "metadata": {},
     "output_type": "display_data"
    },
    {
     "data": {
      "application/vnd.jupyter.widget-view+json": {
       "model_id": "",
       "version_major": 2,
       "version_minor": 0
      },
      "text/plain": [
       "Iterating through drift speeds:   0%|          | 0/8 [00:00<?, ?it/s]"
      ]
     },
     "metadata": {},
     "output_type": "display_data"
    },
    {
     "data": {
      "application/vnd.jupyter.widget-view+json": {
       "model_id": "",
       "version_major": 2,
       "version_minor": 0
      },
      "text/plain": [
       "Iterating through drift speeds:   0%|          | 0/8 [00:00<?, ?it/s]"
      ]
     },
     "metadata": {},
     "output_type": "display_data"
    },
    {
     "data": {
      "application/vnd.jupyter.widget-view+json": {
       "model_id": "",
       "version_major": 2,
       "version_minor": 0
      },
      "text/plain": [
       "Iterating through drift speeds:   0%|          | 0/8 [00:00<?, ?it/s]"
      ]
     },
     "metadata": {},
     "output_type": "display_data"
    },
    {
     "data": {
      "application/vnd.jupyter.widget-view+json": {
       "model_id": "",
       "version_major": 2,
       "version_minor": 0
      },
      "text/plain": [
       "Iterating through drift speeds:   0%|          | 0/8 [00:00<?, ?it/s]"
      ]
     },
     "metadata": {},
     "output_type": "display_data"
    },
    {
     "name": "stdout",
     "output_type": "stream",
     "text": [
      "Adjusting drift speed limits\n",
      "\n",
      "Iteration #3: Best guess: Angle: -12.86°, Speed: 7.40e-04. Fit value: 2.10e+07\n",
      "Limits: [270.0°, 90.0°], [4.42e-04, 1.03e-03]\n"
     ]
    },
    {
     "data": {
      "application/vnd.jupyter.widget-view+json": {
       "model_id": "6963967768fc4e2796df7325c892a214",
       "version_major": 2,
       "version_minor": 0
      },
      "text/plain": [
       "Iterating through drift angles:   0%|          | 0/8 [00:00<?, ?it/s]"
      ]
     },
     "metadata": {},
     "output_type": "display_data"
    },
    {
     "data": {
      "application/vnd.jupyter.widget-view+json": {
       "model_id": "",
       "version_major": 2,
       "version_minor": 0
      },
      "text/plain": [
       "Iterating through drift speeds:   0%|          | 0/8 [00:00<?, ?it/s]"
      ]
     },
     "metadata": {},
     "output_type": "display_data"
    },
    {
     "data": {
      "application/vnd.jupyter.widget-view+json": {
       "model_id": "",
       "version_major": 2,
       "version_minor": 0
      },
      "text/plain": [
       "Iterating through drift speeds:   0%|          | 0/8 [00:00<?, ?it/s]"
      ]
     },
     "metadata": {},
     "output_type": "display_data"
    },
    {
     "data": {
      "application/vnd.jupyter.widget-view+json": {
       "model_id": "",
       "version_major": 2,
       "version_minor": 0
      },
      "text/plain": [
       "Iterating through drift speeds:   0%|          | 0/8 [00:00<?, ?it/s]"
      ]
     },
     "metadata": {},
     "output_type": "display_data"
    },
    {
     "data": {
      "application/vnd.jupyter.widget-view+json": {
       "model_id": "",
       "version_major": 2,
       "version_minor": 0
      },
      "text/plain": [
       "Iterating through drift speeds:   0%|          | 0/8 [00:00<?, ?it/s]"
      ]
     },
     "metadata": {},
     "output_type": "display_data"
    },
    {
     "data": {
      "application/vnd.jupyter.widget-view+json": {
       "model_id": "",
       "version_major": 2,
       "version_minor": 0
      },
      "text/plain": [
       "Iterating through drift speeds:   0%|          | 0/8 [00:00<?, ?it/s]"
      ]
     },
     "metadata": {},
     "output_type": "display_data"
    },
    {
     "data": {
      "application/vnd.jupyter.widget-view+json": {
       "model_id": "",
       "version_major": 2,
       "version_minor": 0
      },
      "text/plain": [
       "Iterating through drift speeds:   0%|          | 0/8 [00:00<?, ?it/s]"
      ]
     },
     "metadata": {},
     "output_type": "display_data"
    },
    {
     "data": {
      "application/vnd.jupyter.widget-view+json": {
       "model_id": "",
       "version_major": 2,
       "version_minor": 0
      },
      "text/plain": [
       "Iterating through drift speeds:   0%|          | 0/8 [00:00<?, ?it/s]"
      ]
     },
     "metadata": {},
     "output_type": "display_data"
    },
    {
     "data": {
      "application/vnd.jupyter.widget-view+json": {
       "model_id": "",
       "version_major": 2,
       "version_minor": 0
      },
      "text/plain": [
       "Iterating through drift speeds:   0%|          | 0/8 [00:00<?, ?it/s]"
      ]
     },
     "metadata": {},
     "output_type": "display_data"
    },
    {
     "name": "stdout",
     "output_type": "stream",
     "text": [
      "Adjusting drift angle limits\n",
      "\n",
      "Iteration #4: Best guess: Angle: -12.86°, Speed: 7.80e-04. Fit value: 2.10e+07\n",
      "Limits: [295.7°, 38.6°], [4.42e-04, 1.03e-03]\n"
     ]
    },
    {
     "data": {
      "application/vnd.jupyter.widget-view+json": {
       "model_id": "57e3cc3deac64a4dba653668aa7323cc",
       "version_major": 2,
       "version_minor": 0
      },
      "text/plain": [
       "Iterating through drift angles:   0%|          | 0/8 [00:00<?, ?it/s]"
      ]
     },
     "metadata": {},
     "output_type": "display_data"
    },
    {
     "data": {
      "application/vnd.jupyter.widget-view+json": {
       "model_id": "",
       "version_major": 2,
       "version_minor": 0
      },
      "text/plain": [
       "Iterating through drift speeds:   0%|          | 0/8 [00:00<?, ?it/s]"
      ]
     },
     "metadata": {},
     "output_type": "display_data"
    },
    {
     "data": {
      "application/vnd.jupyter.widget-view+json": {
       "model_id": "",
       "version_major": 2,
       "version_minor": 0
      },
      "text/plain": [
       "Iterating through drift speeds:   0%|          | 0/8 [00:00<?, ?it/s]"
      ]
     },
     "metadata": {},
     "output_type": "display_data"
    },
    {
     "data": {
      "application/vnd.jupyter.widget-view+json": {
       "model_id": "",
       "version_major": 2,
       "version_minor": 0
      },
      "text/plain": [
       "Iterating through drift speeds:   0%|          | 0/8 [00:00<?, ?it/s]"
      ]
     },
     "metadata": {},
     "output_type": "display_data"
    },
    {
     "data": {
      "application/vnd.jupyter.widget-view+json": {
       "model_id": "",
       "version_major": 2,
       "version_minor": 0
      },
      "text/plain": [
       "Iterating through drift speeds:   0%|          | 0/8 [00:00<?, ?it/s]"
      ]
     },
     "metadata": {},
     "output_type": "display_data"
    },
    {
     "data": {
      "application/vnd.jupyter.widget-view+json": {
       "model_id": "",
       "version_major": 2,
       "version_minor": 0
      },
      "text/plain": [
       "Iterating through drift speeds:   0%|          | 0/8 [00:00<?, ?it/s]"
      ]
     },
     "metadata": {},
     "output_type": "display_data"
    },
    {
     "data": {
      "application/vnd.jupyter.widget-view+json": {
       "model_id": "",
       "version_major": 2,
       "version_minor": 0
      },
      "text/plain": [
       "Iterating through drift speeds:   0%|          | 0/8 [00:00<?, ?it/s]"
      ]
     },
     "metadata": {},
     "output_type": "display_data"
    },
    {
     "data": {
      "application/vnd.jupyter.widget-view+json": {
       "model_id": "",
       "version_major": 2,
       "version_minor": 0
      },
      "text/plain": [
       "Iterating through drift speeds:   0%|          | 0/8 [00:00<?, ?it/s]"
      ]
     },
     "metadata": {},
     "output_type": "display_data"
    },
    {
     "data": {
      "application/vnd.jupyter.widget-view+json": {
       "model_id": "",
       "version_major": 2,
       "version_minor": 0
      },
      "text/plain": [
       "Iterating through drift speeds:   0%|          | 0/8 [00:00<?, ?it/s]"
      ]
     },
     "metadata": {},
     "output_type": "display_data"
    },
    {
     "name": "stdout",
     "output_type": "stream",
     "text": [
      "Adjusting drift speed limits\n",
      "\n",
      "Iteration #5: Best guess: Angle: -5.51°, Speed: 7.80e-04. Fit value: 3.17e+07\n",
      "Limits: [295.7°, 38.6°], [6.10e-04, 9.47e-04]\n"
     ]
    },
    {
     "data": {
      "application/vnd.jupyter.widget-view+json": {
       "model_id": "88279b50d93143eaa48ef101f6278dea",
       "version_major": 2,
       "version_minor": 0
      },
      "text/plain": [
       "Iterating through drift angles:   0%|          | 0/8 [00:00<?, ?it/s]"
      ]
     },
     "metadata": {},
     "output_type": "display_data"
    },
    {
     "data": {
      "application/vnd.jupyter.widget-view+json": {
       "model_id": "",
       "version_major": 2,
       "version_minor": 0
      },
      "text/plain": [
       "Iterating through drift speeds:   0%|          | 0/8 [00:00<?, ?it/s]"
      ]
     },
     "metadata": {},
     "output_type": "display_data"
    },
    {
     "data": {
      "application/vnd.jupyter.widget-view+json": {
       "model_id": "",
       "version_major": 2,
       "version_minor": 0
      },
      "text/plain": [
       "Iterating through drift speeds:   0%|          | 0/8 [00:00<?, ?it/s]"
      ]
     },
     "metadata": {},
     "output_type": "display_data"
    },
    {
     "data": {
      "application/vnd.jupyter.widget-view+json": {
       "model_id": "",
       "version_major": 2,
       "version_minor": 0
      },
      "text/plain": [
       "Iterating through drift speeds:   0%|          | 0/8 [00:00<?, ?it/s]"
      ]
     },
     "metadata": {},
     "output_type": "display_data"
    },
    {
     "data": {
      "application/vnd.jupyter.widget-view+json": {
       "model_id": "",
       "version_major": 2,
       "version_minor": 0
      },
      "text/plain": [
       "Iterating through drift speeds:   0%|          | 0/8 [00:00<?, ?it/s]"
      ]
     },
     "metadata": {},
     "output_type": "display_data"
    },
    {
     "data": {
      "application/vnd.jupyter.widget-view+json": {
       "model_id": "",
       "version_major": 2,
       "version_minor": 0
      },
      "text/plain": [
       "Iterating through drift speeds:   0%|          | 0/8 [00:00<?, ?it/s]"
      ]
     },
     "metadata": {},
     "output_type": "display_data"
    },
    {
     "data": {
      "application/vnd.jupyter.widget-view+json": {
       "model_id": "",
       "version_major": 2,
       "version_minor": 0
      },
      "text/plain": [
       "Iterating through drift speeds:   0%|          | 0/8 [00:00<?, ?it/s]"
      ]
     },
     "metadata": {},
     "output_type": "display_data"
    },
    {
     "data": {
      "application/vnd.jupyter.widget-view+json": {
       "model_id": "",
       "version_major": 2,
       "version_minor": 0
      },
      "text/plain": [
       "Iterating through drift speeds:   0%|          | 0/8 [00:00<?, ?it/s]"
      ]
     },
     "metadata": {},
     "output_type": "display_data"
    },
    {
     "data": {
      "application/vnd.jupyter.widget-view+json": {
       "model_id": "",
       "version_major": 2,
       "version_minor": 0
      },
      "text/plain": [
       "Iterating through drift speeds:   0%|          | 0/8 [00:00<?, ?it/s]"
      ]
     },
     "metadata": {},
     "output_type": "display_data"
    },
    {
     "name": "stdout",
     "output_type": "stream",
     "text": [
      "Adjusting drift angle limits\n",
      "\n",
      "Iteration #6: Best guess: Angle: -5.51°, Speed: 8.00e-04. Fit value: 3.14e+07\n",
      "Limits: [325.1°, 23.9°], [6.10e-04, 9.47e-04]\n"
     ]
    },
    {
     "data": {
      "application/vnd.jupyter.widget-view+json": {
       "model_id": "cb1f0044401a42718db575fe73742d7e",
       "version_major": 2,
       "version_minor": 0
      },
      "text/plain": [
       "Iterating through drift angles:   0%|          | 0/8 [00:00<?, ?it/s]"
      ]
     },
     "metadata": {},
     "output_type": "display_data"
    },
    {
     "data": {
      "application/vnd.jupyter.widget-view+json": {
       "model_id": "",
       "version_major": 2,
       "version_minor": 0
      },
      "text/plain": [
       "Iterating through drift speeds:   0%|          | 0/8 [00:00<?, ?it/s]"
      ]
     },
     "metadata": {},
     "output_type": "display_data"
    },
    {
     "data": {
      "application/vnd.jupyter.widget-view+json": {
       "model_id": "",
       "version_major": 2,
       "version_minor": 0
      },
      "text/plain": [
       "Iterating through drift speeds:   0%|          | 0/8 [00:00<?, ?it/s]"
      ]
     },
     "metadata": {},
     "output_type": "display_data"
    },
    {
     "data": {
      "application/vnd.jupyter.widget-view+json": {
       "model_id": "",
       "version_major": 2,
       "version_minor": 0
      },
      "text/plain": [
       "Iterating through drift speeds:   0%|          | 0/8 [00:00<?, ?it/s]"
      ]
     },
     "metadata": {},
     "output_type": "display_data"
    },
    {
     "data": {
      "application/vnd.jupyter.widget-view+json": {
       "model_id": "",
       "version_major": 2,
       "version_minor": 0
      },
      "text/plain": [
       "Iterating through drift speeds:   0%|          | 0/8 [00:00<?, ?it/s]"
      ]
     },
     "metadata": {},
     "output_type": "display_data"
    },
    {
     "data": {
      "application/vnd.jupyter.widget-view+json": {
       "model_id": "",
       "version_major": 2,
       "version_minor": 0
      },
      "text/plain": [
       "Iterating through drift speeds:   0%|          | 0/8 [00:00<?, ?it/s]"
      ]
     },
     "metadata": {},
     "output_type": "display_data"
    },
    {
     "data": {
      "application/vnd.jupyter.widget-view+json": {
       "model_id": "",
       "version_major": 2,
       "version_minor": 0
      },
      "text/plain": [
       "Iterating through drift speeds:   0%|          | 0/8 [00:00<?, ?it/s]"
      ]
     },
     "metadata": {},
     "output_type": "display_data"
    },
    {
     "data": {
      "application/vnd.jupyter.widget-view+json": {
       "model_id": "",
       "version_major": 2,
       "version_minor": 0
      },
      "text/plain": [
       "Iterating through drift speeds:   0%|          | 0/8 [00:00<?, ?it/s]"
      ]
     },
     "metadata": {},
     "output_type": "display_data"
    },
    {
     "data": {
      "application/vnd.jupyter.widget-view+json": {
       "model_id": "",
       "version_major": 2,
       "version_minor": 0
      },
      "text/plain": [
       "Iterating through drift speeds:   0%|          | 0/8 [00:00<?, ?it/s]"
      ]
     },
     "metadata": {},
     "output_type": "display_data"
    },
    {
     "name": "stdout",
     "output_type": "stream",
     "text": [
      "Adjusting drift speed limits\n",
      "\n",
      "Iteration #7: Best guess: Angle: -1.31°, Speed: 8.00e-04. Fit value: 3.62e+07\n",
      "Limits: [325.1°, 23.9°], [7.07e-04, 8.99e-04]\n"
     ]
    },
    {
     "data": {
      "application/vnd.jupyter.widget-view+json": {
       "model_id": "fa8ff7090cee4fa0aa81fde16134ef09",
       "version_major": 2,
       "version_minor": 0
      },
      "text/plain": [
       "Iterating through drift angles:   0%|          | 0/8 [00:00<?, ?it/s]"
      ]
     },
     "metadata": {},
     "output_type": "display_data"
    },
    {
     "data": {
      "application/vnd.jupyter.widget-view+json": {
       "model_id": "",
       "version_major": 2,
       "version_minor": 0
      },
      "text/plain": [
       "Iterating through drift speeds:   0%|          | 0/8 [00:00<?, ?it/s]"
      ]
     },
     "metadata": {},
     "output_type": "display_data"
    },
    {
     "data": {
      "application/vnd.jupyter.widget-view+json": {
       "model_id": "",
       "version_major": 2,
       "version_minor": 0
      },
      "text/plain": [
       "Iterating through drift speeds:   0%|          | 0/8 [00:00<?, ?it/s]"
      ]
     },
     "metadata": {},
     "output_type": "display_data"
    },
    {
     "data": {
      "application/vnd.jupyter.widget-view+json": {
       "model_id": "",
       "version_major": 2,
       "version_minor": 0
      },
      "text/plain": [
       "Iterating through drift speeds:   0%|          | 0/8 [00:00<?, ?it/s]"
      ]
     },
     "metadata": {},
     "output_type": "display_data"
    },
    {
     "data": {
      "application/vnd.jupyter.widget-view+json": {
       "model_id": "",
       "version_major": 2,
       "version_minor": 0
      },
      "text/plain": [
       "Iterating through drift speeds:   0%|          | 0/8 [00:00<?, ?it/s]"
      ]
     },
     "metadata": {},
     "output_type": "display_data"
    },
    {
     "data": {
      "application/vnd.jupyter.widget-view+json": {
       "model_id": "",
       "version_major": 2,
       "version_minor": 0
      },
      "text/plain": [
       "Iterating through drift speeds:   0%|          | 0/8 [00:00<?, ?it/s]"
      ]
     },
     "metadata": {},
     "output_type": "display_data"
    },
    {
     "data": {
      "application/vnd.jupyter.widget-view+json": {
       "model_id": "",
       "version_major": 2,
       "version_minor": 0
      },
      "text/plain": [
       "Iterating through drift speeds:   0%|          | 0/8 [00:00<?, ?it/s]"
      ]
     },
     "metadata": {},
     "output_type": "display_data"
    },
    {
     "data": {
      "application/vnd.jupyter.widget-view+json": {
       "model_id": "",
       "version_major": 2,
       "version_minor": 0
      },
      "text/plain": [
       "Iterating through drift speeds:   0%|          | 0/8 [00:00<?, ?it/s]"
      ]
     },
     "metadata": {},
     "output_type": "display_data"
    },
    {
     "data": {
      "application/vnd.jupyter.widget-view+json": {
       "model_id": "",
       "version_major": 2,
       "version_minor": 0
      },
      "text/plain": [
       "Iterating through drift speeds:   0%|          | 0/8 [00:00<?, ?it/s]"
      ]
     },
     "metadata": {},
     "output_type": "display_data"
    },
    {
     "name": "stdout",
     "output_type": "stream",
     "text": [
      "Adjusting drift angle limits\n",
      "\n",
      "Iteration #8: Best guess: Angle: -1.31°, Speed: 7.90e-04. Fit value: 3.65e+07\n",
      "Limits: [341.9°, 15.5°], [7.07e-04, 8.99e-04]\n"
     ]
    },
    {
     "data": {
      "application/vnd.jupyter.widget-view+json": {
       "model_id": "7851e578063741b7be2153b512ff5cc5",
       "version_major": 2,
       "version_minor": 0
      },
      "text/plain": [
       "Iterating through drift angles:   0%|          | 0/8 [00:00<?, ?it/s]"
      ]
     },
     "metadata": {},
     "output_type": "display_data"
    },
    {
     "data": {
      "application/vnd.jupyter.widget-view+json": {
       "model_id": "",
       "version_major": 2,
       "version_minor": 0
      },
      "text/plain": [
       "Iterating through drift speeds:   0%|          | 0/8 [00:00<?, ?it/s]"
      ]
     },
     "metadata": {},
     "output_type": "display_data"
    },
    {
     "data": {
      "application/vnd.jupyter.widget-view+json": {
       "model_id": "",
       "version_major": 2,
       "version_minor": 0
      },
      "text/plain": [
       "Iterating through drift speeds:   0%|          | 0/8 [00:00<?, ?it/s]"
      ]
     },
     "metadata": {},
     "output_type": "display_data"
    },
    {
     "data": {
      "application/vnd.jupyter.widget-view+json": {
       "model_id": "",
       "version_major": 2,
       "version_minor": 0
      },
      "text/plain": [
       "Iterating through drift speeds:   0%|          | 0/8 [00:00<?, ?it/s]"
      ]
     },
     "metadata": {},
     "output_type": "display_data"
    },
    {
     "data": {
      "application/vnd.jupyter.widget-view+json": {
       "model_id": "",
       "version_major": 2,
       "version_minor": 0
      },
      "text/plain": [
       "Iterating through drift speeds:   0%|          | 0/8 [00:00<?, ?it/s]"
      ]
     },
     "metadata": {},
     "output_type": "display_data"
    },
    {
     "data": {
      "application/vnd.jupyter.widget-view+json": {
       "model_id": "",
       "version_major": 2,
       "version_minor": 0
      },
      "text/plain": [
       "Iterating through drift speeds:   0%|          | 0/8 [00:00<?, ?it/s]"
      ]
     },
     "metadata": {},
     "output_type": "display_data"
    },
    {
     "data": {
      "application/vnd.jupyter.widget-view+json": {
       "model_id": "",
       "version_major": 2,
       "version_minor": 0
      },
      "text/plain": [
       "Iterating through drift speeds:   0%|          | 0/8 [00:00<?, ?it/s]"
      ]
     },
     "metadata": {},
     "output_type": "display_data"
    },
    {
     "data": {
      "application/vnd.jupyter.widget-view+json": {
       "model_id": "",
       "version_major": 2,
       "version_minor": 0
      },
      "text/plain": [
       "Iterating through drift speeds:   0%|          | 0/8 [00:00<?, ?it/s]"
      ]
     },
     "metadata": {},
     "output_type": "display_data"
    },
    {
     "data": {
      "application/vnd.jupyter.widget-view+json": {
       "model_id": "",
       "version_major": 2,
       "version_minor": 0
      },
      "text/plain": [
       "Iterating through drift speeds:   0%|          | 0/8 [00:00<?, ?it/s]"
      ]
     },
     "metadata": {},
     "output_type": "display_data"
    },
    {
     "name": "stdout",
     "output_type": "stream",
     "text": [
      "Adjusting drift speed limits\n",
      "Final iteration: Final guess: Angle: 1.09°, Speed: 7.89e-04\n",
      "\n",
      "Took 20.0 seconds\n",
      "Missed by 1.09°\n"
     ]
    }
   ],
   "source": [
    "print(f\"\\nActual angle: {np.round(np.rad2deg(random_angle), 2)}°\")\n",
    "best_angle, best_speed, history = Correct.estimate_drift(images, scanangles, tolerancy_percent=2, normalize_correlation=True, debug=False)\n",
    "print(f\"Missed by {np.round(best_angle - np.rad2deg(random_angle),2)}°\")"
   ]
  },
  {
   "cell_type": "markdown",
   "metadata": {},
   "source": [
    "Correct for the global drift"
   ]
  },
  {
   "cell_type": "code",
   "execution_count": 9,
   "metadata": {},
   "outputs": [],
   "source": [
    "imgs = Correct.warp_and_shift_images(images, scanangles, best_speed, best_angle)"
   ]
  },
  {
   "cell_type": "markdown",
   "metadata": {},
   "source": [
    "Plot the original images"
   ]
  },
  {
   "cell_type": "code",
   "execution_count": 10,
   "metadata": {},
   "outputs": [
    {
     "data": {
      "application/vnd.jupyter.widget-view+json": {
       "model_id": "a804d8a7c0f54a62a7995c77b9e968d3",
       "version_major": 2,
       "version_minor": 0
      },
      "text/plain": [
       "Canvas(toolbar=Toolbar(toolitems=[('Home', 'Reset original view', 'home', 'home'), ('Back', 'Back to previous …"
      ]
     },
     "metadata": {},
     "output_type": "display_data"
    }
   ],
   "source": [
    "fig, AX = plt.subplots(*rowcols, figsize=mult*rowcols[::-1])\n",
    "for ax, img in zip(AX.flatten(), images):\n",
    "    ax.imshow(Correct.asnumpy(img))"
   ]
  },
  {
   "cell_type": "markdown",
   "metadata": {},
   "source": [
    "Plot a comparison of reconstruction after a rigid registration and registration with afine transforms with/without subpixel accuracy."
   ]
  },
  {
   "cell_type": "code",
   "execution_count": 12,
   "metadata": {},
   "outputs": [
    {
     "data": {
      "application/vnd.jupyter.widget-view+json": {
       "model_id": "7e88843153f0452ab7edee8e4a298d1c",
       "version_major": 2,
       "version_minor": 0
      },
      "text/plain": [
       "Canvas(toolbar=Toolbar(toolitems=[('Home', 'Reset original view', 'home', 'home'), ('Back', 'Back to previous …"
      ]
     },
     "metadata": {},
     "output_type": "display_data"
    },
    {
     "data": {
      "text/plain": [
       "<matplotlib.image.AxesImage at 0x289d5e7beb0>"
      ]
     },
     "execution_count": 12,
     "metadata": {},
     "output_type": "execute_result"
    }
   ],
   "source": [
    "fig, axs = plt.subplots(ncols=3, nrows=2, figsize=(9,6))\n",
    "\n",
    "cent = images.shape[1]//2\n",
    "\n",
    "img1 = Correct.create_final_stack_and_average(images, scanangles, 0, 0)\n",
    "fft1 = np.abs(np.fft.fftshift(np.fft.fft2(img1)))\n",
    "axs[0,0].set_title('Only Registration')\n",
    "axs[0,0].imshow(img1, cmap='jet')\n",
    "axs[1,0].imshow(np.log10(fft1[cent-25:cent+25,cent-25:cent+25]), cmap='jet')\n",
    "\n",
    "\n",
    "img2 = Correct.create_final_stack_and_average(images, scanangles, best_speed, best_angle)\n",
    "fft2 = np.abs(np.fft.fftshift(np.fft.fft2(np.nan_to_num(img2))))\n",
    "axs[0,1].set_title('Affine Transformation\\nand Registration')\n",
    "axs[0,1].imshow(img2, cmap='jet')\n",
    "axs[1,1].imshow(np.log10(fft2[cent-25:cent+25,cent-25:cent+25]), cmap='jet')\n",
    "\n",
    "img3 = Correct.create_final_stack_and_average(images, scanangles, best_speed, best_angle, subpixel=True)\n",
    "fft3 = np.abs(np.fft.fftshift(np.fft.fft2(np.nan_to_num(img3))))\n",
    "axs[0,2].set_title('Affine Transformation\\nand Subpixel Registration')\n",
    "axs[0,2].imshow(img3, cmap='jet')\n",
    "axs[1,2].imshow(np.log10(fft3[cent-25:cent+25,cent-25:cent+25]), cmap='jet')"
   ]
  },
  {
   "cell_type": "code",
   "execution_count": null,
   "metadata": {},
   "outputs": [],
   "source": []
  },
  {
   "cell_type": "code",
   "execution_count": null,
   "metadata": {},
   "outputs": [],
   "source": []
  }
 ],
 "metadata": {
  "kernelspec": {
   "display_name": "Python 3",
   "language": "python",
   "name": "python3"
  },
  "language_info": {
   "codemirror_mode": {
    "name": "ipython",
    "version": 3
   },
   "file_extension": ".py",
   "mimetype": "text/x-python",
   "name": "python",
   "nbconvert_exporter": "python",
   "pygments_lexer": "ipython3",
   "version": "3.8.5"
  },
  "widgets": {
   "application/vnd.jupyter.widget-state+json": {
    "state": {
     "000c6fd5040b49ee8cb46b6fae0f0466": {
      "model_module": "@jupyter-widgets/controls",
      "model_module_version": "1.5.0",
      "model_name": "HBoxModel",
      "state": {
       "children": [
        "IPY_MODEL_cc0969b8600d4f9a9ab09f557271dd2d",
        "IPY_MODEL_746c73e370f240ffb1179162c42e3aa5",
        "IPY_MODEL_540cc68ba9c440d4b14da6e2c7ac0a59"
       ],
       "layout": "IPY_MODEL_177c3bdd3c674a92aa40f30261d0212d"
      }
     },
     "002264bd6e784188bfa8059334524529": {
      "model_module": "@jupyter-widgets/controls",
      "model_module_version": "1.5.0",
      "model_name": "FloatProgressModel",
      "state": {
       "layout": "IPY_MODEL_cccc2f0218d04cabb3e09c90cccbe36f",
       "max": 8,
       "style": "IPY_MODEL_6810db1420b14774b0f3194eb34a1893",
       "value": 8
      }
     },
     "003250f50864437b8ae1030eecd700c8": {
      "model_module": "@jupyter-widgets/controls",
      "model_module_version": "1.5.0",
      "model_name": "DescriptionStyleModel",
      "state": {
       "description_width": ""
      }
     },
     "00fdc94de2284462889d3696364808a2": {
      "model_module": "@jupyter-widgets/controls",
      "model_module_version": "1.5.0",
      "model_name": "HTMLModel",
      "state": {
       "layout": "IPY_MODEL_cafd0f2bcbbe4adfafda7d70331a0039",
       "style": "IPY_MODEL_db4f87dbe5204d22bddd037a44852967",
       "value": "Iterating through drift speeds: 100%"
      }
     },
     "01965e5c8b2f46e2b5fbc956ae53ef50": {
      "model_module": "@jupyter-widgets/controls",
      "model_module_version": "1.5.0",
      "model_name": "HTMLModel",
      "state": {
       "layout": "IPY_MODEL_7e32a78c67894451a1f1269cbf0fd522",
       "style": "IPY_MODEL_50e125a5b8fe4efa837d52b57467ee06",
       "value": " 8/8 [00:00&lt;00:00, 16.27it/s]"
      }
     },
     "01a17dca36b6453baa197edfe6e171b3": {
      "model_module": "@jupyter-widgets/controls",
      "model_module_version": "1.5.0",
      "model_name": "HTMLModel",
      "state": {
       "layout": "IPY_MODEL_42594d4bb68e422d84e4eaf78eb61d3d",
       "style": "IPY_MODEL_66c81f52d99149ed968d83aa144bb8a1",
       "value": " 8/8 [00:00&lt;00:00, 17.31it/s]"
      }
     },
     "01efb3331ca04df7bfdb5194ebac2ef8": {
      "model_module": "@jupyter-widgets/controls",
      "model_module_version": "1.5.0",
      "model_name": "DescriptionStyleModel",
      "state": {
       "description_width": ""
      }
     },
     "0249ddb9d4124607a45d44b5ec2ef11c": {
      "model_module": "@jupyter-widgets/base",
      "model_module_version": "1.2.0",
      "model_name": "LayoutModel",
      "state": {}
     },
     "025dc33dbc834eab8fde95f74eeab9b1": {
      "model_module": "@jupyter-widgets/base",
      "model_module_version": "1.2.0",
      "model_name": "LayoutModel",
      "state": {}
     },
     "029655f6065342f1a84e83fcca4267f8": {
      "model_module": "@jupyter-widgets/base",
      "model_module_version": "1.2.0",
      "model_name": "LayoutModel",
      "state": {}
     },
     "0298c66d819a4f9c956e6e54a653b946": {
      "model_module": "@jupyter-widgets/base",
      "model_module_version": "1.2.0",
      "model_name": "LayoutModel",
      "state": {}
     },
     "02cb0e620a1748acaa2f17f92827548d": {
      "model_module": "@jupyter-widgets/base",
      "model_module_version": "1.2.0",
      "model_name": "LayoutModel",
      "state": {}
     },
     "02f757d486f7437aa693976a589ad1f6": {
      "model_module": "@jupyter-widgets/controls",
      "model_module_version": "1.5.0",
      "model_name": "HTMLModel",
      "state": {
       "layout": "IPY_MODEL_0556dd9c9fdf4ae1b1e4477deaa9e1b7",
       "style": "IPY_MODEL_8a646a62353e4b72aca57a9f74792ff6",
       "value": " 8/8 [00:00&lt;00:00, 17.52it/s]"
      }
     },
     "0366173d2b0c4b768ecacd57ffaecc34": {
      "model_module": "@jupyter-widgets/controls",
      "model_module_version": "1.5.0",
      "model_name": "DescriptionStyleModel",
      "state": {
       "description_width": ""
      }
     },
     "0379cbbde5a544f0bea572927b6c7238": {
      "model_module": "@jupyter-widgets/base",
      "model_module_version": "1.2.0",
      "model_name": "LayoutModel",
      "state": {}
     },
     "03b46175c7294349a801cd3313e303a8": {
      "model_module": "@jupyter-widgets/base",
      "model_module_version": "1.2.0",
      "model_name": "LayoutModel",
      "state": {}
     },
     "046073ca388146f9be54581c4afaf5bf": {
      "model_module": "@jupyter-widgets/controls",
      "model_module_version": "1.5.0",
      "model_name": "FloatProgressModel",
      "state": {
       "layout": "IPY_MODEL_0fc77cf9b77d4285853631a64f9dc8c8",
       "max": 8,
       "style": "IPY_MODEL_60fa805ea9684647a8a8205ea2fd9e74",
       "value": 8
      }
     },
     "04d9ee7c9d2d4225aca75c1527985401": {
      "model_module": "@jupyter-widgets/controls",
      "model_module_version": "1.5.0",
      "model_name": "HTMLModel",
      "state": {
       "layout": "IPY_MODEL_10f402c9254a4a118a619c4d80f6e6a7",
       "style": "IPY_MODEL_77bda86c0d10494e92106b98acc6ec44",
       "value": " 8/8 [00:00&lt;00:00, 17.59it/s]"
      }
     },
     "051157139ad7416e9a1544966da34e41": {
      "model_module": "@jupyter-widgets/base",
      "model_module_version": "1.2.0",
      "model_name": "LayoutModel",
      "state": {}
     },
     "05455cafb3aa4a38866d6348d3ce8264": {
      "model_module": "@jupyter-widgets/controls",
      "model_module_version": "1.5.0",
      "model_name": "HTMLModel",
      "state": {
       "layout": "IPY_MODEL_fe9cff2d020c4ec5bd3d3e4584052e97",
       "style": "IPY_MODEL_5415618256b4405b806cd71a211d3684",
       "value": "Iterating through drift speeds: 100%"
      }
     },
     "0556dd9c9fdf4ae1b1e4477deaa9e1b7": {
      "model_module": "@jupyter-widgets/base",
      "model_module_version": "1.2.0",
      "model_name": "LayoutModel",
      "state": {}
     },
     "05a8cd477d274c29997babb75ec8124d": {
      "model_module": "@jupyter-widgets/controls",
      "model_module_version": "1.5.0",
      "model_name": "DescriptionStyleModel",
      "state": {
       "description_width": ""
      }
     },
     "06601a374276422c96b34a795c60b9b5": {
      "model_module": "@jupyter-widgets/controls",
      "model_module_version": "1.5.0",
      "model_name": "FloatProgressModel",
      "state": {
       "layout": "IPY_MODEL_bf1734a3ac4a48f99512ec9d5d5820d8",
       "max": 8,
       "style": "IPY_MODEL_1590a758360b47f4a39940de20f0788b",
       "value": 8
      }
     },
     "068005b99f9b4affb3e831124223b3ea": {
      "model_module": "jupyter-matplotlib",
      "model_module_version": "^0.8.2",
      "model_name": "ToolbarModel",
      "state": {
       "layout": "IPY_MODEL_7cfbf761d3b64e2daf310813e318f36d",
       "toolitems": [
        [
         "Home",
         "Reset original view",
         "home",
         "home"
        ],
        [
         "Back",
         "Back to previous view",
         "arrow-left",
         "back"
        ],
        [
         "Forward",
         "Forward to next view",
         "arrow-right",
         "forward"
        ],
        [
         "Pan",
         "Left button pans, Right button zooms\nx/y fixes axis, CTRL fixes aspect",
         "arrows",
         "pan"
        ],
        [
         "Zoom",
         "Zoom to rectangle\nx/y fixes axis, CTRL fixes aspect",
         "square-o",
         "zoom"
        ],
        [
         "Download",
         "Download plot",
         "floppy-o",
         "save_figure"
        ]
       ]
      }
     },
     "070ce0db24d54efaac696560c16af1cd": {
      "model_module": "@jupyter-widgets/base",
      "model_module_version": "1.2.0",
      "model_name": "LayoutModel",
      "state": {}
     },
     "07e97a881c3649b4ab576b045738c3e1": {
      "model_module": "@jupyter-widgets/controls",
      "model_module_version": "1.5.0",
      "model_name": "HTMLModel",
      "state": {
       "layout": "IPY_MODEL_e2fc87c2e06f40fc8c0e898460185717",
       "style": "IPY_MODEL_dd88b138d1cd4cebbf69a5a19de645bd",
       "value": "Iterating through drift speeds: 100%"
      }
     },
     "07ec32ec71ff4a0db36763e4b822d4db": {
      "model_module": "@jupyter-widgets/controls",
      "model_module_version": "1.5.0",
      "model_name": "DescriptionStyleModel",
      "state": {
       "description_width": ""
      }
     },
     "08454aea53e44f11ad30ea517ab9ebd0": {
      "model_module": "@jupyter-widgets/controls",
      "model_module_version": "1.5.0",
      "model_name": "DescriptionStyleModel",
      "state": {
       "description_width": ""
      }
     },
     "0868a72368b7485da9ed1b81bf09e4e9": {
      "model_module": "@jupyter-widgets/base",
      "model_module_version": "1.2.0",
      "model_name": "LayoutModel",
      "state": {}
     },
     "08c39db072134a0e96c81ea19a9448d1": {
      "model_module": "@jupyter-widgets/controls",
      "model_module_version": "1.5.0",
      "model_name": "ProgressStyleModel",
      "state": {
       "description_width": ""
      }
     },
     "08fa17845af6457393ed1e1176bb763a": {
      "model_module": "@jupyter-widgets/controls",
      "model_module_version": "1.5.0",
      "model_name": "ProgressStyleModel",
      "state": {
       "description_width": ""
      }
     },
     "09a2b4f7530c4fd0b574e6bbaafd2492": {
      "model_module": "@jupyter-widgets/base",
      "model_module_version": "1.2.0",
      "model_name": "LayoutModel",
      "state": {}
     },
     "09c0aa29cbe147eda767d31f3a30ea51": {
      "model_module": "@jupyter-widgets/controls",
      "model_module_version": "1.5.0",
      "model_name": "HTMLModel",
      "state": {
       "layout": "IPY_MODEL_6dbaef4cf0d14e2790d08834e918943a",
       "style": "IPY_MODEL_a86e73c014ae45f9b8e4e00ee71328dc",
       "value": "Iterating through drift speeds: 100%"
      }
     },
     "09e81b1a56cc47d58bad366ee2f3c9b3": {
      "model_module": "@jupyter-widgets/controls",
      "model_module_version": "1.5.0",
      "model_name": "HTMLModel",
      "state": {
       "layout": "IPY_MODEL_35996204bb5848c2b1971231be96aa4b",
       "style": "IPY_MODEL_dfda2047020041cfb890c0a1ff9aca18",
       "value": " 8/8 [00:00&lt;00:00, 16.13it/s]"
      }
     },
     "09eaaafab8c94e2fad7276e65df22ddc": {
      "model_module": "@jupyter-widgets/controls",
      "model_module_version": "1.5.0",
      "model_name": "ProgressStyleModel",
      "state": {
       "description_width": ""
      }
     },
     "0a07a0bf265843d0bba2ae63e516029f": {
      "model_module": "@jupyter-widgets/controls",
      "model_module_version": "1.5.0",
      "model_name": "DescriptionStyleModel",
      "state": {
       "description_width": ""
      }
     },
     "0a282614a060459f9e8b9d0e1ef551f9": {
      "model_module": "@jupyter-widgets/base",
      "model_module_version": "1.2.0",
      "model_name": "LayoutModel",
      "state": {}
     },
     "0a4ce54ccca54fc2bd1c93d7ab9e56c4": {
      "model_module": "@jupyter-widgets/base",
      "model_module_version": "1.2.0",
      "model_name": "LayoutModel",
      "state": {}
     },
     "0a4ea550f1df4915ac3e46f2126654cd": {
      "model_module": "@jupyter-widgets/controls",
      "model_module_version": "1.5.0",
      "model_name": "DescriptionStyleModel",
      "state": {
       "description_width": ""
      }
     },
     "0a7c611bbaad43a3ac3f081de17f9553": {
      "model_module": "@jupyter-widgets/base",
      "model_module_version": "1.2.0",
      "model_name": "LayoutModel",
      "state": {}
     },
     "0b6e17bd49574f6886dc92ac44911d5b": {
      "model_module": "@jupyter-widgets/controls",
      "model_module_version": "1.5.0",
      "model_name": "HTMLModel",
      "state": {
       "layout": "IPY_MODEL_15f5b0cd1ca14f228b2bac77624adb7e",
       "style": "IPY_MODEL_53cda00e42104f9a9c002be983e0f3f5",
       "value": " 8/8 [00:00&lt;00:00, 17.01it/s]"
      }
     },
     "0b86cb4bc85c41e1a6849dc14888cd9c": {
      "model_module": "@jupyter-widgets/controls",
      "model_module_version": "1.5.0",
      "model_name": "DescriptionStyleModel",
      "state": {
       "description_width": ""
      }
     },
     "0c698613ecb2483d8b603916a220f648": {
      "model_module": "@jupyter-widgets/base",
      "model_module_version": "1.2.0",
      "model_name": "LayoutModel",
      "state": {}
     },
     "0ce13115ea5941e5b14e31b5fffa05c1": {
      "model_module": "@jupyter-widgets/controls",
      "model_module_version": "1.5.0",
      "model_name": "ProgressStyleModel",
      "state": {
       "description_width": ""
      }
     },
     "0d13b7eb43e3464485a1bce316ce4896": {
      "model_module": "@jupyter-widgets/controls",
      "model_module_version": "1.5.0",
      "model_name": "HTMLModel",
      "state": {
       "layout": "IPY_MODEL_c8886d632be34b66801d5fd72f213713",
       "style": "IPY_MODEL_3eefc7a9bad74ad78221d525e7cbe578",
       "value": " 8/8 [00:00&lt;00:00, 17.10it/s]"
      }
     },
     "0d9321b5780349a4a91c79bdf81591ff": {
      "model_module": "@jupyter-widgets/base",
      "model_module_version": "1.2.0",
      "model_name": "LayoutModel",
      "state": {}
     },
     "0daa141043254c8ea497220abc72d40d": {
      "model_module": "@jupyter-widgets/controls",
      "model_module_version": "1.5.0",
      "model_name": "ProgressStyleModel",
      "state": {
       "description_width": ""
      }
     },
     "0e6efff439424d8d94dc8995d71f5043": {
      "model_module": "@jupyter-widgets/controls",
      "model_module_version": "1.5.0",
      "model_name": "FloatProgressModel",
      "state": {
       "layout": "IPY_MODEL_7dfa5cb1e65146978d9e7b95d480e076",
       "max": 8,
       "style": "IPY_MODEL_d38aa45bfa8a4bf6bbb7376ceb8bf814",
       "value": 8
      }
     },
     "0f44c56d2cdf4968bf600b1aafa9212b": {
      "model_module": "@jupyter-widgets/controls",
      "model_module_version": "1.5.0",
      "model_name": "DescriptionStyleModel",
      "state": {
       "description_width": ""
      }
     },
     "0f81250cc0c342d2a954c73f1156d75a": {
      "model_module": "@jupyter-widgets/base",
      "model_module_version": "1.2.0",
      "model_name": "LayoutModel",
      "state": {}
     },
     "0fc77cf9b77d4285853631a64f9dc8c8": {
      "model_module": "@jupyter-widgets/base",
      "model_module_version": "1.2.0",
      "model_name": "LayoutModel",
      "state": {}
     },
     "0ffa10bc11194539a3808eb1a59e34cd": {
      "model_module": "@jupyter-widgets/controls",
      "model_module_version": "1.5.0",
      "model_name": "HTMLModel",
      "state": {
       "layout": "IPY_MODEL_5845d94bb90b4ea286b84aa8daa3e54d",
       "style": "IPY_MODEL_f35a7ddb5ba74326bd56a0fc7ee79465",
       "value": "Iterating through drift speeds: 100%"
      }
     },
     "1079221865a640c389d35c9c0e54fa2c": {
      "model_module": "@jupyter-widgets/base",
      "model_module_version": "1.2.0",
      "model_name": "LayoutModel",
      "state": {}
     },
     "10f402c9254a4a118a619c4d80f6e6a7": {
      "model_module": "@jupyter-widgets/base",
      "model_module_version": "1.2.0",
      "model_name": "LayoutModel",
      "state": {}
     },
     "118c373b3ebd4f74ac47c2e64c168fb2": {
      "model_module": "@jupyter-widgets/controls",
      "model_module_version": "1.5.0",
      "model_name": "HBoxModel",
      "state": {
       "children": [
        "IPY_MODEL_4f10d82c25bc41ffa6e7d224d8389cc7",
        "IPY_MODEL_a3a9dc77c3e74a80b05e82520a391e91",
        "IPY_MODEL_dd68c290a2cf480b909b508ffd14b73a"
       ],
       "layout": "IPY_MODEL_6186d88182c146eaa861705e4dfb980a"
      }
     },
     "120548278479464da0776d63122bc999": {
      "model_module": "@jupyter-widgets/base",
      "model_module_version": "1.2.0",
      "model_name": "LayoutModel",
      "state": {}
     },
     "1208c812c9a04bed99d2692b042b0713": {
      "model_module": "@jupyter-widgets/controls",
      "model_module_version": "1.5.0",
      "model_name": "DescriptionStyleModel",
      "state": {
       "description_width": ""
      }
     },
     "12134201f91b4ff6a386c475d5e78583": {
      "model_module": "@jupyter-widgets/controls",
      "model_module_version": "1.5.0",
      "model_name": "HTMLModel",
      "state": {
       "layout": "IPY_MODEL_4320ea51bb8249669772f50615378525",
       "style": "IPY_MODEL_a7e30041053342a08064fc5ab0254a72",
       "value": " 8/8 [00:00&lt;00:00, 17.32it/s]"
      }
     },
     "124aa72d9da34fa4a3b8147c7178733e": {
      "model_module": "@jupyter-widgets/controls",
      "model_module_version": "1.5.0",
      "model_name": "HTMLModel",
      "state": {
       "layout": "IPY_MODEL_8989d2e07cfd440092c61857d050b159",
       "style": "IPY_MODEL_6988a7bfa1834ea892d1712c095e2fb6",
       "value": "Iterating through drift speeds: 100%"
      }
     },
     "12f92c36e40947639dadf32cdf741dd0": {
      "model_module": "@jupyter-widgets/controls",
      "model_module_version": "1.5.0",
      "model_name": "HTMLModel",
      "state": {
       "layout": "IPY_MODEL_c680cef1848f44baac9ffc225ee3fd7d",
       "style": "IPY_MODEL_cb6b781120284e7e979b06d13f1936e5",
       "value": " 8/8 [00:00&lt;00:00, 17.04it/s]"
      }
     },
     "13203688e09d41c7bd8566c66fb3573d": {
      "model_module": "@jupyter-widgets/controls",
      "model_module_version": "1.5.0",
      "model_name": "DescriptionStyleModel",
      "state": {
       "description_width": ""
      }
     },
     "133f356ccc9f49a7a545183a1fe23075": {
      "model_module": "@jupyter-widgets/base",
      "model_module_version": "1.2.0",
      "model_name": "LayoutModel",
      "state": {}
     },
     "13c1f0359bd04785925eead583ac6c3b": {
      "model_module": "@jupyter-widgets/controls",
      "model_module_version": "1.5.0",
      "model_name": "DescriptionStyleModel",
      "state": {
       "description_width": ""
      }
     },
     "1423fd853a534859ac252d2e1008f65e": {
      "model_module": "@jupyter-widgets/base",
      "model_module_version": "1.2.0",
      "model_name": "LayoutModel",
      "state": {}
     },
     "14a768cca7b04262a7b41dafd25a6c21": {
      "model_module": "@jupyter-widgets/controls",
      "model_module_version": "1.5.0",
      "model_name": "FloatProgressModel",
      "state": {
       "layout": "IPY_MODEL_f4a08d57eb354816a35d20eace5754a8",
       "max": 8,
       "style": "IPY_MODEL_c160b7d3980c48669b0d216112ef8770",
       "value": 8
      }
     },
     "1504ef151f6340bfac5aba87ed689b46": {
      "model_module": "@jupyter-widgets/controls",
      "model_module_version": "1.5.0",
      "model_name": "DescriptionStyleModel",
      "state": {
       "description_width": ""
      }
     },
     "150575ecdfb7427b838a1e87252ceedc": {
      "model_module": "@jupyter-widgets/base",
      "model_module_version": "1.2.0",
      "model_name": "LayoutModel",
      "state": {}
     },
     "153308addcda428c85669219aebc0f2f": {
      "model_module": "@jupyter-widgets/controls",
      "model_module_version": "1.5.0",
      "model_name": "DescriptionStyleModel",
      "state": {
       "description_width": ""
      }
     },
     "1590a758360b47f4a39940de20f0788b": {
      "model_module": "@jupyter-widgets/controls",
      "model_module_version": "1.5.0",
      "model_name": "ProgressStyleModel",
      "state": {
       "description_width": ""
      }
     },
     "159239ccf35e49119dc877207517d916": {
      "model_module": "@jupyter-widgets/base",
      "model_module_version": "1.2.0",
      "model_name": "LayoutModel",
      "state": {}
     },
     "15f5b0cd1ca14f228b2bac77624adb7e": {
      "model_module": "@jupyter-widgets/base",
      "model_module_version": "1.2.0",
      "model_name": "LayoutModel",
      "state": {}
     },
     "15f5f0f8500846dab1296d1f942d317c": {
      "model_module": "@jupyter-widgets/controls",
      "model_module_version": "1.5.0",
      "model_name": "HTMLModel",
      "state": {
       "layout": "IPY_MODEL_3406885b19574c74a5faa56821fda74b",
       "style": "IPY_MODEL_8d0054be4f104e8dbd77b3a3f1653417",
       "value": "Iterating through drift speeds: 100%"
      }
     },
     "160c77090c564c979272ea02feb59525": {
      "model_module": "@jupyter-widgets/base",
      "model_module_version": "1.2.0",
      "model_name": "LayoutModel",
      "state": {}
     },
     "162ef1f2072946b793520f78ac0e80dc": {
      "model_module": "@jupyter-widgets/base",
      "model_module_version": "1.2.0",
      "model_name": "LayoutModel",
      "state": {}
     },
     "16cfeb1038074388833e526704581c23": {
      "model_module": "@jupyter-widgets/base",
      "model_module_version": "1.2.0",
      "model_name": "LayoutModel",
      "state": {}
     },
     "174da1852560454ca39282a29f11435e": {
      "model_module": "@jupyter-widgets/base",
      "model_module_version": "1.2.0",
      "model_name": "LayoutModel",
      "state": {}
     },
     "17596d84d82c429c9dd5133728f12c32": {
      "model_module": "@jupyter-widgets/controls",
      "model_module_version": "1.5.0",
      "model_name": "HTMLModel",
      "state": {
       "layout": "IPY_MODEL_652ccc1ce9934c009d3a05ec16dcb030",
       "style": "IPY_MODEL_eef038541def4d428233b269c6a89574",
       "value": "Iterating through drift speeds: 100%"
      }
     },
     "1759ef3e719c40e39c4b3cd097d14945": {
      "model_module": "@jupyter-widgets/controls",
      "model_module_version": "1.5.0",
      "model_name": "ProgressStyleModel",
      "state": {
       "description_width": ""
      }
     },
     "1776a8171c4d43a7803ed7dd641e2924": {
      "model_module": "@jupyter-widgets/controls",
      "model_module_version": "1.5.0",
      "model_name": "HTMLModel",
      "state": {
       "layout": "IPY_MODEL_5061e9ef4854473bbaf927f478014043",
       "style": "IPY_MODEL_ccda5ab441014ca5844dacb32466189a",
       "value": " 8/8 [00:00&lt;00:00, 16.56it/s]"
      }
     },
     "177c3bdd3c674a92aa40f30261d0212d": {
      "model_module": "@jupyter-widgets/base",
      "model_module_version": "1.2.0",
      "model_name": "LayoutModel",
      "state": {}
     },
     "17846f1924964378a1bc201816348ec6": {
      "model_module": "@jupyter-widgets/controls",
      "model_module_version": "1.5.0",
      "model_name": "DescriptionStyleModel",
      "state": {
       "description_width": ""
      }
     },
     "178fe1e2b703437489cf775c8a1c8c9a": {
      "model_module": "@jupyter-widgets/controls",
      "model_module_version": "1.5.0",
      "model_name": "HTMLModel",
      "state": {
       "layout": "IPY_MODEL_c97ff0fe29d24ef5ae6314f168cee202",
       "style": "IPY_MODEL_755b453c92674e868ed9f1c3f817f6bd",
       "value": " 8/8 [00:00&lt;00:00, 16.67it/s]"
      }
     },
     "17d072f62934428c8c10cb710df17c0e": {
      "model_module": "@jupyter-widgets/base",
      "model_module_version": "1.2.0",
      "model_name": "LayoutModel",
      "state": {}
     },
     "17f061a0c2674997b0d4ba9022d92b98": {
      "model_module": "@jupyter-widgets/controls",
      "model_module_version": "1.5.0",
      "model_name": "FloatProgressModel",
      "state": {
       "layout": "IPY_MODEL_9e60e17a36ff452bac515d302b0ab797",
       "max": 8,
       "style": "IPY_MODEL_9154bc3a70cb43f39d9d18336d2f1df5",
       "value": 8
      }
     },
     "18b7f37c150c44aaa6ba89af09494f6e": {
      "model_module": "@jupyter-widgets/base",
      "model_module_version": "1.2.0",
      "model_name": "LayoutModel",
      "state": {}
     },
     "18cbd46f197547aca7d5ccd85dd3baa1": {
      "model_module": "@jupyter-widgets/base",
      "model_module_version": "1.2.0",
      "model_name": "LayoutModel",
      "state": {}
     },
     "18cf3839911645ea9ef1d24fd70b8723": {
      "model_module": "@jupyter-widgets/controls",
      "model_module_version": "1.5.0",
      "model_name": "ProgressStyleModel",
      "state": {
       "description_width": ""
      }
     },
     "19599405ef3e40e99884e11dc2b3fb5a": {
      "model_module": "@jupyter-widgets/controls",
      "model_module_version": "1.5.0",
      "model_name": "ProgressStyleModel",
      "state": {
       "description_width": ""
      }
     },
     "19be4ac12b344833bc881f34c4f19892": {
      "model_module": "@jupyter-widgets/controls",
      "model_module_version": "1.5.0",
      "model_name": "ProgressStyleModel",
      "state": {
       "description_width": ""
      }
     },
     "19c2e9b583984f80b0859f23a5ec4fcd": {
      "model_module": "jupyter-matplotlib",
      "model_module_version": "^0.8.2",
      "model_name": "MPLCanvasModel",
      "state": {
       "_cursor": "default",
       "_figure_label": "Figure 2",
       "_height": 480,
       "_message": "x=96.6 y=133.4\n[367]",
       "_width": 640,
       "layout": "IPY_MODEL_ea8197676b29463b85132eda17a60d52",
       "toolbar": "IPY_MODEL_bf48f4d8982d46a191bc800f8e25c968",
       "toolbar_position": "left"
      }
     },
     "19ceaa415c1d43e8848958ae1bae8d4d": {
      "model_module": "@jupyter-widgets/controls",
      "model_module_version": "1.5.0",
      "model_name": "HTMLModel",
      "state": {
       "layout": "IPY_MODEL_f5336f8cba8146619f62c3863ab66a76",
       "style": "IPY_MODEL_0a07a0bf265843d0bba2ae63e516029f",
       "value": " 8/8 [00:00&lt;00:00, 16.92it/s]"
      }
     },
     "19e8368ec688478eb0acc0beb2a4d2fe": {
      "model_module": "@jupyter-widgets/controls",
      "model_module_version": "1.5.0",
      "model_name": "DescriptionStyleModel",
      "state": {
       "description_width": ""
      }
     },
     "19ee02a2aaa944e99e634ee7ffae604d": {
      "model_module": "@jupyter-widgets/base",
      "model_module_version": "1.2.0",
      "model_name": "LayoutModel",
      "state": {}
     },
     "1a4c5a71290541bca809f337c65e2670": {
      "model_module": "@jupyter-widgets/controls",
      "model_module_version": "1.5.0",
      "model_name": "DescriptionStyleModel",
      "state": {
       "description_width": ""
      }
     },
     "1a5dc6c700e748dfa4788ac08499b5f8": {
      "model_module": "@jupyter-widgets/controls",
      "model_module_version": "1.5.0",
      "model_name": "FloatProgressModel",
      "state": {
       "layout": "IPY_MODEL_62a9cf3c15684d7e853201604a3ac103",
       "max": 8,
       "style": "IPY_MODEL_76c8c58b8edc499d94eb92f1d2efa7fb",
       "value": 8
      }
     },
     "1b29fc510ea2457a9dd02bbb130e0286": {
      "model_module": "@jupyter-widgets/base",
      "model_module_version": "1.2.0",
      "model_name": "LayoutModel",
      "state": {}
     },
     "1b8ae6e447084a62b6228fdf5988a2f5": {
      "model_module": "@jupyter-widgets/controls",
      "model_module_version": "1.5.0",
      "model_name": "ProgressStyleModel",
      "state": {
       "description_width": ""
      }
     },
     "1c7ac8d9d99a4866aad49e68517ee21c": {
      "model_module": "@jupyter-widgets/controls",
      "model_module_version": "1.5.0",
      "model_name": "DescriptionStyleModel",
      "state": {
       "description_width": ""
      }
     },
     "1c849905bf714e8d952559d856f29468": {
      "model_module": "@jupyter-widgets/base",
      "model_module_version": "1.2.0",
      "model_name": "LayoutModel",
      "state": {}
     },
     "1ce67f98638d4157931d2ea05b954869": {
      "model_module": "@jupyter-widgets/controls",
      "model_module_version": "1.5.0",
      "model_name": "FloatProgressModel",
      "state": {
       "layout": "IPY_MODEL_9532453b7b5c4ef4bc85a9ca3cfe2769",
       "max": 8,
       "style": "IPY_MODEL_8e804dabc6c34148a9465b5ff669ab7d",
       "value": 8
      }
     },
     "1cfd1170382e429c8f9fcd03fc55c8de": {
      "model_module": "@jupyter-widgets/controls",
      "model_module_version": "1.5.0",
      "model_name": "HTMLModel",
      "state": {
       "layout": "IPY_MODEL_1ffd754c74cc45208be6859bc4faf1aa",
       "style": "IPY_MODEL_f7df88f3a8d642a2acf473cb41f78d0e",
       "value": " 8/8 [00:03&lt;00:00,  2.08it/s]"
      }
     },
     "1d32102470004a23befc80ecfb6d6be5": {
      "model_module": "@jupyter-widgets/base",
      "model_module_version": "1.2.0",
      "model_name": "LayoutModel",
      "state": {}
     },
     "1d8efd5d400e40578217e2a6521a1cdb": {
      "model_module": "@jupyter-widgets/controls",
      "model_module_version": "1.5.0",
      "model_name": "FloatProgressModel",
      "state": {
       "layout": "IPY_MODEL_50a5d691563348b6b1576ec0d3d5fa99",
       "max": 8,
       "style": "IPY_MODEL_cb894fa2f2de4558826c3905ee94a1ca",
       "value": 8
      }
     },
     "1e4886ed08724a1ba9eb29655f2c5f80": {
      "model_module": "@jupyter-widgets/base",
      "model_module_version": "1.2.0",
      "model_name": "LayoutModel",
      "state": {}
     },
     "1e4bed542587403f9dd35b985a5e7646": {
      "model_module": "@jupyter-widgets/base",
      "model_module_version": "1.2.0",
      "model_name": "LayoutModel",
      "state": {}
     },
     "1e67a9f521d9412fbdb725278fb0f794": {
      "model_module": "@jupyter-widgets/controls",
      "model_module_version": "1.5.0",
      "model_name": "DescriptionStyleModel",
      "state": {
       "description_width": ""
      }
     },
     "1ea6648abb9742d7847c4cc108b30e5c": {
      "model_module": "@jupyter-widgets/controls",
      "model_module_version": "1.5.0",
      "model_name": "HTMLModel",
      "state": {
       "layout": "IPY_MODEL_cf0fe2ddae8e498fb206619abd8a67ac",
       "style": "IPY_MODEL_52f5a9d5889e4982b5c0ebb06fc22b11",
       "value": " 8/8 [00:00&lt;00:00, 17.66it/s]"
      }
     },
     "1f760d83b25040eaa3dcbdb26e935255": {
      "model_module": "@jupyter-widgets/controls",
      "model_module_version": "1.5.0",
      "model_name": "DescriptionStyleModel",
      "state": {
       "description_width": ""
      }
     },
     "1f77dbe883ec40cda74868b99dd3dcaf": {
      "model_module": "@jupyter-widgets/controls",
      "model_module_version": "1.5.0",
      "model_name": "HTMLModel",
      "state": {
       "layout": "IPY_MODEL_e7928e36d1694ff6957930352fdde917",
       "style": "IPY_MODEL_13203688e09d41c7bd8566c66fb3573d",
       "value": "Iterating through drift speeds: 100%"
      }
     },
     "1fa8cdc126b841379ec7c06581dd58c4": {
      "model_module": "@jupyter-widgets/controls",
      "model_module_version": "1.5.0",
      "model_name": "HTMLModel",
      "state": {
       "layout": "IPY_MODEL_a06f7ffc0d61435a99fe7715fb63b9fc",
       "style": "IPY_MODEL_17846f1924964378a1bc201816348ec6",
       "value": " 8/8 [00:00&lt;00:00, 17.51it/s]"
      }
     },
     "1ffd754c74cc45208be6859bc4faf1aa": {
      "model_module": "@jupyter-widgets/base",
      "model_module_version": "1.2.0",
      "model_name": "LayoutModel",
      "state": {}
     },
     "204ed1288e464babac6e4744c55af925": {
      "model_module": "@jupyter-widgets/controls",
      "model_module_version": "1.5.0",
      "model_name": "FloatProgressModel",
      "state": {
       "layout": "IPY_MODEL_c448ad8ed38e44d9953956604a638541",
       "max": 8,
       "style": "IPY_MODEL_31f7cac5dbec465f8f7654d35b825c82",
       "value": 8
      }
     },
     "20898bcaf34b4ed8bd4f68479c145f69": {
      "model_module": "@jupyter-widgets/controls",
      "model_module_version": "1.5.0",
      "model_name": "HTMLModel",
      "state": {
       "layout": "IPY_MODEL_3a93c078c6674a0383939a69ee51dcfd",
       "style": "IPY_MODEL_59cf37792b5347e9b0b4273554c65f80",
       "value": " 8/8 [00:00&lt;00:00, 17.71it/s]"
      }
     },
     "20d15091dd84445092d94fd7e1360ad6": {
      "model_module": "@jupyter-widgets/base",
      "model_module_version": "1.2.0",
      "model_name": "LayoutModel",
      "state": {}
     },
     "20e2bf87df884f26a28b112a5274e0dd": {
      "model_module": "@jupyter-widgets/controls",
      "model_module_version": "1.5.0",
      "model_name": "DescriptionStyleModel",
      "state": {
       "description_width": ""
      }
     },
     "20f7e456f73741c485b5f23f91058529": {
      "model_module": "@jupyter-widgets/base",
      "model_module_version": "1.2.0",
      "model_name": "LayoutModel",
      "state": {}
     },
     "213c93e5a07241bbb2a8477973e34e36": {
      "model_module": "@jupyter-widgets/base",
      "model_module_version": "1.2.0",
      "model_name": "LayoutModel",
      "state": {}
     },
     "2205eb5737504ed494b9f75d56d6d093": {
      "model_module": "@jupyter-widgets/controls",
      "model_module_version": "1.5.0",
      "model_name": "FloatProgressModel",
      "state": {
       "layout": "IPY_MODEL_dd12297adf33491cb1b0d8e0ebb3aac7",
       "max": 8,
       "style": "IPY_MODEL_f6b065ce777d4e2c9292ebf891aa45d5",
       "value": 8
      }
     },
     "2225c7989303460789b961e82ad0735f": {
      "model_module": "@jupyter-widgets/base",
      "model_module_version": "1.2.0",
      "model_name": "LayoutModel",
      "state": {}
     },
     "228736e5686342699a73fa5a84ed5cf3": {
      "model_module": "@jupyter-widgets/controls",
      "model_module_version": "1.5.0",
      "model_name": "FloatProgressModel",
      "state": {
       "layout": "IPY_MODEL_0f81250cc0c342d2a954c73f1156d75a",
       "max": 8,
       "style": "IPY_MODEL_f5e95dbe76fa440e96d81b3798dc12c7",
       "value": 8
      }
     },
     "2338fa71e63646ad8be85a2b78d73333": {
      "model_module": "@jupyter-widgets/controls",
      "model_module_version": "1.5.0",
      "model_name": "FloatProgressModel",
      "state": {
       "layout": "IPY_MODEL_8842a06eec19466fa2d55550710a684c",
       "max": 8,
       "style": "IPY_MODEL_98554acd7e994e55b40e907a604e490d",
       "value": 8
      }
     },
     "234638878f1e4542be97e51e846b1e51": {
      "model_module": "@jupyter-widgets/controls",
      "model_module_version": "1.5.0",
      "model_name": "DescriptionStyleModel",
      "state": {
       "description_width": ""
      }
     },
     "23544d8f33a8489fad41ca4e7f330e4c": {
      "model_module": "@jupyter-widgets/base",
      "model_module_version": "1.2.0",
      "model_name": "LayoutModel",
      "state": {}
     },
     "23ecd2247848411995abf3847edc0d5f": {
      "model_module": "@jupyter-widgets/base",
      "model_module_version": "1.2.0",
      "model_name": "LayoutModel",
      "state": {}
     },
     "24acd3fdc41545ce9f0cae8cfff76273": {
      "model_module": "@jupyter-widgets/controls",
      "model_module_version": "1.5.0",
      "model_name": "HTMLModel",
      "state": {
       "layout": "IPY_MODEL_ba01ac4789b447758090965ef90f4d09",
       "style": "IPY_MODEL_f6fbf00760f1466c84baa2c6c301c40b",
       "value": " 8/8 [00:00&lt;00:00, 16.18it/s]"
      }
     },
     "24addfa585f1492892db8c23e954f35c": {
      "model_module": "@jupyter-widgets/base",
      "model_module_version": "1.2.0",
      "model_name": "LayoutModel",
      "state": {}
     },
     "24e6ac9d3f9a482da4000d74afbe3528": {
      "model_module": "@jupyter-widgets/controls",
      "model_module_version": "1.5.0",
      "model_name": "HBoxModel",
      "state": {
       "children": [
        "IPY_MODEL_cab874b0768543649fd4fc8fa0b50377",
        "IPY_MODEL_76373f3f0bc443d9918aac05b8fcc05a",
        "IPY_MODEL_6f094ce8e54f4a779459e6fdb609e619"
       ],
       "layout": "IPY_MODEL_5946590e7aa148eda4d344db30bb5ef2"
      }
     },
     "25075ee03ab94e95b36a4082d828ee34": {
      "model_module": "@jupyter-widgets/base",
      "model_module_version": "1.2.0",
      "model_name": "LayoutModel",
      "state": {}
     },
     "2566718a90c343a38f66aa969361fd65": {
      "model_module": "@jupyter-widgets/controls",
      "model_module_version": "1.5.0",
      "model_name": "ProgressStyleModel",
      "state": {
       "description_width": ""
      }
     },
     "25ef473d13244f4fb56f00ac4b9d23cf": {
      "model_module": "@jupyter-widgets/base",
      "model_module_version": "1.2.0",
      "model_name": "LayoutModel",
      "state": {}
     },
     "26244ca25ba24772aa36562e29ea8d12": {
      "model_module": "@jupyter-widgets/base",
      "model_module_version": "1.2.0",
      "model_name": "LayoutModel",
      "state": {}
     },
     "26bbb2f78d4d4ce596aee3c56ec1c6bd": {
      "model_module": "@jupyter-widgets/base",
      "model_module_version": "1.2.0",
      "model_name": "LayoutModel",
      "state": {}
     },
     "27851c2deefa42e8ba984f9edaf22b3f": {
      "model_module": "@jupyter-widgets/controls",
      "model_module_version": "1.5.0",
      "model_name": "FloatProgressModel",
      "state": {
       "layout": "IPY_MODEL_159239ccf35e49119dc877207517d916",
       "max": 8,
       "style": "IPY_MODEL_c5eac110c03349378b88bacdb28fa941",
       "value": 8
      }
     },
     "2943166c16024a74a247205aa4e1f6dc": {
      "model_module": "@jupyter-widgets/base",
      "model_module_version": "1.2.0",
      "model_name": "LayoutModel",
      "state": {}
     },
     "297777e0bd7542b1961c5b7e2a2f0115": {
      "model_module": "@jupyter-widgets/controls",
      "model_module_version": "1.5.0",
      "model_name": "HTMLModel",
      "state": {
       "layout": "IPY_MODEL_b583adcabe0f4a2e8618cc7109962888",
       "style": "IPY_MODEL_af80e8b946d842ef883391987784ae5f",
       "value": "Iterating through drift speeds: 100%"
      }
     },
     "29e0508f13d444b8a85ea1f880ed75b8": {
      "model_module": "@jupyter-widgets/base",
      "model_module_version": "1.2.0",
      "model_name": "LayoutModel",
      "state": {}
     },
     "29e5b2f9cbd444259e19370031938e7c": {
      "model_module": "@jupyter-widgets/controls",
      "model_module_version": "1.5.0",
      "model_name": "FloatProgressModel",
      "state": {
       "layout": "IPY_MODEL_84484696440547528533fa8602762f1b",
       "max": 8,
       "style": "IPY_MODEL_fe2acff8323341908ec013a23de70129",
       "value": 8
      }
     },
     "2a6ddab9545e416395f9bb6f558b22f9": {
      "model_module": "@jupyter-widgets/controls",
      "model_module_version": "1.5.0",
      "model_name": "ProgressStyleModel",
      "state": {
       "description_width": ""
      }
     },
     "2aa26f97c4044f2eb3dead48ddeb3031": {
      "model_module": "@jupyter-widgets/controls",
      "model_module_version": "1.5.0",
      "model_name": "DescriptionStyleModel",
      "state": {
       "description_width": ""
      }
     },
     "2c3783d85801422b8be74bf0d581e6fe": {
      "model_module": "@jupyter-widgets/controls",
      "model_module_version": "1.5.0",
      "model_name": "DescriptionStyleModel",
      "state": {
       "description_width": ""
      }
     },
     "2c55323ed36743078c198ee1cc7be055": {
      "model_module": "@jupyter-widgets/controls",
      "model_module_version": "1.5.0",
      "model_name": "DescriptionStyleModel",
      "state": {
       "description_width": ""
      }
     },
     "2c95cdae25ca4b22bfbfde0e828af5ea": {
      "model_module": "@jupyter-widgets/controls",
      "model_module_version": "1.5.0",
      "model_name": "ProgressStyleModel",
      "state": {
       "description_width": ""
      }
     },
     "2d51e065b35e4eb2b4e3984e34fe4557": {
      "model_module": "@jupyter-widgets/base",
      "model_module_version": "1.2.0",
      "model_name": "LayoutModel",
      "state": {}
     },
     "2de3b23ca22743bda6a8f8c74855ab7b": {
      "model_module": "@jupyter-widgets/controls",
      "model_module_version": "1.5.0",
      "model_name": "ProgressStyleModel",
      "state": {
       "description_width": ""
      }
     },
     "2de47d2c5f4f490dbfba655b463124e8": {
      "model_module": "@jupyter-widgets/controls",
      "model_module_version": "1.5.0",
      "model_name": "DescriptionStyleModel",
      "state": {
       "description_width": ""
      }
     },
     "2e0ef8b1b66244f48edde6a2c2f34d42": {
      "model_module": "@jupyter-widgets/controls",
      "model_module_version": "1.5.0",
      "model_name": "HTMLModel",
      "state": {
       "layout": "IPY_MODEL_7fe3d4fa10694ba79240ddd2ee3976da",
       "style": "IPY_MODEL_7e984053b5e64306b65a1350df5ac07c",
       "value": "Iterating through drift speeds: 100%"
      }
     },
     "2e204d61a9ef415a86156825c2026e50": {
      "model_module": "@jupyter-widgets/base",
      "model_module_version": "1.2.0",
      "model_name": "LayoutModel",
      "state": {}
     },
     "2e4db7b9ca6c4c3ab3791eac347fdf38": {
      "model_module": "@jupyter-widgets/controls",
      "model_module_version": "1.5.0",
      "model_name": "ProgressStyleModel",
      "state": {
       "description_width": ""
      }
     },
     "2e5008de8ce84821b458b2b41986e03a": {
      "model_module": "@jupyter-widgets/controls",
      "model_module_version": "1.5.0",
      "model_name": "ProgressStyleModel",
      "state": {
       "description_width": ""
      }
     },
     "2eaa99c6a833459bb097086f48b593c5": {
      "model_module": "@jupyter-widgets/controls",
      "model_module_version": "1.5.0",
      "model_name": "ProgressStyleModel",
      "state": {
       "description_width": ""
      }
     },
     "2ebe6eabcc834b72b1125257251caa37": {
      "model_module": "@jupyter-widgets/base",
      "model_module_version": "1.2.0",
      "model_name": "LayoutModel",
      "state": {}
     },
     "2ec43c80141541ec9320ca7c69ac8bb5": {
      "model_module": "@jupyter-widgets/controls",
      "model_module_version": "1.5.0",
      "model_name": "HTMLModel",
      "state": {
       "layout": "IPY_MODEL_ae91747400284802a160335686a356b8",
       "style": "IPY_MODEL_1208c812c9a04bed99d2692b042b0713",
       "value": "Iterating through drift speeds:  88%"
      }
     },
     "2ede05e81b5a4c44942c55bb424e438e": {
      "model_module": "@jupyter-widgets/base",
      "model_module_version": "1.2.0",
      "model_name": "LayoutModel",
      "state": {}
     },
     "2ee5fb0f8c41432fa77ad1c557a48ce6": {
      "model_module": "@jupyter-widgets/controls",
      "model_module_version": "1.5.0",
      "model_name": "FloatProgressModel",
      "state": {
       "layout": "IPY_MODEL_6aa0bc03bbc945339eb970fa0093758b",
       "max": 8,
       "style": "IPY_MODEL_2c95cdae25ca4b22bfbfde0e828af5ea",
       "value": 8
      }
     },
     "2f86972b42af4e43820e42d3a8fda36b": {
      "model_module": "@jupyter-widgets/controls",
      "model_module_version": "1.5.0",
      "model_name": "ProgressStyleModel",
      "state": {
       "description_width": ""
      }
     },
     "2f9f815a9b34454181c884c65039a9bc": {
      "model_module": "@jupyter-widgets/controls",
      "model_module_version": "1.5.0",
      "model_name": "HTMLModel",
      "state": {
       "layout": "IPY_MODEL_6ed9d8dcc0a94ae89cb798d3c89fd9f9",
       "style": "IPY_MODEL_43207599363f409e8256b56cdb8b15d6",
       "value": "Iterating through drift speeds: 100%"
      }
     },
     "3029fc181f2f49289310cd911546298c": {
      "model_module": "@jupyter-widgets/controls",
      "model_module_version": "1.5.0",
      "model_name": "HTMLModel",
      "state": {
       "layout": "IPY_MODEL_fb08f285fe6d46eabc31ef8e7b225526",
       "style": "IPY_MODEL_e003a15d2fbd4f749bc347bed1a63e39",
       "value": "Iterating through drift speeds: 100%"
      }
     },
     "30821d6df20a494cabd9cf9b87addc09": {
      "model_module": "@jupyter-widgets/controls",
      "model_module_version": "1.5.0",
      "model_name": "DescriptionStyleModel",
      "state": {
       "description_width": ""
      }
     },
     "30980989c75b4cf6a9749c28dd04133e": {
      "model_module": "@jupyter-widgets/base",
      "model_module_version": "1.2.0",
      "model_name": "LayoutModel",
      "state": {}
     },
     "30a4aa67b5fc4d6d952026e08d02e90c": {
      "model_module": "@jupyter-widgets/base",
      "model_module_version": "1.2.0",
      "model_name": "LayoutModel",
      "state": {}
     },
     "30d8c8ac1960499d93c8125c3739e511": {
      "model_module": "@jupyter-widgets/controls",
      "model_module_version": "1.5.0",
      "model_name": "HTMLModel",
      "state": {
       "layout": "IPY_MODEL_9d4b8d093c2c45ec9ede35e82f866912",
       "style": "IPY_MODEL_feb1ce5b698b46408acda1d97136dc6c",
       "value": " 8/8 [00:00&lt;00:00, 16.82it/s]"
      }
     },
     "31e04ca18b2e4e46a7ff89fff2155c16": {
      "model_module": "@jupyter-widgets/base",
      "model_module_version": "1.2.0",
      "model_name": "LayoutModel",
      "state": {}
     },
     "31f7cac5dbec465f8f7654d35b825c82": {
      "model_module": "@jupyter-widgets/controls",
      "model_module_version": "1.5.0",
      "model_name": "ProgressStyleModel",
      "state": {
       "description_width": ""
      }
     },
     "3243ab1fee7c47ae825d5aea195d72bd": {
      "model_module": "@jupyter-widgets/base",
      "model_module_version": "1.2.0",
      "model_name": "LayoutModel",
      "state": {}
     },
     "329f7a60dcfe410094f4693c45398219": {
      "model_module": "@jupyter-widgets/base",
      "model_module_version": "1.2.0",
      "model_name": "LayoutModel",
      "state": {}
     },
     "32bd4cb64ced49728a0102624ce44f9d": {
      "model_module": "@jupyter-widgets/controls",
      "model_module_version": "1.5.0",
      "model_name": "HTMLModel",
      "state": {
       "layout": "IPY_MODEL_b631298e9cb54b9bb33309423ef76365",
       "style": "IPY_MODEL_64c88ef6e29d46c29105c30d165e7b01",
       "value": " 8/8 [00:00&lt;00:00, 16.70it/s]"
      }
     },
     "32d50a1d50b9448c9c61d08865096d0d": {
      "model_module": "@jupyter-widgets/base",
      "model_module_version": "1.2.0",
      "model_name": "LayoutModel",
      "state": {}
     },
     "32d8a3109cd64e4ca293c281f526655a": {
      "model_module": "@jupyter-widgets/controls",
      "model_module_version": "1.5.0",
      "model_name": "HTMLModel",
      "state": {
       "layout": "IPY_MODEL_ae5113802777498889c48a1d51fb76ac",
       "style": "IPY_MODEL_6b7b737f8d594f4caae92649e68f9f59",
       "value": "Iterating through drift speeds: 100%"
      }
     },
     "32f0b81909594f088e1e1ce64f76f54f": {
      "model_module": "@jupyter-widgets/controls",
      "model_module_version": "1.5.0",
      "model_name": "HTMLModel",
      "state": {
       "layout": "IPY_MODEL_8f61d79b58c94134bbbf46bf1457534d",
       "style": "IPY_MODEL_2de47d2c5f4f490dbfba655b463124e8",
       "value": " 8/8 [00:00&lt;00:00, 16.87it/s]"
      }
     },
     "334c1eb17dfe48bf931e8d1583b55534": {
      "model_module": "@jupyter-widgets/controls",
      "model_module_version": "1.5.0",
      "model_name": "DescriptionStyleModel",
      "state": {
       "description_width": ""
      }
     },
     "337a729fe2ce45a5b1b63bcfbca32c40": {
      "model_module": "@jupyter-widgets/base",
      "model_module_version": "1.2.0",
      "model_name": "LayoutModel",
      "state": {}
     },
     "3406885b19574c74a5faa56821fda74b": {
      "model_module": "@jupyter-widgets/base",
      "model_module_version": "1.2.0",
      "model_name": "LayoutModel",
      "state": {}
     },
     "344d0cdd961c47db81842133641bdf86": {
      "model_module": "@jupyter-widgets/controls",
      "model_module_version": "1.5.0",
      "model_name": "HTMLModel",
      "state": {
       "layout": "IPY_MODEL_fb2d3f94f3f74dd8818a11fa7de92cb3",
       "style": "IPY_MODEL_20e2bf87df884f26a28b112a5274e0dd",
       "value": " 8/8 [00:00&lt;00:00, 17.00it/s]"
      }
     },
     "34630e834f904276a3717d746ae28e39": {
      "model_module": "@jupyter-widgets/base",
      "model_module_version": "1.2.0",
      "model_name": "LayoutModel",
      "state": {}
     },
     "348c49927e584d9cbfc6566a2f40f803": {
      "model_module": "@jupyter-widgets/base",
      "model_module_version": "1.2.0",
      "model_name": "LayoutModel",
      "state": {}
     },
     "34bf45141c444e188b2fb184160685ea": {
      "model_module": "@jupyter-widgets/base",
      "model_module_version": "1.2.0",
      "model_name": "LayoutModel",
      "state": {}
     },
     "34c5b369c5a34740949a97a5be132302": {
      "model_module": "@jupyter-widgets/base",
      "model_module_version": "1.2.0",
      "model_name": "LayoutModel",
      "state": {}
     },
     "34ea6576c0d04a9b93dec82e33a20b23": {
      "model_module": "@jupyter-widgets/controls",
      "model_module_version": "1.5.0",
      "model_name": "ProgressStyleModel",
      "state": {
       "description_width": ""
      }
     },
     "35017efa6c6c4018afdf6be2a7b69cba": {
      "model_module": "@jupyter-widgets/controls",
      "model_module_version": "1.5.0",
      "model_name": "FloatProgressModel",
      "state": {
       "layout": "IPY_MODEL_e66574e313e34ba9b9f3deb2bd0d29cf",
       "max": 8,
       "style": "IPY_MODEL_f1c8d7ca668649b987a82e5e1e50c48f",
       "value": 8
      }
     },
     "352f1c920faa4ae590b9162d030df14c": {
      "model_module": "@jupyter-widgets/controls",
      "model_module_version": "1.5.0",
      "model_name": "DescriptionStyleModel",
      "state": {
       "description_width": ""
      }
     },
     "35996204bb5848c2b1971231be96aa4b": {
      "model_module": "@jupyter-widgets/base",
      "model_module_version": "1.2.0",
      "model_name": "LayoutModel",
      "state": {}
     },
     "359a03df004b48dcb7d6caa90ed5575c": {
      "model_module": "@jupyter-widgets/base",
      "model_module_version": "1.2.0",
      "model_name": "LayoutModel",
      "state": {}
     },
     "35a246e0095e479e984b01451fc9b9a6": {
      "model_module": "@jupyter-widgets/base",
      "model_module_version": "1.2.0",
      "model_name": "LayoutModel",
      "state": {}
     },
     "35c9dd7f08184c4b9faedda20e2e9cb0": {
      "model_module": "@jupyter-widgets/controls",
      "model_module_version": "1.5.0",
      "model_name": "ProgressStyleModel",
      "state": {
       "description_width": ""
      }
     },
     "35f20db801cb474bbacb07ff1b9b06e7": {
      "model_module": "@jupyter-widgets/controls",
      "model_module_version": "1.5.0",
      "model_name": "DescriptionStyleModel",
      "state": {
       "description_width": ""
      }
     },
     "365c2066740a41fe85b83b4d2171f975": {
      "model_module": "@jupyter-widgets/controls",
      "model_module_version": "1.5.0",
      "model_name": "HTMLModel",
      "state": {
       "layout": "IPY_MODEL_133f356ccc9f49a7a545183a1fe23075",
       "style": "IPY_MODEL_f0aa1cda63414786a2e07aa62e355e5b",
       "value": " 8/8 [00:00&lt;00:00, 16.84it/s]"
      }
     },
     "36c332fb4f6a476f8c6a39da38bc6c83": {
      "model_module": "@jupyter-widgets/controls",
      "model_module_version": "1.5.0",
      "model_name": "DescriptionStyleModel",
      "state": {
       "description_width": ""
      }
     },
     "36e3f45f8b7d4459833ddf70e0b03c4f": {
      "model_module": "@jupyter-widgets/base",
      "model_module_version": "1.2.0",
      "model_name": "LayoutModel",
      "state": {}
     },
     "36fb55ece09c4e5f9e12d619148bfb6a": {
      "model_module": "@jupyter-widgets/base",
      "model_module_version": "1.2.0",
      "model_name": "LayoutModel",
      "state": {}
     },
     "3722634b302f426ca3fae103b70ada84": {
      "model_module": "@jupyter-widgets/controls",
      "model_module_version": "1.5.0",
      "model_name": "FloatProgressModel",
      "state": {
       "layout": "IPY_MODEL_337a729fe2ce45a5b1b63bcfbca32c40",
       "max": 8,
       "style": "IPY_MODEL_19599405ef3e40e99884e11dc2b3fb5a",
       "value": 8
      }
     },
     "3757e9d1b02b44e68e5fbd58a9cf17ed": {
      "model_module": "@jupyter-widgets/base",
      "model_module_version": "1.2.0",
      "model_name": "LayoutModel",
      "state": {}
     },
     "37afc11cfb42464cb767c12d354ba47f": {
      "model_module": "@jupyter-widgets/base",
      "model_module_version": "1.2.0",
      "model_name": "LayoutModel",
      "state": {}
     },
     "3821587248cf45f8bfe00e977da295e4": {
      "model_module": "@jupyter-widgets/base",
      "model_module_version": "1.2.0",
      "model_name": "LayoutModel",
      "state": {}
     },
     "387e2258b1744094ae198ca44b063e7a": {
      "model_module": "@jupyter-widgets/base",
      "model_module_version": "1.2.0",
      "model_name": "LayoutModel",
      "state": {}
     },
     "38e73ed7a8874f16a68b9aa027153ed7": {
      "model_module": "@jupyter-widgets/controls",
      "model_module_version": "1.5.0",
      "model_name": "FloatProgressModel",
      "state": {
       "layout": "IPY_MODEL_560dcf38547e4fa4805b60b8dcdf1d78",
       "max": 8,
       "style": "IPY_MODEL_903b3657c0b943c4aa234f6efd7aea23",
       "value": 8
      }
     },
     "39281e87360d4d81b8102974372e7d73": {
      "model_module": "@jupyter-widgets/controls",
      "model_module_version": "1.5.0",
      "model_name": "ProgressStyleModel",
      "state": {
       "description_width": ""
      }
     },
     "3934babdb61340219f2a2fe0556e9299": {
      "model_module": "@jupyter-widgets/controls",
      "model_module_version": "1.5.0",
      "model_name": "HTMLModel",
      "state": {
       "layout": "IPY_MODEL_a4925800401d42eaaf17a7908bea9aa3",
       "style": "IPY_MODEL_b7a25f09fcde47609785cb1cfabddd70",
       "value": " 8/8 [00:00&lt;00:00, 17.32it/s]"
      }
     },
     "3937e5e19dfe4a8ba4196e507180edf6": {
      "model_module": "@jupyter-widgets/base",
      "model_module_version": "1.2.0",
      "model_name": "LayoutModel",
      "state": {}
     },
     "3a193c6f23e04360aaaa33d3ff8b7c4f": {
      "model_module": "@jupyter-widgets/base",
      "model_module_version": "1.2.0",
      "model_name": "LayoutModel",
      "state": {}
     },
     "3a31861a322b401180f00e51eee23d24": {
      "model_module": "@jupyter-widgets/controls",
      "model_module_version": "1.5.0",
      "model_name": "DescriptionStyleModel",
      "state": {
       "description_width": ""
      }
     },
     "3a6fd055edd94ed0b2fd3ebe6738f453": {
      "model_module": "@jupyter-widgets/base",
      "model_module_version": "1.2.0",
      "model_name": "LayoutModel",
      "state": {}
     },
     "3a7cd8a8904b4995a6cc3c81667454eb": {
      "model_module": "@jupyter-widgets/controls",
      "model_module_version": "1.5.0",
      "model_name": "DescriptionStyleModel",
      "state": {
       "description_width": ""
      }
     },
     "3a93c078c6674a0383939a69ee51dcfd": {
      "model_module": "@jupyter-widgets/base",
      "model_module_version": "1.2.0",
      "model_name": "LayoutModel",
      "state": {}
     },
     "3b249a9f5733463f94a8b18bf3273fe7": {
      "model_module": "@jupyter-widgets/controls",
      "model_module_version": "1.5.0",
      "model_name": "HTMLModel",
      "state": {
       "layout": "IPY_MODEL_7e4e67595dd441f48f843da950382a72",
       "style": "IPY_MODEL_1c7ac8d9d99a4866aad49e68517ee21c",
       "value": "Iterating through drift speeds: 100%"
      }
     },
     "3b6b0b82130847c49b4f784b27e1e6fd": {
      "model_module": "@jupyter-widgets/controls",
      "model_module_version": "1.5.0",
      "model_name": "ProgressStyleModel",
      "state": {
       "description_width": ""
      }
     },
     "3c061e4ff49341fe90bc7d0576d54f07": {
      "model_module": "@jupyter-widgets/controls",
      "model_module_version": "1.5.0",
      "model_name": "DescriptionStyleModel",
      "state": {
       "description_width": ""
      }
     },
     "3cc4466edce8418eb8eee992f87176ec": {
      "model_module": "@jupyter-widgets/controls",
      "model_module_version": "1.5.0",
      "model_name": "HTMLModel",
      "state": {
       "layout": "IPY_MODEL_8e5dd033254546c390cbef0a4e3237a4",
       "style": "IPY_MODEL_3eccf58233e446dbad1a8540096113b6",
       "value": "Iterating through drift speeds: 100%"
      }
     },
     "3d25564171de43f7b3af3feb52bd7174": {
      "model_module": "@jupyter-widgets/base",
      "model_module_version": "1.2.0",
      "model_name": "LayoutModel",
      "state": {}
     },
     "3d2af422f2ee4a15b6c92ce22fa09b98": {
      "model_module": "@jupyter-widgets/base",
      "model_module_version": "1.2.0",
      "model_name": "LayoutModel",
      "state": {}
     },
     "3db67339ff7d48bab2a8ff2cbedc957e": {
      "model_module": "@jupyter-widgets/controls",
      "model_module_version": "1.5.0",
      "model_name": "DescriptionStyleModel",
      "state": {
       "description_width": ""
      }
     },
     "3e999d899dc6417ca9319a4d4ebe30a1": {
      "model_module": "@jupyter-widgets/base",
      "model_module_version": "1.2.0",
      "model_name": "LayoutModel",
      "state": {}
     },
     "3eb6e990817b4d76a74f3add447022fb": {
      "model_module": "@jupyter-widgets/controls",
      "model_module_version": "1.5.0",
      "model_name": "HTMLModel",
      "state": {
       "layout": "IPY_MODEL_ee124dfeb98f4570984c1a0d61286080",
       "style": "IPY_MODEL_8de518914cb24ac5a9ee5962311583f9",
       "value": "Iterating through drift angles: 100%"
      }
     },
     "3ec8151a105c4bb0912c7007efff33f7": {
      "model_module": "@jupyter-widgets/controls",
      "model_module_version": "1.5.0",
      "model_name": "DescriptionStyleModel",
      "state": {
       "description_width": ""
      }
     },
     "3eccf58233e446dbad1a8540096113b6": {
      "model_module": "@jupyter-widgets/controls",
      "model_module_version": "1.5.0",
      "model_name": "DescriptionStyleModel",
      "state": {
       "description_width": ""
      }
     },
     "3ed9c97cba5e4819859262523e1b4576": {
      "model_module": "@jupyter-widgets/controls",
      "model_module_version": "1.5.0",
      "model_name": "HTMLModel",
      "state": {
       "layout": "IPY_MODEL_387e2258b1744094ae198ca44b063e7a",
       "style": "IPY_MODEL_8228696f3eec451884f00014f06b23a1",
       "value": "Iterating through drift angles: 100%"
      }
     },
     "3eefc7a9bad74ad78221d525e7cbe578": {
      "model_module": "@jupyter-widgets/controls",
      "model_module_version": "1.5.0",
      "model_name": "DescriptionStyleModel",
      "state": {
       "description_width": ""
      }
     },
     "3f25251dec9a4ddfb49a34a828afdd41": {
      "model_module": "@jupyter-widgets/base",
      "model_module_version": "1.2.0",
      "model_name": "LayoutModel",
      "state": {}
     },
     "3fcdae3804dc42068423e5ecc93b38f0": {
      "model_module": "@jupyter-widgets/controls",
      "model_module_version": "1.5.0",
      "model_name": "DescriptionStyleModel",
      "state": {
       "description_width": ""
      }
     },
     "402a54e7250d4646a9079c6ff7c0dd4d": {
      "model_module": "@jupyter-widgets/base",
      "model_module_version": "1.2.0",
      "model_name": "LayoutModel",
      "state": {}
     },
     "404f66f6876b4e31ac965c9ddcd16998": {
      "model_module": "@jupyter-widgets/base",
      "model_module_version": "1.2.0",
      "model_name": "LayoutModel",
      "state": {}
     },
     "4087a67e371f412590d8061e0420cf61": {
      "model_module": "@jupyter-widgets/controls",
      "model_module_version": "1.5.0",
      "model_name": "HTMLModel",
      "state": {
       "layout": "IPY_MODEL_3a6fd055edd94ed0b2fd3ebe6738f453",
       "style": "IPY_MODEL_887d515014ea406f90745b9bd659b0f7",
       "value": "Iterating through drift speeds: 100%"
      }
     },
     "40fac8a6c9f64257b748f50db2b8bf7f": {
      "model_module": "@jupyter-widgets/controls",
      "model_module_version": "1.5.0",
      "model_name": "HTMLModel",
      "state": {
       "layout": "IPY_MODEL_42fc7ccb41ec40238073a2f688168b99",
       "style": "IPY_MODEL_cde5230846404c77b07545d30ea90250",
       "value": "Iterating through drift speeds: 100%"
      }
     },
     "416c11d63d094695a25a98a8d36c5022": {
      "model_module": "@jupyter-widgets/base",
      "model_module_version": "1.2.0",
      "model_name": "LayoutModel",
      "state": {}
     },
     "41af53456ef74fc48f0cd9c582332a4b": {
      "model_module": "@jupyter-widgets/controls",
      "model_module_version": "1.5.0",
      "model_name": "DescriptionStyleModel",
      "state": {
       "description_width": ""
      }
     },
     "41b482628c524cd49486f4093b49cbe1": {
      "model_module": "@jupyter-widgets/controls",
      "model_module_version": "1.5.0",
      "model_name": "ProgressStyleModel",
      "state": {
       "description_width": ""
      }
     },
     "42594d4bb68e422d84e4eaf78eb61d3d": {
      "model_module": "@jupyter-widgets/base",
      "model_module_version": "1.2.0",
      "model_name": "LayoutModel",
      "state": {}
     },
     "42b655634aec40da9e67a9992aa30b06": {
      "model_module": "@jupyter-widgets/controls",
      "model_module_version": "1.5.0",
      "model_name": "HTMLModel",
      "state": {
       "layout": "IPY_MODEL_50f4f3bc150c4141aa8e9901deb4df0b",
       "style": "IPY_MODEL_88c45cd955eb417a925fc47430d9f1ed",
       "value": " 8/8 [00:00&lt;00:00, 17.88it/s]"
      }
     },
     "42bcfc78419d47d68a17edebbe68aa7c": {
      "model_module": "@jupyter-widgets/controls",
      "model_module_version": "1.5.0",
      "model_name": "HTMLModel",
      "state": {
       "layout": "IPY_MODEL_506a329ce64d40b892361f07d9cfa746",
       "style": "IPY_MODEL_bd80650cff6342728daee0ea1c41ad84",
       "value": " 8/8 [00:00&lt;00:00, 17.32it/s]"
      }
     },
     "42cc76b6e51547b69f29c53dea6a19aa": {
      "model_module": "@jupyter-widgets/base",
      "model_module_version": "1.2.0",
      "model_name": "LayoutModel",
      "state": {}
     },
     "42fc7ccb41ec40238073a2f688168b99": {
      "model_module": "@jupyter-widgets/base",
      "model_module_version": "1.2.0",
      "model_name": "LayoutModel",
      "state": {}
     },
     "430ad945e104428bb572510046923339": {
      "model_module": "@jupyter-widgets/base",
      "model_module_version": "1.2.0",
      "model_name": "LayoutModel",
      "state": {}
     },
     "430e0d9a4df040c8ad5b15cb4c51ad02": {
      "model_module": "@jupyter-widgets/base",
      "model_module_version": "1.2.0",
      "model_name": "LayoutModel",
      "state": {}
     },
     "43207599363f409e8256b56cdb8b15d6": {
      "model_module": "@jupyter-widgets/controls",
      "model_module_version": "1.5.0",
      "model_name": "DescriptionStyleModel",
      "state": {
       "description_width": ""
      }
     },
     "4320ea51bb8249669772f50615378525": {
      "model_module": "@jupyter-widgets/base",
      "model_module_version": "1.2.0",
      "model_name": "LayoutModel",
      "state": {}
     },
     "43fa09c49d214b029e6412097eb5687f": {
      "model_module": "@jupyter-widgets/base",
      "model_module_version": "1.2.0",
      "model_name": "LayoutModel",
      "state": {}
     },
     "440e3031784e4e0fb9f5aba58aab517a": {
      "model_module": "@jupyter-widgets/controls",
      "model_module_version": "1.5.0",
      "model_name": "HTMLModel",
      "state": {
       "layout": "IPY_MODEL_23544d8f33a8489fad41ca4e7f330e4c",
       "style": "IPY_MODEL_df9c444785d24ff18493ce01ee1aa23d",
       "value": " 8/8 [00:00&lt;00:00, 16.13it/s]"
      }
     },
     "4414c15f42334ffb914a25835675a2c9": {
      "model_module": "@jupyter-widgets/base",
      "model_module_version": "1.2.0",
      "model_name": "LayoutModel",
      "state": {}
     },
     "4415876c536747e89d6b797ebf326ae4": {
      "model_module": "@jupyter-widgets/controls",
      "model_module_version": "1.5.0",
      "model_name": "HTMLModel",
      "state": {
       "layout": "IPY_MODEL_714e00df9775450296382eba98b01a5f",
       "style": "IPY_MODEL_b98f574fa8d9431386b37e39af6211a4",
       "value": "Iterating through drift speeds: 100%"
      }
     },
     "44159675bfb545eeb97682662ab46c84": {
      "model_module": "@jupyter-widgets/controls",
      "model_module_version": "1.5.0",
      "model_name": "HTMLModel",
      "state": {
       "layout": "IPY_MODEL_ee3a9cceff3b4f168cfea286e8f069ad",
       "style": "IPY_MODEL_36c332fb4f6a476f8c6a39da38bc6c83",
       "value": " 8/8 [00:00&lt;00:00, 16.83it/s]"
      }
     },
     "44445ba8331a4ab8b2b7fa78ab94aecb": {
      "model_module": "@jupyter-widgets/controls",
      "model_module_version": "1.5.0",
      "model_name": "HTMLModel",
      "state": {
       "layout": "IPY_MODEL_ffa376d1deba4c07a2319afe7d9b0539",
       "style": "IPY_MODEL_5ca321d25ef2454cb5c1ecf55837dbc6",
       "value": "Iterating through drift angles: 100%"
      }
     },
     "444d6e3bc13b4af6a9da66f5bd662ea6": {
      "model_module": "@jupyter-widgets/controls",
      "model_module_version": "1.5.0",
      "model_name": "HTMLModel",
      "state": {
       "layout": "IPY_MODEL_d597456a8e734cb2b26daf9a8850a9a2",
       "style": "IPY_MODEL_ba001ca3738b4797b10d17135bd622b4",
       "value": "Iterating through drift speeds: 100%"
      }
     },
     "44b3143e5f8348a397ca343cb568ba8d": {
      "model_module": "@jupyter-widgets/base",
      "model_module_version": "1.2.0",
      "model_name": "LayoutModel",
      "state": {}
     },
     "45370863400c4cd18c31becfdeaf3ac2": {
      "model_module": "@jupyter-widgets/controls",
      "model_module_version": "1.5.0",
      "model_name": "DescriptionStyleModel",
      "state": {
       "description_width": ""
      }
     },
     "45bd544e926f40d9b0a592ef08f56fc8": {
      "model_module": "@jupyter-widgets/controls",
      "model_module_version": "1.5.0",
      "model_name": "FloatProgressModel",
      "state": {
       "layout": "IPY_MODEL_e0a848c6baf14564b791b317d904d8cb",
       "max": 8,
       "style": "IPY_MODEL_722ad232df0a48e8841f87a17858e2f6",
       "value": 8
      }
     },
     "45bfceb5f5ef41d49e6d1801fbc8a7b7": {
      "model_module": "@jupyter-widgets/controls",
      "model_module_version": "1.5.0",
      "model_name": "DescriptionStyleModel",
      "state": {
       "description_width": ""
      }
     },
     "45e4aeb734354397bfed75814af9ea1b": {
      "model_module": "@jupyter-widgets/controls",
      "model_module_version": "1.5.0",
      "model_name": "DescriptionStyleModel",
      "state": {
       "description_width": ""
      }
     },
     "461834a24eec4989ad7a611eb6cf85e8": {
      "model_module": "@jupyter-widgets/controls",
      "model_module_version": "1.5.0",
      "model_name": "HTMLModel",
      "state": {
       "layout": "IPY_MODEL_bb4da878583143ddb6474390fb61b46e",
       "style": "IPY_MODEL_3db67339ff7d48bab2a8ff2cbedc957e",
       "value": "Iterating through drift angles: 100%"
      }
     },
     "462c231aa12e4895927ea4d520e0b983": {
      "model_module": "@jupyter-widgets/base",
      "model_module_version": "1.2.0",
      "model_name": "LayoutModel",
      "state": {}
     },
     "465aa57fd6d447738794391108d30eab": {
      "model_module": "@jupyter-widgets/controls",
      "model_module_version": "1.5.0",
      "model_name": "FloatProgressModel",
      "state": {
       "layout": "IPY_MODEL_1079221865a640c389d35c9c0e54fa2c",
       "max": 8,
       "style": "IPY_MODEL_d15add84a99b4b44a3d6936563421075",
       "value": 8
      }
     },
     "467dec51b7074a0782f8f5e1520a3a8b": {
      "model_module": "@jupyter-widgets/base",
      "model_module_version": "1.2.0",
      "model_name": "LayoutModel",
      "state": {}
     },
     "46dd6dc8854b466cabc144ece9056a22": {
      "model_module": "@jupyter-widgets/base",
      "model_module_version": "1.2.0",
      "model_name": "LayoutModel",
      "state": {}
     },
     "4831975cb2e84ba2a7814bc7e21cd84a": {
      "model_module": "@jupyter-widgets/controls",
      "model_module_version": "1.5.0",
      "model_name": "DescriptionStyleModel",
      "state": {
       "description_width": ""
      }
     },
     "49ca90fa62d44027b0a10769268bb7d4": {
      "model_module": "@jupyter-widgets/base",
      "model_module_version": "1.2.0",
      "model_name": "LayoutModel",
      "state": {}
     },
     "49ff71cb0ec349aaa75ed151f98f5b7c": {
      "model_module": "@jupyter-widgets/controls",
      "model_module_version": "1.5.0",
      "model_name": "DescriptionStyleModel",
      "state": {
       "description_width": ""
      }
     },
     "4a6b7bd2de234e7f8da10f75febdc08a": {
      "model_module": "@jupyter-widgets/base",
      "model_module_version": "1.2.0",
      "model_name": "LayoutModel",
      "state": {}
     },
     "4a8230663d194e16bea722e7ac587c68": {
      "model_module": "@jupyter-widgets/controls",
      "model_module_version": "1.5.0",
      "model_name": "HTMLModel",
      "state": {
       "layout": "IPY_MODEL_f7a3b5c114db47fb95629d41166e597d",
       "style": "IPY_MODEL_003250f50864437b8ae1030eecd700c8",
       "value": " 8/8 [00:00&lt;00:00, 16.99it/s]"
      }
     },
     "4adba35f736840d49f9132405f264c22": {
      "model_module": "@jupyter-widgets/controls",
      "model_module_version": "1.5.0",
      "model_name": "DescriptionStyleModel",
      "state": {
       "description_width": ""
      }
     },
     "4b039649a4f84379b6221382beab7866": {
      "model_module": "@jupyter-widgets/controls",
      "model_module_version": "1.5.0",
      "model_name": "DescriptionStyleModel",
      "state": {
       "description_width": ""
      }
     },
     "4b79b290aec742f590628199117d2c4a": {
      "model_module": "@jupyter-widgets/controls",
      "model_module_version": "1.5.0",
      "model_name": "HTMLModel",
      "state": {
       "layout": "IPY_MODEL_8a3d1c0141a84f6ea22bd0992af26e6c",
       "style": "IPY_MODEL_bfc389c0a5ca4b0ca5fbe2b39fd68cb2",
       "value": " 1/1 [00:00&lt;00:00,  9.09it/s]"
      }
     },
     "4bacd5d7c5ff4a73a62fd03b352f8936": {
      "model_module": "@jupyter-widgets/base",
      "model_module_version": "1.2.0",
      "model_name": "LayoutModel",
      "state": {}
     },
     "4ce6e758369d4a2a93060348adfa046f": {
      "model_module": "@jupyter-widgets/base",
      "model_module_version": "1.2.0",
      "model_name": "LayoutModel",
      "state": {}
     },
     "4d061adece9f42c7b46c9b82bdef6889": {
      "model_module": "@jupyter-widgets/controls",
      "model_module_version": "1.5.0",
      "model_name": "FloatProgressModel",
      "state": {
       "layout": "IPY_MODEL_a2972f7051d541e0a20421b0a93a2437",
       "max": 8,
       "style": "IPY_MODEL_9d3e4d6e233347d0b9e273a7b120b070",
       "value": 8
      }
     },
     "4dbbc06e72a34583bd805f2fdeeb40f2": {
      "model_module": "@jupyter-widgets/controls",
      "model_module_version": "1.5.0",
      "model_name": "FloatProgressModel",
      "state": {
       "layout": "IPY_MODEL_35a246e0095e479e984b01451fc9b9a6",
       "max": 8,
       "style": "IPY_MODEL_2e5008de8ce84821b458b2b41986e03a",
       "value": 8
      }
     },
     "4f10d82c25bc41ffa6e7d224d8389cc7": {
      "model_module": "@jupyter-widgets/controls",
      "model_module_version": "1.5.0",
      "model_name": "HTMLModel",
      "state": {
       "layout": "IPY_MODEL_6525bd99e91f483591a6f5b59d36156c",
       "style": "IPY_MODEL_a628158740b540bfab91f1df50d5deec",
       "value": "Iterating through drift angles: 100%"
      }
     },
     "4f3fadc6fbea4f9eabea85af10dc877d": {
      "model_module": "@jupyter-widgets/controls",
      "model_module_version": "1.5.0",
      "model_name": "HTMLModel",
      "state": {
       "layout": "IPY_MODEL_ac336fd952eb4d3eae477a0c42d8c97a",
       "style": "IPY_MODEL_91eb9709ca73489eb33ba44eb5499e7c",
       "value": "Iterating through drift speeds: 100%"
      }
     },
     "4f6c1df5840d4aaaaef26ee516e54031": {
      "model_module": "@jupyter-widgets/base",
      "model_module_version": "1.2.0",
      "model_name": "LayoutModel",
      "state": {}
     },
     "4f932901c16948c188bb8cc0dceea0fe": {
      "model_module": "@jupyter-widgets/base",
      "model_module_version": "1.2.0",
      "model_name": "LayoutModel",
      "state": {}
     },
     "4fc4834383374be69a8add1bf8fba6ae": {
      "model_module": "@jupyter-widgets/base",
      "model_module_version": "1.2.0",
      "model_name": "LayoutModel",
      "state": {}
     },
     "5061e9ef4854473bbaf927f478014043": {
      "model_module": "@jupyter-widgets/base",
      "model_module_version": "1.2.0",
      "model_name": "LayoutModel",
      "state": {}
     },
     "506a329ce64d40b892361f07d9cfa746": {
      "model_module": "@jupyter-widgets/base",
      "model_module_version": "1.2.0",
      "model_name": "LayoutModel",
      "state": {}
     },
     "50a5d691563348b6b1576ec0d3d5fa99": {
      "model_module": "@jupyter-widgets/base",
      "model_module_version": "1.2.0",
      "model_name": "LayoutModel",
      "state": {}
     },
     "50e125a5b8fe4efa837d52b57467ee06": {
      "model_module": "@jupyter-widgets/controls",
      "model_module_version": "1.5.0",
      "model_name": "DescriptionStyleModel",
      "state": {
       "description_width": ""
      }
     },
     "50f4f3bc150c4141aa8e9901deb4df0b": {
      "model_module": "@jupyter-widgets/base",
      "model_module_version": "1.2.0",
      "model_name": "LayoutModel",
      "state": {}
     },
     "5163f21558f9491f94a906aba9b5e95c": {
      "model_module": "@jupyter-widgets/controls",
      "model_module_version": "1.5.0",
      "model_name": "HTMLModel",
      "state": {
       "layout": "IPY_MODEL_b797b173706e44f29ee09f2c9f5ab9e7",
       "style": "IPY_MODEL_7e3601ddc8114dcd9ff0ce2a42f5b30a",
       "value": " 8/8 [00:00&lt;00:00, 16.79it/s]"
      }
     },
     "518de4d172cc4d029124aaa55c0a45e4": {
      "model_module": "@jupyter-widgets/controls",
      "model_module_version": "1.5.0",
      "model_name": "HTMLModel",
      "state": {
       "layout": "IPY_MODEL_8e036080e73a45b2896fab18fa6cdb04",
       "style": "IPY_MODEL_6c80cc1e405e499598c40a16d2fc914d",
       "value": " 8/8 [00:03&lt;00:00,  2.11it/s]"
      }
     },
     "5223d86fee214f6bbb06aebae5f7d361": {
      "model_module": "@jupyter-widgets/controls",
      "model_module_version": "1.5.0",
      "model_name": "DescriptionStyleModel",
      "state": {
       "description_width": ""
      }
     },
     "5259171a8fb047fe974b7a167212d868": {
      "model_module": "@jupyter-widgets/controls",
      "model_module_version": "1.5.0",
      "model_name": "FloatProgressModel",
      "state": {
       "layout": "IPY_MODEL_5ea02347ccab456c85aabc2530b4c451",
       "max": 8,
       "style": "IPY_MODEL_962726fcd9174fd1b1c765d433833599",
       "value": 8
      }
     },
     "52b4f87f6cd7429ebe92c2ccb4787f9a": {
      "model_module": "@jupyter-widgets/controls",
      "model_module_version": "1.5.0",
      "model_name": "ProgressStyleModel",
      "state": {
       "description_width": ""
      }
     },
     "52f5a9d5889e4982b5c0ebb06fc22b11": {
      "model_module": "@jupyter-widgets/controls",
      "model_module_version": "1.5.0",
      "model_name": "DescriptionStyleModel",
      "state": {
       "description_width": ""
      }
     },
     "530f1bf346a843bb8a5f811c90afd83d": {
      "model_module": "jupyter-matplotlib",
      "model_module_version": "^0.8.2",
      "model_name": "MPLCanvasModel",
      "state": {
       "_cursor": "default",
       "_figure_label": "Figure 5",
       "_height": 300,
       "_width": 900,
       "layout": "IPY_MODEL_fc4ac42c611d4c69ad4e5db4b8c08f52",
       "toolbar": "IPY_MODEL_068005b99f9b4affb3e831124223b3ea",
       "toolbar_position": "left"
      }
     },
     "535bf702469c4d1181187c38557a7439": {
      "model_module": "@jupyter-widgets/base",
      "model_module_version": "1.2.0",
      "model_name": "LayoutModel",
      "state": {}
     },
     "535fbd263bd94225a34f7829699a9a95": {
      "model_module": "@jupyter-widgets/base",
      "model_module_version": "1.2.0",
      "model_name": "LayoutModel",
      "state": {}
     },
     "53cda00e42104f9a9c002be983e0f3f5": {
      "model_module": "@jupyter-widgets/controls",
      "model_module_version": "1.5.0",
      "model_name": "DescriptionStyleModel",
      "state": {
       "description_width": ""
      }
     },
     "53f44b4f4a5e4b98bc8f2d58cda03eec": {
      "model_module": "@jupyter-widgets/controls",
      "model_module_version": "1.5.0",
      "model_name": "ProgressStyleModel",
      "state": {
       "description_width": ""
      }
     },
     "540cc68ba9c440d4b14da6e2c7ac0a59": {
      "model_module": "@jupyter-widgets/controls",
      "model_module_version": "1.5.0",
      "model_name": "HTMLModel",
      "state": {
       "layout": "IPY_MODEL_9169d4208d024ec1887e710e39bad4d4",
       "style": "IPY_MODEL_49ff71cb0ec349aaa75ed151f98f5b7c",
       "value": " 8/8 [00:03&lt;00:00,  2.09it/s]"
      }
     },
     "540ff18fb02347f8b42940fbb20ee06a": {
      "model_module": "@jupyter-widgets/controls",
      "model_module_version": "1.5.0",
      "model_name": "ProgressStyleModel",
      "state": {
       "description_width": ""
      }
     },
     "5415618256b4405b806cd71a211d3684": {
      "model_module": "@jupyter-widgets/controls",
      "model_module_version": "1.5.0",
      "model_name": "DescriptionStyleModel",
      "state": {
       "description_width": ""
      }
     },
     "541faf2ba81b416b964222774f7775dc": {
      "model_module": "@jupyter-widgets/controls",
      "model_module_version": "1.5.0",
      "model_name": "FloatProgressModel",
      "state": {
       "bar_style": "success",
       "layout": "IPY_MODEL_462c231aa12e4895927ea4d520e0b983",
       "max": 1,
       "style": "IPY_MODEL_67399ce5f155431690bc636b4941cb68",
       "value": 1
      }
     },
     "549afd11426b426ea0c428d42dd99d1f": {
      "model_module": "@jupyter-widgets/controls",
      "model_module_version": "1.5.0",
      "model_name": "ProgressStyleModel",
      "state": {
       "description_width": ""
      }
     },
     "54a70d25f38343fc8fbf2812934e3454": {
      "model_module": "@jupyter-widgets/base",
      "model_module_version": "1.2.0",
      "model_name": "LayoutModel",
      "state": {}
     },
     "550f46b876e24cdfaefbd9f6847d353c": {
      "model_module": "@jupyter-widgets/controls",
      "model_module_version": "1.5.0",
      "model_name": "FloatProgressModel",
      "state": {
       "layout": "IPY_MODEL_96b68148ee06478bbeec5d750e6b7f70",
       "max": 8,
       "style": "IPY_MODEL_5be5f3a001d34ec6b5f59c0e33574b53",
       "value": 8
      }
     },
     "5599e448f2fa4fda8e0efddcb72015d3": {
      "model_module": "@jupyter-widgets/base",
      "model_module_version": "1.2.0",
      "model_name": "LayoutModel",
      "state": {}
     },
     "55c86c8288284af995e040504c49c092": {
      "model_module": "@jupyter-widgets/controls",
      "model_module_version": "1.5.0",
      "model_name": "ProgressStyleModel",
      "state": {
       "description_width": ""
      }
     },
     "55cb624fd12241cf9413a614a71f9146": {
      "model_module": "@jupyter-widgets/base",
      "model_module_version": "1.2.0",
      "model_name": "LayoutModel",
      "state": {}
     },
     "55eab155d2a34dd58416d3c743b3c5e9": {
      "model_module": "@jupyter-widgets/base",
      "model_module_version": "1.2.0",
      "model_name": "LayoutModel",
      "state": {}
     },
     "560dcf38547e4fa4805b60b8dcdf1d78": {
      "model_module": "@jupyter-widgets/base",
      "model_module_version": "1.2.0",
      "model_name": "LayoutModel",
      "state": {}
     },
     "56a83e030d7c489682d5cb082175de57": {
      "model_module": "@jupyter-widgets/base",
      "model_module_version": "1.2.0",
      "model_name": "LayoutModel",
      "state": {}
     },
     "56fbe50cd47e474287e1029c8dc67481": {
      "model_module": "@jupyter-widgets/base",
      "model_module_version": "1.2.0",
      "model_name": "LayoutModel",
      "state": {}
     },
     "5845d94bb90b4ea286b84aa8daa3e54d": {
      "model_module": "@jupyter-widgets/base",
      "model_module_version": "1.2.0",
      "model_name": "LayoutModel",
      "state": {}
     },
     "586ebed21535475ea096e149c75eb539": {
      "model_module": "@jupyter-widgets/base",
      "model_module_version": "1.2.0",
      "model_name": "LayoutModel",
      "state": {}
     },
     "588af1e5b80f429185a474665cbf0f9e": {
      "model_module": "@jupyter-widgets/controls",
      "model_module_version": "1.5.0",
      "model_name": "DescriptionStyleModel",
      "state": {
       "description_width": ""
      }
     },
     "58b52c4c3add4aac95ed04dceecef6b2": {
      "model_module": "@jupyter-widgets/controls",
      "model_module_version": "1.5.0",
      "model_name": "HTMLModel",
      "state": {
       "layout": "IPY_MODEL_62fd7ce1cab2462f912ee0c268697892",
       "style": "IPY_MODEL_bec649bc37be41b28205e12a621d3ed7",
       "value": "Iterating through drift speeds:   0%"
      }
     },
     "59229d9b04554adea9467745ab1549c2": {
      "model_module": "@jupyter-widgets/base",
      "model_module_version": "1.2.0",
      "model_name": "LayoutModel",
      "state": {}
     },
     "592b17e1978048c196504ed3d52200e2": {
      "model_module": "@jupyter-widgets/controls",
      "model_module_version": "1.5.0",
      "model_name": "HTMLModel",
      "state": {
       "layout": "IPY_MODEL_f694efcdb9184c4aad154040eee70a2d",
       "style": "IPY_MODEL_5e4a7df6ad6e4c2da60021e651168912",
       "value": "Iterating through drift speeds: 100%"
      }
     },
     "592f816323da4429816b174598e31b63": {
      "model_module": "@jupyter-widgets/base",
      "model_module_version": "1.2.0",
      "model_name": "LayoutModel",
      "state": {}
     },
     "593c47980c974028b98ee06bf86fb101": {
      "model_module": "@jupyter-widgets/controls",
      "model_module_version": "1.5.0",
      "model_name": "ProgressStyleModel",
      "state": {
       "description_width": ""
      }
     },
     "5946590e7aa148eda4d344db30bb5ef2": {
      "model_module": "@jupyter-widgets/base",
      "model_module_version": "1.2.0",
      "model_name": "LayoutModel",
      "state": {}
     },
     "598db3448c3c4be7809888cc107fe747": {
      "model_module": "@jupyter-widgets/base",
      "model_module_version": "1.2.0",
      "model_name": "LayoutModel",
      "state": {}
     },
     "59a50b94f6934eaf99db1ab346ddd775": {
      "model_module": "@jupyter-widgets/base",
      "model_module_version": "1.2.0",
      "model_name": "LayoutModel",
      "state": {}
     },
     "59b083c9641a45888ff79e0ae9bec5a2": {
      "model_module": "@jupyter-widgets/controls",
      "model_module_version": "1.5.0",
      "model_name": "FloatProgressModel",
      "state": {
       "layout": "IPY_MODEL_1c849905bf714e8d952559d856f29468",
       "max": 1,
       "style": "IPY_MODEL_d50a5694f996423f909dea9e77211d90",
       "value": 1
      }
     },
     "59cf37792b5347e9b0b4273554c65f80": {
      "model_module": "@jupyter-widgets/controls",
      "model_module_version": "1.5.0",
      "model_name": "DescriptionStyleModel",
      "state": {
       "description_width": ""
      }
     },
     "5a3d3d302ad24524a05845877f2516d2": {
      "model_module": "@jupyter-widgets/controls",
      "model_module_version": "1.5.0",
      "model_name": "HTMLModel",
      "state": {
       "layout": "IPY_MODEL_f6a70686bf6a443087783a5be94d9af8",
       "style": "IPY_MODEL_1e67a9f521d9412fbdb725278fb0f794",
       "value": "Iterating through drift speeds: 100%"
      }
     },
     "5aa365454ec64dfcb87d15e9a30dc1f4": {
      "model_module": "@jupyter-widgets/controls",
      "model_module_version": "1.5.0",
      "model_name": "DescriptionStyleModel",
      "state": {
       "description_width": ""
      }
     },
     "5b4bb765272446759b56fc1dbeaa6d2c": {
      "model_module": "@jupyter-widgets/controls",
      "model_module_version": "1.5.0",
      "model_name": "FloatProgressModel",
      "state": {
       "layout": "IPY_MODEL_09a2b4f7530c4fd0b574e6bbaafd2492",
       "max": 8,
       "style": "IPY_MODEL_be9a08186236485f948fb52c7cd7ebe2",
       "value": 8
      }
     },
     "5be5f3a001d34ec6b5f59c0e33574b53": {
      "model_module": "@jupyter-widgets/controls",
      "model_module_version": "1.5.0",
      "model_name": "ProgressStyleModel",
      "state": {
       "description_width": ""
      }
     },
     "5ca321d25ef2454cb5c1ecf55837dbc6": {
      "model_module": "@jupyter-widgets/controls",
      "model_module_version": "1.5.0",
      "model_name": "DescriptionStyleModel",
      "state": {
       "description_width": ""
      }
     },
     "5ca5b496feda48fd87ecb6ccf13451f9": {
      "model_module": "@jupyter-widgets/controls",
      "model_module_version": "1.5.0",
      "model_name": "FloatProgressModel",
      "state": {
       "layout": "IPY_MODEL_1d32102470004a23befc80ecfb6d6be5",
       "max": 8,
       "style": "IPY_MODEL_2566718a90c343a38f66aa969361fd65",
       "value": 8
      }
     },
     "5d1b001b906e4ac6997b6662ab19a814": {
      "model_module": "@jupyter-widgets/base",
      "model_module_version": "1.2.0",
      "model_name": "LayoutModel",
      "state": {}
     },
     "5d2030c4a7434ed68cccab49441fcfde": {
      "model_module": "@jupyter-widgets/base",
      "model_module_version": "1.2.0",
      "model_name": "LayoutModel",
      "state": {}
     },
     "5d2f4866fae1449d92352ddcd6b7fd6b": {
      "model_module": "@jupyter-widgets/base",
      "model_module_version": "1.2.0",
      "model_name": "LayoutModel",
      "state": {}
     },
     "5d8164dbca9d45e8a67d8e2553138026": {
      "model_module": "@jupyter-widgets/controls",
      "model_module_version": "1.5.0",
      "model_name": "DescriptionStyleModel",
      "state": {
       "description_width": ""
      }
     },
     "5de0dd8cf81545dfbb2b9a9050905725": {
      "model_module": "@jupyter-widgets/controls",
      "model_module_version": "1.5.0",
      "model_name": "DescriptionStyleModel",
      "state": {
       "description_width": ""
      }
     },
     "5df0ee0d3297403aa1973040da7cb883": {
      "model_module": "@jupyter-widgets/controls",
      "model_module_version": "1.5.0",
      "model_name": "DescriptionStyleModel",
      "state": {
       "description_width": ""
      }
     },
     "5e4a7df6ad6e4c2da60021e651168912": {
      "model_module": "@jupyter-widgets/controls",
      "model_module_version": "1.5.0",
      "model_name": "DescriptionStyleModel",
      "state": {
       "description_width": ""
      }
     },
     "5e622f7dddd24ec484b43e6d943fc535": {
      "model_module": "@jupyter-widgets/controls",
      "model_module_version": "1.5.0",
      "model_name": "ProgressStyleModel",
      "state": {
       "description_width": ""
      }
     },
     "5e8f81fa01ee462daacef32f0219b71f": {
      "model_module": "@jupyter-widgets/base",
      "model_module_version": "1.2.0",
      "model_name": "LayoutModel",
      "state": {}
     },
     "5ea02347ccab456c85aabc2530b4c451": {
      "model_module": "@jupyter-widgets/base",
      "model_module_version": "1.2.0",
      "model_name": "LayoutModel",
      "state": {}
     },
     "5f3b1fbadfaa4e96a4d145db1da05694": {
      "model_module": "@jupyter-widgets/controls",
      "model_module_version": "1.5.0",
      "model_name": "HTMLModel",
      "state": {
       "layout": "IPY_MODEL_20f7e456f73741c485b5f23f91058529",
       "style": "IPY_MODEL_87b2e218a1f14b098b5f70902fcf7466",
       "value": " 8/8 [00:03&lt;00:00,  2.05it/s]"
      }
     },
     "5f53a369d71148519ecc56458bbe50d3": {
      "model_module": "@jupyter-widgets/controls",
      "model_module_version": "1.5.0",
      "model_name": "HTMLModel",
      "state": {
       "layout": "IPY_MODEL_be423733fab447feae68d7a334c641c2",
       "style": "IPY_MODEL_f89594f8ec894193a80eb69b68b96014",
       "value": "Iterating through drift speeds: 100%"
      }
     },
     "5f5d288011e74280826cd2d005da511b": {
      "model_module": "@jupyter-widgets/controls",
      "model_module_version": "1.5.0",
      "model_name": "HTMLModel",
      "state": {
       "layout": "IPY_MODEL_a5c2e809ad3740c892cd9168a287895e",
       "style": "IPY_MODEL_d7fb382282d440e2b324430c958e8900",
       "value": " 8/8 [00:00&lt;00:00, 16.72it/s]"
      }
     },
     "5f6a86c23da44cf2b00a592ded85fd39": {
      "model_module": "@jupyter-widgets/controls",
      "model_module_version": "1.5.0",
      "model_name": "ProgressStyleModel",
      "state": {
       "description_width": ""
      }
     },
     "5fa400a2a1614961ae4c32cb2ca61609": {
      "model_module": "@jupyter-widgets/base",
      "model_module_version": "1.2.0",
      "model_name": "LayoutModel",
      "state": {}
     },
     "5ff2d2f9797d4978a363c87b743ba55f": {
      "model_module": "@jupyter-widgets/controls",
      "model_module_version": "1.5.0",
      "model_name": "HTMLModel",
      "state": {
       "layout": "IPY_MODEL_f3714d653aac4108aba3ffa4ecc36279",
       "style": "IPY_MODEL_2c55323ed36743078c198ee1cc7be055",
       "value": "Iterating through drift speeds: 100%"
      }
     },
     "6069c574dc7947b69cd84c555ff0eb9f": {
      "model_module": "@jupyter-widgets/controls",
      "model_module_version": "1.5.0",
      "model_name": "HTMLModel",
      "state": {
       "layout": "IPY_MODEL_5d2030c4a7434ed68cccab49441fcfde",
       "style": "IPY_MODEL_5df0ee0d3297403aa1973040da7cb883",
       "value": " 8/8 [00:00&lt;00:00, 16.92it/s]"
      }
     },
     "60b0d7275b04415e976a18170aeaba9f": {
      "model_module": "@jupyter-widgets/controls",
      "model_module_version": "1.5.0",
      "model_name": "FloatProgressModel",
      "state": {
       "bar_style": "success",
       "layout": "IPY_MODEL_37afc11cfb42464cb767c12d354ba47f",
       "max": 8,
       "style": "IPY_MODEL_860ffca4816942e285956dcd4d86fe27",
       "value": 8
      }
     },
     "60fa805ea9684647a8a8205ea2fd9e74": {
      "model_module": "@jupyter-widgets/controls",
      "model_module_version": "1.5.0",
      "model_name": "ProgressStyleModel",
      "state": {
       "description_width": ""
      }
     },
     "6108e3be38de4b9e8767ef6b242b0cb6": {
      "model_module": "@jupyter-widgets/base",
      "model_module_version": "1.2.0",
      "model_name": "LayoutModel",
      "state": {}
     },
     "6186d88182c146eaa861705e4dfb980a": {
      "model_module": "@jupyter-widgets/base",
      "model_module_version": "1.2.0",
      "model_name": "LayoutModel",
      "state": {}
     },
     "61c5bbd44c154d2d8ff76f3a6ffbd646": {
      "model_module": "@jupyter-widgets/base",
      "model_module_version": "1.2.0",
      "model_name": "LayoutModel",
      "state": {}
     },
     "621570ed1a7e49d7ae754092d1d25582": {
      "model_module": "@jupyter-widgets/controls",
      "model_module_version": "1.5.0",
      "model_name": "HTMLModel",
      "state": {
       "layout": "IPY_MODEL_3937e5e19dfe4a8ba4196e507180edf6",
       "style": "IPY_MODEL_8102867e45414b75810f7d8ff81ad452",
       "value": " 8/8 [00:00&lt;00:00, 17.84it/s]"
      }
     },
     "62a9cf3c15684d7e853201604a3ac103": {
      "model_module": "@jupyter-widgets/base",
      "model_module_version": "1.2.0",
      "model_name": "LayoutModel",
      "state": {}
     },
     "62fd7ce1cab2462f912ee0c268697892": {
      "model_module": "@jupyter-widgets/base",
      "model_module_version": "1.2.0",
      "model_name": "LayoutModel",
      "state": {}
     },
     "630fe9c2355f4b58a2a27483f4e6e2c2": {
      "model_module": "@jupyter-widgets/controls",
      "model_module_version": "1.5.0",
      "model_name": "DescriptionStyleModel",
      "state": {
       "description_width": ""
      }
     },
     "6319b2e3040148c083976ce7bc24feca": {
      "model_module": "@jupyter-widgets/controls",
      "model_module_version": "1.5.0",
      "model_name": "ProgressStyleModel",
      "state": {
       "description_width": ""
      }
     },
     "6335335d02c94fa5ad9e94ff77735d7d": {
      "model_module": "@jupyter-widgets/controls",
      "model_module_version": "1.5.0",
      "model_name": "HTMLModel",
      "state": {
       "layout": "IPY_MODEL_34630e834f904276a3717d746ae28e39",
       "style": "IPY_MODEL_64e72e061fdb40dbba2a81550ac7c957",
       "value": "Iterating through drift speeds: 100%"
      }
     },
     "63cbf235734a4d2286520de56975cbd5": {
      "model_module": "@jupyter-widgets/base",
      "model_module_version": "1.2.0",
      "model_name": "LayoutModel",
      "state": {}
     },
     "6463119e29c04710892808868a0a048d": {
      "model_module": "@jupyter-widgets/controls",
      "model_module_version": "1.5.0",
      "model_name": "DescriptionStyleModel",
      "state": {
       "description_width": ""
      }
     },
     "64c88ef6e29d46c29105c30d165e7b01": {
      "model_module": "@jupyter-widgets/controls",
      "model_module_version": "1.5.0",
      "model_name": "DescriptionStyleModel",
      "state": {
       "description_width": ""
      }
     },
     "64e72e061fdb40dbba2a81550ac7c957": {
      "model_module": "@jupyter-widgets/controls",
      "model_module_version": "1.5.0",
      "model_name": "DescriptionStyleModel",
      "state": {
       "description_width": ""
      }
     },
     "65004b5be4674481a1154b2dec4267c6": {
      "model_module": "@jupyter-widgets/controls",
      "model_module_version": "1.5.0",
      "model_name": "ProgressStyleModel",
      "state": {
       "description_width": ""
      }
     },
     "651cc86b779b4b93abe6b45149b1894b": {
      "model_module": "@jupyter-widgets/controls",
      "model_module_version": "1.5.0",
      "model_name": "ProgressStyleModel",
      "state": {
       "description_width": ""
      }
     },
     "6525bd99e91f483591a6f5b59d36156c": {
      "model_module": "@jupyter-widgets/base",
      "model_module_version": "1.2.0",
      "model_name": "LayoutModel",
      "state": {}
     },
     "652ccc1ce9934c009d3a05ec16dcb030": {
      "model_module": "@jupyter-widgets/base",
      "model_module_version": "1.2.0",
      "model_name": "LayoutModel",
      "state": {}
     },
     "6611f735832f4a1799f31054ecbda954": {
      "model_module": "@jupyter-widgets/controls",
      "model_module_version": "1.5.0",
      "model_name": "FloatProgressModel",
      "state": {
       "bar_style": "success",
       "layout": "IPY_MODEL_c8e1104fc35746709f42b95bb2161606",
       "max": 8,
       "style": "IPY_MODEL_d89b96737157469a8076a67ed196d9be",
       "value": 8
      }
     },
     "669b92698b9d4bbeb594d4e3c6e164b9": {
      "model_module": "@jupyter-widgets/controls",
      "model_module_version": "1.5.0",
      "model_name": "FloatProgressModel",
      "state": {
       "layout": "IPY_MODEL_a79a888a1914437c8953befa14c4a175",
       "max": 8,
       "style": "IPY_MODEL_8f70603d4459409cb61500aa6f34316e",
       "value": 8
      }
     },
     "66c81f52d99149ed968d83aa144bb8a1": {
      "model_module": "@jupyter-widgets/controls",
      "model_module_version": "1.5.0",
      "model_name": "DescriptionStyleModel",
      "state": {
       "description_width": ""
      }
     },
     "67399ce5f155431690bc636b4941cb68": {
      "model_module": "@jupyter-widgets/controls",
      "model_module_version": "1.5.0",
      "model_name": "ProgressStyleModel",
      "state": {
       "description_width": ""
      }
     },
     "6810db1420b14774b0f3194eb34a1893": {
      "model_module": "@jupyter-widgets/controls",
      "model_module_version": "1.5.0",
      "model_name": "ProgressStyleModel",
      "state": {
       "description_width": ""
      }
     },
     "682e1d71b47546549be89bd2a61fda69": {
      "model_module": "@jupyter-widgets/base",
      "model_module_version": "1.2.0",
      "model_name": "LayoutModel",
      "state": {}
     },
     "68711443d3c4421e9cfb97ad4d20e2ca": {
      "model_module": "@jupyter-widgets/controls",
      "model_module_version": "1.5.0",
      "model_name": "HTMLModel",
      "state": {
       "layout": "IPY_MODEL_3a193c6f23e04360aaaa33d3ff8b7c4f",
       "style": "IPY_MODEL_8e3f445f2b9349a4acecf47be3c2e9ec",
       "value": " 8/8 [00:00&lt;00:00, 16.67it/s]"
      }
     },
     "6871a88bd62243da896266786c342f2b": {
      "model_module": "@jupyter-widgets/base",
      "model_module_version": "1.2.0",
      "model_name": "LayoutModel",
      "state": {}
     },
     "6875828adb2a408aa2c56f9b776289c1": {
      "model_module": "@jupyter-widgets/controls",
      "model_module_version": "1.5.0",
      "model_name": "FloatProgressModel",
      "state": {
       "layout": "IPY_MODEL_2d51e065b35e4eb2b4e3984e34fe4557",
       "max": 8,
       "style": "IPY_MODEL_7c7476379cb5444f8ac22d8d60291293",
       "value": 8
      }
     },
     "68e15135bee24c0f9c238817a93783ce": {
      "model_module": "@jupyter-widgets/base",
      "model_module_version": "1.2.0",
      "model_name": "LayoutModel",
      "state": {}
     },
     "68ead5dd5f7448ff8a7a010443ccde44": {
      "model_module": "@jupyter-widgets/controls",
      "model_module_version": "1.5.0",
      "model_name": "DescriptionStyleModel",
      "state": {
       "description_width": ""
      }
     },
     "697871658c1e45daa07e35d0dbc8052d": {
      "model_module": "@jupyter-widgets/base",
      "model_module_version": "1.2.0",
      "model_name": "LayoutModel",
      "state": {}
     },
     "6988a7bfa1834ea892d1712c095e2fb6": {
      "model_module": "@jupyter-widgets/controls",
      "model_module_version": "1.5.0",
      "model_name": "DescriptionStyleModel",
      "state": {
       "description_width": ""
      }
     },
     "698b4fcf57914a58a6e7e41c0c0edbaa": {
      "model_module": "@jupyter-widgets/controls",
      "model_module_version": "1.5.0",
      "model_name": "HTMLModel",
      "state": {
       "layout": "IPY_MODEL_f5dcefeffbd34bb8affb000b2621e6e5",
       "style": "IPY_MODEL_79c3aa0b20d24897975821acbef9fbdd",
       "value": "Iterating through drift speeds: 100%"
      }
     },
     "69e63b12a9de4718ae9d186572d58fb3": {
      "model_module": "@jupyter-widgets/controls",
      "model_module_version": "1.5.0",
      "model_name": "HBoxModel",
      "state": {
       "children": [
        "IPY_MODEL_44445ba8331a4ab8b2b7fa78ab94aecb",
        "IPY_MODEL_ef2a9e9a595948fa9d8d810999bd85e6",
        "IPY_MODEL_9c90eebc8c2844338134dde54cf8b42a"
       ],
       "layout": "IPY_MODEL_697871658c1e45daa07e35d0dbc8052d"
      }
     },
     "6aa0bc03bbc945339eb970fa0093758b": {
      "model_module": "@jupyter-widgets/base",
      "model_module_version": "1.2.0",
      "model_name": "LayoutModel",
      "state": {}
     },
     "6b7b737f8d594f4caae92649e68f9f59": {
      "model_module": "@jupyter-widgets/controls",
      "model_module_version": "1.5.0",
      "model_name": "DescriptionStyleModel",
      "state": {
       "description_width": ""
      }
     },
     "6b7e030f727f478386a14b1aa5bcd255": {
      "model_module": "@jupyter-widgets/controls",
      "model_module_version": "1.5.0",
      "model_name": "DescriptionStyleModel",
      "state": {
       "description_width": ""
      }
     },
     "6bbfe4643f6047e698b1a095899ffdca": {
      "model_module": "@jupyter-widgets/controls",
      "model_module_version": "1.5.0",
      "model_name": "HTMLModel",
      "state": {
       "layout": "IPY_MODEL_ffbd055d189548bda841eafba9365d6c",
       "style": "IPY_MODEL_f69c033ba76f4ac0bfdb7c8861494eac",
       "value": "Iterating through drift speeds: 100%"
      }
     },
     "6c6222a794e34d7cba3074e1ab0758a7": {
      "model_module": "@jupyter-widgets/controls",
      "model_module_version": "1.5.0",
      "model_name": "HTMLModel",
      "state": {
       "layout": "IPY_MODEL_160c77090c564c979272ea02feb59525",
       "style": "IPY_MODEL_588af1e5b80f429185a474665cbf0f9e",
       "value": "Iterating through drift speeds: 100%"
      }
     },
     "6c80cc1e405e499598c40a16d2fc914d": {
      "model_module": "@jupyter-widgets/controls",
      "model_module_version": "1.5.0",
      "model_name": "DescriptionStyleModel",
      "state": {
       "description_width": ""
      }
     },
     "6cb69b1a7bc14cc3baffc5cdee8f3738": {
      "model_module": "@jupyter-widgets/controls",
      "model_module_version": "1.5.0",
      "model_name": "DescriptionStyleModel",
      "state": {
       "description_width": ""
      }
     },
     "6d8c77d46f784c428a3bfe1187820a36": {
      "model_module": "jupyter-matplotlib",
      "model_module_version": "^0.8.2",
      "model_name": "MPLCanvasModel",
      "state": {
       "_cursor": "default",
       "_figure_label": "Figure 1",
       "_height": 600,
       "_width": 1200,
       "layout": "IPY_MODEL_997edbd65c53495f99415834a5f668af",
       "toolbar": "IPY_MODEL_a94b707f35b84100bc60882dc8f0a1ce",
       "toolbar_position": "left"
      }
     },
     "6dbaef4cf0d14e2790d08834e918943a": {
      "model_module": "@jupyter-widgets/base",
      "model_module_version": "1.2.0",
      "model_name": "LayoutModel",
      "state": {}
     },
     "6e11d3c1e3f74c488ed45c50b56dc93b": {
      "model_module": "@jupyter-widgets/controls",
      "model_module_version": "1.5.0",
      "model_name": "FloatProgressModel",
      "state": {
       "layout": "IPY_MODEL_535fbd263bd94225a34f7829699a9a95",
       "max": 8,
       "style": "IPY_MODEL_c39b0ab9d5d749e5a6e6c5d57a4c6f4f",
       "value": 8
      }
     },
     "6e2be4ad0f124b65997f17be8f93e5e4": {
      "model_module": "@jupyter-widgets/controls",
      "model_module_version": "1.5.0",
      "model_name": "HTMLModel",
      "state": {
       "layout": "IPY_MODEL_f4832a0b71ee4cf0ac8d001eaebb941e",
       "style": "IPY_MODEL_86ee6c4f48334324803ac81f8977fe59",
       "value": " 8/8 [00:04&lt;00:00,  2.01it/s]"
      }
     },
     "6ec6b1f5112a48c6bcdcae10d0b165ad": {
      "model_module": "@jupyter-widgets/base",
      "model_module_version": "1.2.0",
      "model_name": "LayoutModel",
      "state": {}
     },
     "6ed9d8dcc0a94ae89cb798d3c89fd9f9": {
      "model_module": "@jupyter-widgets/base",
      "model_module_version": "1.2.0",
      "model_name": "LayoutModel",
      "state": {}
     },
     "6eecef0cad894a25916167c8b74f7ac3": {
      "model_module": "@jupyter-widgets/controls",
      "model_module_version": "1.5.0",
      "model_name": "FloatProgressModel",
      "state": {
       "layout": "IPY_MODEL_0a4ce54ccca54fc2bd1c93d7ab9e56c4",
       "max": 8,
       "style": "IPY_MODEL_bb96ae9f158a400f96416acfa8049ca4",
       "value": 8
      }
     },
     "6f0513ba991c4b44b69f452cfc9518ee": {
      "model_module": "@jupyter-widgets/base",
      "model_module_version": "1.2.0",
      "model_name": "LayoutModel",
      "state": {}
     },
     "6f094ce8e54f4a779459e6fdb609e619": {
      "model_module": "@jupyter-widgets/controls",
      "model_module_version": "1.5.0",
      "model_name": "HTMLModel",
      "state": {
       "layout": "IPY_MODEL_4ce6e758369d4a2a93060348adfa046f",
       "style": "IPY_MODEL_b3411ecc472b4570b2a2a8a6647b53ff",
       "value": " 8/8 [00:03&lt;00:00,  2.49it/s]"
      }
     },
     "6f15b092697d4e76a1ca743fc95f1caf": {
      "model_module": "@jupyter-widgets/controls",
      "model_module_version": "1.5.0",
      "model_name": "HTMLModel",
      "state": {
       "layout": "IPY_MODEL_54a70d25f38343fc8fbf2812934e3454",
       "style": "IPY_MODEL_d431c03fa9864ac88f8cc043803b027a",
       "value": "Iterating through drift speeds: 100%"
      }
     },
     "70fe3ad43037414c9c02ea13028fd88f": {
      "model_module": "@jupyter-widgets/controls",
      "model_module_version": "1.5.0",
      "model_name": "FloatProgressModel",
      "state": {
       "layout": "IPY_MODEL_95cf400948194d9fa60f691cb1d700bc",
       "max": 8,
       "style": "IPY_MODEL_0daa141043254c8ea497220abc72d40d",
       "value": 8
      }
     },
     "714e00df9775450296382eba98b01a5f": {
      "model_module": "@jupyter-widgets/base",
      "model_module_version": "1.2.0",
      "model_name": "LayoutModel",
      "state": {}
     },
     "716d14b96aa14618be4d5e4cb510f1f1": {
      "model_module": "@jupyter-widgets/controls",
      "model_module_version": "1.5.0",
      "model_name": "FloatProgressModel",
      "state": {
       "layout": "IPY_MODEL_535bf702469c4d1181187c38557a7439",
       "max": 8,
       "style": "IPY_MODEL_5e622f7dddd24ec484b43e6d943fc535",
       "value": 8
      }
     },
     "71885fb1628549d8a741a4a759377c4b": {
      "model_module": "@jupyter-widgets/base",
      "model_module_version": "1.2.0",
      "model_name": "LayoutModel",
      "state": {}
     },
     "71964df123134b8fbef93de120047b3a": {
      "model_module": "@jupyter-widgets/controls",
      "model_module_version": "1.5.0",
      "model_name": "ProgressStyleModel",
      "state": {
       "description_width": ""
      }
     },
     "71a182472a104116b46133fabd305ac0": {
      "model_module": "@jupyter-widgets/controls",
      "model_module_version": "1.5.0",
      "model_name": "FloatProgressModel",
      "state": {
       "layout": "IPY_MODEL_c44fdca170dc46bbb3e54efbee4018fc",
       "max": 8,
       "style": "IPY_MODEL_2f86972b42af4e43820e42d3a8fda36b",
       "value": 8
      }
     },
     "722ad232df0a48e8841f87a17858e2f6": {
      "model_module": "@jupyter-widgets/controls",
      "model_module_version": "1.5.0",
      "model_name": "ProgressStyleModel",
      "state": {
       "description_width": ""
      }
     },
     "7244153b833d43dbaae95607b42cb52d": {
      "model_module": "@jupyter-widgets/controls",
      "model_module_version": "1.5.0",
      "model_name": "DescriptionStyleModel",
      "state": {
       "description_width": ""
      }
     },
     "726d23e2cc3b43539740fc5196b0bd3d": {
      "model_module": "@jupyter-widgets/controls",
      "model_module_version": "1.5.0",
      "model_name": "HBoxModel",
      "state": {
       "children": [
        "IPY_MODEL_a929089849704c3f99d935d89eef08e6",
        "IPY_MODEL_7816cc69eb8a4011a12045f53f76237a",
        "IPY_MODEL_ab6841e94a774a3bb6861d558f68345f"
       ],
       "layout": "IPY_MODEL_a551c417107940999adb566a9c0cb471"
      }
     },
     "73124eff8cbe4e6faa019532b09d271a": {
      "model_module": "@jupyter-widgets/controls",
      "model_module_version": "1.5.0",
      "model_name": "HTMLModel",
      "state": {
       "layout": "IPY_MODEL_6108e3be38de4b9e8767ef6b242b0cb6",
       "style": "IPY_MODEL_c3c4e443253a42619560cf4e40d40d13",
       "value": "Iterating through drift speeds: 100%"
      }
     },
     "732373dc7844460286d52cf46fb43776": {
      "model_module": "@jupyter-widgets/base",
      "model_module_version": "1.2.0",
      "model_name": "LayoutModel",
      "state": {}
     },
     "73922157d2c04921bdceae5936d43abe": {
      "model_module": "@jupyter-widgets/base",
      "model_module_version": "1.2.0",
      "model_name": "LayoutModel",
      "state": {}
     },
     "73b7cfa488764476a842ea6d12eccf16": {
      "model_module": "@jupyter-widgets/base",
      "model_module_version": "1.2.0",
      "model_name": "LayoutModel",
      "state": {}
     },
     "7453342ada9044c4874af5c00a4c06ed": {
      "model_module": "@jupyter-widgets/controls",
      "model_module_version": "1.5.0",
      "model_name": "HTMLModel",
      "state": {
       "layout": "IPY_MODEL_e5e0dc64d9074a83aaa96e174b7b58eb",
       "style": "IPY_MODEL_6463119e29c04710892808868a0a048d",
       "value": " 8/8 [00:00&lt;00:00, 17.45it/s]"
      }
     },
     "746c73e370f240ffb1179162c42e3aa5": {
      "model_module": "@jupyter-widgets/controls",
      "model_module_version": "1.5.0",
      "model_name": "FloatProgressModel",
      "state": {
       "bar_style": "success",
       "layout": "IPY_MODEL_d9c3c415733b4deea73bacab91a488f3",
       "max": 8,
       "style": "IPY_MODEL_5f6a86c23da44cf2b00a592ded85fd39",
       "value": 8
      }
     },
     "746de66b9cdf4528988777de29b55f8f": {
      "model_module": "@jupyter-widgets/base",
      "model_module_version": "1.2.0",
      "model_name": "LayoutModel",
      "state": {}
     },
     "74902e66380f49b4a9ea031a36831a12": {
      "model_module": "@jupyter-widgets/base",
      "model_module_version": "1.2.0",
      "model_name": "LayoutModel",
      "state": {}
     },
     "74f30ca8f3fa452184be913a36c4e77f": {
      "model_module": "@jupyter-widgets/base",
      "model_module_version": "1.2.0",
      "model_name": "LayoutModel",
      "state": {}
     },
     "755b453c92674e868ed9f1c3f817f6bd": {
      "model_module": "@jupyter-widgets/controls",
      "model_module_version": "1.5.0",
      "model_name": "DescriptionStyleModel",
      "state": {
       "description_width": ""
      }
     },
     "7634ef61e3bf4a52b91edf57a37e9dcb": {
      "model_module": "@jupyter-widgets/base",
      "model_module_version": "1.2.0",
      "model_name": "LayoutModel",
      "state": {}
     },
     "76373f3f0bc443d9918aac05b8fcc05a": {
      "model_module": "@jupyter-widgets/controls",
      "model_module_version": "1.5.0",
      "model_name": "FloatProgressModel",
      "state": {
       "bar_style": "success",
       "layout": "IPY_MODEL_31e04ca18b2e4e46a7ff89fff2155c16",
       "max": 8,
       "style": "IPY_MODEL_2de3b23ca22743bda6a8f8c74855ab7b",
       "value": 8
      }
     },
     "76425d08dc3f4aa6b542683115bb19ff": {
      "model_module": "@jupyter-widgets/controls",
      "model_module_version": "1.5.0",
      "model_name": "HTMLModel",
      "state": {
       "layout": "IPY_MODEL_e21a2c5ca4b94f95b4610fceb8ec93a8",
       "style": "IPY_MODEL_45bfceb5f5ef41d49e6d1801fbc8a7b7",
       "value": " 8/8 [00:00&lt;00:00, 17.00it/s]"
      }
     },
     "76c8c58b8edc499d94eb92f1d2efa7fb": {
      "model_module": "@jupyter-widgets/controls",
      "model_module_version": "1.5.0",
      "model_name": "ProgressStyleModel",
      "state": {
       "description_width": ""
      }
     },
     "7714b514ee534107b75e7cd81ab2c55d": {
      "model_module": "@jupyter-widgets/base",
      "model_module_version": "1.2.0",
      "model_name": "LayoutModel",
      "state": {}
     },
     "77bda86c0d10494e92106b98acc6ec44": {
      "model_module": "@jupyter-widgets/controls",
      "model_module_version": "1.5.0",
      "model_name": "DescriptionStyleModel",
      "state": {
       "description_width": ""
      }
     },
     "77bfa69f3daf4129991e447b67faea5b": {
      "model_module": "@jupyter-widgets/base",
      "model_module_version": "1.2.0",
      "model_name": "LayoutModel",
      "state": {}
     },
     "77c346d92cca42c8800f3dcf9504b65c": {
      "model_module": "@jupyter-widgets/controls",
      "model_module_version": "1.5.0",
      "model_name": "HBoxModel",
      "state": {
       "children": [
        "IPY_MODEL_461834a24eec4989ad7a611eb6cf85e8",
        "IPY_MODEL_b50f80afb39b4035b12741daf663788e",
        "IPY_MODEL_f333ff9cdfed43b0aff44ce63511584c"
       ],
       "layout": "IPY_MODEL_ccf9bb901e4d481bbea4eefe67cd90ac"
      }
     },
     "7816cc69eb8a4011a12045f53f76237a": {
      "model_module": "@jupyter-widgets/controls",
      "model_module_version": "1.5.0",
      "model_name": "FloatProgressModel",
      "state": {
       "bar_style": "success",
       "layout": "IPY_MODEL_ba32e88056cd4b90b4a45b4f31d698c2",
       "max": 8,
       "style": "IPY_MODEL_e5596a47b43044a9accdeaec4105b2bc",
       "value": 8
      }
     },
     "79c3aa0b20d24897975821acbef9fbdd": {
      "model_module": "@jupyter-widgets/controls",
      "model_module_version": "1.5.0",
      "model_name": "DescriptionStyleModel",
      "state": {
       "description_width": ""
      }
     },
     "7a21b0c4dd9b4e75ab51c32c24bbe52d": {
      "model_module": "@jupyter-widgets/controls",
      "model_module_version": "1.5.0",
      "model_name": "HTMLModel",
      "state": {
       "layout": "IPY_MODEL_0249ddb9d4124607a45d44b5ec2ef11c",
       "style": "IPY_MODEL_cc6cbf7a2c754d6d8abcc6ad9e2f0df2",
       "value": " 7/8 [00:00&lt;00:00, 16.26it/s]"
      }
     },
     "7ab1f10b29254de6bcc077ceb2970123": {
      "model_module": "@jupyter-widgets/base",
      "model_module_version": "1.2.0",
      "model_name": "LayoutModel",
      "state": {}
     },
     "7bfaa5218fe84e43a824253581e36667": {
      "model_module": "@jupyter-widgets/controls",
      "model_module_version": "1.5.0",
      "model_name": "HTMLModel",
      "state": {
       "layout": "IPY_MODEL_c1b0904e44f84ee1a26e37e5ae70dc56",
       "style": "IPY_MODEL_85c20e2395574001b268bbc84f415556",
       "value": " 8/8 [00:00&lt;00:00, 16.86it/s]"
      }
     },
     "7c1ad4926ff74c65ad7be557c6e3fd65": {
      "model_module": "@jupyter-widgets/controls",
      "model_module_version": "1.5.0",
      "model_name": "HTMLModel",
      "state": {
       "layout": "IPY_MODEL_598db3448c3c4be7809888cc107fe747",
       "style": "IPY_MODEL_08454aea53e44f11ad30ea517ab9ebd0",
       "value": " 8/8 [00:00&lt;00:00, 15.89it/s]"
      }
     },
     "7c7476379cb5444f8ac22d8d60291293": {
      "model_module": "@jupyter-widgets/controls",
      "model_module_version": "1.5.0",
      "model_name": "ProgressStyleModel",
      "state": {
       "description_width": ""
      }
     },
     "7c91711c3d204c8fa65c8a8ee12a48e5": {
      "model_module": "@jupyter-widgets/controls",
      "model_module_version": "1.5.0",
      "model_name": "FloatProgressModel",
      "state": {
       "layout": "IPY_MODEL_162ef1f2072946b793520f78ac0e80dc",
       "max": 8,
       "style": "IPY_MODEL_db023359b6244bcdaac009e0b3b19d78",
       "value": 8
      }
     },
     "7cfbf761d3b64e2daf310813e318f36d": {
      "model_module": "@jupyter-widgets/base",
      "model_module_version": "1.2.0",
      "model_name": "LayoutModel",
      "state": {}
     },
     "7d3ca9163e7a45f8969d2a064c610cd1": {
      "model_module": "@jupyter-widgets/controls",
      "model_module_version": "1.5.0",
      "model_name": "HTMLModel",
      "state": {
       "layout": "IPY_MODEL_025dc33dbc834eab8fde95f74eeab9b1",
       "style": "IPY_MODEL_1a4c5a71290541bca809f337c65e2670",
       "value": "Iterating through drift speeds: 100%"
      }
     },
     "7dfa5cb1e65146978d9e7b95d480e076": {
      "model_module": "@jupyter-widgets/base",
      "model_module_version": "1.2.0",
      "model_name": "LayoutModel",
      "state": {}
     },
     "7e32a78c67894451a1f1269cbf0fd522": {
      "model_module": "@jupyter-widgets/base",
      "model_module_version": "1.2.0",
      "model_name": "LayoutModel",
      "state": {}
     },
     "7e3601ddc8114dcd9ff0ce2a42f5b30a": {
      "model_module": "@jupyter-widgets/controls",
      "model_module_version": "1.5.0",
      "model_name": "DescriptionStyleModel",
      "state": {
       "description_width": ""
      }
     },
     "7e4e67595dd441f48f843da950382a72": {
      "model_module": "@jupyter-widgets/base",
      "model_module_version": "1.2.0",
      "model_name": "LayoutModel",
      "state": {}
     },
     "7e984053b5e64306b65a1350df5ac07c": {
      "model_module": "@jupyter-widgets/controls",
      "model_module_version": "1.5.0",
      "model_name": "DescriptionStyleModel",
      "state": {
       "description_width": ""
      }
     },
     "7ef8f64c3b364d619e3bd40b9eb5e7e5": {
      "model_module": "@jupyter-widgets/base",
      "model_module_version": "1.2.0",
      "model_name": "LayoutModel",
      "state": {}
     },
     "7f18bd4035b54edb9e14172a7aeae6dc": {
      "model_module": "@jupyter-widgets/base",
      "model_module_version": "1.2.0",
      "model_name": "LayoutModel",
      "state": {}
     },
     "7f2c63ee21de464689a06ac9eea6dd6e": {
      "model_module": "@jupyter-widgets/base",
      "model_module_version": "1.2.0",
      "model_name": "LayoutModel",
      "state": {}
     },
     "7fa8b4fdc3cf4f2baec3127c6278fdb6": {
      "model_module": "@jupyter-widgets/controls",
      "model_module_version": "1.5.0",
      "model_name": "HTMLModel",
      "state": {
       "layout": "IPY_MODEL_e83f33918874454083e38e05cccda479",
       "style": "IPY_MODEL_ca10810f64ea42318647ce4bfd38fc3a",
       "value": "Iterating through drift speeds: 100%"
      }
     },
     "7fbc6182aab44b8ca384bb5b3189d7f2": {
      "model_module": "@jupyter-widgets/controls",
      "model_module_version": "1.5.0",
      "model_name": "FloatProgressModel",
      "state": {
       "layout": "IPY_MODEL_f0aeecb50dcf4056af2bc5bbbe03d4b5",
       "max": 8,
       "style": "IPY_MODEL_1759ef3e719c40e39c4b3cd097d14945",
       "value": 8
      }
     },
     "7fe3d4fa10694ba79240ddd2ee3976da": {
      "model_module": "@jupyter-widgets/base",
      "model_module_version": "1.2.0",
      "model_name": "LayoutModel",
      "state": {}
     },
     "802157842d92432390878d371b8ca5c3": {
      "model_module": "@jupyter-widgets/base",
      "model_module_version": "1.2.0",
      "model_name": "LayoutModel",
      "state": {}
     },
     "8102867e45414b75810f7d8ff81ad452": {
      "model_module": "@jupyter-widgets/controls",
      "model_module_version": "1.5.0",
      "model_name": "DescriptionStyleModel",
      "state": {
       "description_width": ""
      }
     },
     "81653aa5174e45a98739ee064328608c": {
      "model_module": "@jupyter-widgets/controls",
      "model_module_version": "1.5.0",
      "model_name": "HTMLModel",
      "state": {
       "layout": "IPY_MODEL_0d9321b5780349a4a91c79bdf81591ff",
       "style": "IPY_MODEL_8a974c25bf0c41ed91264476ce49d88a",
       "value": "Iterating through drift speeds: 100%"
      }
     },
     "8174dd81e7d24c8d861e128011cb61be": {
      "model_module": "@jupyter-widgets/controls",
      "model_module_version": "1.5.0",
      "model_name": "FloatProgressModel",
      "state": {
       "layout": "IPY_MODEL_a0ad7620c0d14e21ad9e09cf5913aead",
       "max": 8,
       "style": "IPY_MODEL_822e2668c77b41b59ff75a43b883fca3",
       "value": 8
      }
     },
     "82058bdfb1014a8c8f5264754680cb94": {
      "model_module": "@jupyter-widgets/base",
      "model_module_version": "1.2.0",
      "model_name": "LayoutModel",
      "state": {}
     },
     "8228696f3eec451884f00014f06b23a1": {
      "model_module": "@jupyter-widgets/controls",
      "model_module_version": "1.5.0",
      "model_name": "DescriptionStyleModel",
      "state": {
       "description_width": ""
      }
     },
     "822e2668c77b41b59ff75a43b883fca3": {
      "model_module": "@jupyter-widgets/controls",
      "model_module_version": "1.5.0",
      "model_name": "ProgressStyleModel",
      "state": {
       "description_width": ""
      }
     },
     "82b37648cb3d48dc8d695687d2b054c2": {
      "model_module": "@jupyter-widgets/controls",
      "model_module_version": "1.5.0",
      "model_name": "DescriptionStyleModel",
      "state": {
       "description_width": ""
      }
     },
     "833d41a4754d41d7b6270155287b0a05": {
      "model_module": "@jupyter-widgets/controls",
      "model_module_version": "1.5.0",
      "model_name": "FloatProgressModel",
      "state": {
       "layout": "IPY_MODEL_2ede05e81b5a4c44942c55bb424e438e",
       "max": 8,
       "style": "IPY_MODEL_a480887b2db348a986ef163ff2d2b2be",
       "value": 8
      }
     },
     "83d0d03cf595419a83734c489decfe3a": {
      "model_module": "@jupyter-widgets/controls",
      "model_module_version": "1.5.0",
      "model_name": "HTMLModel",
      "state": {
       "layout": "IPY_MODEL_e11e2c78eac2494d8950ff2b1e6ba3e1",
       "style": "IPY_MODEL_cb9e41680e0949cda878b98b62e89213",
       "value": " 8/8 [00:00&lt;00:00, 17.80it/s]"
      }
     },
     "83faeb16831e4440865e49cea0b01285": {
      "model_module": "@jupyter-widgets/base",
      "model_module_version": "1.2.0",
      "model_name": "LayoutModel",
      "state": {}
     },
     "84484696440547528533fa8602762f1b": {
      "model_module": "@jupyter-widgets/base",
      "model_module_version": "1.2.0",
      "model_name": "LayoutModel",
      "state": {}
     },
     "844cedc751b541b3bd329c3cf0e70296": {
      "model_module": "@jupyter-widgets/controls",
      "model_module_version": "1.5.0",
      "model_name": "HTMLModel",
      "state": {
       "layout": "IPY_MODEL_b52a129d551c4451bad27872eff6eb09",
       "style": "IPY_MODEL_ee58c1f384b540278f8681fc90919ddf",
       "value": " 8/8 [00:00&lt;00:00, 17.63it/s]"
      }
     },
     "84a2b4f9373d48679dbe78d6ed7797ad": {
      "model_module": "@jupyter-widgets/controls",
      "model_module_version": "1.5.0",
      "model_name": "HTMLModel",
      "state": {
       "layout": "IPY_MODEL_56a83e030d7c489682d5cb082175de57",
       "style": "IPY_MODEL_84b2e92872004f9aa192ed7bc605edc8",
       "value": " 8/8 [00:00&lt;00:00, 17.30it/s]"
      }
     },
     "84b2e92872004f9aa192ed7bc605edc8": {
      "model_module": "@jupyter-widgets/controls",
      "model_module_version": "1.5.0",
      "model_name": "DescriptionStyleModel",
      "state": {
       "description_width": ""
      }
     },
     "84d7dd93e38f49b5ae19736808c7e372": {
      "model_module": "@jupyter-widgets/controls",
      "model_module_version": "1.5.0",
      "model_name": "HTMLModel",
      "state": {
       "layout": "IPY_MODEL_7f18bd4035b54edb9e14172a7aeae6dc",
       "style": "IPY_MODEL_3ec8151a105c4bb0912c7007efff33f7",
       "value": "Iterating through drift speeds: 100%"
      }
     },
     "859b8fd90f1e470a856e18a3dc2fbd53": {
      "model_module": "@jupyter-widgets/base",
      "model_module_version": "1.2.0",
      "model_name": "LayoutModel",
      "state": {}
     },
     "85c20e2395574001b268bbc84f415556": {
      "model_module": "@jupyter-widgets/controls",
      "model_module_version": "1.5.0",
      "model_name": "DescriptionStyleModel",
      "state": {
       "description_width": ""
      }
     },
     "860ffca4816942e285956dcd4d86fe27": {
      "model_module": "@jupyter-widgets/controls",
      "model_module_version": "1.5.0",
      "model_name": "ProgressStyleModel",
      "state": {
       "description_width": ""
      }
     },
     "861835dc937b4c39823ff4e62f5286a2": {
      "model_module": "@jupyter-widgets/controls",
      "model_module_version": "1.5.0",
      "model_name": "FloatProgressModel",
      "state": {
       "layout": "IPY_MODEL_34c5b369c5a34740949a97a5be132302",
       "max": 8,
       "style": "IPY_MODEL_c6eb3ed38d22441c863e077647f2002f",
       "value": 8
      }
     },
     "86ee6c4f48334324803ac81f8977fe59": {
      "model_module": "@jupyter-widgets/controls",
      "model_module_version": "1.5.0",
      "model_name": "DescriptionStyleModel",
      "state": {
       "description_width": ""
      }
     },
     "87439932deaa4c328c99cffb9fa9e327": {
      "model_module": "@jupyter-widgets/base",
      "model_module_version": "1.2.0",
      "model_name": "LayoutModel",
      "state": {}
     },
     "87b2e218a1f14b098b5f70902fcf7466": {
      "model_module": "@jupyter-widgets/controls",
      "model_module_version": "1.5.0",
      "model_name": "DescriptionStyleModel",
      "state": {
       "description_width": ""
      }
     },
     "87f379a8e49d4a0399fb8f03b9937819": {
      "model_module": "@jupyter-widgets/controls",
      "model_module_version": "1.5.0",
      "model_name": "HTMLModel",
      "state": {
       "layout": "IPY_MODEL_329f7a60dcfe410094f4693c45398219",
       "style": "IPY_MODEL_a17a913bc7f044b790a2c4265cea8eae",
       "value": "Iterating through drift speeds: 100%"
      }
     },
     "8808a23b3f9a441bbff675c45cf9c3d2": {
      "model_module": "@jupyter-widgets/controls",
      "model_module_version": "1.5.0",
      "model_name": "DescriptionStyleModel",
      "state": {
       "description_width": ""
      }
     },
     "8822ccba45e44d7796d8489604601037": {
      "model_module": "jupyter-matplotlib",
      "model_module_version": "^0.8.2",
      "model_name": "MPLCanvasModel",
      "state": {
       "_cursor": "default",
       "_figure_label": "Figure 3",
       "_height": 400,
       "_image_mode": "diff",
       "_width": 1200,
       "layout": "IPY_MODEL_0a282614a060459f9e8b9d0e1ef551f9",
       "toolbar": "IPY_MODEL_9e21c6f80e4e46acb2a7332dd6eb2c1d",
       "toolbar_position": "left"
      }
     },
     "8842a06eec19466fa2d55550710a684c": {
      "model_module": "@jupyter-widgets/base",
      "model_module_version": "1.2.0",
      "model_name": "LayoutModel",
      "state": {}
     },
     "887d515014ea406f90745b9bd659b0f7": {
      "model_module": "@jupyter-widgets/controls",
      "model_module_version": "1.5.0",
      "model_name": "DescriptionStyleModel",
      "state": {
       "description_width": ""
      }
     },
     "88c45cd955eb417a925fc47430d9f1ed": {
      "model_module": "@jupyter-widgets/controls",
      "model_module_version": "1.5.0",
      "model_name": "DescriptionStyleModel",
      "state": {
       "description_width": ""
      }
     },
     "8989d2e07cfd440092c61857d050b159": {
      "model_module": "@jupyter-widgets/base",
      "model_module_version": "1.2.0",
      "model_name": "LayoutModel",
      "state": {}
     },
     "89b356506a2f4ae4aa0103147d0599ee": {
      "model_module": "@jupyter-widgets/controls",
      "model_module_version": "1.5.0",
      "model_name": "HTMLModel",
      "state": {
       "layout": "IPY_MODEL_5fa400a2a1614961ae4c32cb2ca61609",
       "style": "IPY_MODEL_45370863400c4cd18c31becfdeaf3ac2",
       "value": "Iterating through drift speeds: 100%"
      }
     },
     "89bc7d5f3ba34ccea26336181983b6e4": {
      "model_module": "@jupyter-widgets/base",
      "model_module_version": "1.2.0",
      "model_name": "LayoutModel",
      "state": {}
     },
     "8a29bf3950bc431686d18a038cd782cd": {
      "model_module": "@jupyter-widgets/controls",
      "model_module_version": "1.5.0",
      "model_name": "HTMLModel",
      "state": {
       "layout": "IPY_MODEL_c8a9ec065a12460f93cb24e6d07cf216",
       "style": "IPY_MODEL_07ec32ec71ff4a0db36763e4b822d4db",
       "value": "Iterating through drift speeds: 100%"
      }
     },
     "8a3d1c0141a84f6ea22bd0992af26e6c": {
      "model_module": "@jupyter-widgets/base",
      "model_module_version": "1.2.0",
      "model_name": "LayoutModel",
      "state": {}
     },
     "8a646a62353e4b72aca57a9f74792ff6": {
      "model_module": "@jupyter-widgets/controls",
      "model_module_version": "1.5.0",
      "model_name": "DescriptionStyleModel",
      "state": {
       "description_width": ""
      }
     },
     "8a8de1c215de41a3983c7692510f83df": {
      "model_module": "@jupyter-widgets/controls",
      "model_module_version": "1.5.0",
      "model_name": "ProgressStyleModel",
      "state": {
       "description_width": ""
      }
     },
     "8a974c25bf0c41ed91264476ce49d88a": {
      "model_module": "@jupyter-widgets/controls",
      "model_module_version": "1.5.0",
      "model_name": "DescriptionStyleModel",
      "state": {
       "description_width": ""
      }
     },
     "8aef5f71417e4c5ebe22d7298fde70fa": {
      "model_module": "@jupyter-widgets/controls",
      "model_module_version": "1.5.0",
      "model_name": "ProgressStyleModel",
      "state": {
       "description_width": ""
      }
     },
     "8bb19f87a81d41ce9c515f515af16ab6": {
      "model_module": "@jupyter-widgets/controls",
      "model_module_version": "1.5.0",
      "model_name": "HTMLModel",
      "state": {
       "layout": "IPY_MODEL_5d2f4866fae1449d92352ddcd6b7fd6b",
       "style": "IPY_MODEL_4831975cb2e84ba2a7814bc7e21cd84a",
       "value": " 8/8 [00:00&lt;00:00, 17.22it/s]"
      }
     },
     "8bb1fc956b20473a82c731618d02c5a9": {
      "model_module": "@jupyter-widgets/controls",
      "model_module_version": "1.5.0",
      "model_name": "DescriptionStyleModel",
      "state": {
       "description_width": ""
      }
     },
     "8ca802496d8243048dbed7378defcdae": {
      "model_module": "@jupyter-widgets/controls",
      "model_module_version": "1.5.0",
      "model_name": "HTMLModel",
      "state": {
       "layout": "IPY_MODEL_3d25564171de43f7b3af3feb52bd7174",
       "style": "IPY_MODEL_8808a23b3f9a441bbff675c45cf9c3d2",
       "value": "Iterating through drift speeds: 100%"
      }
     },
     "8cd9de0d15d946e0a2b92f6a9748bac1": {
      "model_module": "@jupyter-widgets/controls",
      "model_module_version": "1.5.0",
      "model_name": "HTMLModel",
      "state": {
       "layout": "IPY_MODEL_a82f6fe26c40444a970f15f3bee199b6",
       "style": "IPY_MODEL_5de0dd8cf81545dfbb2b9a9050905725",
       "value": " 8/8 [00:00&lt;00:00, 15.69it/s]"
      }
     },
     "8d0054be4f104e8dbd77b3a3f1653417": {
      "model_module": "@jupyter-widgets/controls",
      "model_module_version": "1.5.0",
      "model_name": "DescriptionStyleModel",
      "state": {
       "description_width": ""
      }
     },
     "8d09c32cae284629918cbdf4e76a28cd": {
      "model_module": "@jupyter-widgets/base",
      "model_module_version": "1.2.0",
      "model_name": "LayoutModel",
      "state": {}
     },
     "8dc8ded7f72042c58c0d8a7b57866113": {
      "model_module": "@jupyter-widgets/controls",
      "model_module_version": "1.5.0",
      "model_name": "FloatProgressModel",
      "state": {
       "layout": "IPY_MODEL_ba0f78a4761d4d3fa40810b47da2e8d6",
       "max": 8,
       "style": "IPY_MODEL_8a8de1c215de41a3983c7692510f83df",
       "value": 8
      }
     },
     "8de518914cb24ac5a9ee5962311583f9": {
      "model_module": "@jupyter-widgets/controls",
      "model_module_version": "1.5.0",
      "model_name": "DescriptionStyleModel",
      "state": {
       "description_width": ""
      }
     },
     "8dfaaf71c8214407a9f74b44e2d3002c": {
      "model_module": "@jupyter-widgets/base",
      "model_module_version": "1.2.0",
      "model_name": "LayoutModel",
      "state": {}
     },
     "8e036080e73a45b2896fab18fa6cdb04": {
      "model_module": "@jupyter-widgets/base",
      "model_module_version": "1.2.0",
      "model_name": "LayoutModel",
      "state": {}
     },
     "8e3f445f2b9349a4acecf47be3c2e9ec": {
      "model_module": "@jupyter-widgets/controls",
      "model_module_version": "1.5.0",
      "model_name": "DescriptionStyleModel",
      "state": {
       "description_width": ""
      }
     },
     "8e5dd033254546c390cbef0a4e3237a4": {
      "model_module": "@jupyter-widgets/base",
      "model_module_version": "1.2.0",
      "model_name": "LayoutModel",
      "state": {}
     },
     "8e804dabc6c34148a9465b5ff669ab7d": {
      "model_module": "@jupyter-widgets/controls",
      "model_module_version": "1.5.0",
      "model_name": "ProgressStyleModel",
      "state": {
       "description_width": ""
      }
     },
     "8f1ed89209d943cdb17bef51a6ae364b": {
      "model_module": "@jupyter-widgets/controls",
      "model_module_version": "1.5.0",
      "model_name": "FloatProgressModel",
      "state": {
       "layout": "IPY_MODEL_61c5bbd44c154d2d8ff76f3a6ffbd646",
       "max": 8,
       "style": "IPY_MODEL_a68d8262baa44302bf0ebbe801e7f379",
       "value": 8
      }
     },
     "8f256b509ded44dbbe829ed6ea02784b": {
      "model_module": "@jupyter-widgets/controls",
      "model_module_version": "1.5.0",
      "model_name": "HTMLModel",
      "state": {
       "layout": "IPY_MODEL_e58ce2dc71e0432aaf1b780446c49a93",
       "style": "IPY_MODEL_9d065865ff4a4e028c09d7e52bf7fa7c",
       "value": "Iterating through drift speeds: 100%"
      }
     },
     "8f61d79b58c94134bbbf46bf1457534d": {
      "model_module": "@jupyter-widgets/base",
      "model_module_version": "1.2.0",
      "model_name": "LayoutModel",
      "state": {}
     },
     "8f70603d4459409cb61500aa6f34316e": {
      "model_module": "@jupyter-widgets/controls",
      "model_module_version": "1.5.0",
      "model_name": "ProgressStyleModel",
      "state": {
       "description_width": ""
      }
     },
     "8fb25123b99247afa324d4589ac93afb": {
      "model_module": "@jupyter-widgets/base",
      "model_module_version": "1.2.0",
      "model_name": "LayoutModel",
      "state": {}
     },
     "8ff7c859f9324cdf8239b68ccb5e8f8e": {
      "model_module": "@jupyter-widgets/controls",
      "model_module_version": "1.5.0",
      "model_name": "DescriptionStyleModel",
      "state": {
       "description_width": ""
      }
     },
     "902996f08d9f403e89667963831d1410": {
      "model_module": "@jupyter-widgets/controls",
      "model_module_version": "1.5.0",
      "model_name": "FloatProgressModel",
      "state": {
       "layout": "IPY_MODEL_3f25251dec9a4ddfb49a34a828afdd41",
       "max": 8,
       "style": "IPY_MODEL_6319b2e3040148c083976ce7bc24feca",
       "value": 8
      }
     },
     "903b3657c0b943c4aa234f6efd7aea23": {
      "model_module": "@jupyter-widgets/controls",
      "model_module_version": "1.5.0",
      "model_name": "ProgressStyleModel",
      "state": {
       "description_width": ""
      }
     },
     "90e87922c0734678944b264d735de0b8": {
      "model_module": "@jupyter-widgets/base",
      "model_module_version": "1.2.0",
      "model_name": "LayoutModel",
      "state": {}
     },
     "90f3929a1e5747408b601c4c71f9fe5f": {
      "model_module": "@jupyter-widgets/controls",
      "model_module_version": "1.5.0",
      "model_name": "HTMLModel",
      "state": {
       "layout": "IPY_MODEL_ec4ddfecdd254d51b700d1fb07bffd93",
       "style": "IPY_MODEL_352f1c920faa4ae590b9162d030df14c",
       "value": "Iterating through drift speeds: 100%"
      }
     },
     "9104d026108443fbb0818e8be7df92e3": {
      "model_module": "@jupyter-widgets/base",
      "model_module_version": "1.2.0",
      "model_name": "LayoutModel",
      "state": {}
     },
     "9154bc3a70cb43f39d9d18336d2f1df5": {
      "model_module": "@jupyter-widgets/controls",
      "model_module_version": "1.5.0",
      "model_name": "ProgressStyleModel",
      "state": {
       "description_width": ""
      }
     },
     "91553e086dd3492d9f2c4f88204af35e": {
      "model_module": "@jupyter-widgets/base",
      "model_module_version": "1.2.0",
      "model_name": "LayoutModel",
      "state": {}
     },
     "9169d4208d024ec1887e710e39bad4d4": {
      "model_module": "@jupyter-widgets/base",
      "model_module_version": "1.2.0",
      "model_name": "LayoutModel",
      "state": {}
     },
     "917517029443433d82e04db22b3f5c1b": {
      "model_module": "@jupyter-widgets/controls",
      "model_module_version": "1.5.0",
      "model_name": "DescriptionStyleModel",
      "state": {
       "description_width": ""
      }
     },
     "91e4570254cd4625a6689c0accbd2ffa": {
      "model_module": "@jupyter-widgets/controls",
      "model_module_version": "1.5.0",
      "model_name": "HTMLModel",
      "state": {
       "layout": "IPY_MODEL_17d072f62934428c8c10cb710df17c0e",
       "style": "IPY_MODEL_82b37648cb3d48dc8d695687d2b054c2",
       "value": " 8/8 [00:00&lt;00:00, 17.39it/s]"
      }
     },
     "91eb9709ca73489eb33ba44eb5499e7c": {
      "model_module": "@jupyter-widgets/controls",
      "model_module_version": "1.5.0",
      "model_name": "DescriptionStyleModel",
      "state": {
       "description_width": ""
      }
     },
     "9263073ad83542a59900de572b581390": {
      "model_module": "@jupyter-widgets/controls",
      "model_module_version": "1.5.0",
      "model_name": "DescriptionStyleModel",
      "state": {
       "description_width": ""
      }
     },
     "927d774c50ce46b19fa69e2bd92c8bb2": {
      "model_module": "@jupyter-widgets/base",
      "model_module_version": "1.2.0",
      "model_name": "LayoutModel",
      "state": {}
     },
     "92e70534ad8d4de8863efc4fa717579c": {
      "model_module": "@jupyter-widgets/controls",
      "model_module_version": "1.5.0",
      "model_name": "DescriptionStyleModel",
      "state": {
       "description_width": ""
      }
     },
     "938b483133f44e8ebf392595bbb3d293": {
      "model_module": "@jupyter-widgets/controls",
      "model_module_version": "1.5.0",
      "model_name": "HTMLModel",
      "state": {
       "layout": "IPY_MODEL_746de66b9cdf4528988777de29b55f8f",
       "style": "IPY_MODEL_01efb3331ca04df7bfdb5194ebac2ef8",
       "value": "Iterating through drift speeds: 100%"
      }
     },
     "93c048dc41144a28bcbf39f4220ee456": {
      "model_module": "@jupyter-widgets/controls",
      "model_module_version": "1.5.0",
      "model_name": "HTMLModel",
      "state": {
       "layout": "IPY_MODEL_430ad945e104428bb572510046923339",
       "style": "IPY_MODEL_a89dc10064c8445185e2696abe4f2d00",
       "value": "Iterating through drift speeds: 100%"
      }
     },
     "93c94c695e61442f98ed314e29fd495e": {
      "model_module": "@jupyter-widgets/controls",
      "model_module_version": "1.5.0",
      "model_name": "ProgressStyleModel",
      "state": {
       "description_width": ""
      }
     },
     "93ce48afdba34cffada73cebeb360130": {
      "model_module": "@jupyter-widgets/controls",
      "model_module_version": "1.5.0",
      "model_name": "DescriptionStyleModel",
      "state": {
       "description_width": ""
      }
     },
     "94ae0eea4155480099f617eb1169a2f0": {
      "model_module": "@jupyter-widgets/controls",
      "model_module_version": "1.5.0",
      "model_name": "FloatProgressModel",
      "state": {
       "layout": "IPY_MODEL_1423fd853a534859ac252d2e1008f65e",
       "max": 8,
       "style": "IPY_MODEL_52b4f87f6cd7429ebe92c2ccb4787f9a",
       "value": 8
      }
     },
     "94e66244ea9546af8807d16802c2b56c": {
      "model_module": "@jupyter-widgets/controls",
      "model_module_version": "1.5.0",
      "model_name": "ProgressStyleModel",
      "state": {
       "description_width": ""
      }
     },
     "9532453b7b5c4ef4bc85a9ca3cfe2769": {
      "model_module": "@jupyter-widgets/base",
      "model_module_version": "1.2.0",
      "model_name": "LayoutModel",
      "state": {}
     },
     "95cc37f6395646d4b1a24822ebefc7c7": {
      "model_module": "@jupyter-widgets/controls",
      "model_module_version": "1.5.0",
      "model_name": "HTMLModel",
      "state": {
       "layout": "IPY_MODEL_55eab155d2a34dd58416d3c743b3c5e9",
       "style": "IPY_MODEL_153308addcda428c85669219aebc0f2f",
       "value": "Iterating through drift speeds: 100%"
      }
     },
     "95cf400948194d9fa60f691cb1d700bc": {
      "model_module": "@jupyter-widgets/base",
      "model_module_version": "1.2.0",
      "model_name": "LayoutModel",
      "state": {}
     },
     "962726fcd9174fd1b1c765d433833599": {
      "model_module": "@jupyter-widgets/controls",
      "model_module_version": "1.5.0",
      "model_name": "ProgressStyleModel",
      "state": {
       "description_width": ""
      }
     },
     "964273e5202a49d6bcd58e685de321a2": {
      "model_module": "@jupyter-widgets/controls",
      "model_module_version": "1.5.0",
      "model_name": "HTMLModel",
      "state": {
       "layout": "IPY_MODEL_91553e086dd3492d9f2c4f88204af35e",
       "style": "IPY_MODEL_ef1dfc2628554f96a4ceab8e537b73f9",
       "value": " 8/8 [00:00&lt;00:00, 16.90it/s]"
      }
     },
     "966781eb55e242daaff2db663638cc17": {
      "model_module": "@jupyter-widgets/controls",
      "model_module_version": "1.5.0",
      "model_name": "HTMLModel",
      "state": {
       "layout": "IPY_MODEL_051157139ad7416e9a1544966da34e41",
       "style": "IPY_MODEL_4adba35f736840d49f9132405f264c22",
       "value": " 8/8 [00:00&lt;00:00, 17.06it/s]"
      }
     },
     "96b68148ee06478bbeec5d750e6b7f70": {
      "model_module": "@jupyter-widgets/base",
      "model_module_version": "1.2.0",
      "model_name": "LayoutModel",
      "state": {}
     },
     "96e4c55077c04ec6a87c6d7cf6fe4d97": {
      "model_module": "@jupyter-widgets/base",
      "model_module_version": "1.2.0",
      "model_name": "LayoutModel",
      "state": {}
     },
     "973d2f90f5cc4673b49038c533e87b49": {
      "model_module": "@jupyter-widgets/controls",
      "model_module_version": "1.5.0",
      "model_name": "DescriptionStyleModel",
      "state": {
       "description_width": ""
      }
     },
     "9758b2ef4a11439199f78f057d471d0a": {
      "model_module": "@jupyter-widgets/base",
      "model_module_version": "1.2.0",
      "model_name": "LayoutModel",
      "state": {}
     },
     "979778bb9165428d849e0d004eb23c4a": {
      "model_module": "@jupyter-widgets/base",
      "model_module_version": "1.2.0",
      "model_name": "LayoutModel",
      "state": {}
     },
     "98554acd7e994e55b40e907a604e490d": {
      "model_module": "@jupyter-widgets/controls",
      "model_module_version": "1.5.0",
      "model_name": "ProgressStyleModel",
      "state": {
       "description_width": ""
      }
     },
     "985e3270de964cce9942c4c1d1eac1e4": {
      "model_module": "@jupyter-widgets/controls",
      "model_module_version": "1.5.0",
      "model_name": "FloatProgressModel",
      "state": {
       "layout": "IPY_MODEL_dca759b130d842a39b14a69726b513f3",
       "max": 8,
       "style": "IPY_MODEL_f6e7704280274db88babe608aeb5cde9",
       "value": 8
      }
     },
     "9888029564e64dfe8c8034a54d712cd5": {
      "model_module": "@jupyter-widgets/controls",
      "model_module_version": "1.5.0",
      "model_name": "DescriptionStyleModel",
      "state": {
       "description_width": ""
      }
     },
     "98aec7f170a64e78bb018a1e372cc119": {
      "model_module": "@jupyter-widgets/base",
      "model_module_version": "1.2.0",
      "model_name": "LayoutModel",
      "state": {}
     },
     "98eab21c034f42d18e104a1f5c57ffc6": {
      "model_module": "@jupyter-widgets/controls",
      "model_module_version": "1.5.0",
      "model_name": "FloatProgressModel",
      "state": {
       "layout": "IPY_MODEL_25ef473d13244f4fb56f00ac4b9d23cf",
       "max": 8,
       "style": "IPY_MODEL_593c47980c974028b98ee06bf86fb101",
       "value": 8
      }
     },
     "990a7111ef6b44f4917fd95cbc24a84c": {
      "model_module": "@jupyter-widgets/controls",
      "model_module_version": "1.5.0",
      "model_name": "DescriptionStyleModel",
      "state": {
       "description_width": ""
      }
     },
     "997edbd65c53495f99415834a5f668af": {
      "model_module": "@jupyter-widgets/base",
      "model_module_version": "1.2.0",
      "model_name": "LayoutModel",
      "state": {}
     },
     "9a0f01e67d244636afc880c94c73e2de": {
      "model_module": "@jupyter-widgets/base",
      "model_module_version": "1.2.0",
      "model_name": "LayoutModel",
      "state": {}
     },
     "9a4767b2f9c1438695b151c064f2ec30": {
      "model_module": "@jupyter-widgets/controls",
      "model_module_version": "1.5.0",
      "model_name": "ProgressStyleModel",
      "state": {
       "description_width": ""
      }
     },
     "9a68f04699164fe480e35f197c70fb85": {
      "model_module": "@jupyter-widgets/controls",
      "model_module_version": "1.5.0",
      "model_name": "HTMLModel",
      "state": {
       "layout": "IPY_MODEL_19ee02a2aaa944e99e634ee7ffae604d",
       "style": "IPY_MODEL_68ead5dd5f7448ff8a7a010443ccde44",
       "value": "Iterating through drift speeds: 100%"
      }
     },
     "9b0f38ceffa844b09cbe0f23c0f9172d": {
      "model_module": "@jupyter-widgets/base",
      "model_module_version": "1.2.0",
      "model_name": "LayoutModel",
      "state": {}
     },
     "9c90eebc8c2844338134dde54cf8b42a": {
      "model_module": "@jupyter-widgets/controls",
      "model_module_version": "1.5.0",
      "model_name": "HTMLModel",
      "state": {
       "layout": "IPY_MODEL_c52394d1b77e4bc18e92aee8d6392ecb",
       "style": "IPY_MODEL_7244153b833d43dbaae95607b42cb52d",
       "value": " 8/8 [00:03&lt;00:00,  2.02it/s]"
      }
     },
     "9d065865ff4a4e028c09d7e52bf7fa7c": {
      "model_module": "@jupyter-widgets/controls",
      "model_module_version": "1.5.0",
      "model_name": "DescriptionStyleModel",
      "state": {
       "description_width": ""
      }
     },
     "9d219fa96d5e4dcaae30df13b130123a": {
      "model_module": "@jupyter-widgets/controls",
      "model_module_version": "1.5.0",
      "model_name": "HTMLModel",
      "state": {
       "layout": "IPY_MODEL_cd3d9066925c4694bc97efa6c57dee20",
       "style": "IPY_MODEL_973d2f90f5cc4673b49038c533e87b49",
       "value": "Iterating through drift speeds: 100%"
      }
     },
     "9d3e4d6e233347d0b9e273a7b120b070": {
      "model_module": "@jupyter-widgets/controls",
      "model_module_version": "1.5.0",
      "model_name": "ProgressStyleModel",
      "state": {
       "description_width": ""
      }
     },
     "9d4b8d093c2c45ec9ede35e82f866912": {
      "model_module": "@jupyter-widgets/base",
      "model_module_version": "1.2.0",
      "model_name": "LayoutModel",
      "state": {}
     },
     "9da8d8a8096d483298c8748a2948997b": {
      "model_module": "@jupyter-widgets/controls",
      "model_module_version": "1.5.0",
      "model_name": "HTMLModel",
      "state": {
       "layout": "IPY_MODEL_87439932deaa4c328c99cffb9fa9e327",
       "style": "IPY_MODEL_30821d6df20a494cabd9cf9b87addc09",
       "value": " 8/8 [00:00&lt;00:00, 16.60it/s]"
      }
     },
     "9e21c6f80e4e46acb2a7332dd6eb2c1d": {
      "model_module": "jupyter-matplotlib",
      "model_module_version": "^0.8.2",
      "model_name": "ToolbarModel",
      "state": {
       "layout": "IPY_MODEL_16cfeb1038074388833e526704581c23",
       "toolitems": [
        [
         "Home",
         "Reset original view",
         "home",
         "home"
        ],
        [
         "Back",
         "Back to previous view",
         "arrow-left",
         "back"
        ],
        [
         "Forward",
         "Forward to next view",
         "arrow-right",
         "forward"
        ],
        [
         "Pan",
         "Left button pans, Right button zooms\nx/y fixes axis, CTRL fixes aspect",
         "arrows",
         "pan"
        ],
        [
         "Zoom",
         "Zoom to rectangle\nx/y fixes axis, CTRL fixes aspect",
         "square-o",
         "zoom"
        ],
        [
         "Download",
         "Download plot",
         "floppy-o",
         "save_figure"
        ]
       ]
      }
     },
     "9e405a7a7243412c8414f5062965faa4": {
      "model_module": "@jupyter-widgets/controls",
      "model_module_version": "1.5.0",
      "model_name": "DescriptionStyleModel",
      "state": {
       "description_width": ""
      }
     },
     "9e60a02e92794c0698d68a99bf7d56da": {
      "model_module": "@jupyter-widgets/base",
      "model_module_version": "1.2.0",
      "model_name": "LayoutModel",
      "state": {}
     },
     "9e60e17a36ff452bac515d302b0ab797": {
      "model_module": "@jupyter-widgets/base",
      "model_module_version": "1.2.0",
      "model_name": "LayoutModel",
      "state": {}
     },
     "9f4c55ac062e49899cb5e8ecf90d65ba": {
      "model_module": "@jupyter-widgets/base",
      "model_module_version": "1.2.0",
      "model_name": "LayoutModel",
      "state": {}
     },
     "9fe076df0db0442f8c2b7f2c3aeb886c": {
      "model_module": "@jupyter-widgets/base",
      "model_module_version": "1.2.0",
      "model_name": "LayoutModel",
      "state": {}
     },
     "a00f0ed18d2b49199aaa3894eb270086": {
      "model_module": "@jupyter-widgets/controls",
      "model_module_version": "1.5.0",
      "model_name": "HTMLModel",
      "state": {
       "layout": "IPY_MODEL_9a0f01e67d244636afc880c94c73e2de",
       "style": "IPY_MODEL_0a4ea550f1df4915ac3e46f2126654cd",
       "value": "Iterating through drift speeds: 100%"
      }
     },
     "a06f7ffc0d61435a99fe7715fb63b9fc": {
      "model_module": "@jupyter-widgets/base",
      "model_module_version": "1.2.0",
      "model_name": "LayoutModel",
      "state": {}
     },
     "a0ad7620c0d14e21ad9e09cf5913aead": {
      "model_module": "@jupyter-widgets/base",
      "model_module_version": "1.2.0",
      "model_name": "LayoutModel",
      "state": {}
     },
     "a0f64e8900a9489492e9f5821a2ddd28": {
      "model_module": "@jupyter-widgets/controls",
      "model_module_version": "1.5.0",
      "model_name": "ProgressStyleModel",
      "state": {
       "description_width": ""
      }
     },
     "a16cbc9bfaed44eb962345306437508e": {
      "model_module": "@jupyter-widgets/base",
      "model_module_version": "1.2.0",
      "model_name": "LayoutModel",
      "state": {}
     },
     "a17a913bc7f044b790a2c4265cea8eae": {
      "model_module": "@jupyter-widgets/controls",
      "model_module_version": "1.5.0",
      "model_name": "DescriptionStyleModel",
      "state": {
       "description_width": ""
      }
     },
     "a18213d035c24744a39cabf886cbf8f9": {
      "model_module": "@jupyter-widgets/controls",
      "model_module_version": "1.5.0",
      "model_name": "DescriptionStyleModel",
      "state": {
       "description_width": ""
      }
     },
     "a1984e4652284179b3b12d10ea02591d": {
      "model_module": "@jupyter-widgets/controls",
      "model_module_version": "1.5.0",
      "model_name": "FloatProgressModel",
      "state": {
       "layout": "IPY_MODEL_83faeb16831e4440865e49cea0b01285",
       "max": 8,
       "style": "IPY_MODEL_71964df123134b8fbef93de120047b3a",
       "value": 8
      }
     },
     "a2972f7051d541e0a20421b0a93a2437": {
      "model_module": "@jupyter-widgets/base",
      "model_module_version": "1.2.0",
      "model_name": "LayoutModel",
      "state": {}
     },
     "a2c6b7796b2d4972b8c635dc158c3b41": {
      "model_module": "@jupyter-widgets/controls",
      "model_module_version": "1.5.0",
      "model_name": "DescriptionStyleModel",
      "state": {
       "description_width": ""
      }
     },
     "a30c55152c7c4d45a0a535e83b7a88b7": {
      "model_module": "@jupyter-widgets/controls",
      "model_module_version": "1.5.0",
      "model_name": "HTMLModel",
      "state": {
       "layout": "IPY_MODEL_ec2b0c25abcc4070ba2ff9a803914ee8",
       "style": "IPY_MODEL_daccbf78ecbe4e818dcee5a8ff1d5c0b",
       "value": " 8/8 [00:00&lt;00:00, 17.50it/s]"
      }
     },
     "a351091c651844678371a9bc023dbf88": {
      "model_module": "@jupyter-widgets/base",
      "model_module_version": "1.2.0",
      "model_name": "LayoutModel",
      "state": {}
     },
     "a351d42f05324c909807d170ea80b087": {
      "model_module": "@jupyter-widgets/base",
      "model_module_version": "1.2.0",
      "model_name": "LayoutModel",
      "state": {}
     },
     "a38046b006ba4ac8a9b6e81d2d2afc85": {
      "model_module": "@jupyter-widgets/controls",
      "model_module_version": "1.5.0",
      "model_name": "DescriptionStyleModel",
      "state": {
       "description_width": ""
      }
     },
     "a3a9dc77c3e74a80b05e82520a391e91": {
      "model_module": "@jupyter-widgets/controls",
      "model_module_version": "1.5.0",
      "model_name": "FloatProgressModel",
      "state": {
       "bar_style": "success",
       "layout": "IPY_MODEL_98aec7f170a64e78bb018a1e372cc119",
       "max": 8,
       "style": "IPY_MODEL_94e66244ea9546af8807d16802c2b56c",
       "value": 8
      }
     },
     "a480887b2db348a986ef163ff2d2b2be": {
      "model_module": "@jupyter-widgets/controls",
      "model_module_version": "1.5.0",
      "model_name": "ProgressStyleModel",
      "state": {
       "description_width": ""
      }
     },
     "a485121bb2864c70b62a1931a84d4e83": {
      "model_module": "@jupyter-widgets/base",
      "model_module_version": "1.2.0",
      "model_name": "LayoutModel",
      "state": {}
     },
     "a4925800401d42eaaf17a7908bea9aa3": {
      "model_module": "@jupyter-widgets/base",
      "model_module_version": "1.2.0",
      "model_name": "LayoutModel",
      "state": {}
     },
     "a551c417107940999adb566a9c0cb471": {
      "model_module": "@jupyter-widgets/base",
      "model_module_version": "1.2.0",
      "model_name": "LayoutModel",
      "state": {}
     },
     "a56c1f4a9d5f4da882ae73dd73e6b371": {
      "model_module": "@jupyter-widgets/controls",
      "model_module_version": "1.5.0",
      "model_name": "ProgressStyleModel",
      "state": {
       "description_width": ""
      }
     },
     "a5c2e809ad3740c892cd9168a287895e": {
      "model_module": "@jupyter-widgets/base",
      "model_module_version": "1.2.0",
      "model_name": "LayoutModel",
      "state": {}
     },
     "a5c9e021046a4037b29a4a351dda711f": {
      "model_module": "@jupyter-widgets/controls",
      "model_module_version": "1.5.0",
      "model_name": "DescriptionStyleModel",
      "state": {
       "description_width": ""
      }
     },
     "a611b5119ec741ddb1dad68b7a6a87bd": {
      "model_module": "@jupyter-widgets/controls",
      "model_module_version": "1.5.0",
      "model_name": "FloatProgressModel",
      "state": {
       "layout": "IPY_MODEL_8dfaaf71c8214407a9f74b44e2d3002c",
       "max": 8,
       "style": "IPY_MODEL_cd4b7ecfb332418d9d282ee20e58fb9e",
       "value": 8
      }
     },
     "a628158740b540bfab91f1df50d5deec": {
      "model_module": "@jupyter-widgets/controls",
      "model_module_version": "1.5.0",
      "model_name": "DescriptionStyleModel",
      "state": {
       "description_width": ""
      }
     },
     "a68d8262baa44302bf0ebbe801e7f379": {
      "model_module": "@jupyter-widgets/controls",
      "model_module_version": "1.5.0",
      "model_name": "ProgressStyleModel",
      "state": {
       "description_width": ""
      }
     },
     "a6e1f41684574b8f99302f67768c7092": {
      "model_module": "@jupyter-widgets/controls",
      "model_module_version": "1.5.0",
      "model_name": "HTMLModel",
      "state": {
       "layout": "IPY_MODEL_9b0f38ceffa844b09cbe0f23c0f9172d",
       "style": "IPY_MODEL_93ce48afdba34cffada73cebeb360130",
       "value": " 8/8 [00:00&lt;00:00, 16.86it/s]"
      }
     },
     "a6f3c230ba9a4501a6e75b3eb1d2c0ff": {
      "model_module": "@jupyter-widgets/controls",
      "model_module_version": "1.5.0",
      "model_name": "DescriptionStyleModel",
      "state": {
       "description_width": ""
      }
     },
     "a70c68a94eaa46e7b0be567cfdf661a7": {
      "model_module": "@jupyter-widgets/controls",
      "model_module_version": "1.5.0",
      "model_name": "HTMLModel",
      "state": {
       "layout": "IPY_MODEL_d9acc8228089495f83a8c35dc7b715f5",
       "style": "IPY_MODEL_e32db24eb7bf4a188842bf81c4439910",
       "value": " 8/8 [00:00&lt;00:00, 17.09it/s]"
      }
     },
     "a79a888a1914437c8953befa14c4a175": {
      "model_module": "@jupyter-widgets/base",
      "model_module_version": "1.2.0",
      "model_name": "LayoutModel",
      "state": {}
     },
     "a7d54697290e42da95b9c848485f7204": {
      "model_module": "@jupyter-widgets/controls",
      "model_module_version": "1.5.0",
      "model_name": "HTMLModel",
      "state": {
       "layout": "IPY_MODEL_71885fb1628549d8a741a4a759377c4b",
       "style": "IPY_MODEL_1f760d83b25040eaa3dcbdb26e935255",
       "value": " 8/8 [00:00&lt;00:00, 17.43it/s]"
      }
     },
     "a7e30041053342a08064fc5ab0254a72": {
      "model_module": "@jupyter-widgets/controls",
      "model_module_version": "1.5.0",
      "model_name": "DescriptionStyleModel",
      "state": {
       "description_width": ""
      }
     },
     "a82f6fe26c40444a970f15f3bee199b6": {
      "model_module": "@jupyter-widgets/base",
      "model_module_version": "1.2.0",
      "model_name": "LayoutModel",
      "state": {}
     },
     "a86e73c014ae45f9b8e4e00ee71328dc": {
      "model_module": "@jupyter-widgets/controls",
      "model_module_version": "1.5.0",
      "model_name": "DescriptionStyleModel",
      "state": {
       "description_width": ""
      }
     },
     "a8878b400111473fb432ae5bfd9a99e5": {
      "model_module": "@jupyter-widgets/base",
      "model_module_version": "1.2.0",
      "model_name": "LayoutModel",
      "state": {}
     },
     "a89dc10064c8445185e2696abe4f2d00": {
      "model_module": "@jupyter-widgets/controls",
      "model_module_version": "1.5.0",
      "model_name": "DescriptionStyleModel",
      "state": {
       "description_width": ""
      }
     },
     "a8b11cef248a45f2a138a319e1b034ee": {
      "model_module": "@jupyter-widgets/controls",
      "model_module_version": "1.5.0",
      "model_name": "HTMLModel",
      "state": {
       "layout": "IPY_MODEL_404f66f6876b4e31ac965c9ddcd16998",
       "style": "IPY_MODEL_a6f3c230ba9a4501a6e75b3eb1d2c0ff",
       "value": " 8/8 [00:00&lt;00:00, 17.40it/s]"
      }
     },
     "a929089849704c3f99d935d89eef08e6": {
      "model_module": "@jupyter-widgets/controls",
      "model_module_version": "1.5.0",
      "model_name": "HTMLModel",
      "state": {
       "layout": "IPY_MODEL_5599e448f2fa4fda8e0efddcb72015d3",
       "style": "IPY_MODEL_ed8f8cd7aaed4b569e28060edd46a976",
       "value": "Iterating through drift angles: 100%"
      }
     },
     "a94b707f35b84100bc60882dc8f0a1ce": {
      "model_module": "jupyter-matplotlib",
      "model_module_version": "^0.8.2",
      "model_name": "ToolbarModel",
      "state": {
       "layout": "IPY_MODEL_73922157d2c04921bdceae5936d43abe",
       "toolitems": [
        [
         "Home",
         "Reset original view",
         "home",
         "home"
        ],
        [
         "Back",
         "Back to previous view",
         "arrow-left",
         "back"
        ],
        [
         "Forward",
         "Forward to next view",
         "arrow-right",
         "forward"
        ],
        [
         "Pan",
         "Left button pans, Right button zooms\nx/y fixes axis, CTRL fixes aspect",
         "arrows",
         "pan"
        ],
        [
         "Zoom",
         "Zoom to rectangle\nx/y fixes axis, CTRL fixes aspect",
         "square-o",
         "zoom"
        ],
        [
         "Download",
         "Download plot",
         "floppy-o",
         "save_figure"
        ]
       ]
      }
     },
     "a9e62229b23e4ffbab1e0b963abdd912": {
      "model_module": "@jupyter-widgets/base",
      "model_module_version": "1.2.0",
      "model_name": "LayoutModel",
      "state": {}
     },
     "ab63ebb35d6044cd92ff78a224b76f03": {
      "model_module": "jupyter-matplotlib",
      "model_module_version": "^0.8.2",
      "model_name": "MPLCanvasModel",
      "state": {
       "_cursor": "default",
       "_figure_label": "Figure 4",
       "_height": 600,
       "_width": 1200,
       "layout": "IPY_MODEL_3757e9d1b02b44e68e5fbd58a9cf17ed",
       "toolbar": "IPY_MODEL_c05fca5d4acf4d17826b73e3890ca3a2",
       "toolbar_position": "left"
      }
     },
     "ab6841e94a774a3bb6861d558f68345f": {
      "model_module": "@jupyter-widgets/controls",
      "model_module_version": "1.5.0",
      "model_name": "HTMLModel",
      "state": {
       "layout": "IPY_MODEL_d1d3e7f6a1224605a9bca78a54877679",
       "style": "IPY_MODEL_d1baad4c0c6841b8a40af44933e4a8d1",
       "value": " 8/8 [00:03&lt;00:00,  2.14it/s]"
      }
     },
     "ac336fd952eb4d3eae477a0c42d8c97a": {
      "model_module": "@jupyter-widgets/base",
      "model_module_version": "1.2.0",
      "model_name": "LayoutModel",
      "state": {}
     },
     "ad7f04fbff1242ab9a08a93aa4487ae3": {
      "model_module": "@jupyter-widgets/base",
      "model_module_version": "1.2.0",
      "model_name": "LayoutModel",
      "state": {}
     },
     "ae08317d7ba34a68b2b733f67e816b65": {
      "model_module": "@jupyter-widgets/controls",
      "model_module_version": "1.5.0",
      "model_name": "HTMLModel",
      "state": {
       "layout": "IPY_MODEL_63cbf235734a4d2286520de56975cbd5",
       "style": "IPY_MODEL_f977d8b6a5ee4a82846738dd948f183c",
       "value": "Iterating through drift speeds: 100%"
      }
     },
     "ae5113802777498889c48a1d51fb76ac": {
      "model_module": "@jupyter-widgets/base",
      "model_module_version": "1.2.0",
      "model_name": "LayoutModel",
      "state": {}
     },
     "ae5427dba02444c083adaacdf3baf345": {
      "model_module": "@jupyter-widgets/controls",
      "model_module_version": "1.5.0",
      "model_name": "HTMLModel",
      "state": {
       "layout": "IPY_MODEL_2e204d61a9ef415a86156825c2026e50",
       "style": "IPY_MODEL_9888029564e64dfe8c8034a54d712cd5",
       "value": "Iterating through drift speeds: 100%"
      }
     },
     "ae764de9af91421e86a1e420c1b59b80": {
      "model_module": "@jupyter-widgets/base",
      "model_module_version": "1.2.0",
      "model_name": "LayoutModel",
      "state": {}
     },
     "ae91747400284802a160335686a356b8": {
      "model_module": "@jupyter-widgets/base",
      "model_module_version": "1.2.0",
      "model_name": "LayoutModel",
      "state": {}
     },
     "aee24f6b88494f3695f48f97249b35dc": {
      "model_module": "@jupyter-widgets/controls",
      "model_module_version": "1.5.0",
      "model_name": "FloatProgressModel",
      "state": {
       "layout": "IPY_MODEL_7ef8f64c3b364d619e3bd40b9eb5e7e5",
       "max": 8,
       "style": "IPY_MODEL_55c86c8288284af995e040504c49c092",
       "value": 8
      }
     },
     "af1b554adb7841f4b428a81bf9c2f72e": {
      "model_module": "@jupyter-widgets/controls",
      "model_module_version": "1.5.0",
      "model_name": "FloatProgressModel",
      "state": {
       "layout": "IPY_MODEL_7714b514ee534107b75e7cd81ab2c55d",
       "max": 8,
       "style": "IPY_MODEL_651cc86b779b4b93abe6b45149b1894b",
       "value": 8
      }
     },
     "af80e8b946d842ef883391987784ae5f": {
      "model_module": "@jupyter-widgets/controls",
      "model_module_version": "1.5.0",
      "model_name": "DescriptionStyleModel",
      "state": {
       "description_width": ""
      }
     },
     "b0bccc5994e147e1adb2dbafe36da3ba": {
      "model_module": "@jupyter-widgets/controls",
      "model_module_version": "1.5.0",
      "model_name": "DescriptionStyleModel",
      "state": {
       "description_width": ""
      }
     },
     "b0ddba06640c4f8bbed125feb1265da1": {
      "model_module": "@jupyter-widgets/base",
      "model_module_version": "1.2.0",
      "model_name": "LayoutModel",
      "state": {}
     },
     "b3411ecc472b4570b2a2a8a6647b53ff": {
      "model_module": "@jupyter-widgets/controls",
      "model_module_version": "1.5.0",
      "model_name": "DescriptionStyleModel",
      "state": {
       "description_width": ""
      }
     },
     "b352be2e95e8417199d70862cd598ee9": {
      "model_module": "@jupyter-widgets/controls",
      "model_module_version": "1.5.0",
      "model_name": "HTMLModel",
      "state": {
       "layout": "IPY_MODEL_d1581fdb846a48f5876da001a4acf310",
       "style": "IPY_MODEL_5d8164dbca9d45e8a67d8e2553138026",
       "value": "Iterating through drift speeds: 100%"
      }
     },
     "b3a6c9735cb747baa002c09bad4bb17f": {
      "model_module": "@jupyter-widgets/controls",
      "model_module_version": "1.5.0",
      "model_name": "HTMLModel",
      "state": {
       "layout": "IPY_MODEL_0c698613ecb2483d8b603916a220f648",
       "style": "IPY_MODEL_a2c6b7796b2d4972b8c635dc158c3b41",
       "value": " 8/8 [00:00&lt;00:00, 16.44it/s]"
      }
     },
     "b418d15cc4ba4421ad7564ca48f6141b": {
      "model_module": "@jupyter-widgets/base",
      "model_module_version": "1.2.0",
      "model_name": "LayoutModel",
      "state": {}
     },
     "b4e28bad9ba64dfcac324ef6f2f60e27": {
      "model_module": "@jupyter-widgets/controls",
      "model_module_version": "1.5.0",
      "model_name": "FloatProgressModel",
      "state": {
       "layout": "IPY_MODEL_68e15135bee24c0f9c238817a93783ce",
       "max": 8,
       "style": "IPY_MODEL_d6f6d55a3b3b45579f23629dceb7cee5",
       "value": 8
      }
     },
     "b50f80afb39b4035b12741daf663788e": {
      "model_module": "@jupyter-widgets/controls",
      "model_module_version": "1.5.0",
      "model_name": "FloatProgressModel",
      "state": {
       "bar_style": "success",
       "layout": "IPY_MODEL_e41172b0f4ab4f94996013d99c885536",
       "max": 8,
       "style": "IPY_MODEL_19be4ac12b344833bc881f34c4f19892",
       "value": 8
      }
     },
     "b52a129d551c4451bad27872eff6eb09": {
      "model_module": "@jupyter-widgets/base",
      "model_module_version": "1.2.0",
      "model_name": "LayoutModel",
      "state": {}
     },
     "b55f507ccfb448c2aa69e0dec31fdc3c": {
      "model_module": "@jupyter-widgets/base",
      "model_module_version": "1.2.0",
      "model_name": "LayoutModel",
      "state": {}
     },
     "b583adcabe0f4a2e8618cc7109962888": {
      "model_module": "@jupyter-widgets/base",
      "model_module_version": "1.2.0",
      "model_name": "LayoutModel",
      "state": {}
     },
     "b631298e9cb54b9bb33309423ef76365": {
      "model_module": "@jupyter-widgets/base",
      "model_module_version": "1.2.0",
      "model_name": "LayoutModel",
      "state": {}
     },
     "b6d67c9681bd4ebca8679763616c097b": {
      "model_module": "@jupyter-widgets/controls",
      "model_module_version": "1.5.0",
      "model_name": "HTMLModel",
      "state": {
       "layout": "IPY_MODEL_f5a47afe9243482cb35f90a001edfcac",
       "style": "IPY_MODEL_35f20db801cb474bbacb07ff1b9b06e7",
       "value": " 8/8 [00:00&lt;00:00, 15.76it/s]"
      }
     },
     "b6f550699744492689b3be55c0e3edaf": {
      "model_module": "@jupyter-widgets/base",
      "model_module_version": "1.2.0",
      "model_name": "LayoutModel",
      "state": {}
     },
     "b7255cb9560c4f52a8c6f075b077e7ac": {
      "model_module": "@jupyter-widgets/controls",
      "model_module_version": "1.5.0",
      "model_name": "FloatProgressModel",
      "state": {
       "layout": "IPY_MODEL_802157842d92432390878d371b8ca5c3",
       "max": 8,
       "style": "IPY_MODEL_540ff18fb02347f8b42940fbb20ee06a",
       "value": 8
      }
     },
     "b746c6154e7a4587affc3a228efcc6f7": {
      "model_module": "@jupyter-widgets/controls",
      "model_module_version": "1.5.0",
      "model_name": "HTMLModel",
      "state": {
       "layout": "IPY_MODEL_77bfa69f3daf4129991e447b67faea5b",
       "style": "IPY_MODEL_cd724587ac484295b01b3282feeb75ab",
       "value": " 8/8 [00:00&lt;00:00, 17.25it/s]"
      }
     },
     "b7930261619141efb4488945607dfb7e": {
      "model_module": "@jupyter-widgets/base",
      "model_module_version": "1.2.0",
      "model_name": "LayoutModel",
      "state": {}
     },
     "b797b173706e44f29ee09f2c9f5ab9e7": {
      "model_module": "@jupyter-widgets/base",
      "model_module_version": "1.2.0",
      "model_name": "LayoutModel",
      "state": {}
     },
     "b7a25f09fcde47609785cb1cfabddd70": {
      "model_module": "@jupyter-widgets/controls",
      "model_module_version": "1.5.0",
      "model_name": "DescriptionStyleModel",
      "state": {
       "description_width": ""
      }
     },
     "b7e9c4312f71476295eef5efb548c90c": {
      "model_module": "@jupyter-widgets/controls",
      "model_module_version": "1.5.0",
      "model_name": "HTMLModel",
      "state": {
       "layout": "IPY_MODEL_9758b2ef4a11439199f78f057d471d0a",
       "style": "IPY_MODEL_a5c9e021046a4037b29a4a351dda711f",
       "value": " 8/8 [00:00&lt;00:00, 17.79it/s]"
      }
     },
     "b866f2412503482082a6f6ff082b7866": {
      "model_module": "@jupyter-widgets/base",
      "model_module_version": "1.2.0",
      "model_name": "LayoutModel",
      "state": {}
     },
     "b86f9a54c8404a1d88d79f94413d77bd": {
      "model_module": "@jupyter-widgets/base",
      "model_module_version": "1.2.0",
      "model_name": "LayoutModel",
      "state": {}
     },
     "b87a20d9f55643528e94f0e79bb3032a": {
      "model_module": "@jupyter-widgets/base",
      "model_module_version": "1.2.0",
      "model_name": "LayoutModel",
      "state": {}
     },
     "b8ae5717f3f34cd2a6b82796c0bec9ee": {
      "model_module": "@jupyter-widgets/controls",
      "model_module_version": "1.5.0",
      "model_name": "FloatProgressModel",
      "state": {
       "layout": "IPY_MODEL_f4044192dac44c5baba7978d36a16773",
       "max": 8,
       "style": "IPY_MODEL_a56c1f4a9d5f4da882ae73dd73e6b371",
       "value": 8
      }
     },
     "b8d21d82df824ab48707b445c656cb96": {
      "model_module": "@jupyter-widgets/base",
      "model_module_version": "1.2.0",
      "model_name": "LayoutModel",
      "state": {}
     },
     "b8ff9294a063416989436ea52536309e": {
      "model_module": "@jupyter-widgets/base",
      "model_module_version": "1.2.0",
      "model_name": "LayoutModel",
      "state": {}
     },
     "b98f574fa8d9431386b37e39af6211a4": {
      "model_module": "@jupyter-widgets/controls",
      "model_module_version": "1.5.0",
      "model_name": "DescriptionStyleModel",
      "state": {
       "description_width": ""
      }
     },
     "ba001ca3738b4797b10d17135bd622b4": {
      "model_module": "@jupyter-widgets/controls",
      "model_module_version": "1.5.0",
      "model_name": "DescriptionStyleModel",
      "state": {
       "description_width": ""
      }
     },
     "ba01ac4789b447758090965ef90f4d09": {
      "model_module": "@jupyter-widgets/base",
      "model_module_version": "1.2.0",
      "model_name": "LayoutModel",
      "state": {}
     },
     "ba0f78a4761d4d3fa40810b47da2e8d6": {
      "model_module": "@jupyter-widgets/base",
      "model_module_version": "1.2.0",
      "model_name": "LayoutModel",
      "state": {}
     },
     "ba32e88056cd4b90b4a45b4f31d698c2": {
      "model_module": "@jupyter-widgets/base",
      "model_module_version": "1.2.0",
      "model_name": "LayoutModel",
      "state": {}
     },
     "bac7288feb2e44d4985bc2a74645f6ac": {
      "model_module": "@jupyter-widgets/base",
      "model_module_version": "1.2.0",
      "model_name": "LayoutModel",
      "state": {}
     },
     "bb08db305ffa4b57b68264051a67c56c": {
      "model_module": "@jupyter-widgets/controls",
      "model_module_version": "1.5.0",
      "model_name": "HTMLModel",
      "state": {
       "layout": "IPY_MODEL_29e0508f13d444b8a85ea1f880ed75b8",
       "style": "IPY_MODEL_a18213d035c24744a39cabf886cbf8f9",
       "value": "Iterating through drift speeds: 100%"
      }
     },
     "bb4da878583143ddb6474390fb61b46e": {
      "model_module": "@jupyter-widgets/base",
      "model_module_version": "1.2.0",
      "model_name": "LayoutModel",
      "state": {}
     },
     "bb66da8a56f94146b7f17569f1396d06": {
      "model_module": "@jupyter-widgets/controls",
      "model_module_version": "1.5.0",
      "model_name": "HBoxModel",
      "state": {
       "children": [
        "IPY_MODEL_e007e03f6f6a4c94ba53e68dea915019",
        "IPY_MODEL_541faf2ba81b416b964222774f7775dc",
        "IPY_MODEL_4b79b290aec742f590628199117d2c4a"
       ],
       "layout": "IPY_MODEL_b866f2412503482082a6f6ff082b7866"
      }
     },
     "bb96ae9f158a400f96416acfa8049ca4": {
      "model_module": "@jupyter-widgets/controls",
      "model_module_version": "1.5.0",
      "model_name": "ProgressStyleModel",
      "state": {
       "description_width": ""
      }
     },
     "bbbabc854c67432fbc9b1853150bf87f": {
      "model_module": "@jupyter-widgets/base",
      "model_module_version": "1.2.0",
      "model_name": "LayoutModel",
      "state": {}
     },
     "bc700d463b4043d48ccd50c553ba8954": {
      "model_module": "@jupyter-widgets/controls",
      "model_module_version": "1.5.0",
      "model_name": "ProgressStyleModel",
      "state": {
       "description_width": ""
      }
     },
     "bd3b879efdaf46599e210b004603debe": {
      "model_module": "@jupyter-widgets/controls",
      "model_module_version": "1.5.0",
      "model_name": "DescriptionStyleModel",
      "state": {
       "description_width": ""
      }
     },
     "bd46d347c3a84490a3e392ede145582f": {
      "model_module": "@jupyter-widgets/controls",
      "model_module_version": "1.5.0",
      "model_name": "HTMLModel",
      "state": {
       "layout": "IPY_MODEL_46dd6dc8854b466cabc144ece9056a22",
       "style": "IPY_MODEL_41af53456ef74fc48f0cd9c582332a4b",
       "value": "Iterating through drift speeds: 100%"
      }
     },
     "bd80650cff6342728daee0ea1c41ad84": {
      "model_module": "@jupyter-widgets/controls",
      "model_module_version": "1.5.0",
      "model_name": "DescriptionStyleModel",
      "state": {
       "description_width": ""
      }
     },
     "bdb146382f2241198d6fa9159a5e2038": {
      "model_module": "@jupyter-widgets/base",
      "model_module_version": "1.2.0",
      "model_name": "LayoutModel",
      "state": {}
     },
     "be423733fab447feae68d7a334c641c2": {
      "model_module": "@jupyter-widgets/base",
      "model_module_version": "1.2.0",
      "model_name": "LayoutModel",
      "state": {}
     },
     "be9a08186236485f948fb52c7cd7ebe2": {
      "model_module": "@jupyter-widgets/controls",
      "model_module_version": "1.5.0",
      "model_name": "ProgressStyleModel",
      "state": {
       "description_width": ""
      }
     },
     "bec649bc37be41b28205e12a621d3ed7": {
      "model_module": "@jupyter-widgets/controls",
      "model_module_version": "1.5.0",
      "model_name": "DescriptionStyleModel",
      "state": {
       "description_width": ""
      }
     },
     "bf1734a3ac4a48f99512ec9d5d5820d8": {
      "model_module": "@jupyter-widgets/base",
      "model_module_version": "1.2.0",
      "model_name": "LayoutModel",
      "state": {}
     },
     "bf48f4d8982d46a191bc800f8e25c968": {
      "model_module": "jupyter-matplotlib",
      "model_module_version": "^0.8.2",
      "model_name": "ToolbarModel",
      "state": {
       "layout": "IPY_MODEL_c302aca469834b18bb597e787ec80eb6",
       "toolitems": [
        [
         "Home",
         "Reset original view",
         "home",
         "home"
        ],
        [
         "Back",
         "Back to previous view",
         "arrow-left",
         "back"
        ],
        [
         "Forward",
         "Forward to next view",
         "arrow-right",
         "forward"
        ],
        [
         "Pan",
         "Left button pans, Right button zooms\nx/y fixes axis, CTRL fixes aspect",
         "arrows",
         "pan"
        ],
        [
         "Zoom",
         "Zoom to rectangle\nx/y fixes axis, CTRL fixes aspect",
         "square-o",
         "zoom"
        ],
        [
         "Download",
         "Download plot",
         "floppy-o",
         "save_figure"
        ]
       ]
      }
     },
     "bf7ed4ecc2cb4a0e83e84f9c0fc6517e": {
      "model_module": "@jupyter-widgets/base",
      "model_module_version": "1.2.0",
      "model_name": "LayoutModel",
      "state": {}
     },
     "bfc389c0a5ca4b0ca5fbe2b39fd68cb2": {
      "model_module": "@jupyter-widgets/controls",
      "model_module_version": "1.5.0",
      "model_name": "DescriptionStyleModel",
      "state": {
       "description_width": ""
      }
     },
     "bfdbf2ed064b4618be3b72183dac3426": {
      "model_module": "@jupyter-widgets/controls",
      "model_module_version": "1.5.0",
      "model_name": "HTMLModel",
      "state": {
       "layout": "IPY_MODEL_f5e4880c7c994e26bc6df69580be36f1",
       "style": "IPY_MODEL_0f44c56d2cdf4968bf600b1aafa9212b",
       "value": " 8/8 [00:00&lt;00:00, 16.20it/s]"
      }
     },
     "c046a522d1f04d03b3b76c645431932b": {
      "model_module": "@jupyter-widgets/base",
      "model_module_version": "1.2.0",
      "model_name": "LayoutModel",
      "state": {}
     },
     "c05fca5d4acf4d17826b73e3890ca3a2": {
      "model_module": "jupyter-matplotlib",
      "model_module_version": "^0.8.2",
      "model_name": "ToolbarModel",
      "state": {
       "layout": "IPY_MODEL_ee43e93e95854a468bfe5384d837094c",
       "toolitems": [
        [
         "Home",
         "Reset original view",
         "home",
         "home"
        ],
        [
         "Back",
         "Back to previous view",
         "arrow-left",
         "back"
        ],
        [
         "Forward",
         "Forward to next view",
         "arrow-right",
         "forward"
        ],
        [
         "Pan",
         "Left button pans, Right button zooms\nx/y fixes axis, CTRL fixes aspect",
         "arrows",
         "pan"
        ],
        [
         "Zoom",
         "Zoom to rectangle\nx/y fixes axis, CTRL fixes aspect",
         "square-o",
         "zoom"
        ],
        [
         "Download",
         "Download plot",
         "floppy-o",
         "save_figure"
        ]
       ]
      }
     },
     "c099d396469544e68a601fd68023cb14": {
      "model_module": "@jupyter-widgets/controls",
      "model_module_version": "1.5.0",
      "model_name": "DescriptionStyleModel",
      "state": {
       "description_width": ""
      }
     },
     "c0f3895b836a49cb9c96ec45e2269be9": {
      "model_module": "@jupyter-widgets/controls",
      "model_module_version": "1.5.0",
      "model_name": "HTMLModel",
      "state": {
       "layout": "IPY_MODEL_23ecd2247848411995abf3847edc0d5f",
       "style": "IPY_MODEL_e8858fbe33ba4c9babb5110b6e025daf",
       "value": " 8/8 [00:00&lt;00:00, 17.03it/s]"
      }
     },
     "c160b7d3980c48669b0d216112ef8770": {
      "model_module": "@jupyter-widgets/controls",
      "model_module_version": "1.5.0",
      "model_name": "ProgressStyleModel",
      "state": {
       "description_width": ""
      }
     },
     "c193c8aa510f46b887d819714022e45a": {
      "model_module": "@jupyter-widgets/base",
      "model_module_version": "1.2.0",
      "model_name": "LayoutModel",
      "state": {}
     },
     "c1b0904e44f84ee1a26e37e5ae70dc56": {
      "model_module": "@jupyter-widgets/base",
      "model_module_version": "1.2.0",
      "model_name": "LayoutModel",
      "state": {}
     },
     "c20dd26e7d194facaa0c78f831f6466c": {
      "model_module": "@jupyter-widgets/controls",
      "model_module_version": "1.5.0",
      "model_name": "ProgressStyleModel",
      "state": {
       "description_width": ""
      }
     },
     "c302aca469834b18bb597e787ec80eb6": {
      "model_module": "@jupyter-widgets/base",
      "model_module_version": "1.2.0",
      "model_name": "LayoutModel",
      "state": {}
     },
     "c39b0ab9d5d749e5a6e6c5d57a4c6f4f": {
      "model_module": "@jupyter-widgets/controls",
      "model_module_version": "1.5.0",
      "model_name": "ProgressStyleModel",
      "state": {
       "description_width": ""
      }
     },
     "c3c4e443253a42619560cf4e40d40d13": {
      "model_module": "@jupyter-widgets/controls",
      "model_module_version": "1.5.0",
      "model_name": "DescriptionStyleModel",
      "state": {
       "description_width": ""
      }
     },
     "c3f511869ac14f1d8d6eec1570e4923f": {
      "model_module": "@jupyter-widgets/controls",
      "model_module_version": "1.5.0",
      "model_name": "FloatProgressModel",
      "state": {
       "bar_style": "success",
       "layout": "IPY_MODEL_96e4c55077c04ec6a87c6d7cf6fe4d97",
       "max": 8,
       "style": "IPY_MODEL_08c39db072134a0e96c81ea19a9448d1",
       "value": 8
      }
     },
     "c4392fbc647e4bbaabfdd68acf93b6b3": {
      "model_module": "@jupyter-widgets/controls",
      "model_module_version": "1.5.0",
      "model_name": "DescriptionStyleModel",
      "state": {
       "description_width": ""
      }
     },
     "c448ad8ed38e44d9953956604a638541": {
      "model_module": "@jupyter-widgets/base",
      "model_module_version": "1.2.0",
      "model_name": "LayoutModel",
      "state": {}
     },
     "c44fdca170dc46bbb3e54efbee4018fc": {
      "model_module": "@jupyter-widgets/base",
      "model_module_version": "1.2.0",
      "model_name": "LayoutModel",
      "state": {}
     },
     "c476072b4a2343adbf507fc6a5480159": {
      "model_module": "@jupyter-widgets/controls",
      "model_module_version": "1.5.0",
      "model_name": "HTMLModel",
      "state": {
       "layout": "IPY_MODEL_2ebe6eabcc834b72b1125257251caa37",
       "style": "IPY_MODEL_5223d86fee214f6bbb06aebae5f7d361",
       "value": " 8/8 [00:00&lt;00:00, 16.61it/s]"
      }
     },
     "c4ac9a20f8cb496a857337220936c552": {
      "model_module": "@jupyter-widgets/controls",
      "model_module_version": "1.5.0",
      "model_name": "FloatProgressModel",
      "state": {
       "layout": "IPY_MODEL_fed52fe1a47441dcbc5c29acf566ae85",
       "max": 8,
       "style": "IPY_MODEL_93c94c695e61442f98ed314e29fd495e",
       "value": 8
      }
     },
     "c4c29d004ebd4318b6d9da4e4d71ca66": {
      "model_module": "@jupyter-widgets/base",
      "model_module_version": "1.2.0",
      "model_name": "LayoutModel",
      "state": {}
     },
     "c4d74f9db0e843c0864e5cb08de56969": {
      "model_module": "@jupyter-widgets/base",
      "model_module_version": "1.2.0",
      "model_name": "LayoutModel",
      "state": {}
     },
     "c509ea0e00f64216a93834aec8d1bdf1": {
      "model_module": "@jupyter-widgets/base",
      "model_module_version": "1.2.0",
      "model_name": "LayoutModel",
      "state": {}
     },
     "c52394d1b77e4bc18e92aee8d6392ecb": {
      "model_module": "@jupyter-widgets/base",
      "model_module_version": "1.2.0",
      "model_name": "LayoutModel",
      "state": {}
     },
     "c5eac110c03349378b88bacdb28fa941": {
      "model_module": "@jupyter-widgets/controls",
      "model_module_version": "1.5.0",
      "model_name": "ProgressStyleModel",
      "state": {
       "description_width": ""
      }
     },
     "c680cef1848f44baac9ffc225ee3fd7d": {
      "model_module": "@jupyter-widgets/base",
      "model_module_version": "1.2.0",
      "model_name": "LayoutModel",
      "state": {}
     },
     "c6eb3ed38d22441c863e077647f2002f": {
      "model_module": "@jupyter-widgets/controls",
      "model_module_version": "1.5.0",
      "model_name": "ProgressStyleModel",
      "state": {
       "description_width": ""
      }
     },
     "c804b1c257614d4e852a0790809b86c0": {
      "model_module": "@jupyter-widgets/base",
      "model_module_version": "1.2.0",
      "model_name": "LayoutModel",
      "state": {}
     },
     "c87966592c004937babb51622f80df9a": {
      "model_module": "@jupyter-widgets/controls",
      "model_module_version": "1.5.0",
      "model_name": "HBoxModel",
      "state": {
       "children": [
        "IPY_MODEL_fe34c806d8e34b24bb83fe40aa2e55f4",
        "IPY_MODEL_60b0d7275b04415e976a18170aeaba9f",
        "IPY_MODEL_1cfd1170382e429c8f9fcd03fc55c8de"
       ],
       "layout": "IPY_MODEL_42cc76b6e51547b69f29c53dea6a19aa"
      }
     },
     "c8886d632be34b66801d5fd72f213713": {
      "model_module": "@jupyter-widgets/base",
      "model_module_version": "1.2.0",
      "model_name": "LayoutModel",
      "state": {}
     },
     "c8a9ec065a12460f93cb24e6d07cf216": {
      "model_module": "@jupyter-widgets/base",
      "model_module_version": "1.2.0",
      "model_name": "LayoutModel",
      "state": {}
     },
     "c8de960b63f249a1a01adb9da01e7ac6": {
      "model_module": "@jupyter-widgets/controls",
      "model_module_version": "1.5.0",
      "model_name": "FloatProgressModel",
      "state": {
       "layout": "IPY_MODEL_b6f550699744492689b3be55c0e3edaf",
       "max": 8,
       "style": "IPY_MODEL_9a4767b2f9c1438695b151c064f2ec30",
       "value": 8
      }
     },
     "c8e1104fc35746709f42b95bb2161606": {
      "model_module": "@jupyter-widgets/base",
      "model_module_version": "1.2.0",
      "model_name": "LayoutModel",
      "state": {}
     },
     "c93b49244f264900963940914b36d352": {
      "model_module": "@jupyter-widgets/controls",
      "model_module_version": "1.5.0",
      "model_name": "HTMLModel",
      "state": {
       "layout": "IPY_MODEL_3e999d899dc6417ca9319a4d4ebe30a1",
       "style": "IPY_MODEL_bd3b879efdaf46599e210b004603debe",
       "value": "Iterating through drift speeds: 100%"
      }
     },
     "c97ff0fe29d24ef5ae6314f168cee202": {
      "model_module": "@jupyter-widgets/base",
      "model_module_version": "1.2.0",
      "model_name": "LayoutModel",
      "state": {}
     },
     "ca10810f64ea42318647ce4bfd38fc3a": {
      "model_module": "@jupyter-widgets/controls",
      "model_module_version": "1.5.0",
      "model_name": "DescriptionStyleModel",
      "state": {
       "description_width": ""
      }
     },
     "ca418746ff95430c8b8eef1fc35464cc": {
      "model_module": "@jupyter-widgets/controls",
      "model_module_version": "1.5.0",
      "model_name": "HTMLModel",
      "state": {
       "layout": "IPY_MODEL_fa3afee6fb574777b26322d1c5cc2876",
       "style": "IPY_MODEL_c099d396469544e68a601fd68023cb14",
       "value": "Iterating through drift speeds: 100%"
      }
     },
     "caab8828ae0e40be92ee09777e9fe1f0": {
      "model_module": "@jupyter-widgets/controls",
      "model_module_version": "1.5.0",
      "model_name": "HTMLModel",
      "state": {
       "layout": "IPY_MODEL_3d2af422f2ee4a15b6c92ce22fa09b98",
       "style": "IPY_MODEL_fef9f407907940729c8d69c452eb6360",
       "value": " 8/8 [00:00&lt;00:00, 17.69it/s]"
      }
     },
     "cab874b0768543649fd4fc8fa0b50377": {
      "model_module": "@jupyter-widgets/controls",
      "model_module_version": "1.5.0",
      "model_name": "HTMLModel",
      "state": {
       "layout": "IPY_MODEL_26244ca25ba24772aa36562e29ea8d12",
       "style": "IPY_MODEL_9e405a7a7243412c8414f5062965faa4",
       "value": "100%"
      }
     },
     "cafd0f2bcbbe4adfafda7d70331a0039": {
      "model_module": "@jupyter-widgets/base",
      "model_module_version": "1.2.0",
      "model_name": "LayoutModel",
      "state": {}
     },
     "cb299160eb2143f4905f76600d454eac": {
      "model_module": "@jupyter-widgets/base",
      "model_module_version": "1.2.0",
      "model_name": "LayoutModel",
      "state": {}
     },
     "cb571950d620451aaf826177800eeef6": {
      "model_module": "@jupyter-widgets/base",
      "model_module_version": "1.2.0",
      "model_name": "LayoutModel",
      "state": {}
     },
     "cb6b781120284e7e979b06d13f1936e5": {
      "model_module": "@jupyter-widgets/controls",
      "model_module_version": "1.5.0",
      "model_name": "DescriptionStyleModel",
      "state": {
       "description_width": ""
      }
     },
     "cb894fa2f2de4558826c3905ee94a1ca": {
      "model_module": "@jupyter-widgets/controls",
      "model_module_version": "1.5.0",
      "model_name": "ProgressStyleModel",
      "state": {
       "description_width": ""
      }
     },
     "cb9e41680e0949cda878b98b62e89213": {
      "model_module": "@jupyter-widgets/controls",
      "model_module_version": "1.5.0",
      "model_name": "DescriptionStyleModel",
      "state": {
       "description_width": ""
      }
     },
     "cbae6e69b8424fe7b978f7a10f3f8128": {
      "model_module": "@jupyter-widgets/controls",
      "model_module_version": "1.5.0",
      "model_name": "HTMLModel",
      "state": {
       "layout": "IPY_MODEL_927d774c50ce46b19fa69e2bd92c8bb2",
       "style": "IPY_MODEL_0b86cb4bc85c41e1a6849dc14888cd9c",
       "value": " 8/8 [00:00&lt;00:00, 17.14it/s]"
      }
     },
     "cc0969b8600d4f9a9ab09f557271dd2d": {
      "model_module": "@jupyter-widgets/controls",
      "model_module_version": "1.5.0",
      "model_name": "HTMLModel",
      "state": {
       "layout": "IPY_MODEL_b55f507ccfb448c2aa69e0dec31fdc3c",
       "style": "IPY_MODEL_6b7e030f727f478386a14b1aa5bcd255",
       "value": "Iterating through drift angles: 100%"
      }
     },
     "cc68026603b44d91b558eef5421059c0": {
      "model_module": "@jupyter-widgets/controls",
      "model_module_version": "1.5.0",
      "model_name": "HTMLModel",
      "state": {
       "layout": "IPY_MODEL_a9e62229b23e4ffbab1e0b963abdd912",
       "style": "IPY_MODEL_6cb69b1a7bc14cc3baffc5cdee8f3738",
       "value": "Iterating through drift speeds: 100%"
      }
     },
     "cc6cbf7a2c754d6d8abcc6ad9e2f0df2": {
      "model_module": "@jupyter-widgets/controls",
      "model_module_version": "1.5.0",
      "model_name": "DescriptionStyleModel",
      "state": {
       "description_width": ""
      }
     },
     "cccc2f0218d04cabb3e09c90cccbe36f": {
      "model_module": "@jupyter-widgets/base",
      "model_module_version": "1.2.0",
      "model_name": "LayoutModel",
      "state": {}
     },
     "ccda5ab441014ca5844dacb32466189a": {
      "model_module": "@jupyter-widgets/controls",
      "model_module_version": "1.5.0",
      "model_name": "DescriptionStyleModel",
      "state": {
       "description_width": ""
      }
     },
     "ccf9bb901e4d481bbea4eefe67cd90ac": {
      "model_module": "@jupyter-widgets/base",
      "model_module_version": "1.2.0",
      "model_name": "LayoutModel",
      "state": {}
     },
     "cd3d9066925c4694bc97efa6c57dee20": {
      "model_module": "@jupyter-widgets/base",
      "model_module_version": "1.2.0",
      "model_name": "LayoutModel",
      "state": {}
     },
     "cd4b7ecfb332418d9d282ee20e58fb9e": {
      "model_module": "@jupyter-widgets/controls",
      "model_module_version": "1.5.0",
      "model_name": "ProgressStyleModel",
      "state": {
       "description_width": ""
      }
     },
     "cd724587ac484295b01b3282feeb75ab": {
      "model_module": "@jupyter-widgets/controls",
      "model_module_version": "1.5.0",
      "model_name": "DescriptionStyleModel",
      "state": {
       "description_width": ""
      }
     },
     "cde5230846404c77b07545d30ea90250": {
      "model_module": "@jupyter-widgets/controls",
      "model_module_version": "1.5.0",
      "model_name": "DescriptionStyleModel",
      "state": {
       "description_width": ""
      }
     },
     "ce11f91e557f40b5a7658efeb9706da7": {
      "model_module": "@jupyter-widgets/controls",
      "model_module_version": "1.5.0",
      "model_name": "FloatProgressModel",
      "state": {
       "layout": "IPY_MODEL_d24a9c77ce1d4a5c8e7f8ffd118276e9",
       "max": 8,
       "style": "IPY_MODEL_2a6ddab9545e416395f9bb6f558b22f9",
       "value": 8
      }
     },
     "ce5483f2694f4ab1bcdbdb7f74029101": {
      "model_module": "@jupyter-widgets/controls",
      "model_module_version": "1.5.0",
      "model_name": "HTMLModel",
      "state": {
       "layout": "IPY_MODEL_6871a88bd62243da896266786c342f2b",
       "style": "IPY_MODEL_630fe9c2355f4b58a2a27483f4e6e2c2",
       "value": " 8/8 [00:00&lt;00:00, 16.98it/s]"
      }
     },
     "ce9f7792042543e9b04aa4e03e2e1bc9": {
      "model_module": "@jupyter-widgets/controls",
      "model_module_version": "1.5.0",
      "model_name": "FloatProgressModel",
      "state": {
       "layout": "IPY_MODEL_7634ef61e3bf4a52b91edf57a37e9dcb",
       "max": 8,
       "style": "IPY_MODEL_0ce13115ea5941e5b14e31b5fffa05c1",
       "value": 8
      }
     },
     "cf0fe2ddae8e498fb206619abd8a67ac": {
      "model_module": "@jupyter-widgets/base",
      "model_module_version": "1.2.0",
      "model_name": "LayoutModel",
      "state": {}
     },
     "cf38289a52df4df0a8eb682cd2a5325d": {
      "model_module": "@jupyter-widgets/controls",
      "model_module_version": "1.5.0",
      "model_name": "FloatProgressModel",
      "state": {
       "layout": "IPY_MODEL_e797b3fb8df2460eb6105ad372bd6ff0",
       "max": 8,
       "style": "IPY_MODEL_18cf3839911645ea9ef1d24fd70b8723",
       "value": 8
      }
     },
     "cfc03cb973fa44e295f81ae089b8a221": {
      "model_module": "@jupyter-widgets/controls",
      "model_module_version": "1.5.0",
      "model_name": "HTMLModel",
      "state": {
       "layout": "IPY_MODEL_cb571950d620451aaf826177800eeef6",
       "style": "IPY_MODEL_b0bccc5994e147e1adb2dbafe36da3ba",
       "value": "Iterating through drift speeds: 100%"
      }
     },
     "d015eab499b94aeb820c9cbc314ddda9": {
      "model_module": "@jupyter-widgets/controls",
      "model_module_version": "1.5.0",
      "model_name": "HTMLModel",
      "state": {
       "layout": "IPY_MODEL_467dec51b7074a0782f8f5e1520a3a8b",
       "style": "IPY_MODEL_8bb1fc956b20473a82c731618d02c5a9",
       "value": "Iterating through drift speeds: 100%"
      }
     },
     "d0609698c99f473e9f1dca9015e98d05": {
      "model_module": "@jupyter-widgets/controls",
      "model_module_version": "1.5.0",
      "model_name": "HTMLModel",
      "state": {
       "layout": "IPY_MODEL_dc38f9aaa4af412fb726910edb5d4378",
       "style": "IPY_MODEL_45e4aeb734354397bfed75814af9ea1b",
       "value": "Iterating through drift speeds: 100%"
      }
     },
     "d1581fdb846a48f5876da001a4acf310": {
      "model_module": "@jupyter-widgets/base",
      "model_module_version": "1.2.0",
      "model_name": "LayoutModel",
      "state": {}
     },
     "d15add84a99b4b44a3d6936563421075": {
      "model_module": "@jupyter-widgets/controls",
      "model_module_version": "1.5.0",
      "model_name": "ProgressStyleModel",
      "state": {
       "description_width": ""
      }
     },
     "d1baad4c0c6841b8a40af44933e4a8d1": {
      "model_module": "@jupyter-widgets/controls",
      "model_module_version": "1.5.0",
      "model_name": "DescriptionStyleModel",
      "state": {
       "description_width": ""
      }
     },
     "d1d3e7f6a1224605a9bca78a54877679": {
      "model_module": "@jupyter-widgets/base",
      "model_module_version": "1.2.0",
      "model_name": "LayoutModel",
      "state": {}
     },
     "d1db9a5e0795414b8044e08c6a933e7e": {
      "model_module": "@jupyter-widgets/controls",
      "model_module_version": "1.5.0",
      "model_name": "FloatProgressModel",
      "state": {
       "layout": "IPY_MODEL_174da1852560454ca39282a29f11435e",
       "max": 8,
       "style": "IPY_MODEL_a0f64e8900a9489492e9f5821a2ddd28",
       "value": 8
      }
     },
     "d1eb738738254e0fba94382266f89e68": {
      "model_module": "@jupyter-widgets/controls",
      "model_module_version": "1.5.0",
      "model_name": "FloatProgressModel",
      "state": {
       "bar_style": "success",
       "layout": "IPY_MODEL_8fb25123b99247afa324d4589ac93afb",
       "max": 8,
       "style": "IPY_MODEL_2e4db7b9ca6c4c3ab3791eac347fdf38",
       "value": 8
      }
     },
     "d24a9c77ce1d4a5c8e7f8ffd118276e9": {
      "model_module": "@jupyter-widgets/base",
      "model_module_version": "1.2.0",
      "model_name": "LayoutModel",
      "state": {}
     },
     "d297fb651ddd41de95c9b83ae3a8296b": {
      "model_module": "@jupyter-widgets/controls",
      "model_module_version": "1.5.0",
      "model_name": "FloatProgressModel",
      "state": {
       "layout": "IPY_MODEL_e5f7e8266fc142278af51abd49cf0075",
       "max": 8,
       "style": "IPY_MODEL_2eaa99c6a833459bb097086f48b593c5",
       "value": 8
      }
     },
     "d38aa45bfa8a4bf6bbb7376ceb8bf814": {
      "model_module": "@jupyter-widgets/controls",
      "model_module_version": "1.5.0",
      "model_name": "ProgressStyleModel",
      "state": {
       "description_width": ""
      }
     },
     "d431c03fa9864ac88f8cc043803b027a": {
      "model_module": "@jupyter-widgets/controls",
      "model_module_version": "1.5.0",
      "model_name": "DescriptionStyleModel",
      "state": {
       "description_width": ""
      }
     },
     "d44968850cbc44be8974f496dcd2cdd2": {
      "model_module": "@jupyter-widgets/base",
      "model_module_version": "1.2.0",
      "model_name": "LayoutModel",
      "state": {}
     },
     "d463e7a46b094800956f691ec9c5f99b": {
      "model_module": "@jupyter-widgets/base",
      "model_module_version": "1.2.0",
      "model_name": "LayoutModel",
      "state": {}
     },
     "d50a5694f996423f909dea9e77211d90": {
      "model_module": "@jupyter-widgets/controls",
      "model_module_version": "1.5.0",
      "model_name": "ProgressStyleModel",
      "state": {
       "description_width": ""
      }
     },
     "d583bd6dfd3f4237bcd80cfe097d2a2c": {
      "model_module": "@jupyter-widgets/base",
      "model_module_version": "1.2.0",
      "model_name": "LayoutModel",
      "state": {}
     },
     "d597456a8e734cb2b26daf9a8850a9a2": {
      "model_module": "@jupyter-widgets/base",
      "model_module_version": "1.2.0",
      "model_name": "LayoutModel",
      "state": {}
     },
     "d6f6d55a3b3b45579f23629dceb7cee5": {
      "model_module": "@jupyter-widgets/controls",
      "model_module_version": "1.5.0",
      "model_name": "ProgressStyleModel",
      "state": {
       "description_width": ""
      }
     },
     "d703f8d525514a9081c01b0bd7ac07b3": {
      "model_module": "@jupyter-widgets/controls",
      "model_module_version": "1.5.0",
      "model_name": "FloatProgressModel",
      "state": {
       "layout": "IPY_MODEL_b87a20d9f55643528e94f0e79bb3032a",
       "max": 8,
       "style": "IPY_MODEL_549afd11426b426ea0c428d42dd99d1f",
       "value": 8
      }
     },
     "d70d437a16a9472ca1f7424281e05073": {
      "model_module": "@jupyter-widgets/base",
      "model_module_version": "1.2.0",
      "model_name": "LayoutModel",
      "state": {}
     },
     "d77e498b73844a239670e5664d99a31e": {
      "model_module": "@jupyter-widgets/controls",
      "model_module_version": "1.5.0",
      "model_name": "HTMLModel",
      "state": {
       "layout": "IPY_MODEL_44b3143e5f8348a397ca343cb568ba8d",
       "style": "IPY_MODEL_1504ef151f6340bfac5aba87ed689b46",
       "value": " 8/8 [00:00&lt;00:00, 17.02it/s]"
      }
     },
     "d7a6dac42119440991e82d7e24d11158": {
      "model_module": "@jupyter-widgets/base",
      "model_module_version": "1.2.0",
      "model_name": "LayoutModel",
      "state": {}
     },
     "d7fb382282d440e2b324430c958e8900": {
      "model_module": "@jupyter-widgets/controls",
      "model_module_version": "1.5.0",
      "model_name": "DescriptionStyleModel",
      "state": {
       "description_width": ""
      }
     },
     "d89b96737157469a8076a67ed196d9be": {
      "model_module": "@jupyter-widgets/controls",
      "model_module_version": "1.5.0",
      "model_name": "ProgressStyleModel",
      "state": {
       "description_width": ""
      }
     },
     "d8a23505e7a648739f55cc048d393ef6": {
      "model_module": "@jupyter-widgets/controls",
      "model_module_version": "1.5.0",
      "model_name": "HTMLModel",
      "state": {
       "layout": "IPY_MODEL_24addfa585f1492892db8c23e954f35c",
       "style": "IPY_MODEL_13c1f0359bd04785925eead583ac6c3b",
       "value": " 8/8 [00:00&lt;00:00, 16.67it/s]"
      }
     },
     "d9acc8228089495f83a8c35dc7b715f5": {
      "model_module": "@jupyter-widgets/base",
      "model_module_version": "1.2.0",
      "model_name": "LayoutModel",
      "state": {}
     },
     "d9c3c415733b4deea73bacab91a488f3": {
      "model_module": "@jupyter-widgets/base",
      "model_module_version": "1.2.0",
      "model_name": "LayoutModel",
      "state": {}
     },
     "d9c6dc5e2e1d467193df80efc87c5c98": {
      "model_module": "@jupyter-widgets/controls",
      "model_module_version": "1.5.0",
      "model_name": "HTMLModel",
      "state": {
       "layout": "IPY_MODEL_ae764de9af91421e86a1e420c1b59b80",
       "style": "IPY_MODEL_f24588c174274f8c8f3964e119e2bb4d",
       "value": "Iterating through drift speeds: 100%"
      }
     },
     "daccbf78ecbe4e818dcee5a8ff1d5c0b": {
      "model_module": "@jupyter-widgets/controls",
      "model_module_version": "1.5.0",
      "model_name": "DescriptionStyleModel",
      "state": {
       "description_width": ""
      }
     },
     "db023359b6244bcdaac009e0b3b19d78": {
      "model_module": "@jupyter-widgets/controls",
      "model_module_version": "1.5.0",
      "model_name": "ProgressStyleModel",
      "state": {
       "description_width": ""
      }
     },
     "db04f5b9f1d14b9e81da092d6924044e": {
      "model_module": "@jupyter-widgets/base",
      "model_module_version": "1.2.0",
      "model_name": "LayoutModel",
      "state": {}
     },
     "db4f87dbe5204d22bddd037a44852967": {
      "model_module": "@jupyter-widgets/controls",
      "model_module_version": "1.5.0",
      "model_name": "DescriptionStyleModel",
      "state": {
       "description_width": ""
      }
     },
     "dc38f9aaa4af412fb726910edb5d4378": {
      "model_module": "@jupyter-widgets/base",
      "model_module_version": "1.2.0",
      "model_name": "LayoutModel",
      "state": {}
     },
     "dc71d0951e40484ea3a738f6cfe02ce7": {
      "model_module": "@jupyter-widgets/controls",
      "model_module_version": "1.5.0",
      "model_name": "HTMLModel",
      "state": {
       "layout": "IPY_MODEL_30a4aa67b5fc4d6d952026e08d02e90c",
       "style": "IPY_MODEL_917517029443433d82e04db22b3f5c1b",
       "value": "Iterating through drift speeds: 100%"
      }
     },
     "dca5db2880544061bb24ce2f0ebf6f0d": {
      "model_module": "@jupyter-widgets/base",
      "model_module_version": "1.2.0",
      "model_name": "LayoutModel",
      "state": {}
     },
     "dca759b130d842a39b14a69726b513f3": {
      "model_module": "@jupyter-widgets/base",
      "model_module_version": "1.2.0",
      "model_name": "LayoutModel",
      "state": {}
     },
     "dd12297adf33491cb1b0d8e0ebb3aac7": {
      "model_module": "@jupyter-widgets/base",
      "model_module_version": "1.2.0",
      "model_name": "LayoutModel",
      "state": {}
     },
     "dd3036891751406e8132ddbc95dbe164": {
      "model_module": "@jupyter-widgets/controls",
      "model_module_version": "1.5.0",
      "model_name": "DescriptionStyleModel",
      "state": {
       "description_width": ""
      }
     },
     "dd68c290a2cf480b909b508ffd14b73a": {
      "model_module": "@jupyter-widgets/controls",
      "model_module_version": "1.5.0",
      "model_name": "HTMLModel",
      "state": {
       "layout": "IPY_MODEL_150575ecdfb7427b838a1e87252ceedc",
       "style": "IPY_MODEL_5aa365454ec64dfcb87d15e9a30dc1f4",
       "value": " 8/8 [00:03&lt;00:00,  2.07it/s]"
      }
     },
     "dd88b138d1cd4cebbf69a5a19de645bd": {
      "model_module": "@jupyter-widgets/controls",
      "model_module_version": "1.5.0",
      "model_name": "DescriptionStyleModel",
      "state": {
       "description_width": ""
      }
     },
     "ddd1dbba84614bf98c89ea8a7bb52533": {
      "model_module": "@jupyter-widgets/controls",
      "model_module_version": "1.5.0",
      "model_name": "HTMLModel",
      "state": {
       "layout": "IPY_MODEL_2943166c16024a74a247205aa4e1f6dc",
       "style": "IPY_MODEL_8ff7c859f9324cdf8239b68ccb5e8f8e",
       "value": "Iterating through drift speeds: 100%"
      }
     },
     "dde5fbdd87224495bb4329768c403abe": {
      "model_module": "@jupyter-widgets/base",
      "model_module_version": "1.2.0",
      "model_name": "LayoutModel",
      "state": {}
     },
     "deea3ee007f24c53b3eb8553fd7597ef": {
      "model_module": "@jupyter-widgets/base",
      "model_module_version": "1.2.0",
      "model_name": "LayoutModel",
      "state": {}
     },
     "df4546725b764f14b7c5837744b21cc0": {
      "model_module": "@jupyter-widgets/controls",
      "model_module_version": "1.5.0",
      "model_name": "HTMLModel",
      "state": {
       "layout": "IPY_MODEL_0a7c611bbaad43a3ac3f081de17f9553",
       "style": "IPY_MODEL_c4392fbc647e4bbaabfdd68acf93b6b3",
       "value": "Iterating through drift speeds: 100%"
      }
     },
     "df9c444785d24ff18493ce01ee1aa23d": {
      "model_module": "@jupyter-widgets/controls",
      "model_module_version": "1.5.0",
      "model_name": "DescriptionStyleModel",
      "state": {
       "description_width": ""
      }
     },
     "dfc965f4132046b0bc7d815a83fc1049": {
      "model_module": "@jupyter-widgets/controls",
      "model_module_version": "1.5.0",
      "model_name": "HTMLModel",
      "state": {
       "layout": "IPY_MODEL_a351091c651844678371a9bc023dbf88",
       "style": "IPY_MODEL_fb57c754d14e47b0aa8509daca74305f",
       "value": "Iterating through drift speeds: 100%"
      }
     },
     "dfccc71e82d24a70aca2b20d9a5f98e0": {
      "model_module": "@jupyter-widgets/controls",
      "model_module_version": "1.5.0",
      "model_name": "FloatProgressModel",
      "state": {
       "layout": "IPY_MODEL_e509e5595a89466199110c5e18827e15",
       "max": 8,
       "style": "IPY_MODEL_1b8ae6e447084a62b6228fdf5988a2f5",
       "value": 8
      }
     },
     "dfda2047020041cfb890c0a1ff9aca18": {
      "model_module": "@jupyter-widgets/controls",
      "model_module_version": "1.5.0",
      "model_name": "DescriptionStyleModel",
      "state": {
       "description_width": ""
      }
     },
     "e003a15d2fbd4f749bc347bed1a63e39": {
      "model_module": "@jupyter-widgets/controls",
      "model_module_version": "1.5.0",
      "model_name": "DescriptionStyleModel",
      "state": {
       "description_width": ""
      }
     },
     "e007e03f6f6a4c94ba53e68dea915019": {
      "model_module": "@jupyter-widgets/controls",
      "model_module_version": "1.5.0",
      "model_name": "HTMLModel",
      "state": {
       "layout": "IPY_MODEL_59a50b94f6934eaf99db1ab346ddd775",
       "style": "IPY_MODEL_2c3783d85801422b8be74bf0d581e6fe",
       "value": "Iterating through drift angles: 100%"
      }
     },
     "e02e068ba14249f9ad8187f3c50bd329": {
      "model_module": "@jupyter-widgets/controls",
      "model_module_version": "1.5.0",
      "model_name": "HTMLModel",
      "state": {
       "layout": "IPY_MODEL_c046a522d1f04d03b3b76c645431932b",
       "style": "IPY_MODEL_dd3036891751406e8132ddbc95dbe164",
       "value": " 8/8 [00:00&lt;00:00, 16.19it/s]"
      }
     },
     "e0a848c6baf14564b791b317d904d8cb": {
      "model_module": "@jupyter-widgets/base",
      "model_module_version": "1.2.0",
      "model_name": "LayoutModel",
      "state": {}
     },
     "e1133b61681d46fa8a01701830020a6d": {
      "model_module": "@jupyter-widgets/controls",
      "model_module_version": "1.5.0",
      "model_name": "HTMLModel",
      "state": {
       "layout": "IPY_MODEL_36fb55ece09c4e5f9e12d619148bfb6a",
       "style": "IPY_MODEL_334c1eb17dfe48bf931e8d1583b55534",
       "value": "Iterating through drift speeds: 100%"
      }
     },
     "e11e2c78eac2494d8950ff2b1e6ba3e1": {
      "model_module": "@jupyter-widgets/base",
      "model_module_version": "1.2.0",
      "model_name": "LayoutModel",
      "state": {}
     },
     "e21a2c5ca4b94f95b4610fceb8ec93a8": {
      "model_module": "@jupyter-widgets/base",
      "model_module_version": "1.2.0",
      "model_name": "LayoutModel",
      "state": {}
     },
     "e26695a9214b4517b5851ce4c4c3dbcc": {
      "model_module": "@jupyter-widgets/controls",
      "model_module_version": "1.5.0",
      "model_name": "HTMLModel",
      "state": {
       "layout": "IPY_MODEL_cb299160eb2143f4905f76600d454eac",
       "style": "IPY_MODEL_990a7111ef6b44f4917fd95cbc24a84c",
       "value": " 8/8 [00:00&lt;00:00, 17.22it/s]"
      }
     },
     "e2cc6353579e4842903995663798903e": {
      "model_module": "@jupyter-widgets/controls",
      "model_module_version": "1.5.0",
      "model_name": "HTMLModel",
      "state": {
       "layout": "IPY_MODEL_02cb0e620a1748acaa2f17f92827548d",
       "style": "IPY_MODEL_3a31861a322b401180f00e51eee23d24",
       "value": "Iterating through drift speeds: 100%"
      }
     },
     "e2f82c6ed2e547d0a062821fc23529ef": {
      "model_module": "@jupyter-widgets/base",
      "model_module_version": "1.2.0",
      "model_name": "LayoutModel",
      "state": {}
     },
     "e2fc87c2e06f40fc8c0e898460185717": {
      "model_module": "@jupyter-widgets/base",
      "model_module_version": "1.2.0",
      "model_name": "LayoutModel",
      "state": {}
     },
     "e32db24eb7bf4a188842bf81c4439910": {
      "model_module": "@jupyter-widgets/controls",
      "model_module_version": "1.5.0",
      "model_name": "DescriptionStyleModel",
      "state": {
       "description_width": ""
      }
     },
     "e41172b0f4ab4f94996013d99c885536": {
      "model_module": "@jupyter-widgets/base",
      "model_module_version": "1.2.0",
      "model_name": "LayoutModel",
      "state": {}
     },
     "e48c98f9dc2a42ee9c32ba17af6c0964": {
      "model_module": "@jupyter-widgets/controls",
      "model_module_version": "1.5.0",
      "model_name": "HBoxModel",
      "state": {
       "children": [
        "IPY_MODEL_3eb6e990817b4d76a74f3add447022fb",
        "IPY_MODEL_6611f735832f4a1799f31054ecbda954",
        "IPY_MODEL_6e2be4ad0f124b65997f17be8f93e5e4"
       ],
       "layout": "IPY_MODEL_430e0d9a4df040c8ad5b15cb4c51ad02"
      }
     },
     "e4b1a0ac42c54ba0bba028c2141de3f7": {
      "model_module": "@jupyter-widgets/controls",
      "model_module_version": "1.5.0",
      "model_name": "HTMLModel",
      "state": {
       "layout": "IPY_MODEL_979778bb9165428d849e0d004eb23c4a",
       "style": "IPY_MODEL_3c061e4ff49341fe90bc7d0576d54f07",
       "value": " 0/1 [00:00&lt;?, ?it/s]"
      }
     },
     "e509e5595a89466199110c5e18827e15": {
      "model_module": "@jupyter-widgets/base",
      "model_module_version": "1.2.0",
      "model_name": "LayoutModel",
      "state": {}
     },
     "e5596a47b43044a9accdeaec4105b2bc": {
      "model_module": "@jupyter-widgets/controls",
      "model_module_version": "1.5.0",
      "model_name": "ProgressStyleModel",
      "state": {
       "description_width": ""
      }
     },
     "e58ce2dc71e0432aaf1b780446c49a93": {
      "model_module": "@jupyter-widgets/base",
      "model_module_version": "1.2.0",
      "model_name": "LayoutModel",
      "state": {}
     },
     "e5df688ec1e9448f816f9fe797128b5c": {
      "model_module": "@jupyter-widgets/controls",
      "model_module_version": "1.5.0",
      "model_name": "FloatProgressModel",
      "state": {
       "layout": "IPY_MODEL_25075ee03ab94e95b36a4082d828ee34",
       "max": 8,
       "style": "IPY_MODEL_bc700d463b4043d48ccd50c553ba8954",
       "value": 8
      }
     },
     "e5e0dc64d9074a83aaa96e174b7b58eb": {
      "model_module": "@jupyter-widgets/base",
      "model_module_version": "1.2.0",
      "model_name": "LayoutModel",
      "state": {}
     },
     "e5f7e8266fc142278af51abd49cf0075": {
      "model_module": "@jupyter-widgets/base",
      "model_module_version": "1.2.0",
      "model_name": "LayoutModel",
      "state": {}
     },
     "e5ffa38701e1409b944a2c2422b5bb2c": {
      "model_module": "@jupyter-widgets/controls",
      "model_module_version": "1.5.0",
      "model_name": "HTMLModel",
      "state": {
       "layout": "IPY_MODEL_d44968850cbc44be8974f496dcd2cdd2",
       "style": "IPY_MODEL_9263073ad83542a59900de572b581390",
       "value": " 8/8 [00:00&lt;00:00, 16.80it/s]"
      }
     },
     "e65d7d9c24fd4cd782f21638866d67b6": {
      "model_module": "@jupyter-widgets/controls",
      "model_module_version": "1.5.0",
      "model_name": "FloatProgressModel",
      "state": {
       "layout": "IPY_MODEL_d463e7a46b094800956f691ec9c5f99b",
       "max": 8,
       "style": "IPY_MODEL_39281e87360d4d81b8102974372e7d73",
       "value": 8
      }
     },
     "e66574e313e34ba9b9f3deb2bd0d29cf": {
      "model_module": "@jupyter-widgets/base",
      "model_module_version": "1.2.0",
      "model_name": "LayoutModel",
      "state": {}
     },
     "e6a0aa67904a492f8d0e65abdb7ea494": {
      "model_module": "@jupyter-widgets/controls",
      "model_module_version": "1.5.0",
      "model_name": "FloatProgressModel",
      "state": {
       "layout": "IPY_MODEL_6f0513ba991c4b44b69f452cfc9518ee",
       "max": 8,
       "style": "IPY_MODEL_53f44b4f4a5e4b98bc8f2d58cda03eec",
       "value": 8
      }
     },
     "e7928e36d1694ff6957930352fdde917": {
      "model_module": "@jupyter-widgets/base",
      "model_module_version": "1.2.0",
      "model_name": "LayoutModel",
      "state": {}
     },
     "e797b3fb8df2460eb6105ad372bd6ff0": {
      "model_module": "@jupyter-widgets/base",
      "model_module_version": "1.2.0",
      "model_name": "LayoutModel",
      "state": {}
     },
     "e7a619baac464f3bb6622a16e026f3fe": {
      "model_module": "@jupyter-widgets/controls",
      "model_module_version": "1.5.0",
      "model_name": "HBoxModel",
      "state": {
       "children": [
        "IPY_MODEL_f311db473cdb4998980f247c28e53b95",
        "IPY_MODEL_d1eb738738254e0fba94382266f89e68",
        "IPY_MODEL_518de4d172cc4d029124aaa55c0a45e4"
       ],
       "layout": "IPY_MODEL_c193c8aa510f46b887d819714022e45a"
      }
     },
     "e7b2a13997c14ba19655275db176e5f5": {
      "model_module": "@jupyter-widgets/controls",
      "model_module_version": "1.5.0",
      "model_name": "HTMLModel",
      "state": {
       "layout": "IPY_MODEL_32d50a1d50b9448c9c61d08865096d0d",
       "style": "IPY_MODEL_4b039649a4f84379b6221382beab7866",
       "value": " 8/8 [00:00&lt;00:00, 17.01it/s]"
      }
     },
     "e83f33918874454083e38e05cccda479": {
      "model_module": "@jupyter-widgets/base",
      "model_module_version": "1.2.0",
      "model_name": "LayoutModel",
      "state": {}
     },
     "e8858fbe33ba4c9babb5110b6e025daf": {
      "model_module": "@jupyter-widgets/controls",
      "model_module_version": "1.5.0",
      "model_name": "DescriptionStyleModel",
      "state": {
       "description_width": ""
      }
     },
     "e8915b2012864acaa29eda4059799c68": {
      "model_module": "@jupyter-widgets/controls",
      "model_module_version": "1.5.0",
      "model_name": "FloatProgressModel",
      "state": {
       "layout": "IPY_MODEL_f130f918a1ac48958d124140b20b7e86",
       "max": 8,
       "style": "IPY_MODEL_41b482628c524cd49486f4093b49cbe1",
       "value": 8
      }
     },
     "e95ef532a61a4ac19a8ea5b0bc0048c8": {
      "model_module": "@jupyter-widgets/base",
      "model_module_version": "1.2.0",
      "model_name": "LayoutModel",
      "state": {}
     },
     "ea8197676b29463b85132eda17a60d52": {
      "model_module": "@jupyter-widgets/base",
      "model_module_version": "1.2.0",
      "model_name": "LayoutModel",
      "state": {}
     },
     "eb01ed4c71f8478d96533c01188e8fe9": {
      "model_module": "@jupyter-widgets/controls",
      "model_module_version": "1.5.0",
      "model_name": "DescriptionStyleModel",
      "state": {
       "description_width": ""
      }
     },
     "eb212e6240384cceaa687f1764c4a554": {
      "model_module": "@jupyter-widgets/base",
      "model_module_version": "1.2.0",
      "model_name": "LayoutModel",
      "state": {}
     },
     "ebb0eb0376a34bd1bf46e7683db83dd0": {
      "model_module": "@jupyter-widgets/controls",
      "model_module_version": "1.5.0",
      "model_name": "FloatProgressModel",
      "state": {
       "layout": "IPY_MODEL_d583bd6dfd3f4237bcd80cfe097d2a2c",
       "max": 8,
       "style": "IPY_MODEL_08fa17845af6457393ed1e1176bb763a",
       "value": 8
      }
     },
     "ec2b0c25abcc4070ba2ff9a803914ee8": {
      "model_module": "@jupyter-widgets/base",
      "model_module_version": "1.2.0",
      "model_name": "LayoutModel",
      "state": {}
     },
     "ec4ddfecdd254d51b700d1fb07bffd93": {
      "model_module": "@jupyter-widgets/base",
      "model_module_version": "1.2.0",
      "model_name": "LayoutModel",
      "state": {}
     },
     "ed2242335f0c469d99952653ba65dab9": {
      "model_module": "@jupyter-widgets/base",
      "model_module_version": "1.2.0",
      "model_name": "LayoutModel",
      "state": {}
     },
     "ed8f8cd7aaed4b569e28060edd46a976": {
      "model_module": "@jupyter-widgets/controls",
      "model_module_version": "1.5.0",
      "model_name": "DescriptionStyleModel",
      "state": {
       "description_width": ""
      }
     },
     "ee124dfeb98f4570984c1a0d61286080": {
      "model_module": "@jupyter-widgets/base",
      "model_module_version": "1.2.0",
      "model_name": "LayoutModel",
      "state": {}
     },
     "ee3a9cceff3b4f168cfea286e8f069ad": {
      "model_module": "@jupyter-widgets/base",
      "model_module_version": "1.2.0",
      "model_name": "LayoutModel",
      "state": {}
     },
     "ee3d488601de42d7a94901e3a8184d3e": {
      "model_module": "@jupyter-widgets/controls",
      "model_module_version": "1.5.0",
      "model_name": "HTMLModel",
      "state": {
       "layout": "IPY_MODEL_82058bdfb1014a8c8f5264754680cb94",
       "style": "IPY_MODEL_fda124f5c2b94c8e968bf309eec4e8f8",
       "value": " 8/8 [00:00&lt;00:00, 17.51it/s]"
      }
     },
     "ee43e93e95854a468bfe5384d837094c": {
      "model_module": "@jupyter-widgets/base",
      "model_module_version": "1.2.0",
      "model_name": "LayoutModel",
      "state": {}
     },
     "ee58c1f384b540278f8681fc90919ddf": {
      "model_module": "@jupyter-widgets/controls",
      "model_module_version": "1.5.0",
      "model_name": "DescriptionStyleModel",
      "state": {
       "description_width": ""
      }
     },
     "ee6b08622fce4fd1b523076499053adc": {
      "model_module": "@jupyter-widgets/controls",
      "model_module_version": "1.5.0",
      "model_name": "DescriptionStyleModel",
      "state": {
       "description_width": ""
      }
     },
     "eec5b95525e04eb5a4d976466c2d0607": {
      "model_module": "@jupyter-widgets/base",
      "model_module_version": "1.2.0",
      "model_name": "LayoutModel",
      "state": {}
     },
     "eef038541def4d428233b269c6a89574": {
      "model_module": "@jupyter-widgets/controls",
      "model_module_version": "1.5.0",
      "model_name": "DescriptionStyleModel",
      "state": {
       "description_width": ""
      }
     },
     "ef1dfc2628554f96a4ceab8e537b73f9": {
      "model_module": "@jupyter-widgets/controls",
      "model_module_version": "1.5.0",
      "model_name": "DescriptionStyleModel",
      "state": {
       "description_width": ""
      }
     },
     "ef2a9e9a595948fa9d8d810999bd85e6": {
      "model_module": "@jupyter-widgets/controls",
      "model_module_version": "1.5.0",
      "model_name": "FloatProgressModel",
      "state": {
       "bar_style": "success",
       "layout": "IPY_MODEL_402a54e7250d4646a9079c6ff7c0dd4d",
       "max": 8,
       "style": "IPY_MODEL_3b6b0b82130847c49b4f784b27e1e6fd",
       "value": 8
      }
     },
     "f025e5d3307447de8d9712168aab548d": {
      "model_module": "@jupyter-widgets/base",
      "model_module_version": "1.2.0",
      "model_name": "LayoutModel",
      "state": {}
     },
     "f02616aa7c414875a1f77dbcac4ccb2a": {
      "model_module": "@jupyter-widgets/controls",
      "model_module_version": "1.5.0",
      "model_name": "FloatProgressModel",
      "state": {
       "layout": "IPY_MODEL_3821587248cf45f8bfe00e977da295e4",
       "max": 8,
       "style": "IPY_MODEL_35c9dd7f08184c4b9faedda20e2e9cb0",
       "value": 8
      }
     },
     "f0aa1cda63414786a2e07aa62e355e5b": {
      "model_module": "@jupyter-widgets/controls",
      "model_module_version": "1.5.0",
      "model_name": "DescriptionStyleModel",
      "state": {
       "description_width": ""
      }
     },
     "f0aeecb50dcf4056af2bc5bbbe03d4b5": {
      "model_module": "@jupyter-widgets/base",
      "model_module_version": "1.2.0",
      "model_name": "LayoutModel",
      "state": {}
     },
     "f108b8917be445a391a588192a2b5827": {
      "model_module": "@jupyter-widgets/base",
      "model_module_version": "1.2.0",
      "model_name": "LayoutModel",
      "state": {}
     },
     "f130f918a1ac48958d124140b20b7e86": {
      "model_module": "@jupyter-widgets/base",
      "model_module_version": "1.2.0",
      "model_name": "LayoutModel",
      "state": {}
     },
     "f1c8d7ca668649b987a82e5e1e50c48f": {
      "model_module": "@jupyter-widgets/controls",
      "model_module_version": "1.5.0",
      "model_name": "ProgressStyleModel",
      "state": {
       "description_width": ""
      }
     },
     "f21dd0e6861d4268b8beae3fa290edf4": {
      "model_module": "@jupyter-widgets/controls",
      "model_module_version": "1.5.0",
      "model_name": "DescriptionStyleModel",
      "state": {
       "description_width": ""
      }
     },
     "f24588c174274f8c8f3964e119e2bb4d": {
      "model_module": "@jupyter-widgets/controls",
      "model_module_version": "1.5.0",
      "model_name": "DescriptionStyleModel",
      "state": {
       "description_width": ""
      }
     },
     "f3110e4b8d3f4c8daaefcf9faf14901a": {
      "model_module": "@jupyter-widgets/base",
      "model_module_version": "1.2.0",
      "model_name": "LayoutModel",
      "state": {}
     },
     "f311db473cdb4998980f247c28e53b95": {
      "model_module": "@jupyter-widgets/controls",
      "model_module_version": "1.5.0",
      "model_name": "HTMLModel",
      "state": {
       "layout": "IPY_MODEL_26bbb2f78d4d4ce596aee3c56ec1c6bd",
       "style": "IPY_MODEL_ee6b08622fce4fd1b523076499053adc",
       "value": "Iterating through drift angles: 100%"
      }
     },
     "f333ff9cdfed43b0aff44ce63511584c": {
      "model_module": "@jupyter-widgets/controls",
      "model_module_version": "1.5.0",
      "model_name": "HTMLModel",
      "state": {
       "layout": "IPY_MODEL_f025e5d3307447de8d9712168aab548d",
       "style": "IPY_MODEL_eb01ed4c71f8478d96533c01188e8fe9",
       "value": " 8/8 [00:03&lt;00:00,  2.09it/s]"
      }
     },
     "f35a7ddb5ba74326bd56a0fc7ee79465": {
      "model_module": "@jupyter-widgets/controls",
      "model_module_version": "1.5.0",
      "model_name": "DescriptionStyleModel",
      "state": {
       "description_width": ""
      }
     },
     "f3714d653aac4108aba3ffa4ecc36279": {
      "model_module": "@jupyter-widgets/base",
      "model_module_version": "1.2.0",
      "model_name": "LayoutModel",
      "state": {}
     },
     "f38cd6dcf13844f39e341efa9306ea1f": {
      "model_module": "@jupyter-widgets/controls",
      "model_module_version": "1.5.0",
      "model_name": "HBoxModel",
      "state": {
       "children": [
        "IPY_MODEL_3ed9c97cba5e4819859262523e1b4576",
        "IPY_MODEL_c3f511869ac14f1d8d6eec1570e4923f",
        "IPY_MODEL_5f3b1fbadfaa4e96a4d145db1da05694"
       ],
       "layout": "IPY_MODEL_7f2c63ee21de464689a06ac9eea6dd6e"
      }
     },
     "f4044192dac44c5baba7978d36a16773": {
      "model_module": "@jupyter-widgets/base",
      "model_module_version": "1.2.0",
      "model_name": "LayoutModel",
      "state": {}
     },
     "f4832a0b71ee4cf0ac8d001eaebb941e": {
      "model_module": "@jupyter-widgets/base",
      "model_module_version": "1.2.0",
      "model_name": "LayoutModel",
      "state": {}
     },
     "f4a08d57eb354816a35d20eace5754a8": {
      "model_module": "@jupyter-widgets/base",
      "model_module_version": "1.2.0",
      "model_name": "LayoutModel",
      "state": {}
     },
     "f5336f8cba8146619f62c3863ab66a76": {
      "model_module": "@jupyter-widgets/base",
      "model_module_version": "1.2.0",
      "model_name": "LayoutModel",
      "state": {}
     },
     "f5a47afe9243482cb35f90a001edfcac": {
      "model_module": "@jupyter-widgets/base",
      "model_module_version": "1.2.0",
      "model_name": "LayoutModel",
      "state": {}
     },
     "f5dcefeffbd34bb8affb000b2621e6e5": {
      "model_module": "@jupyter-widgets/base",
      "model_module_version": "1.2.0",
      "model_name": "LayoutModel",
      "state": {}
     },
     "f5e4880c7c994e26bc6df69580be36f1": {
      "model_module": "@jupyter-widgets/base",
      "model_module_version": "1.2.0",
      "model_name": "LayoutModel",
      "state": {}
     },
     "f5e95dbe76fa440e96d81b3798dc12c7": {
      "model_module": "@jupyter-widgets/controls",
      "model_module_version": "1.5.0",
      "model_name": "ProgressStyleModel",
      "state": {
       "description_width": ""
      }
     },
     "f642b7c78cdd4494b84bbf6e2b6abb20": {
      "model_module": "@jupyter-widgets/controls",
      "model_module_version": "1.5.0",
      "model_name": "HTMLModel",
      "state": {
       "layout": "IPY_MODEL_bbbabc854c67432fbc9b1853150bf87f",
       "style": "IPY_MODEL_92e70534ad8d4de8863efc4fa717579c",
       "value": "Iterating through drift speeds: 100%"
      }
     },
     "f694efcdb9184c4aad154040eee70a2d": {
      "model_module": "@jupyter-widgets/base",
      "model_module_version": "1.2.0",
      "model_name": "LayoutModel",
      "state": {}
     },
     "f69c033ba76f4ac0bfdb7c8861494eac": {
      "model_module": "@jupyter-widgets/controls",
      "model_module_version": "1.5.0",
      "model_name": "DescriptionStyleModel",
      "state": {
       "description_width": ""
      }
     },
     "f69d3e4b479d41768554190caf1bfd90": {
      "model_module": "@jupyter-widgets/controls",
      "model_module_version": "1.5.0",
      "model_name": "FloatProgressModel",
      "state": {
       "layout": "IPY_MODEL_1b29fc510ea2457a9dd02bbb130e0286",
       "max": 8,
       "style": "IPY_MODEL_34ea6576c0d04a9b93dec82e33a20b23",
       "value": 8
      }
     },
     "f6a70686bf6a443087783a5be94d9af8": {
      "model_module": "@jupyter-widgets/base",
      "model_module_version": "1.2.0",
      "model_name": "LayoutModel",
      "state": {}
     },
     "f6b065ce777d4e2c9292ebf891aa45d5": {
      "model_module": "@jupyter-widgets/controls",
      "model_module_version": "1.5.0",
      "model_name": "ProgressStyleModel",
      "state": {
       "description_width": ""
      }
     },
     "f6e7704280274db88babe608aeb5cde9": {
      "model_module": "@jupyter-widgets/controls",
      "model_module_version": "1.5.0",
      "model_name": "ProgressStyleModel",
      "state": {
       "description_width": ""
      }
     },
     "f6fbf00760f1466c84baa2c6c301c40b": {
      "model_module": "@jupyter-widgets/controls",
      "model_module_version": "1.5.0",
      "model_name": "DescriptionStyleModel",
      "state": {
       "description_width": ""
      }
     },
     "f7a3b5c114db47fb95629d41166e597d": {
      "model_module": "@jupyter-widgets/base",
      "model_module_version": "1.2.0",
      "model_name": "LayoutModel",
      "state": {}
     },
     "f7b3ef3b138e4b9eac3052cee7abd673": {
      "model_module": "@jupyter-widgets/controls",
      "model_module_version": "1.5.0",
      "model_name": "DescriptionStyleModel",
      "state": {
       "description_width": ""
      }
     },
     "f7df88f3a8d642a2acf473cb41f78d0e": {
      "model_module": "@jupyter-widgets/controls",
      "model_module_version": "1.5.0",
      "model_name": "DescriptionStyleModel",
      "state": {
       "description_width": ""
      }
     },
     "f8168287f5d44f72b809f8a42f95a68b": {
      "model_module": "@jupyter-widgets/controls",
      "model_module_version": "1.5.0",
      "model_name": "FloatProgressModel",
      "state": {
       "layout": "IPY_MODEL_bf7ed4ecc2cb4a0e83e84f9c0fc6517e",
       "max": 8,
       "style": "IPY_MODEL_c20dd26e7d194facaa0c78f831f6466c",
       "value": 8
      }
     },
     "f8745b691d01485db442844b4cbf3105": {
      "model_module": "@jupyter-widgets/controls",
      "model_module_version": "1.5.0",
      "model_name": "HTMLModel",
      "state": {
       "layout": "IPY_MODEL_90e87922c0734678944b264d735de0b8",
       "style": "IPY_MODEL_05a8cd477d274c29997babb75ec8124d",
       "value": "Iterating through drift speeds: 100%"
      }
     },
     "f89594f8ec894193a80eb69b68b96014": {
      "model_module": "@jupyter-widgets/controls",
      "model_module_version": "1.5.0",
      "model_name": "DescriptionStyleModel",
      "state": {
       "description_width": ""
      }
     },
     "f9140f55c74d42219f2f42d605fb8847": {
      "model_module": "@jupyter-widgets/controls",
      "model_module_version": "1.5.0",
      "model_name": "FloatProgressModel",
      "state": {
       "layout": "IPY_MODEL_ed2242335f0c469d99952653ba65dab9",
       "max": 8,
       "style": "IPY_MODEL_8aef5f71417e4c5ebe22d7298fde70fa",
       "value": 8
      }
     },
     "f977d8b6a5ee4a82846738dd948f183c": {
      "model_module": "@jupyter-widgets/controls",
      "model_module_version": "1.5.0",
      "model_name": "DescriptionStyleModel",
      "state": {
       "description_width": ""
      }
     },
     "fa3afee6fb574777b26322d1c5cc2876": {
      "model_module": "@jupyter-widgets/base",
      "model_module_version": "1.2.0",
      "model_name": "LayoutModel",
      "state": {}
     },
     "fa4c463428584dffa2e6374be5a78ec1": {
      "model_module": "@jupyter-widgets/controls",
      "model_module_version": "1.5.0",
      "model_name": "FloatProgressModel",
      "state": {
       "layout": "IPY_MODEL_3243ab1fee7c47ae825d5aea195d72bd",
       "max": 8,
       "style": "IPY_MODEL_09eaaafab8c94e2fad7276e65df22ddc",
       "value": 8
      }
     },
     "fa8a9e9cf34849efabc7a893bcfb665a": {
      "model_module": "@jupyter-widgets/controls",
      "model_module_version": "1.5.0",
      "model_name": "HTMLModel",
      "state": {
       "layout": "IPY_MODEL_9e60a02e92794c0698d68a99bf7d56da",
       "style": "IPY_MODEL_234638878f1e4542be97e51e846b1e51",
       "value": " 8/8 [00:00&lt;00:00, 16.78it/s]"
      }
     },
     "fb03384676dc4f7382f8bf64da51f121": {
      "model_module": "@jupyter-widgets/controls",
      "model_module_version": "1.5.0",
      "model_name": "HTMLModel",
      "state": {
       "layout": "IPY_MODEL_8d09c32cae284629918cbdf4e76a28cd",
       "style": "IPY_MODEL_0366173d2b0c4b768ecacd57ffaecc34",
       "value": "Iterating through drift speeds: 100%"
      }
     },
     "fb08f285fe6d46eabc31ef8e7b225526": {
      "model_module": "@jupyter-widgets/base",
      "model_module_version": "1.2.0",
      "model_name": "LayoutModel",
      "state": {}
     },
     "fb2d3f94f3f74dd8818a11fa7de92cb3": {
      "model_module": "@jupyter-widgets/base",
      "model_module_version": "1.2.0",
      "model_name": "LayoutModel",
      "state": {}
     },
     "fb57c754d14e47b0aa8509daca74305f": {
      "model_module": "@jupyter-widgets/controls",
      "model_module_version": "1.5.0",
      "model_name": "DescriptionStyleModel",
      "state": {
       "description_width": ""
      }
     },
     "fb9885406a5241e483cdaa37f5def100": {
      "model_module": "@jupyter-widgets/base",
      "model_module_version": "1.2.0",
      "model_name": "LayoutModel",
      "state": {}
     },
     "fbbc5500d0ad4630975a92afd496ff84": {
      "model_module": "@jupyter-widgets/base",
      "model_module_version": "1.2.0",
      "model_name": "LayoutModel",
      "state": {}
     },
     "fc2a5723647c4168a7b84828a3692ce3": {
      "model_module": "@jupyter-widgets/controls",
      "model_module_version": "1.5.0",
      "model_name": "HTMLModel",
      "state": {
       "layout": "IPY_MODEL_73b7cfa488764476a842ea6d12eccf16",
       "style": "IPY_MODEL_f7b3ef3b138e4b9eac3052cee7abd673",
       "value": " 8/8 [00:00&lt;00:00, 16.34it/s]"
      }
     },
     "fc4ac42c611d4c69ad4e5db4b8c08f52": {
      "model_module": "@jupyter-widgets/base",
      "model_module_version": "1.2.0",
      "model_name": "LayoutModel",
      "state": {}
     },
     "fd5cfbf9b6ae4d3ba3233724446b907a": {
      "model_module": "@jupyter-widgets/controls",
      "model_module_version": "1.5.0",
      "model_name": "HTMLModel",
      "state": {
       "layout": "IPY_MODEL_732373dc7844460286d52cf46fb43776",
       "style": "IPY_MODEL_f21dd0e6861d4268b8beae3fa290edf4",
       "value": "Iterating through drift speeds: 100%"
      }
     },
     "fd868b56330f49c7b9aa6dfa867140c9": {
      "model_module": "@jupyter-widgets/controls",
      "model_module_version": "1.5.0",
      "model_name": "HTMLModel",
      "state": {
       "layout": "IPY_MODEL_74902e66380f49b4a9ea031a36831a12",
       "style": "IPY_MODEL_2aa26f97c4044f2eb3dead48ddeb3031",
       "value": " 8/8 [00:00&lt;00:00, 16.71it/s]"
      }
     },
     "fda124f5c2b94c8e968bf309eec4e8f8": {
      "model_module": "@jupyter-widgets/controls",
      "model_module_version": "1.5.0",
      "model_name": "DescriptionStyleModel",
      "state": {
       "description_width": ""
      }
     },
     "fdeb0b126e2e4739965dc7f71a6f783e": {
      "model_module": "@jupyter-widgets/base",
      "model_module_version": "1.2.0",
      "model_name": "LayoutModel",
      "state": {}
     },
     "fe02987f10844ad7a32e763edf1a9d29": {
      "model_module": "@jupyter-widgets/base",
      "model_module_version": "1.2.0",
      "model_name": "LayoutModel",
      "state": {}
     },
     "fe2acff8323341908ec013a23de70129": {
      "model_module": "@jupyter-widgets/controls",
      "model_module_version": "1.5.0",
      "model_name": "ProgressStyleModel",
      "state": {
       "description_width": ""
      }
     },
     "fe2cbf2254a44b9a97e3d895b040ad27": {
      "model_module": "@jupyter-widgets/controls",
      "model_module_version": "1.5.0",
      "model_name": "HTMLModel",
      "state": {
       "layout": "IPY_MODEL_20d15091dd84445092d94fd7e1360ad6",
       "style": "IPY_MODEL_3fcdae3804dc42068423e5ecc93b38f0",
       "value": " 8/8 [00:00&lt;00:00, 16.82it/s]"
      }
     },
     "fe34c806d8e34b24bb83fe40aa2e55f4": {
      "model_module": "@jupyter-widgets/controls",
      "model_module_version": "1.5.0",
      "model_name": "HTMLModel",
      "state": {
       "layout": "IPY_MODEL_b7930261619141efb4488945607dfb7e",
       "style": "IPY_MODEL_3a7cd8a8904b4995a6cc3c81667454eb",
       "value": "Iterating through drift angles: 100%"
      }
     },
     "fe6566b13dad4e7199c2fbec6817ff81": {
      "model_module": "@jupyter-widgets/controls",
      "model_module_version": "1.5.0",
      "model_name": "HTMLModel",
      "state": {
       "layout": "IPY_MODEL_ad7f04fbff1242ab9a08a93aa4487ae3",
       "style": "IPY_MODEL_19e8368ec688478eb0acc0beb2a4d2fe",
       "value": "Iterating through drift speeds: 100%"
      }
     },
     "fe887274661a4b20b9ce1e6e7b2de2f6": {
      "model_module": "@jupyter-widgets/controls",
      "model_module_version": "1.5.0",
      "model_name": "HTMLModel",
      "state": {
       "layout": "IPY_MODEL_c804b1c257614d4e852a0790809b86c0",
       "style": "IPY_MODEL_a38046b006ba4ac8a9b6e81d2d2afc85",
       "value": "Iterating through drift speeds: 100%"
      }
     },
     "fe8dabecb2a542949982248dbc01b9be": {
      "model_module": "@jupyter-widgets/base",
      "model_module_version": "1.2.0",
      "model_name": "LayoutModel",
      "state": {}
     },
     "fe9cff2d020c4ec5bd3d3e4584052e97": {
      "model_module": "@jupyter-widgets/base",
      "model_module_version": "1.2.0",
      "model_name": "LayoutModel",
      "state": {}
     },
     "feb1ce5b698b46408acda1d97136dc6c": {
      "model_module": "@jupyter-widgets/controls",
      "model_module_version": "1.5.0",
      "model_name": "DescriptionStyleModel",
      "state": {
       "description_width": ""
      }
     },
     "fed52fe1a47441dcbc5c29acf566ae85": {
      "model_module": "@jupyter-widgets/base",
      "model_module_version": "1.2.0",
      "model_name": "LayoutModel",
      "state": {}
     },
     "fef9f407907940729c8d69c452eb6360": {
      "model_module": "@jupyter-widgets/controls",
      "model_module_version": "1.5.0",
      "model_name": "DescriptionStyleModel",
      "state": {
       "description_width": ""
      }
     },
     "ff92d9d9834e4f7b876783cdf472b89e": {
      "model_module": "@jupyter-widgets/controls",
      "model_module_version": "1.5.0",
      "model_name": "FloatProgressModel",
      "state": {
       "layout": "IPY_MODEL_120548278479464da0776d63122bc999",
       "max": 8,
       "style": "IPY_MODEL_65004b5be4674481a1154b2dec4267c6",
       "value": 8
      }
     },
     "ffa376d1deba4c07a2319afe7d9b0539": {
      "model_module": "@jupyter-widgets/base",
      "model_module_version": "1.2.0",
      "model_name": "LayoutModel",
      "state": {}
     },
     "ffbd055d189548bda841eafba9365d6c": {
      "model_module": "@jupyter-widgets/base",
      "model_module_version": "1.2.0",
      "model_name": "LayoutModel",
      "state": {}
     }
    },
    "version_major": 2,
    "version_minor": 0
   }
  }
 },
 "nbformat": 4,
 "nbformat_minor": 4
}
