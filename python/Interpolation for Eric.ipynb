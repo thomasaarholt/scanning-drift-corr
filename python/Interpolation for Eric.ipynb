{
 "cells": [
  {
   "cell_type": "code",
   "execution_count": 1,
   "metadata": {},
   "outputs": [
    {
     "data": {
      "text/html": [
       "\n",
       "<style>\n",
       ".jp-OutputArea-prompt:empty {\n",
       "  padding: 0;\n",
       "  border: 0;\n",
       "}\n",
       "</style>\n"
      ],
      "text/plain": [
       "<IPython.core.display.HTML object>"
      ]
     },
     "metadata": {},
     "output_type": "display_data"
    }
   ],
   "source": [
    "%matplotlib widget\n",
    "\n",
    "# This thing just saves some whitespace from a bug in tqdm / notebook\n",
    "from IPython.display import HTML\n",
    "display(HTML(\"\"\"\n",
    "<style>\n",
    ".jp-OutputArea-prompt:empty {\n",
    "  padding: 0;\n",
    "  border: 0;\n",
    "}\n",
    "</style>\n",
    "\"\"\"))"
   ]
  },
  {
   "cell_type": "code",
   "execution_count": 4,
   "metadata": {},
   "outputs": [],
   "source": [
    "from importlib import reload\n",
    "import numpy as np\n",
    "import matplotlib.pyplot as plt\n",
    "from genSTEM import Model, Correct"
   ]
  },
  {
   "cell_type": "code",
   "execution_count": 5,
   "metadata": {},
   "outputs": [],
   "source": [
    "from ase.spacegroup import crystal\n",
    "from ase.build import make_supercell\n",
    "\n",
    "a = 9.04\n",
    "skutterudite = crystal(('Co', 'Sb'),\n",
    "                       basis=[(0.25, 0.25, 0.25), (0.0, 0.335, 0.158)],\n",
    "                       spacegroup=204,\n",
    "                       cellpar=[a, a, a, 90, 90, 90])\n",
    "\n",
    "atoms = make_supercell(skutterudite, np.diag([4,4,1]))\n",
    "atoms.numbers[330] = 80\n",
    "atoms.numbers[331] = 80\n",
    "atoms.numbers[346] = 80"
   ]
  },
  {
   "cell_type": "code",
   "execution_count": 9,
   "metadata": {},
   "outputs": [
    {
     "data": {
      "application/vnd.jupyter.widget-view+json": {
       "model_id": "d6b59a2aa01d47709e0027f0244f939b",
       "version_major": 2,
       "version_minor": 0
      },
      "text/plain": [
       "  0%|          | 0/8 [00:00<?, ?it/s]"
      ]
     },
     "metadata": {},
     "output_type": "display_data"
    },
    {
     "name": "stdout",
     "output_type": "stream",
     "text": [
      "Size: 0.001982464 GB\n",
      "Shape: (8, 176, 176)\n"
     ]
    }
   ],
   "source": [
    "images, scanangles, random_angle = Model.get_rotation_series(atoms, drift_speed=5, vacuum=0, nImages=8, pixel_size=0.2)"
   ]
  },
  {
   "cell_type": "code",
   "execution_count": 10,
   "metadata": {},
   "outputs": [],
   "source": [
    "ncols = 4 if len(images) > 4 else len(images)\n",
    "mult = 12 / ncols\n",
    "nrows = len(images) // ncols if len(images) % ncols == 0 else len(images) // ncols +1\n",
    "rowcols = np.array([nrows, ncols])"
   ]
  },
  {
   "cell_type": "code",
   "execution_count": 11,
   "metadata": {},
   "outputs": [
    {
     "data": {
      "application/vnd.jupyter.widget-view+json": {
       "model_id": "8206379063f644b8bb07b81d87a367f1",
       "version_major": 2,
       "version_minor": 0
      },
      "text/plain": [
       "Canvas(toolbar=Toolbar(toolitems=[('Home', 'Reset original view', 'home', 'home'), ('Back', 'Back to previous …"
      ]
     },
     "metadata": {},
     "output_type": "display_data"
    },
    {
     "data": {
      "application/vnd.jupyter.widget-view+json": {
       "model_id": "4a90dd93ecbe418d83811582b6fd6d70",
       "version_major": 2,
       "version_minor": 0
      },
      "text/plain": [
       "Canvas(toolbar=Toolbar(toolitems=[('Home', 'Reset original view', 'home', 'home'), ('Back', 'Back to previous …"
      ]
     },
     "metadata": {},
     "output_type": "display_data"
    },
    {
     "data": {
      "text/plain": [
       "Text(0.5, 1.0, 'Registration without Affine Correction')"
      ]
     },
     "execution_count": 11,
     "metadata": {},
     "output_type": "execute_result"
    }
   ],
   "source": [
    "fig, AX = plt.subplots(*rowcols, figsize=mult*rowcols[::-1])\n",
    "for ax, img in zip(AX.flatten(), images):\n",
    "    img = Correct.asnumpy(img)\n",
    "    ax.imshow(img, cmap='jet')\n",
    "    ax.axis('off')\n",
    "\n",
    "limits = images.min(), images.max()\n",
    "plt.figure()\n",
    "img = Correct.create_final_stack_and_average(images, scanangles, 0, 0, print_shifts=True)\n",
    "img[img == 0] = np.nan\n",
    "plt.imshow(img, clim=limits, cmap='jet')\n",
    "plt.title('Registration without Affine Correction')"
   ]
  },
  {
   "cell_type": "markdown",
   "metadata": {},
   "source": [
    "### Watch the following cell during the running of the next cell"
   ]
  },
  {
   "cell_type": "code",
   "execution_count": 12,
   "metadata": {},
   "outputs": [
    {
     "data": {
      "application/vnd.jupyter.widget-view+json": {
       "model_id": "53ce318fdbb54f3d97e08f82df22412a",
       "version_major": 2,
       "version_minor": 0
      },
      "text/plain": [
       "Canvas(toolbar=Toolbar(toolitems=[('Home', 'Reset original view', 'home', 'home'), ('Back', 'Back to previous …"
      ]
     },
     "metadata": {},
     "output_type": "display_data"
    }
   ],
   "source": [
    "fig = plt.figure(figsize = (12,4)) "
   ]
  },
  {
   "cell_type": "code",
   "execution_count": 13,
   "metadata": {},
   "outputs": [
    {
     "name": "stdout",
     "output_type": "stream",
     "text": [
      "\n",
      "Actual angle: 46.73°\n",
      "Getting fit with no drift first\n"
     ]
    },
    {
     "data": {
      "application/vnd.jupyter.widget-view+json": {
       "model_id": "097bc7acae0c476a9c919b257e0f8608",
       "version_major": 2,
       "version_minor": 0
      },
      "text/plain": [
       "Iterating through drift angles:   0%|          | 0/1 [00:00<?, ?it/s]"
      ]
     },
     "metadata": {},
     "output_type": "display_data"
    },
    {
     "data": {
      "application/vnd.jupyter.widget-view+json": {
       "model_id": "",
       "version_major": 2,
       "version_minor": 0
      },
      "text/plain": [
       "Iterating through drift speeds:   0%|          | 0/1 [00:00<?, ?it/s]"
      ]
     },
     "metadata": {},
     "output_type": "display_data"
    },
    {
     "name": "stdout",
     "output_type": "stream",
     "text": [
      "\n",
      "Iteration #0: Best guess: Angle: 0°, Speed: 0.00e+00. Fit value: 4.48e+06\n",
      "Limits: [0.0°, 315.0°], [0.00e+00, 5.68e-03]\n"
     ]
    },
    {
     "data": {
      "application/vnd.jupyter.widget-view+json": {
       "model_id": "b4bca0a32fec446b99e3e6eef5420ae3",
       "version_major": 2,
       "version_minor": 0
      },
      "text/plain": [
       "Iterating through drift angles:   0%|          | 0/8 [00:00<?, ?it/s]"
      ]
     },
     "metadata": {},
     "output_type": "display_data"
    },
    {
     "data": {
      "application/vnd.jupyter.widget-view+json": {
       "model_id": "",
       "version_major": 2,
       "version_minor": 0
      },
      "text/plain": [
       "Iterating through drift speeds:   0%|          | 0/8 [00:00<?, ?it/s]"
      ]
     },
     "metadata": {},
     "output_type": "display_data"
    },
    {
     "data": {
      "application/vnd.jupyter.widget-view+json": {
       "model_id": "",
       "version_major": 2,
       "version_minor": 0
      },
      "text/plain": [
       "Iterating through drift speeds:   0%|          | 0/8 [00:00<?, ?it/s]"
      ]
     },
     "metadata": {},
     "output_type": "display_data"
    },
    {
     "data": {
      "application/vnd.jupyter.widget-view+json": {
       "model_id": "",
       "version_major": 2,
       "version_minor": 0
      },
      "text/plain": [
       "Iterating through drift speeds:   0%|          | 0/8 [00:00<?, ?it/s]"
      ]
     },
     "metadata": {},
     "output_type": "display_data"
    },
    {
     "data": {
      "application/vnd.jupyter.widget-view+json": {
       "model_id": "",
       "version_major": 2,
       "version_minor": 0
      },
      "text/plain": [
       "Iterating through drift speeds:   0%|          | 0/8 [00:00<?, ?it/s]"
      ]
     },
     "metadata": {},
     "output_type": "display_data"
    },
    {
     "data": {
      "application/vnd.jupyter.widget-view+json": {
       "model_id": "",
       "version_major": 2,
       "version_minor": 0
      },
      "text/plain": [
       "Iterating through drift speeds:   0%|          | 0/8 [00:00<?, ?it/s]"
      ]
     },
     "metadata": {},
     "output_type": "display_data"
    },
    {
     "data": {
      "application/vnd.jupyter.widget-view+json": {
       "model_id": "",
       "version_major": 2,
       "version_minor": 0
      },
      "text/plain": [
       "Iterating through drift speeds:   0%|          | 0/8 [00:00<?, ?it/s]"
      ]
     },
     "metadata": {},
     "output_type": "display_data"
    },
    {
     "data": {
      "application/vnd.jupyter.widget-view+json": {
       "model_id": "",
       "version_major": 2,
       "version_minor": 0
      },
      "text/plain": [
       "Iterating through drift speeds:   0%|          | 0/8 [00:00<?, ?it/s]"
      ]
     },
     "metadata": {},
     "output_type": "display_data"
    },
    {
     "data": {
      "application/vnd.jupyter.widget-view+json": {
       "model_id": "",
       "version_major": 2,
       "version_minor": 0
      },
      "text/plain": [
       "Iterating through drift speeds:   0%|          | 0/8 [00:00<?, ?it/s]"
      ]
     },
     "metadata": {},
     "output_type": "display_data"
    },
    {
     "name": "stdout",
     "output_type": "stream",
     "text": [
      "Initial drift speed intervals were too large. Reducing.\n",
      "\n",
      "Iteration #1: Best guess: Angle: 45.0°, Speed: 8.10e-04. Fit value: 2.26e+07\n",
      "Limits: [0.0°, 315.0°], [0.00e+00, 1.62e-03]\n"
     ]
    },
    {
     "data": {
      "application/vnd.jupyter.widget-view+json": {
       "model_id": "0341ddb6b3e04a96ae476ab733304692",
       "version_major": 2,
       "version_minor": 0
      },
      "text/plain": [
       "Iterating through drift angles:   0%|          | 0/8 [00:00<?, ?it/s]"
      ]
     },
     "metadata": {},
     "output_type": "display_data"
    },
    {
     "data": {
      "application/vnd.jupyter.widget-view+json": {
       "model_id": "",
       "version_major": 2,
       "version_minor": 0
      },
      "text/plain": [
       "Iterating through drift speeds:   0%|          | 0/8 [00:00<?, ?it/s]"
      ]
     },
     "metadata": {},
     "output_type": "display_data"
    },
    {
     "data": {
      "application/vnd.jupyter.widget-view+json": {
       "model_id": "",
       "version_major": 2,
       "version_minor": 0
      },
      "text/plain": [
       "Iterating through drift speeds:   0%|          | 0/8 [00:00<?, ?it/s]"
      ]
     },
     "metadata": {},
     "output_type": "display_data"
    },
    {
     "data": {
      "application/vnd.jupyter.widget-view+json": {
       "model_id": "",
       "version_major": 2,
       "version_minor": 0
      },
      "text/plain": [
       "Iterating through drift speeds:   0%|          | 0/8 [00:00<?, ?it/s]"
      ]
     },
     "metadata": {},
     "output_type": "display_data"
    },
    {
     "data": {
      "application/vnd.jupyter.widget-view+json": {
       "model_id": "",
       "version_major": 2,
       "version_minor": 0
      },
      "text/plain": [
       "Iterating through drift speeds:   0%|          | 0/8 [00:00<?, ?it/s]"
      ]
     },
     "metadata": {},
     "output_type": "display_data"
    },
    {
     "data": {
      "application/vnd.jupyter.widget-view+json": {
       "model_id": "",
       "version_major": 2,
       "version_minor": 0
      },
      "text/plain": [
       "Iterating through drift speeds:   0%|          | 0/8 [00:00<?, ?it/s]"
      ]
     },
     "metadata": {},
     "output_type": "display_data"
    },
    {
     "data": {
      "application/vnd.jupyter.widget-view+json": {
       "model_id": "",
       "version_major": 2,
       "version_minor": 0
      },
      "text/plain": [
       "Iterating through drift speeds:   0%|          | 0/8 [00:00<?, ?it/s]"
      ]
     },
     "metadata": {},
     "output_type": "display_data"
    },
    {
     "data": {
      "application/vnd.jupyter.widget-view+json": {
       "model_id": "",
       "version_major": 2,
       "version_minor": 0
      },
      "text/plain": [
       "Iterating through drift speeds:   0%|          | 0/8 [00:00<?, ?it/s]"
      ]
     },
     "metadata": {},
     "output_type": "display_data"
    },
    {
     "data": {
      "application/vnd.jupyter.widget-view+json": {
       "model_id": "",
       "version_major": 2,
       "version_minor": 0
      },
      "text/plain": [
       "Iterating through drift speeds:   0%|          | 0/8 [00:00<?, ?it/s]"
      ]
     },
     "metadata": {},
     "output_type": "display_data"
    },
    {
     "name": "stdout",
     "output_type": "stream",
     "text": [
      "Adjusting drift angle limits\n",
      "\n",
      "Iteration #2: Best guess: Angle: 45.0°, Speed: 7.00e-04. Fit value: 1.94e+07\n",
      "Limits: [315.0°, 135.0°], [0.00e+00, 1.62e-03]\n"
     ]
    },
    {
     "data": {
      "application/vnd.jupyter.widget-view+json": {
       "model_id": "c5ea0ae91c9f4ea4bc32535eac6e44ea",
       "version_major": 2,
       "version_minor": 0
      },
      "text/plain": [
       "Iterating through drift angles:   0%|          | 0/8 [00:00<?, ?it/s]"
      ]
     },
     "metadata": {},
     "output_type": "display_data"
    },
    {
     "data": {
      "application/vnd.jupyter.widget-view+json": {
       "model_id": "",
       "version_major": 2,
       "version_minor": 0
      },
      "text/plain": [
       "Iterating through drift speeds:   0%|          | 0/8 [00:00<?, ?it/s]"
      ]
     },
     "metadata": {},
     "output_type": "display_data"
    },
    {
     "data": {
      "application/vnd.jupyter.widget-view+json": {
       "model_id": "",
       "version_major": 2,
       "version_minor": 0
      },
      "text/plain": [
       "Iterating through drift speeds:   0%|          | 0/8 [00:00<?, ?it/s]"
      ]
     },
     "metadata": {},
     "output_type": "display_data"
    },
    {
     "data": {
      "application/vnd.jupyter.widget-view+json": {
       "model_id": "",
       "version_major": 2,
       "version_minor": 0
      },
      "text/plain": [
       "Iterating through drift speeds:   0%|          | 0/8 [00:00<?, ?it/s]"
      ]
     },
     "metadata": {},
     "output_type": "display_data"
    },
    {
     "data": {
      "application/vnd.jupyter.widget-view+json": {
       "model_id": "",
       "version_major": 2,
       "version_minor": 0
      },
      "text/plain": [
       "Iterating through drift speeds:   0%|          | 0/8 [00:00<?, ?it/s]"
      ]
     },
     "metadata": {},
     "output_type": "display_data"
    },
    {
     "data": {
      "application/vnd.jupyter.widget-view+json": {
       "model_id": "",
       "version_major": 2,
       "version_minor": 0
      },
      "text/plain": [
       "Iterating through drift speeds:   0%|          | 0/8 [00:00<?, ?it/s]"
      ]
     },
     "metadata": {},
     "output_type": "display_data"
    },
    {
     "data": {
      "application/vnd.jupyter.widget-view+json": {
       "model_id": "",
       "version_major": 2,
       "version_minor": 0
      },
      "text/plain": [
       "Iterating through drift speeds:   0%|          | 0/8 [00:00<?, ?it/s]"
      ]
     },
     "metadata": {},
     "output_type": "display_data"
    },
    {
     "data": {
      "application/vnd.jupyter.widget-view+json": {
       "model_id": "",
       "version_major": 2,
       "version_minor": 0
      },
      "text/plain": [
       "Iterating through drift speeds:   0%|          | 0/8 [00:00<?, ?it/s]"
      ]
     },
     "metadata": {},
     "output_type": "display_data"
    },
    {
     "data": {
      "application/vnd.jupyter.widget-view+json": {
       "model_id": "",
       "version_major": 2,
       "version_minor": 0
      },
      "text/plain": [
       "Iterating through drift speeds:   0%|          | 0/8 [00:00<?, ?it/s]"
      ]
     },
     "metadata": {},
     "output_type": "display_data"
    },
    {
     "name": "stdout",
     "output_type": "stream",
     "text": [
      "Adjusting drift speed limits\n",
      "\n",
      "Iteration #3: Best guess: Angle: 57.86°, Speed: 7.00e-04. Fit value: 1.61e+07\n",
      "Limits: [315.0°, 135.0°], [2.32e-04, 1.16e-03]\n"
     ]
    },
    {
     "data": {
      "application/vnd.jupyter.widget-view+json": {
       "model_id": "865c70f43bd54e6199744bebf6bd0584",
       "version_major": 2,
       "version_minor": 0
      },
      "text/plain": [
       "Iterating through drift angles:   0%|          | 0/8 [00:00<?, ?it/s]"
      ]
     },
     "metadata": {},
     "output_type": "display_data"
    },
    {
     "data": {
      "application/vnd.jupyter.widget-view+json": {
       "model_id": "",
       "version_major": 2,
       "version_minor": 0
      },
      "text/plain": [
       "Iterating through drift speeds:   0%|          | 0/8 [00:00<?, ?it/s]"
      ]
     },
     "metadata": {},
     "output_type": "display_data"
    },
    {
     "data": {
      "application/vnd.jupyter.widget-view+json": {
       "model_id": "",
       "version_major": 2,
       "version_minor": 0
      },
      "text/plain": [
       "Iterating through drift speeds:   0%|          | 0/8 [00:00<?, ?it/s]"
      ]
     },
     "metadata": {},
     "output_type": "display_data"
    },
    {
     "data": {
      "application/vnd.jupyter.widget-view+json": {
       "model_id": "",
       "version_major": 2,
       "version_minor": 0
      },
      "text/plain": [
       "Iterating through drift speeds:   0%|          | 0/8 [00:00<?, ?it/s]"
      ]
     },
     "metadata": {},
     "output_type": "display_data"
    },
    {
     "data": {
      "application/vnd.jupyter.widget-view+json": {
       "model_id": "",
       "version_major": 2,
       "version_minor": 0
      },
      "text/plain": [
       "Iterating through drift speeds:   0%|          | 0/8 [00:00<?, ?it/s]"
      ]
     },
     "metadata": {},
     "output_type": "display_data"
    },
    {
     "data": {
      "application/vnd.jupyter.widget-view+json": {
       "model_id": "",
       "version_major": 2,
       "version_minor": 0
      },
      "text/plain": [
       "Iterating through drift speeds:   0%|          | 0/8 [00:00<?, ?it/s]"
      ]
     },
     "metadata": {},
     "output_type": "display_data"
    },
    {
     "data": {
      "application/vnd.jupyter.widget-view+json": {
       "model_id": "",
       "version_major": 2,
       "version_minor": 0
      },
      "text/plain": [
       "Iterating through drift speeds:   0%|          | 0/8 [00:00<?, ?it/s]"
      ]
     },
     "metadata": {},
     "output_type": "display_data"
    },
    {
     "data": {
      "application/vnd.jupyter.widget-view+json": {
       "model_id": "",
       "version_major": 2,
       "version_minor": 0
      },
      "text/plain": [
       "Iterating through drift speeds:   0%|          | 0/8 [00:00<?, ?it/s]"
      ]
     },
     "metadata": {},
     "output_type": "display_data"
    },
    {
     "data": {
      "application/vnd.jupyter.widget-view+json": {
       "model_id": "",
       "version_major": 2,
       "version_minor": 0
      },
      "text/plain": [
       "Iterating through drift speeds:   0%|          | 0/8 [00:00<?, ?it/s]"
      ]
     },
     "metadata": {},
     "output_type": "display_data"
    },
    {
     "name": "stdout",
     "output_type": "stream",
     "text": [
      "Adjusting drift angle limits\n",
      "\n",
      "Iteration #4: Best guess: Angle: 57.86°, Speed: 7.60e-04. Fit value: 1.70e+07\n",
      "Limits: [6.4°, 109.3°], [2.32e-04, 1.16e-03]\n"
     ]
    },
    {
     "data": {
      "application/vnd.jupyter.widget-view+json": {
       "model_id": "3a074037efce428bbba4aad9b628f322",
       "version_major": 2,
       "version_minor": 0
      },
      "text/plain": [
       "Iterating through drift angles:   0%|          | 0/8 [00:00<?, ?it/s]"
      ]
     },
     "metadata": {},
     "output_type": "display_data"
    },
    {
     "data": {
      "application/vnd.jupyter.widget-view+json": {
       "model_id": "",
       "version_major": 2,
       "version_minor": 0
      },
      "text/plain": [
       "Iterating through drift speeds:   0%|          | 0/8 [00:00<?, ?it/s]"
      ]
     },
     "metadata": {},
     "output_type": "display_data"
    },
    {
     "data": {
      "application/vnd.jupyter.widget-view+json": {
       "model_id": "",
       "version_major": 2,
       "version_minor": 0
      },
      "text/plain": [
       "Iterating through drift speeds:   0%|          | 0/8 [00:00<?, ?it/s]"
      ]
     },
     "metadata": {},
     "output_type": "display_data"
    },
    {
     "data": {
      "application/vnd.jupyter.widget-view+json": {
       "model_id": "",
       "version_major": 2,
       "version_minor": 0
      },
      "text/plain": [
       "Iterating through drift speeds:   0%|          | 0/8 [00:00<?, ?it/s]"
      ]
     },
     "metadata": {},
     "output_type": "display_data"
    },
    {
     "data": {
      "application/vnd.jupyter.widget-view+json": {
       "model_id": "",
       "version_major": 2,
       "version_minor": 0
      },
      "text/plain": [
       "Iterating through drift speeds:   0%|          | 0/8 [00:00<?, ?it/s]"
      ]
     },
     "metadata": {},
     "output_type": "display_data"
    },
    {
     "data": {
      "application/vnd.jupyter.widget-view+json": {
       "model_id": "",
       "version_major": 2,
       "version_minor": 0
      },
      "text/plain": [
       "Iterating through drift speeds:   0%|          | 0/8 [00:00<?, ?it/s]"
      ]
     },
     "metadata": {},
     "output_type": "display_data"
    },
    {
     "data": {
      "application/vnd.jupyter.widget-view+json": {
       "model_id": "",
       "version_major": 2,
       "version_minor": 0
      },
      "text/plain": [
       "Iterating through drift speeds:   0%|          | 0/8 [00:00<?, ?it/s]"
      ]
     },
     "metadata": {},
     "output_type": "display_data"
    },
    {
     "data": {
      "application/vnd.jupyter.widget-view+json": {
       "model_id": "",
       "version_major": 2,
       "version_minor": 0
      },
      "text/plain": [
       "Iterating through drift speeds:   0%|          | 0/8 [00:00<?, ?it/s]"
      ]
     },
     "metadata": {},
     "output_type": "display_data"
    },
    {
     "data": {
      "application/vnd.jupyter.widget-view+json": {
       "model_id": "",
       "version_major": 2,
       "version_minor": 0
      },
      "text/plain": [
       "Iterating through drift speeds:   0%|          | 0/8 [00:00<?, ?it/s]"
      ]
     },
     "metadata": {},
     "output_type": "display_data"
    },
    {
     "name": "stdout",
     "output_type": "stream",
     "text": [
      "Adjusting drift speed limits\n",
      "\n",
      "Iteration #5: Best guess: Angle: 50.51°, Speed: 7.60e-04. Fit value: 2.12e+07\n",
      "Limits: [6.4°, 109.3°], [4.97e-04, 1.03e-03]\n"
     ]
    },
    {
     "data": {
      "application/vnd.jupyter.widget-view+json": {
       "model_id": "44a3b4f714c449cd816ee3254e2e772f",
       "version_major": 2,
       "version_minor": 0
      },
      "text/plain": [
       "Iterating through drift angles:   0%|          | 0/8 [00:00<?, ?it/s]"
      ]
     },
     "metadata": {},
     "output_type": "display_data"
    },
    {
     "data": {
      "application/vnd.jupyter.widget-view+json": {
       "model_id": "",
       "version_major": 2,
       "version_minor": 0
      },
      "text/plain": [
       "Iterating through drift speeds:   0%|          | 0/8 [00:00<?, ?it/s]"
      ]
     },
     "metadata": {},
     "output_type": "display_data"
    },
    {
     "data": {
      "application/vnd.jupyter.widget-view+json": {
       "model_id": "",
       "version_major": 2,
       "version_minor": 0
      },
      "text/plain": [
       "Iterating through drift speeds:   0%|          | 0/8 [00:00<?, ?it/s]"
      ]
     },
     "metadata": {},
     "output_type": "display_data"
    },
    {
     "data": {
      "application/vnd.jupyter.widget-view+json": {
       "model_id": "",
       "version_major": 2,
       "version_minor": 0
      },
      "text/plain": [
       "Iterating through drift speeds:   0%|          | 0/8 [00:00<?, ?it/s]"
      ]
     },
     "metadata": {},
     "output_type": "display_data"
    },
    {
     "data": {
      "application/vnd.jupyter.widget-view+json": {
       "model_id": "",
       "version_major": 2,
       "version_minor": 0
      },
      "text/plain": [
       "Iterating through drift speeds:   0%|          | 0/8 [00:00<?, ?it/s]"
      ]
     },
     "metadata": {},
     "output_type": "display_data"
    },
    {
     "data": {
      "application/vnd.jupyter.widget-view+json": {
       "model_id": "",
       "version_major": 2,
       "version_minor": 0
      },
      "text/plain": [
       "Iterating through drift speeds:   0%|          | 0/8 [00:00<?, ?it/s]"
      ]
     },
     "metadata": {},
     "output_type": "display_data"
    },
    {
     "data": {
      "application/vnd.jupyter.widget-view+json": {
       "model_id": "",
       "version_major": 2,
       "version_minor": 0
      },
      "text/plain": [
       "Iterating through drift speeds:   0%|          | 0/8 [00:00<?, ?it/s]"
      ]
     },
     "metadata": {},
     "output_type": "display_data"
    },
    {
     "data": {
      "application/vnd.jupyter.widget-view+json": {
       "model_id": "",
       "version_major": 2,
       "version_minor": 0
      },
      "text/plain": [
       "Iterating through drift speeds:   0%|          | 0/8 [00:00<?, ?it/s]"
      ]
     },
     "metadata": {},
     "output_type": "display_data"
    },
    {
     "data": {
      "application/vnd.jupyter.widget-view+json": {
       "model_id": "",
       "version_major": 2,
       "version_minor": 0
      },
      "text/plain": [
       "Iterating through drift speeds:   0%|          | 0/8 [00:00<?, ?it/s]"
      ]
     },
     "metadata": {},
     "output_type": "display_data"
    },
    {
     "name": "stdout",
     "output_type": "stream",
     "text": [
      "Adjusting drift angle limits\n",
      "\n",
      "Iteration #6: Best guess: Angle: 50.51°, Speed: 8.00e-04. Fit value: 2.17e+07\n",
      "Limits: [21.1°, 79.9°], [4.97e-04, 1.03e-03]\n"
     ]
    },
    {
     "data": {
      "application/vnd.jupyter.widget-view+json": {
       "model_id": "a798eb84819b46d3999a30ff2acf3075",
       "version_major": 2,
       "version_minor": 0
      },
      "text/plain": [
       "Iterating through drift angles:   0%|          | 0/8 [00:00<?, ?it/s]"
      ]
     },
     "metadata": {},
     "output_type": "display_data"
    },
    {
     "data": {
      "application/vnd.jupyter.widget-view+json": {
       "model_id": "",
       "version_major": 2,
       "version_minor": 0
      },
      "text/plain": [
       "Iterating through drift speeds:   0%|          | 0/8 [00:00<?, ?it/s]"
      ]
     },
     "metadata": {},
     "output_type": "display_data"
    },
    {
     "data": {
      "application/vnd.jupyter.widget-view+json": {
       "model_id": "",
       "version_major": 2,
       "version_minor": 0
      },
      "text/plain": [
       "Iterating through drift speeds:   0%|          | 0/8 [00:00<?, ?it/s]"
      ]
     },
     "metadata": {},
     "output_type": "display_data"
    },
    {
     "data": {
      "application/vnd.jupyter.widget-view+json": {
       "model_id": "",
       "version_major": 2,
       "version_minor": 0
      },
      "text/plain": [
       "Iterating through drift speeds:   0%|          | 0/8 [00:00<?, ?it/s]"
      ]
     },
     "metadata": {},
     "output_type": "display_data"
    },
    {
     "data": {
      "application/vnd.jupyter.widget-view+json": {
       "model_id": "",
       "version_major": 2,
       "version_minor": 0
      },
      "text/plain": [
       "Iterating through drift speeds:   0%|          | 0/8 [00:00<?, ?it/s]"
      ]
     },
     "metadata": {},
     "output_type": "display_data"
    },
    {
     "data": {
      "application/vnd.jupyter.widget-view+json": {
       "model_id": "",
       "version_major": 2,
       "version_minor": 0
      },
      "text/plain": [
       "Iterating through drift speeds:   0%|          | 0/8 [00:00<?, ?it/s]"
      ]
     },
     "metadata": {},
     "output_type": "display_data"
    },
    {
     "data": {
      "application/vnd.jupyter.widget-view+json": {
       "model_id": "",
       "version_major": 2,
       "version_minor": 0
      },
      "text/plain": [
       "Iterating through drift speeds:   0%|          | 0/8 [00:00<?, ?it/s]"
      ]
     },
     "metadata": {},
     "output_type": "display_data"
    },
    {
     "data": {
      "application/vnd.jupyter.widget-view+json": {
       "model_id": "",
       "version_major": 2,
       "version_minor": 0
      },
      "text/plain": [
       "Iterating through drift speeds:   0%|          | 0/8 [00:00<?, ?it/s]"
      ]
     },
     "metadata": {},
     "output_type": "display_data"
    },
    {
     "data": {
      "application/vnd.jupyter.widget-view+json": {
       "model_id": "",
       "version_major": 2,
       "version_minor": 0
      },
      "text/plain": [
       "Iterating through drift speeds:   0%|          | 0/8 [00:00<?, ?it/s]"
      ]
     },
     "metadata": {},
     "output_type": "display_data"
    },
    {
     "name": "stdout",
     "output_type": "stream",
     "text": [
      "Adjusting drift speed limits\n",
      "\n",
      "Iteration #7: Best guess: Angle: 46.31°, Speed: 8.00e-04. Fit value: 2.27e+07\n",
      "Limits: [21.1°, 79.9°], [6.48e-04, 9.51e-04]\n"
     ]
    },
    {
     "data": {
      "application/vnd.jupyter.widget-view+json": {
       "model_id": "7ec19527e5d7498b9cdb304a270cd15f",
       "version_major": 2,
       "version_minor": 0
      },
      "text/plain": [
       "Iterating through drift angles:   0%|          | 0/8 [00:00<?, ?it/s]"
      ]
     },
     "metadata": {},
     "output_type": "display_data"
    },
    {
     "data": {
      "application/vnd.jupyter.widget-view+json": {
       "model_id": "",
       "version_major": 2,
       "version_minor": 0
      },
      "text/plain": [
       "Iterating through drift speeds:   0%|          | 0/8 [00:00<?, ?it/s]"
      ]
     },
     "metadata": {},
     "output_type": "display_data"
    },
    {
     "data": {
      "application/vnd.jupyter.widget-view+json": {
       "model_id": "",
       "version_major": 2,
       "version_minor": 0
      },
      "text/plain": [
       "Iterating through drift speeds:   0%|          | 0/8 [00:00<?, ?it/s]"
      ]
     },
     "metadata": {},
     "output_type": "display_data"
    },
    {
     "data": {
      "application/vnd.jupyter.widget-view+json": {
       "model_id": "",
       "version_major": 2,
       "version_minor": 0
      },
      "text/plain": [
       "Iterating through drift speeds:   0%|          | 0/8 [00:00<?, ?it/s]"
      ]
     },
     "metadata": {},
     "output_type": "display_data"
    },
    {
     "data": {
      "application/vnd.jupyter.widget-view+json": {
       "model_id": "",
       "version_major": 2,
       "version_minor": 0
      },
      "text/plain": [
       "Iterating through drift speeds:   0%|          | 0/8 [00:00<?, ?it/s]"
      ]
     },
     "metadata": {},
     "output_type": "display_data"
    },
    {
     "data": {
      "application/vnd.jupyter.widget-view+json": {
       "model_id": "",
       "version_major": 2,
       "version_minor": 0
      },
      "text/plain": [
       "Iterating through drift speeds:   0%|          | 0/8 [00:00<?, ?it/s]"
      ]
     },
     "metadata": {},
     "output_type": "display_data"
    },
    {
     "data": {
      "application/vnd.jupyter.widget-view+json": {
       "model_id": "",
       "version_major": 2,
       "version_minor": 0
      },
      "text/plain": [
       "Iterating through drift speeds:   0%|          | 0/8 [00:00<?, ?it/s]"
      ]
     },
     "metadata": {},
     "output_type": "display_data"
    },
    {
     "data": {
      "application/vnd.jupyter.widget-view+json": {
       "model_id": "",
       "version_major": 2,
       "version_minor": 0
      },
      "text/plain": [
       "Iterating through drift speeds:   0%|          | 0/8 [00:00<?, ?it/s]"
      ]
     },
     "metadata": {},
     "output_type": "display_data"
    },
    {
     "data": {
      "application/vnd.jupyter.widget-view+json": {
       "model_id": "",
       "version_major": 2,
       "version_minor": 0
      },
      "text/plain": [
       "Iterating through drift speeds:   0%|          | 0/8 [00:00<?, ?it/s]"
      ]
     },
     "metadata": {},
     "output_type": "display_data"
    },
    {
     "name": "stdout",
     "output_type": "stream",
     "text": [
      "Adjusting drift angle limits\n",
      "\n",
      "Iteration #8: Best guess: Angle: 46.31°, Speed: 7.80e-04. Fit value: 2.24e+07\n",
      "Limits: [29.5°, 63.1°], [6.48e-04, 9.51e-04]\n"
     ]
    },
    {
     "data": {
      "application/vnd.jupyter.widget-view+json": {
       "model_id": "5d09ff9a9971421da03e8b8461d4accd",
       "version_major": 2,
       "version_minor": 0
      },
      "text/plain": [
       "Iterating through drift angles:   0%|          | 0/8 [00:00<?, ?it/s]"
      ]
     },
     "metadata": {},
     "output_type": "display_data"
    },
    {
     "data": {
      "application/vnd.jupyter.widget-view+json": {
       "model_id": "",
       "version_major": 2,
       "version_minor": 0
      },
      "text/plain": [
       "Iterating through drift speeds:   0%|          | 0/8 [00:00<?, ?it/s]"
      ]
     },
     "metadata": {},
     "output_type": "display_data"
    },
    {
     "data": {
      "application/vnd.jupyter.widget-view+json": {
       "model_id": "",
       "version_major": 2,
       "version_minor": 0
      },
      "text/plain": [
       "Iterating through drift speeds:   0%|          | 0/8 [00:00<?, ?it/s]"
      ]
     },
     "metadata": {},
     "output_type": "display_data"
    },
    {
     "data": {
      "application/vnd.jupyter.widget-view+json": {
       "model_id": "",
       "version_major": 2,
       "version_minor": 0
      },
      "text/plain": [
       "Iterating through drift speeds:   0%|          | 0/8 [00:00<?, ?it/s]"
      ]
     },
     "metadata": {},
     "output_type": "display_data"
    },
    {
     "data": {
      "application/vnd.jupyter.widget-view+json": {
       "model_id": "",
       "version_major": 2,
       "version_minor": 0
      },
      "text/plain": [
       "Iterating through drift speeds:   0%|          | 0/8 [00:00<?, ?it/s]"
      ]
     },
     "metadata": {},
     "output_type": "display_data"
    },
    {
     "data": {
      "application/vnd.jupyter.widget-view+json": {
       "model_id": "",
       "version_major": 2,
       "version_minor": 0
      },
      "text/plain": [
       "Iterating through drift speeds:   0%|          | 0/8 [00:00<?, ?it/s]"
      ]
     },
     "metadata": {},
     "output_type": "display_data"
    },
    {
     "data": {
      "application/vnd.jupyter.widget-view+json": {
       "model_id": "",
       "version_major": 2,
       "version_minor": 0
      },
      "text/plain": [
       "Iterating through drift speeds:   0%|          | 0/8 [00:00<?, ?it/s]"
      ]
     },
     "metadata": {},
     "output_type": "display_data"
    },
    {
     "data": {
      "application/vnd.jupyter.widget-view+json": {
       "model_id": "",
       "version_major": 2,
       "version_minor": 0
      },
      "text/plain": [
       "Iterating through drift speeds:   0%|          | 0/8 [00:00<?, ?it/s]"
      ]
     },
     "metadata": {},
     "output_type": "display_data"
    },
    {
     "data": {
      "application/vnd.jupyter.widget-view+json": {
       "model_id": "",
       "version_major": 2,
       "version_minor": 0
      },
      "text/plain": [
       "Iterating through drift speeds:   0%|          | 0/8 [00:00<?, ?it/s]"
      ]
     },
     "metadata": {},
     "output_type": "display_data"
    },
    {
     "name": "stdout",
     "output_type": "stream",
     "text": [
      "Adjusting drift speed limits\n",
      "Final iteration: Final guess: Angle: 48.71°, Speed: 7.78e-04\n",
      "\n",
      "Took 13.2 seconds\n",
      "Missed by 1.98°\n"
     ]
    }
   ],
   "source": [
    "reload(Model)\n",
    "reload(Correct)\n",
    "print(f\"\\nActual angle: {np.round(np.rad2deg(random_angle), 2)}°\")\n",
    "best_angle, best_speed, history = Correct.estimate_drift(images, scanangles, tolerancy_percent=2, normalize_correlation=True, debug=False)\n",
    "print(f\"Missed by {np.round(best_angle - np.rad2deg(random_angle),2)}°\")"
   ]
  },
  {
   "cell_type": "code",
   "execution_count": 14,
   "metadata": {},
   "outputs": [
    {
     "data": {
      "application/vnd.jupyter.widget-view+json": {
       "model_id": "037451a3c2bb4f879b5e38b8f860db4a",
       "version_major": 2,
       "version_minor": 0
      },
      "text/plain": [
       "Canvas(toolbar=Toolbar(toolitems=[('Home', 'Reset original view', 'home', 'home'), ('Back', 'Back to previous …"
      ]
     },
     "metadata": {},
     "output_type": "display_data"
    }
   ],
   "source": [
    "imgs = Correct.warp_and_shift_images(images, scanangles, best_speed, best_angle)\n",
    "fig, AX = plt.subplots(*rowcols, figsize=mult*rowcols[::-1])\n",
    "for ax, img in zip(AX.flatten(), imgs):\n",
    "    ax.imshow(Correct.asnumpy(img))"
   ]
  },
  {
   "cell_type": "code",
   "execution_count": 15,
   "metadata": {},
   "outputs": [
    {
     "data": {
      "application/vnd.jupyter.widget-view+json": {
       "model_id": "0ee67f8c092945258e05cf16b05be876",
       "version_major": 2,
       "version_minor": 0
      },
      "text/plain": [
       "Canvas(toolbar=Toolbar(toolitems=[('Home', 'Reset original view', 'home', 'home'), ('Back', 'Back to previous …"
      ]
     },
     "metadata": {},
     "output_type": "display_data"
    },
    {
     "data": {
      "text/plain": [
       "<matplotlib.image.AxesImage at 0x278d3a4dca0>"
      ]
     },
     "execution_count": 15,
     "metadata": {},
     "output_type": "execute_result"
    }
   ],
   "source": [
    "fig, (ax1, ax2, ax3) = plt.subplots(ncols=3, figsize=(9,3))\n",
    "\n",
    "img1 = Correct.create_final_stack_and_average(images, scanangles, 0, 0)\n",
    "ax1.set_title('Only Registration')\n",
    "ax1.imshow(img1, cmap='jet')\n",
    "\n",
    "img2 = Correct.create_final_stack_and_average(images, scanangles, best_speed, best_angle)\n",
    "ax2.set_title('Affine Transformation\\nand Registration')\n",
    "ax2.imshow(img2, cmap='jet')\n",
    "\n",
    "img3 = Correct.create_final_stack_and_average(images, scanangles, best_speed, best_angle, subpixel=True)\n",
    "ax3.set_title('Affine Transformation\\nand Subpixel Registration')\n",
    "ax3.imshow(img3, cmap='jet')"
   ]
  },
  {
   "cell_type": "markdown",
   "metadata": {},
   "source": [
    "### Considering images as points\n",
    "The following is my suggested method for generating a \"reference image\" from all of the scan-origin-shifted images. It should replace Colin's accumarray, bilinear interpolation and KDE method in his code.\n",
    "\n",
    "The following code is just the algorithm for interpolating points for the new image - the last bit of my following description.\n",
    "I don't have the full implementation yet - it's currently purposefully making the resultant image *worse*.\n",
    "\n",
    "The general idea is that for a given image, each point on the image has the correct intensity but (slightly) wrong position - each pixel has some position and intensity `(X+dX, Y+dY, I)`, where `dX` and `dY` are the errors. They are likely off by some fractional pixel amount.\n",
    "\n",
    "After we have performed the affine correction on the images, we will want to first generate some reference \"average\" image from the current stack of pixel positions, and then for each image in the scan rotation stack, take each row, shift it NESW and see if it fits better to the reference pixel positions for any of the shifts. \n",
    "\n",
    "In order to generate the reference image, we have a problem - we have a non-regular list of positions and intensities, and new grid of `np.indices(image_shape)` that we will want to interpolate the values onto. Colin solves this by creating a 2x2 matrix for each point at whole pixel values, where the pixel value of each point is bilinearly weighted. These pixel values get moved onto their indices in a `zeros(image_shape)` image, and then he performs KDE to blur the pixels that were underrepresented.\n",
    "\n",
    "I want to solve it by directly interpolating new whole indices using (either directly or a variation of) `scipy.ndimage.griddata`. It takes a list of positions and intensities, and interpolates them across new positions. I also tried using `scipy.ndimage.interp2d`, but it suffers from memory issues on large arrays.\n",
    "\n",
    "In the following code, I use the previously generated stack of 8 images, turn them into a cloud of points with random shifts, and then interpolate the intensity of the new grid on them. Right now it is still a bit slow - mainly because it is a numpy function and not a cupy/gpu function. Stay tuned for updates on that."
   ]
  },
  {
   "cell_type": "code",
   "execution_count": 239,
   "metadata": {},
   "outputs": [
    {
     "name": "stdout",
     "output_type": "stream",
     "text": [
      "(8, 176, 176)\n",
      "(176, 176)\n"
     ]
    }
   ],
   "source": [
    "print(imgs.shape)\n",
    "image_shape = imgs.shape[1:]\n",
    "print(image_shape)"
   ]
  },
  {
   "cell_type": "code",
   "execution_count": 240,
   "metadata": {},
   "outputs": [
    {
     "name": "stdout",
     "output_type": "stream",
     "text": [
      "(2, 176, 176)\n"
     ]
    }
   ],
   "source": [
    "# We don't want to include the rotation dimension here, since that leads to XYZ indices\n",
    "# Instead, reuse the indices2D object for each one\n",
    "indices2D = np.indices(imgs.shape[1:], dtype=float)\n",
    "newgrid = indices2D.T # this will be the coordinates of the reference image at the end\n",
    "print(indices2D.shape)"
   ]
  },
  {
   "cell_type": "code",
   "execution_count": 241,
   "metadata": {},
   "outputs": [
    {
     "name": "stdout",
     "output_type": "stream",
     "text": [
      "(2, 8, 176, 176)\n"
     ]
    }
   ],
   "source": [
    "indices = np.repeat(indices2D[:, None], repeats=imgs.shape[0], axis=1) # make one for each scan_rotation\n",
    "# add some random noise to pretend that we have moved each pixels XY position\n",
    "indices += 2*np.random.random(indices.shape) - 1 # 2*noise -1 makes the noise go from -1 to 1 centered on 0\n",
    "print(indices.shape)"
   ]
  },
  {
   "cell_type": "code",
   "execution_count": 273,
   "metadata": {},
   "outputs": [],
   "source": [
    "points = indices.reshape((2, -1)).T # flatten these into x,y \n",
    "values = imgs.flatten()"
   ]
  },
  {
   "cell_type": "code",
   "execution_count": 274,
   "metadata": {},
   "outputs": [
    {
     "data": {
      "text/plain": [
       "((247808, 2), (247808,))"
      ]
     },
     "execution_count": 274,
     "metadata": {},
     "output_type": "execute_result"
    }
   ],
   "source": [
    "points.shape, values.shape # this is a lot of points, even for the small 176x176 images! :/"
   ]
  },
  {
   "cell_type": "code",
   "execution_count": 275,
   "metadata": {},
   "outputs": [],
   "source": [
    "from scipy.interpolate import griddata"
   ]
  },
  {
   "cell_type": "code",
   "execution_count": 276,
   "metadata": {},
   "outputs": [
    {
     "name": "stdout",
     "output_type": "stream",
     "text": [
      "Wall time: 1.66 s\n"
     ]
    }
   ],
   "source": [
    "%%time\n",
    "values_at_newgrid = griddata(points, values.get(), newgrid, method='linear')"
   ]
  },
  {
   "cell_type": "code",
   "execution_count": 277,
   "metadata": {},
   "outputs": [
    {
     "data": {
      "application/vnd.jupyter.widget-view+json": {
       "model_id": "5c7c2ed0e07a4fe38c6282c059bec522",
       "version_major": 2,
       "version_minor": 0
      },
      "text/plain": [
       "Canvas(toolbar=Toolbar(toolitems=[('Home', 'Reset original view', 'home', 'home'), ('Back', 'Back to previous …"
      ]
     },
     "metadata": {},
     "output_type": "display_data"
    },
    {
     "data": {
      "text/plain": [
       "<matplotlib.image.AxesImage at 0x278809d0550>"
      ]
     },
     "execution_count": 277,
     "metadata": {},
     "output_type": "execute_result"
    }
   ],
   "source": [
    "img = values_at_newgrid.reshape(image_shape)\n",
    "plt.figure()\n",
    "plt.imshow(img)"
   ]
  },
  {
   "cell_type": "markdown",
   "metadata": {},
   "source": [
    "### The following is taking the `griddata` function apart and seeing which bits we can speed up"
   ]
  },
  {
   "cell_type": "code",
   "execution_count": 278,
   "metadata": {},
   "outputs": [],
   "source": [
    "### Gridata basically consists of an interpolator (nearest, linear, cubic) and a Delaunay grid creator, which is a triangulation technique"
   ]
  },
  {
   "cell_type": "code",
   "execution_count": 279,
   "metadata": {},
   "outputs": [],
   "source": [
    "from scipy.interpolate import NearestNDInterpolator, LinearNDInterpolator, CloughTocher2DInterpolator # try pronouncing the last one!"
   ]
  },
  {
   "cell_type": "code",
   "execution_count": 286,
   "metadata": {},
   "outputs": [
    {
     "name": "stdout",
     "output_type": "stream",
     "text": [
      "Wall time: 1.13 s\n"
     ]
    }
   ],
   "source": [
    "# All interpolators above can take either a list of points for each intensity or a reusable Delaunay instance! Let's do that!\n",
    "%time delaunay = scipy.spatial.Delaunay(points)"
   ]
  },
  {
   "cell_type": "code",
   "execution_count": 287,
   "metadata": {},
   "outputs": [
    {
     "name": "stdout",
     "output_type": "stream",
     "text": [
      "Wall time: 6 ms\n"
     ]
    }
   ],
   "source": [
    "# lets use the linear one. It returns a function! Useful for possible reuse!\n",
    "%time func = LinearNDInterpolator(delaunay, values.get(), fill_value=0)"
   ]
  },
  {
   "cell_type": "code",
   "execution_count": 282,
   "metadata": {},
   "outputs": [],
   "source": [
    "newgrid = newgrid.reshape((-1, 2))"
   ]
  },
  {
   "cell_type": "code",
   "execution_count": 288,
   "metadata": {},
   "outputs": [
    {
     "name": "stdout",
     "output_type": "stream",
     "text": [
      "Wall time: 522 ms\n"
     ]
    }
   ],
   "source": [
    "%time newimg = func(newgrid) # try running this several times - it's much faster the second time, hmmm, not sure what that means"
   ]
  },
  {
   "cell_type": "code",
   "execution_count": 289,
   "metadata": {},
   "outputs": [
    {
     "data": {
      "application/vnd.jupyter.widget-view+json": {
       "model_id": "edc817bb984741fca99afd96f9b078e2",
       "version_major": 2,
       "version_minor": 0
      },
      "text/plain": [
       "Canvas(toolbar=Toolbar(toolitems=[('Home', 'Reset original view', 'home', 'home'), ('Back', 'Back to previous …"
      ]
     },
     "metadata": {},
     "output_type": "display_data"
    },
    {
     "data": {
      "text/plain": [
       "<matplotlib.image.AxesImage at 0x2788095bb20>"
      ]
     },
     "execution_count": 289,
     "metadata": {},
     "output_type": "execute_result"
    }
   ],
   "source": [
    "plt.figure()\n",
    "plt.imshow(newimg.reshape(image_shape))"
   ]
  },
  {
   "cell_type": "code",
   "execution_count": 285,
   "metadata": {},
   "outputs": [],
   "source": [
    "# This *does* do the same as griddata - confirm by checking the results are the same\n",
    "np.testing.assert_array_almost_equal(newimg.reshape(image_shape), img)"
   ]
  },
  {
   "cell_type": "code",
   "execution_count": null,
   "metadata": {},
   "outputs": [],
   "source": []
  }
 ],
 "metadata": {
  "kernelspec": {
   "display_name": "Python [conda env:py38]",
   "language": "python",
   "name": "conda-env-py38-py"
  },
  "language_info": {
   "codemirror_mode": {
    "name": "ipython",
    "version": 3
   },
   "file_extension": ".py",
   "mimetype": "text/x-python",
   "name": "python",
   "nbconvert_exporter": "python",
   "pygments_lexer": "ipython3",
   "version": "3.8.6"
  },
  "widgets": {
   "application/vnd.jupyter.widget-state+json": {
    "state": {
     "01d58e3710a3403b9be6462d50636bc3": {
      "model_module": "@jupyter-widgets/controls",
      "model_module_version": "1.5.0",
      "model_name": "FloatProgressModel",
      "state": {
       "layout": "IPY_MODEL_1add00861e8f4e64a67f0b5061c6c630",
       "max": 8,
       "style": "IPY_MODEL_08383ac1fad443fb8691eba5d7178328",
       "value": 8
      }
     },
     "01ed0543d3204ca3ade2eeedd1fe03ff": {
      "model_module": "@jupyter-widgets/base",
      "model_module_version": "1.2.0",
      "model_name": "LayoutModel",
      "state": {}
     },
     "0242b169f8f640429cadcd1b5fad2172": {
      "model_module": "@jupyter-widgets/base",
      "model_module_version": "1.2.0",
      "model_name": "LayoutModel",
      "state": {}
     },
     "0251c3e2896d4ebcac50657d1d5f91ae": {
      "model_module": "@jupyter-widgets/controls",
      "model_module_version": "1.5.0",
      "model_name": "FloatProgressModel",
      "state": {
       "layout": "IPY_MODEL_1530b47e7abf4c39b5dd6927f6b8c1db",
       "max": 8,
       "style": "IPY_MODEL_73611b8063f8426a9bd18175d6aeb9bc",
       "value": 8
      }
     },
     "028ba7dea40e4e43b9ad744ab452c298": {
      "model_module": "@jupyter-widgets/controls",
      "model_module_version": "1.5.0",
      "model_name": "DescriptionStyleModel",
      "state": {
       "description_width": ""
      }
     },
     "02a8f8fe572f4fe6b945e850ccc2901a": {
      "model_module": "@jupyter-widgets/controls",
      "model_module_version": "1.5.0",
      "model_name": "ProgressStyleModel",
      "state": {
       "description_width": ""
      }
     },
     "02beb92405064e0aba05e579e564b697": {
      "model_module": "@jupyter-widgets/controls",
      "model_module_version": "1.5.0",
      "model_name": "DescriptionStyleModel",
      "state": {
       "description_width": ""
      }
     },
     "030a0d66985849cbbb5d04096dcf0a22": {
      "model_module": "@jupyter-widgets/controls",
      "model_module_version": "1.5.0",
      "model_name": "DescriptionStyleModel",
      "state": {
       "description_width": ""
      }
     },
     "0341ddb6b3e04a96ae476ab733304692": {
      "model_module": "@jupyter-widgets/controls",
      "model_module_version": "1.5.0",
      "model_name": "HBoxModel",
      "state": {
       "children": [
        "IPY_MODEL_060f98938a3f4ca591b2745943fff849",
        "IPY_MODEL_cc033adf31e647a8bff29ed30ca4f3bc",
        "IPY_MODEL_cc277b5966084c9e95b69bbc99c23368"
       ],
       "layout": "IPY_MODEL_aacb2b214d0c41c0a55924d306521384"
      }
     },
     "037451a3c2bb4f879b5e38b8f860db4a": {
      "model_module": "jupyter-matplotlib",
      "model_module_version": "^0.8.2",
      "model_name": "MPLCanvasModel",
      "state": {
       "_cursor": "default",
       "_figure_label": "Figure 4",
       "_height": 600,
       "_message": "x=12.9 y=81.4\n[690]",
       "_width": 1200,
       "layout": "IPY_MODEL_2e708af6877048fa86b00b91000388f2",
       "toolbar": "IPY_MODEL_a4dce0b84d804227b04fc82efdc446f4",
       "toolbar_position": "left"
      }
     },
     "0386069cfa22495a8dde8955c7fda7dd": {
      "model_module": "@jupyter-widgets/base",
      "model_module_version": "1.2.0",
      "model_name": "LayoutModel",
      "state": {}
     },
     "03c07a69285b405a96dcbe8aef7ab880": {
      "model_module": "@jupyter-widgets/base",
      "model_module_version": "1.2.0",
      "model_name": "LayoutModel",
      "state": {}
     },
     "03e93251990344728e2d9d0df17fa580": {
      "model_module": "@jupyter-widgets/base",
      "model_module_version": "1.2.0",
      "model_name": "LayoutModel",
      "state": {}
     },
     "0467268f540e4979bb9bf332daf420ac": {
      "model_module": "@jupyter-widgets/controls",
      "model_module_version": "1.5.0",
      "model_name": "HTMLModel",
      "state": {
       "layout": "IPY_MODEL_b9c6902b45b24f67a693316d8fc68bbc",
       "style": "IPY_MODEL_bf692de130644b659761816b089b8456",
       "value": " 6/8 [00:00&lt;00:00, 59.41it/s]"
      }
     },
     "04f3a3d91e1147e48334821a6c23e214": {
      "model_module": "@jupyter-widgets/controls",
      "model_module_version": "1.5.0",
      "model_name": "ProgressStyleModel",
      "state": {
       "description_width": ""
      }
     },
     "05001b4fbcb8431b82d74247d5743cf3": {
      "model_module": "@jupyter-widgets/controls",
      "model_module_version": "1.5.0",
      "model_name": "HTMLModel",
      "state": {
       "layout": "IPY_MODEL_3d688e1746d2490182ace21a796ab780",
       "style": "IPY_MODEL_6bbbbf7750224fe5af22ce7dd0d57261",
       "value": "Iterating through drift speeds:  75%"
      }
     },
     "0521f1efa2e747b791bc05f8c8ffd5ea": {
      "model_module": "@jupyter-widgets/controls",
      "model_module_version": "1.5.0",
      "model_name": "DescriptionStyleModel",
      "state": {
       "description_width": ""
      }
     },
     "05504e0acf51496ba4956a63de9ac7bc": {
      "model_module": "@jupyter-widgets/controls",
      "model_module_version": "1.5.0",
      "model_name": "DescriptionStyleModel",
      "state": {
       "description_width": ""
      }
     },
     "060f98938a3f4ca591b2745943fff849": {
      "model_module": "@jupyter-widgets/controls",
      "model_module_version": "1.5.0",
      "model_name": "HTMLModel",
      "state": {
       "layout": "IPY_MODEL_71524f3d615b4352838de8646293c5ef",
       "style": "IPY_MODEL_e5bd2ab9f2cc4798b1a983fc1d638bea",
       "value": "Iterating through drift angles: 100%"
      }
     },
     "071b199f63454a468fcee57a43d5ad9d": {
      "model_module": "@jupyter-widgets/base",
      "model_module_version": "1.2.0",
      "model_name": "LayoutModel",
      "state": {}
     },
     "0768000567ab408bae6d834cf53a71d8": {
      "model_module": "@jupyter-widgets/controls",
      "model_module_version": "1.5.0",
      "model_name": "DescriptionStyleModel",
      "state": {
       "description_width": ""
      }
     },
     "08044bd48f304b628d265fd789ba1020": {
      "model_module": "@jupyter-widgets/base",
      "model_module_version": "1.2.0",
      "model_name": "LayoutModel",
      "state": {}
     },
     "08383ac1fad443fb8691eba5d7178328": {
      "model_module": "@jupyter-widgets/controls",
      "model_module_version": "1.5.0",
      "model_name": "ProgressStyleModel",
      "state": {
       "description_width": ""
      }
     },
     "08601f6c13f54a72b0a61956d89a93e2": {
      "model_module": "@jupyter-widgets/base",
      "model_module_version": "1.2.0",
      "model_name": "LayoutModel",
      "state": {}
     },
     "097bc7acae0c476a9c919b257e0f8608": {
      "model_module": "@jupyter-widgets/controls",
      "model_module_version": "1.5.0",
      "model_name": "HBoxModel",
      "state": {
       "children": [
        "IPY_MODEL_e915536d69a146508806a3bca15892d8",
        "IPY_MODEL_5093311101574bd198d2326584466686",
        "IPY_MODEL_61a603d7b6bf447dabc8517bfe09f8db"
       ],
       "layout": "IPY_MODEL_b1da5d948b4b4cbea64801d6a6551f24"
      }
     },
     "099d17355f9f4a24a9c33bdf8e287f83": {
      "model_module": "@jupyter-widgets/controls",
      "model_module_version": "1.5.0",
      "model_name": "HTMLModel",
      "state": {
       "layout": "IPY_MODEL_4008bbd1ccc743aea8a5f4cde1829197",
       "style": "IPY_MODEL_6731cf87ce6243f88bc8ad8c8c5ce42a",
       "value": "Iterating through drift speeds:  75%"
      }
     },
     "09aac2aa52be439bb409522eb283ff1a": {
      "model_module": "@jupyter-widgets/controls",
      "model_module_version": "1.5.0",
      "model_name": "HTMLModel",
      "state": {
       "layout": "IPY_MODEL_4deb51ae017344efac27423e15acf144",
       "style": "IPY_MODEL_76046efd84424068b7ac305432c3ccee",
       "value": "Iterating through drift speeds:  75%"
      }
     },
     "09ac84dce1954e6ea1e93bc378219dd7": {
      "model_module": "@jupyter-widgets/base",
      "model_module_version": "1.2.0",
      "model_name": "LayoutModel",
      "state": {}
     },
     "09ee6b08121541098c50b9c88bc0c572": {
      "model_module": "@jupyter-widgets/controls",
      "model_module_version": "1.5.0",
      "model_name": "DescriptionStyleModel",
      "state": {
       "description_width": ""
      }
     },
     "0a38c845a4834bb386d35941e351c291": {
      "model_module": "@jupyter-widgets/base",
      "model_module_version": "1.2.0",
      "model_name": "LayoutModel",
      "state": {}
     },
     "0a89faab01bf4e5bb09766b87d05a3b2": {
      "model_module": "@jupyter-widgets/base",
      "model_module_version": "1.2.0",
      "model_name": "LayoutModel",
      "state": {}
     },
     "0aee3f9370bf41bcb0bbba9133ff3af3": {
      "model_module": "@jupyter-widgets/base",
      "model_module_version": "1.2.0",
      "model_name": "LayoutModel",
      "state": {}
     },
     "0b12695521fb4fde80633f354c81b9d7": {
      "model_module": "@jupyter-widgets/controls",
      "model_module_version": "1.5.0",
      "model_name": "HTMLModel",
      "state": {
       "layout": "IPY_MODEL_6acce9091b1d4d8cb6a2ec4b580cc2ea",
       "style": "IPY_MODEL_128b02ef54754189ad5106045f33ed5d",
       "value": " 6/8 [00:00&lt;00:00, 60.00it/s]"
      }
     },
     "0b5ee6c3255340348b4dd318f61c0e1b": {
      "model_module": "@jupyter-widgets/controls",
      "model_module_version": "1.5.0",
      "model_name": "DescriptionStyleModel",
      "state": {
       "description_width": ""
      }
     },
     "0b9a2ec6bb784df2bd966afff1139c41": {
      "model_module": "@jupyter-widgets/base",
      "model_module_version": "1.2.0",
      "model_name": "LayoutModel",
      "state": {}
     },
     "0bc410f382d9432db4aa3370c7cd34e7": {
      "model_module": "@jupyter-widgets/controls",
      "model_module_version": "1.5.0",
      "model_name": "ProgressStyleModel",
      "state": {
       "description_width": ""
      }
     },
     "0bd07b8dbafd4a05ab20211347988809": {
      "model_module": "@jupyter-widgets/controls",
      "model_module_version": "1.5.0",
      "model_name": "DescriptionStyleModel",
      "state": {
       "description_width": ""
      }
     },
     "0caf01dcdda849c88d7ab146001134b3": {
      "model_module": "@jupyter-widgets/base",
      "model_module_version": "1.2.0",
      "model_name": "LayoutModel",
      "state": {}
     },
     "0cf5f0a5098f4ebba899d44f73dd970d": {
      "model_module": "@jupyter-widgets/controls",
      "model_module_version": "1.5.0",
      "model_name": "HTMLModel",
      "state": {
       "layout": "IPY_MODEL_c8ba96cbf97749ca8777de63f038158e",
       "style": "IPY_MODEL_09ee6b08121541098c50b9c88bc0c572",
       "value": "Iterating through drift angles: 100%"
      }
     },
     "0d0693bb6e9745e19d88d7756cca1a29": {
      "model_module": "@jupyter-widgets/controls",
      "model_module_version": "1.5.0",
      "model_name": "FloatProgressModel",
      "state": {
       "layout": "IPY_MODEL_a3a0b2b23ae646a5bbb3a0ad8ab64b93",
       "max": 8,
       "style": "IPY_MODEL_1e6742cc147c414d8864fa017551b8ae",
       "value": 8
      }
     },
     "0d45222ee96c45a196a60bbe2c1d4ccb": {
      "model_module": "@jupyter-widgets/base",
      "model_module_version": "1.2.0",
      "model_name": "LayoutModel",
      "state": {}
     },
     "0daa118fc68145e78f9af507607c7e4b": {
      "model_module": "@jupyter-widgets/base",
      "model_module_version": "1.2.0",
      "model_name": "LayoutModel",
      "state": {}
     },
     "0e10c9fa94364180ac92afb542344708": {
      "model_module": "@jupyter-widgets/base",
      "model_module_version": "1.2.0",
      "model_name": "LayoutModel",
      "state": {}
     },
     "0e548239552a447c9eeca2d04cdb1d56": {
      "model_module": "@jupyter-widgets/controls",
      "model_module_version": "1.5.0",
      "model_name": "DescriptionStyleModel",
      "state": {
       "description_width": ""
      }
     },
     "0e88eb37b1fe4529800c61645ce895c7": {
      "model_module": "@jupyter-widgets/base",
      "model_module_version": "1.2.0",
      "model_name": "LayoutModel",
      "state": {}
     },
     "0ecec74b052846768e275f9664b483fe": {
      "model_module": "@jupyter-widgets/controls",
      "model_module_version": "1.5.0",
      "model_name": "DescriptionStyleModel",
      "state": {
       "description_width": ""
      }
     },
     "0ee67f8c092945258e05cf16b05be876": {
      "model_module": "jupyter-matplotlib",
      "model_module_version": "^0.8.2",
      "model_name": "MPLCanvasModel",
      "state": {
       "_cursor": "default",
       "_figure_label": "Figure 5",
       "_height": 300,
       "_image_mode": "diff",
       "_message": "zoom rect",
       "_rubberband_y": 300,
       "_width": 900,
       "layout": "IPY_MODEL_db37b521e48847a19078b0810873405a",
       "toolbar": "IPY_MODEL_1f5ce6886307420cb04065680cf1048a",
       "toolbar_position": "left"
      }
     },
     "0f1efc1544bb4536b63d32515528533f": {
      "model_module": "@jupyter-widgets/controls",
      "model_module_version": "1.5.0",
      "model_name": "FloatProgressModel",
      "state": {
       "layout": "IPY_MODEL_2236438446c54c3a97d688f2ab4b2c02",
       "max": 8,
       "style": "IPY_MODEL_f19a6dc4ab094b45881798f3f6b9571a",
       "value": 8
      }
     },
     "0f6ed593c409446a9462f91f29f62a4e": {
      "model_module": "@jupyter-widgets/base",
      "model_module_version": "1.2.0",
      "model_name": "LayoutModel",
      "state": {}
     },
     "0fffcb4bbfca46e19fc51e5585c72128": {
      "model_module": "@jupyter-widgets/controls",
      "model_module_version": "1.5.0",
      "model_name": "HTMLModel",
      "state": {
       "layout": "IPY_MODEL_85244f3da64940fa826344e167c3f7e6",
       "style": "IPY_MODEL_5cde168ab29e4ea78b38f747b1335023",
       "value": "Iterating through drift angles: 100%"
      }
     },
     "102eef5f73c54095a1ee6b753625a6fb": {
      "model_module": "@jupyter-widgets/base",
      "model_module_version": "1.2.0",
      "model_name": "LayoutModel",
      "state": {}
     },
     "106bb8954e9e4e9586a193fb8ef2578f": {
      "model_module": "@jupyter-widgets/controls",
      "model_module_version": "1.5.0",
      "model_name": "DescriptionStyleModel",
      "state": {
       "description_width": ""
      }
     },
     "106f747b354144818a3431047b65921a": {
      "model_module": "@jupyter-widgets/controls",
      "model_module_version": "1.5.0",
      "model_name": "FloatProgressModel",
      "state": {
       "layout": "IPY_MODEL_0386069cfa22495a8dde8955c7fda7dd",
       "max": 8,
       "style": "IPY_MODEL_757ca19c1d1b439e8d4d0b21dcae5c2d",
       "value": 8
      }
     },
     "10d5b15aef4c4298a855417849bf407c": {
      "model_module": "@jupyter-widgets/controls",
      "model_module_version": "1.5.0",
      "model_name": "ProgressStyleModel",
      "state": {
       "description_width": ""
      }
     },
     "10d732bb8fa640bca58d479c12bc32dd": {
      "model_module": "@jupyter-widgets/controls",
      "model_module_version": "1.5.0",
      "model_name": "HTMLModel",
      "state": {
       "layout": "IPY_MODEL_23bcf8d78feb459ea8b3df8a046bf2d8",
       "style": "IPY_MODEL_48871c024d4445b39fd7a7fc60c23e08",
       "value": " 6/8 [00:00&lt;00:00, 58.82it/s]"
      }
     },
     "10fd976e282945438812e5df0cd5eea3": {
      "model_module": "@jupyter-widgets/controls",
      "model_module_version": "1.5.0",
      "model_name": "HTMLModel",
      "state": {
       "layout": "IPY_MODEL_b947f84cdeaa4c90a30938c4bc993e17",
       "style": "IPY_MODEL_167920ed93e246febdbaf79e8d5911f8",
       "value": "Iterating through drift speeds:  75%"
      }
     },
     "114e754a282c4cc5bea4037cf7d54f39": {
      "model_module": "@jupyter-widgets/base",
      "model_module_version": "1.2.0",
      "model_name": "LayoutModel",
      "state": {}
     },
     "1173ab12d0ba4f7db8427bbe73621645": {
      "model_module": "@jupyter-widgets/base",
      "model_module_version": "1.2.0",
      "model_name": "LayoutModel",
      "state": {}
     },
     "117728bce2534866b13a5136cfa07dee": {
      "model_module": "@jupyter-widgets/base",
      "model_module_version": "1.2.0",
      "model_name": "LayoutModel",
      "state": {}
     },
     "120bac868ca243af8738f620db12a50a": {
      "model_module": "@jupyter-widgets/controls",
      "model_module_version": "1.5.0",
      "model_name": "FloatProgressModel",
      "state": {
       "layout": "IPY_MODEL_cb7f84f75e3c456e98854acb2462c4a4",
       "max": 8,
       "style": "IPY_MODEL_b8be57d1c6f9421d92f0df3a3e04e43b",
       "value": 8
      }
     },
     "12555560fc6b472b9054bc54909ca158": {
      "model_module": "@jupyter-widgets/base",
      "model_module_version": "1.2.0",
      "model_name": "LayoutModel",
      "state": {}
     },
     "128b02ef54754189ad5106045f33ed5d": {
      "model_module": "@jupyter-widgets/controls",
      "model_module_version": "1.5.0",
      "model_name": "DescriptionStyleModel",
      "state": {
       "description_width": ""
      }
     },
     "128dadff76b94ce9bdd8b86bf17bf4c4": {
      "model_module": "@jupyter-widgets/base",
      "model_module_version": "1.2.0",
      "model_name": "LayoutModel",
      "state": {}
     },
     "12e5d01c835a43478a5447ff5eb5ae8c": {
      "model_module": "@jupyter-widgets/controls",
      "model_module_version": "1.5.0",
      "model_name": "DescriptionStyleModel",
      "state": {
       "description_width": ""
      }
     },
     "1406745702fe402d8d8efbad140ad1b8": {
      "model_module": "@jupyter-widgets/controls",
      "model_module_version": "1.5.0",
      "model_name": "HTMLModel",
      "state": {
       "layout": "IPY_MODEL_b08d08ff84cb43b58acc5dd66053fc25",
       "style": "IPY_MODEL_3b30e2e06cb6487f95e70f2a5763847a",
       "value": " 6/8 [00:00&lt;00:00, 58.25it/s]"
      }
     },
     "1437cc0a68c246318086eda5f985b16d": {
      "model_module": "@jupyter-widgets/controls",
      "model_module_version": "1.5.0",
      "model_name": "ProgressStyleModel",
      "state": {
       "description_width": ""
      }
     },
     "1485818cb3f144419356b531ea1176b1": {
      "model_module": "@jupyter-widgets/controls",
      "model_module_version": "1.5.0",
      "model_name": "ProgressStyleModel",
      "state": {
       "description_width": ""
      }
     },
     "1505ea7fb8ac4abdb6f660ed91eb8cf7": {
      "model_module": "@jupyter-widgets/controls",
      "model_module_version": "1.5.0",
      "model_name": "FloatProgressModel",
      "state": {
       "layout": "IPY_MODEL_4c97c8c51665451897e4ab58c9dac8d6",
       "max": 8,
       "style": "IPY_MODEL_aef20ba7a31b47c791e6d75064cc50cb",
       "value": 8
      }
     },
     "1518fad1601c4cd4a5d771896bcacd34": {
      "model_module": "@jupyter-widgets/controls",
      "model_module_version": "1.5.0",
      "model_name": "DescriptionStyleModel",
      "state": {
       "description_width": ""
      }
     },
     "1521faefaa2f4fd59276d925476a1537": {
      "model_module": "@jupyter-widgets/controls",
      "model_module_version": "1.5.0",
      "model_name": "DescriptionStyleModel",
      "state": {
       "description_width": ""
      }
     },
     "152d46918e6c42c0b563569ee2baa6e8": {
      "model_module": "@jupyter-widgets/controls",
      "model_module_version": "1.5.0",
      "model_name": "DescriptionStyleModel",
      "state": {
       "description_width": ""
      }
     },
     "1530b47e7abf4c39b5dd6927f6b8c1db": {
      "model_module": "@jupyter-widgets/base",
      "model_module_version": "1.2.0",
      "model_name": "LayoutModel",
      "state": {}
     },
     "15427aa5a3374521a2c7034a59341d15": {
      "model_module": "@jupyter-widgets/base",
      "model_module_version": "1.2.0",
      "model_name": "LayoutModel",
      "state": {}
     },
     "1548b18c40c84dc68e8ce0de2a226a83": {
      "model_module": "@jupyter-widgets/base",
      "model_module_version": "1.2.0",
      "model_name": "LayoutModel",
      "state": {}
     },
     "1558d35aa68047b790810d33655ffbea": {
      "model_module": "@jupyter-widgets/controls",
      "model_module_version": "1.5.0",
      "model_name": "DescriptionStyleModel",
      "state": {
       "description_width": ""
      }
     },
     "15a23df1e1a64cecb2360f01159da1a9": {
      "model_module": "@jupyter-widgets/base",
      "model_module_version": "1.2.0",
      "model_name": "LayoutModel",
      "state": {}
     },
     "15c83f300afb4fd0b295d522897d9e33": {
      "model_module": "@jupyter-widgets/base",
      "model_module_version": "1.2.0",
      "model_name": "LayoutModel",
      "state": {}
     },
     "15f32bb82c2f44cea7a1c61b5984c132": {
      "model_module": "@jupyter-widgets/base",
      "model_module_version": "1.2.0",
      "model_name": "LayoutModel",
      "state": {}
     },
     "164f896be72a48f9b1130cb9d90a09c7": {
      "model_module": "@jupyter-widgets/controls",
      "model_module_version": "1.5.0",
      "model_name": "DescriptionStyleModel",
      "state": {
       "description_width": ""
      }
     },
     "166a0ccd43b14330a829ce3de77a6e49": {
      "model_module": "@jupyter-widgets/controls",
      "model_module_version": "1.5.0",
      "model_name": "HTMLModel",
      "state": {
       "layout": "IPY_MODEL_29ca4201ccf04204b67963d569db51ac",
       "style": "IPY_MODEL_7b154ae24fb14db1a222f75f35f38652",
       "value": "Iterating through drift speeds:  75%"
      }
     },
     "166e40328e1e414eafd1baa23788026f": {
      "model_module": "@jupyter-widgets/base",
      "model_module_version": "1.2.0",
      "model_name": "LayoutModel",
      "state": {}
     },
     "167920ed93e246febdbaf79e8d5911f8": {
      "model_module": "@jupyter-widgets/controls",
      "model_module_version": "1.5.0",
      "model_name": "DescriptionStyleModel",
      "state": {
       "description_width": ""
      }
     },
     "1696060e39834a9fb79816ff9b9bc093": {
      "model_module": "@jupyter-widgets/base",
      "model_module_version": "1.2.0",
      "model_name": "LayoutModel",
      "state": {}
     },
     "16e42a39583d4aa1ad8882f7b67ea386": {
      "model_module": "@jupyter-widgets/controls",
      "model_module_version": "1.5.0",
      "model_name": "HTMLModel",
      "state": {
       "layout": "IPY_MODEL_5a687585a84d4e51af0ac1a1d7c3a509",
       "style": "IPY_MODEL_867f55d6033f4491bc83139eccf10108",
       "value": " 6/8 [00:00&lt;00:00, 55.03it/s]"
      }
     },
     "172665b867c3413eb506dab65e4c384f": {
      "model_module": "@jupyter-widgets/base",
      "model_module_version": "1.2.0",
      "model_name": "LayoutModel",
      "state": {}
     },
     "1745badb68d14feb8fc634a9b7d1c1e6": {
      "model_module": "@jupyter-widgets/controls",
      "model_module_version": "1.5.0",
      "model_name": "ProgressStyleModel",
      "state": {
       "description_width": ""
      }
     },
     "176cdba02f934e13a71fd784e93addab": {
      "model_module": "@jupyter-widgets/base",
      "model_module_version": "1.2.0",
      "model_name": "LayoutModel",
      "state": {}
     },
     "178d16ad5e7f477a82ad50c198f14ee7": {
      "model_module": "@jupyter-widgets/controls",
      "model_module_version": "1.5.0",
      "model_name": "DescriptionStyleModel",
      "state": {
       "description_width": ""
      }
     },
     "180c3dae93ad461cadb16a56a7244d11": {
      "model_module": "@jupyter-widgets/controls",
      "model_module_version": "1.5.0",
      "model_name": "ProgressStyleModel",
      "state": {
       "description_width": ""
      }
     },
     "1820527e16384b3f9b5c38372546113b": {
      "model_module": "@jupyter-widgets/base",
      "model_module_version": "1.2.0",
      "model_name": "LayoutModel",
      "state": {}
     },
     "1832490d7ea54fa494a1e5b45d893887": {
      "model_module": "@jupyter-widgets/base",
      "model_module_version": "1.2.0",
      "model_name": "LayoutModel",
      "state": {}
     },
     "183d33172cc84b84b403c96a355e5b94": {
      "model_module": "@jupyter-widgets/base",
      "model_module_version": "1.2.0",
      "model_name": "LayoutModel",
      "state": {}
     },
     "183de2526f6343d0bcea2eaea0150f8b": {
      "model_module": "@jupyter-widgets/controls",
      "model_module_version": "1.5.0",
      "model_name": "ProgressStyleModel",
      "state": {
       "description_width": ""
      }
     },
     "1882da8b6d5a4b0e887d44be4e926f2f": {
      "model_module": "@jupyter-widgets/base",
      "model_module_version": "1.2.0",
      "model_name": "LayoutModel",
      "state": {}
     },
     "190340daf8b24fbb9825f0f151701b74": {
      "model_module": "@jupyter-widgets/controls",
      "model_module_version": "1.5.0",
      "model_name": "HTMLModel",
      "state": {
       "layout": "IPY_MODEL_584b6d399d9e4e8f85a0303cf31e4254",
       "style": "IPY_MODEL_40e83095156b4a959db9d4d656c89129",
       "value": "Iterating through drift speeds:  75%"
      }
     },
     "1921d0bb84c94bc8977af489f7e9d113": {
      "model_module": "@jupyter-widgets/controls",
      "model_module_version": "1.5.0",
      "model_name": "FloatProgressModel",
      "state": {
       "layout": "IPY_MODEL_983f0412515d4f19bbe81ac63f931240",
       "max": 1,
       "style": "IPY_MODEL_b525cbb1e286448eadd9f264c9917bbf",
       "value": 1
      }
     },
     "194257f2bf8b407ab3ce2acf43bc7733": {
      "model_module": "@jupyter-widgets/base",
      "model_module_version": "1.2.0",
      "model_name": "LayoutModel",
      "state": {}
     },
     "19700f64746846ad94c4bfed37029924": {
      "model_module": "@jupyter-widgets/controls",
      "model_module_version": "1.5.0",
      "model_name": "FloatProgressModel",
      "state": {
       "layout": "IPY_MODEL_2ced695771b0483388a9d56d57dfce8c",
       "max": 8,
       "style": "IPY_MODEL_670eb16e9c744c49a1130cdf83c91dab",
       "value": 8
      }
     },
     "19c1d0a17f6c4c328cf49c428f19fe22": {
      "model_module": "@jupyter-widgets/controls",
      "model_module_version": "1.5.0",
      "model_name": "HTMLModel",
      "state": {
       "layout": "IPY_MODEL_989489561bca427ca0867b65f34da191",
       "style": "IPY_MODEL_258fd8e3a4f14ab0bd784ddf0bd081ea",
       "value": "Iterating through drift speeds:  75%"
      }
     },
     "19cf3724f20942548e77dbce231f5b3c": {
      "model_module": "@jupyter-widgets/base",
      "model_module_version": "1.2.0",
      "model_name": "LayoutModel",
      "state": {}
     },
     "19daa2740ca245c99b137f3f82dc2b4d": {
      "model_module": "@jupyter-widgets/base",
      "model_module_version": "1.2.0",
      "model_name": "LayoutModel",
      "state": {}
     },
     "19e7d9ed06514afa8910bddf243e13e9": {
      "model_module": "@jupyter-widgets/base",
      "model_module_version": "1.2.0",
      "model_name": "LayoutModel",
      "state": {}
     },
     "1a154884df98429491f51b67a4631766": {
      "model_module": "@jupyter-widgets/controls",
      "model_module_version": "1.5.0",
      "model_name": "DescriptionStyleModel",
      "state": {
       "description_width": ""
      }
     },
     "1a15c7f7145a467bae217e30d35bb350": {
      "model_module": "@jupyter-widgets/base",
      "model_module_version": "1.2.0",
      "model_name": "LayoutModel",
      "state": {}
     },
     "1add00861e8f4e64a67f0b5061c6c630": {
      "model_module": "@jupyter-widgets/base",
      "model_module_version": "1.2.0",
      "model_name": "LayoutModel",
      "state": {}
     },
     "1b2f891c33f34b25acd1f788a49a78b8": {
      "model_module": "@jupyter-widgets/controls",
      "model_module_version": "1.5.0",
      "model_name": "DescriptionStyleModel",
      "state": {
       "description_width": ""
      }
     },
     "1b5ad6a01270470e9e271f1a25f70433": {
      "model_module": "@jupyter-widgets/controls",
      "model_module_version": "1.5.0",
      "model_name": "DescriptionStyleModel",
      "state": {
       "description_width": ""
      }
     },
     "1b6a2ddaeb864fea93725a06f6b6e038": {
      "model_module": "@jupyter-widgets/base",
      "model_module_version": "1.2.0",
      "model_name": "LayoutModel",
      "state": {}
     },
     "1bb4d9a26cdf46aea7b2782f11077eb6": {
      "model_module": "@jupyter-widgets/base",
      "model_module_version": "1.2.0",
      "model_name": "LayoutModel",
      "state": {}
     },
     "1c4d8ec66de24c07bacf3e34ff3cabce": {
      "model_module": "@jupyter-widgets/base",
      "model_module_version": "1.2.0",
      "model_name": "LayoutModel",
      "state": {}
     },
     "1cbcc60ab4774ba28d5659b79f80e8f1": {
      "model_module": "@jupyter-widgets/base",
      "model_module_version": "1.2.0",
      "model_name": "LayoutModel",
      "state": {}
     },
     "1cc85c75fca64e649cad07edfac938e0": {
      "model_module": "@jupyter-widgets/controls",
      "model_module_version": "1.5.0",
      "model_name": "DescriptionStyleModel",
      "state": {
       "description_width": ""
      }
     },
     "1cdf85756d2b4b5586c3fcdd77a53d96": {
      "model_module": "jupyter-matplotlib",
      "model_module_version": "^0.8.2",
      "model_name": "MPLCanvasModel",
      "state": {
       "_cursor": "default",
       "_figure_label": "Figure 6",
       "_height": 480,
       "_width": 640,
       "layout": "IPY_MODEL_a408bae3902b43469cb3cf345af468a5",
       "toolbar": "IPY_MODEL_ca0fec37f440462caddbc40babf0d47d",
       "toolbar_position": "left"
      }
     },
     "1d385700d3f447679516af070b2ae7c1": {
      "model_module": "@jupyter-widgets/controls",
      "model_module_version": "1.5.0",
      "model_name": "ProgressStyleModel",
      "state": {
       "description_width": ""
      }
     },
     "1dae3633e6ec4297a6b1859979c2cb7b": {
      "model_module": "@jupyter-widgets/controls",
      "model_module_version": "1.5.0",
      "model_name": "DescriptionStyleModel",
      "state": {
       "description_width": ""
      }
     },
     "1dc2a7c496604cca9a4baff359965e08": {
      "model_module": "@jupyter-widgets/base",
      "model_module_version": "1.2.0",
      "model_name": "LayoutModel",
      "state": {}
     },
     "1de57c62c8af4a42966f9750f5278ea6": {
      "model_module": "@jupyter-widgets/controls",
      "model_module_version": "1.5.0",
      "model_name": "ProgressStyleModel",
      "state": {
       "description_width": ""
      }
     },
     "1e6742cc147c414d8864fa017551b8ae": {
      "model_module": "@jupyter-widgets/controls",
      "model_module_version": "1.5.0",
      "model_name": "ProgressStyleModel",
      "state": {
       "description_width": ""
      }
     },
     "1e93204fca1c4a0abb9d65e23289afff": {
      "model_module": "@jupyter-widgets/controls",
      "model_module_version": "1.5.0",
      "model_name": "ProgressStyleModel",
      "state": {
       "description_width": ""
      }
     },
     "1e971a7bce0944ca8df66750c0fb6cf0": {
      "model_module": "@jupyter-widgets/controls",
      "model_module_version": "1.5.0",
      "model_name": "HTMLModel",
      "state": {
       "layout": "IPY_MODEL_01ed0543d3204ca3ade2eeedd1fe03ff",
       "style": "IPY_MODEL_c6e7103aeb584143a27fb6edeec19314",
       "value": " 6/8 [00:00&lt;00:00, 56.06it/s]"
      }
     },
     "1f338ddef5ab4f84b16e1ffcdc9f8c20": {
      "model_module": "@jupyter-widgets/controls",
      "model_module_version": "1.5.0",
      "model_name": "HTMLModel",
      "state": {
       "layout": "IPY_MODEL_93ab7f078f854da680c4d4deca4e5290",
       "style": "IPY_MODEL_e9fc1c8111664ac59a286b2303da7aff",
       "value": " 6/8 [00:00&lt;00:00, 57.71it/s]"
      }
     },
     "1f5ce6886307420cb04065680cf1048a": {
      "model_module": "jupyter-matplotlib",
      "model_module_version": "^0.8.2",
      "model_name": "ToolbarModel",
      "state": {
       "_current_action": "zoom",
       "layout": "IPY_MODEL_ece8aea6186c4cbc8d413f65b3f667fc",
       "toolitems": [
        [
         "Home",
         "Reset original view",
         "home",
         "home"
        ],
        [
         "Back",
         "Back to previous view",
         "arrow-left",
         "back"
        ],
        [
         "Forward",
         "Forward to next view",
         "arrow-right",
         "forward"
        ],
        [
         "Pan",
         "Left button pans, Right button zooms\nx/y fixes axis, CTRL fixes aspect",
         "arrows",
         "pan"
        ],
        [
         "Zoom",
         "Zoom to rectangle\nx/y fixes axis, CTRL fixes aspect",
         "square-o",
         "zoom"
        ],
        [
         "Download",
         "Download plot",
         "floppy-o",
         "save_figure"
        ]
       ]
      }
     },
     "2017e7f9e04642bc9ae74ab995fcceff": {
      "model_module": "@jupyter-widgets/base",
      "model_module_version": "1.2.0",
      "model_name": "LayoutModel",
      "state": {}
     },
     "208f28455ad0400daf4ddf85a7bdb441": {
      "model_module": "@jupyter-widgets/controls",
      "model_module_version": "1.5.0",
      "model_name": "DescriptionStyleModel",
      "state": {
       "description_width": ""
      }
     },
     "21d154986dc34f6e91f7a7655d7482cb": {
      "model_module": "@jupyter-widgets/base",
      "model_module_version": "1.2.0",
      "model_name": "LayoutModel",
      "state": {}
     },
     "2236438446c54c3a97d688f2ab4b2c02": {
      "model_module": "@jupyter-widgets/base",
      "model_module_version": "1.2.0",
      "model_name": "LayoutModel",
      "state": {}
     },
     "226df04026484b89bb06aa55358cf7ea": {
      "model_module": "@jupyter-widgets/base",
      "model_module_version": "1.2.0",
      "model_name": "LayoutModel",
      "state": {}
     },
     "22b9e8e6b2dc49e6bc5407310beb8b47": {
      "model_module": "@jupyter-widgets/controls",
      "model_module_version": "1.5.0",
      "model_name": "DescriptionStyleModel",
      "state": {
       "description_width": ""
      }
     },
     "22c362e285ff45b697d605e94168abbb": {
      "model_module": "@jupyter-widgets/controls",
      "model_module_version": "1.5.0",
      "model_name": "DescriptionStyleModel",
      "state": {
       "description_width": ""
      }
     },
     "233f60059c6248d8a51548cc786f5a8d": {
      "model_module": "@jupyter-widgets/controls",
      "model_module_version": "1.5.0",
      "model_name": "DescriptionStyleModel",
      "state": {
       "description_width": ""
      }
     },
     "23b3488f30c14f2f820c4ead0c9513f2": {
      "model_module": "@jupyter-widgets/base",
      "model_module_version": "1.2.0",
      "model_name": "LayoutModel",
      "state": {}
     },
     "23bcf8d78feb459ea8b3df8a046bf2d8": {
      "model_module": "@jupyter-widgets/base",
      "model_module_version": "1.2.0",
      "model_name": "LayoutModel",
      "state": {}
     },
     "2486c67e973641ff9b67306877317ad4": {
      "model_module": "@jupyter-widgets/controls",
      "model_module_version": "1.5.0",
      "model_name": "DescriptionStyleModel",
      "state": {
       "description_width": ""
      }
     },
     "24e4c3a036de478f8954b5b928622f30": {
      "model_module": "@jupyter-widgets/controls",
      "model_module_version": "1.5.0",
      "model_name": "HTMLModel",
      "state": {
       "layout": "IPY_MODEL_03c07a69285b405a96dcbe8aef7ab880",
       "style": "IPY_MODEL_a871df05abad4ce285a8eeaff89ad1de",
       "value": " 6/8 [00:00&lt;00:00, 55.56it/s]"
      }
     },
     "2504b70bfc7446fd89f37cad3a3f7980": {
      "model_module": "@jupyter-widgets/controls",
      "model_module_version": "1.5.0",
      "model_name": "FloatProgressModel",
      "state": {
       "layout": "IPY_MODEL_8a4491abcdf547c3a0f42400b3ace5e6",
       "max": 8,
       "style": "IPY_MODEL_b1a21eca8b1d4d8482aa1bbde4cf56b9",
       "value": 8
      }
     },
     "2514c4f9be7d4aafbf1a69e09fe012d9": {
      "model_module": "@jupyter-widgets/base",
      "model_module_version": "1.2.0",
      "model_name": "LayoutModel",
      "state": {}
     },
     "2540fdb26b1049ceb62b15542d9f89eb": {
      "model_module": "@jupyter-widgets/base",
      "model_module_version": "1.2.0",
      "model_name": "LayoutModel",
      "state": {}
     },
     "258fd8e3a4f14ab0bd784ddf0bd081ea": {
      "model_module": "@jupyter-widgets/controls",
      "model_module_version": "1.5.0",
      "model_name": "DescriptionStyleModel",
      "state": {
       "description_width": ""
      }
     },
     "25e334aaec0c44d5973f94ff67a09624": {
      "model_module": "@jupyter-widgets/base",
      "model_module_version": "1.2.0",
      "model_name": "LayoutModel",
      "state": {}
     },
     "2618f37520e740afb2b5873b814c6134": {
      "model_module": "@jupyter-widgets/controls",
      "model_module_version": "1.5.0",
      "model_name": "DescriptionStyleModel",
      "state": {
       "description_width": ""
      }
     },
     "263523c685bb4f20a9b2ba5b50b6ea0b": {
      "model_module": "@jupyter-widgets/base",
      "model_module_version": "1.2.0",
      "model_name": "LayoutModel",
      "state": {}
     },
     "268a116c8ef645868ec8a33105887004": {
      "model_module": "@jupyter-widgets/controls",
      "model_module_version": "1.5.0",
      "model_name": "DescriptionStyleModel",
      "state": {
       "description_width": ""
      }
     },
     "26d9339ee2084a89a525dd2c07592c02": {
      "model_module": "@jupyter-widgets/controls",
      "model_module_version": "1.5.0",
      "model_name": "DescriptionStyleModel",
      "state": {
       "description_width": ""
      }
     },
     "2717bde17f1b4fdc9160a1732c73d8e0": {
      "model_module": "@jupyter-widgets/controls",
      "model_module_version": "1.5.0",
      "model_name": "HTMLModel",
      "state": {
       "layout": "IPY_MODEL_1b6a2ddaeb864fea93725a06f6b6e038",
       "style": "IPY_MODEL_028ba7dea40e4e43b9ad744ab452c298",
       "value": "Iterating through drift speeds:  75%"
      }
     },
     "2773db22e28346cf91149cd56a0cc9cc": {
      "model_module": "@jupyter-widgets/controls",
      "model_module_version": "1.5.0",
      "model_name": "HTMLModel",
      "state": {
       "layout": "IPY_MODEL_37dc70c582ee4438abc1c25e52818c76",
       "style": "IPY_MODEL_7845eef8cb9541e79397b6bbcfa71c7b",
       "value": " 6/8 [00:00&lt;00:00, 59.39it/s]"
      }
     },
     "2780e748d76545c78eca33901dc0a46f": {
      "model_module": "@jupyter-widgets/controls",
      "model_module_version": "1.5.0",
      "model_name": "HTMLModel",
      "state": {
       "layout": "IPY_MODEL_ea3adb4dd4a043c5894e8d593f664b87",
       "style": "IPY_MODEL_1a154884df98429491f51b67a4631766",
       "value": "Iterating through drift speeds:  75%"
      }
     },
     "27a2919767e64110bd4461635ccea796": {
      "model_module": "@jupyter-widgets/controls",
      "model_module_version": "1.5.0",
      "model_name": "FloatProgressModel",
      "state": {
       "layout": "IPY_MODEL_c7cbdf38257e4ab982b35a85bd5f6d37",
       "max": 8,
       "style": "IPY_MODEL_7286518bc432468abbc3ef9ac3172bc9",
       "value": 8
      }
     },
     "27ab945f76bb4c9da5b620f6bd54f16a": {
      "model_module": "@jupyter-widgets/base",
      "model_module_version": "1.2.0",
      "model_name": "LayoutModel",
      "state": {}
     },
     "27c15aaf30e74d7d9d23ce58f7963f33": {
      "model_module": "@jupyter-widgets/controls",
      "model_module_version": "1.5.0",
      "model_name": "DescriptionStyleModel",
      "state": {
       "description_width": ""
      }
     },
     "27f1aea3ed934e03a5384a1940ed351c": {
      "model_module": "@jupyter-widgets/base",
      "model_module_version": "1.2.0",
      "model_name": "LayoutModel",
      "state": {}
     },
     "281437c5b372486b9630cfbea763d139": {
      "model_module": "@jupyter-widgets/controls",
      "model_module_version": "1.5.0",
      "model_name": "FloatProgressModel",
      "state": {
       "bar_style": "success",
       "layout": "IPY_MODEL_b7df629a8e234d129601fd9977684a7a",
       "max": 8,
       "style": "IPY_MODEL_60777dc0156b42f595ba2c0f23de3b6b",
       "value": 8
      }
     },
     "282a25d1d9894de79320d86613632d0c": {
      "model_module": "@jupyter-widgets/controls",
      "model_module_version": "1.5.0",
      "model_name": "DescriptionStyleModel",
      "state": {
       "description_width": ""
      }
     },
     "28a64399b9c44d62962cf73dbcf05b77": {
      "model_module": "@jupyter-widgets/base",
      "model_module_version": "1.2.0",
      "model_name": "LayoutModel",
      "state": {}
     },
     "28d362f613c14c0b9e97f29c4782b87c": {
      "model_module": "@jupyter-widgets/controls",
      "model_module_version": "1.5.0",
      "model_name": "ProgressStyleModel",
      "state": {
       "description_width": ""
      }
     },
     "29183196ad3f4c89b05f8fd0553cbdda": {
      "model_module": "@jupyter-widgets/base",
      "model_module_version": "1.2.0",
      "model_name": "LayoutModel",
      "state": {}
     },
     "291bb2fa91db429f89c0e5b5e9374a43": {
      "model_module": "@jupyter-widgets/controls",
      "model_module_version": "1.5.0",
      "model_name": "HTMLModel",
      "state": {
       "layout": "IPY_MODEL_1c4d8ec66de24c07bacf3e34ff3cabce",
       "style": "IPY_MODEL_dc4367b253514b089776a2234ead989f",
       "value": "Iterating through drift speeds:  75%"
      }
     },
     "297e0368ef964d1abd2d378ccfb0477c": {
      "model_module": "@jupyter-widgets/base",
      "model_module_version": "1.2.0",
      "model_name": "LayoutModel",
      "state": {}
     },
     "298baf4c19654dd4b1833829e608eb36": {
      "model_module": "jupyter-matplotlib",
      "model_module_version": "^0.8.2",
      "model_name": "ToolbarModel",
      "state": {
       "layout": "IPY_MODEL_d45cc7fdef5942a9849559610081a239",
       "toolitems": [
        [
         "Home",
         "Reset original view",
         "home",
         "home"
        ],
        [
         "Back",
         "Back to previous view",
         "arrow-left",
         "back"
        ],
        [
         "Forward",
         "Forward to next view",
         "arrow-right",
         "forward"
        ],
        [
         "Pan",
         "Left button pans, Right button zooms\nx/y fixes axis, CTRL fixes aspect",
         "arrows",
         "pan"
        ],
        [
         "Zoom",
         "Zoom to rectangle\nx/y fixes axis, CTRL fixes aspect",
         "square-o",
         "zoom"
        ],
        [
         "Download",
         "Download plot",
         "floppy-o",
         "save_figure"
        ]
       ]
      }
     },
     "299764a4fe2645bb80dd471b9167b124": {
      "model_module": "@jupyter-widgets/base",
      "model_module_version": "1.2.0",
      "model_name": "LayoutModel",
      "state": {}
     },
     "29a7824752864337b895c77ed7611e11": {
      "model_module": "@jupyter-widgets/base",
      "model_module_version": "1.2.0",
      "model_name": "LayoutModel",
      "state": {}
     },
     "29ca4201ccf04204b67963d569db51ac": {
      "model_module": "@jupyter-widgets/base",
      "model_module_version": "1.2.0",
      "model_name": "LayoutModel",
      "state": {}
     },
     "29d648863bb545c2b0b3d04487c247a7": {
      "model_module": "@jupyter-widgets/controls",
      "model_module_version": "1.5.0",
      "model_name": "HTMLModel",
      "state": {
       "layout": "IPY_MODEL_a5dc47cee5764adaad2f6b40fd8513ea",
       "style": "IPY_MODEL_6ed55112b356494fb684d26d3b7226e9",
       "value": " 6/8 [00:00&lt;00:00, 58.25it/s]"
      }
     },
     "2a50df20674343af9d3032672979ecab": {
      "model_module": "@jupyter-widgets/controls",
      "model_module_version": "1.5.0",
      "model_name": "DescriptionStyleModel",
      "state": {
       "description_width": ""
      }
     },
     "2afac41566c1473087726c9f6952758c": {
      "model_module": "@jupyter-widgets/base",
      "model_module_version": "1.2.0",
      "model_name": "LayoutModel",
      "state": {}
     },
     "2b390019f448437f8ec6eee0a5dea291": {
      "model_module": "@jupyter-widgets/base",
      "model_module_version": "1.2.0",
      "model_name": "LayoutModel",
      "state": {}
     },
     "2b507fa198ac42f780ebf82051efd5eb": {
      "model_module": "@jupyter-widgets/controls",
      "model_module_version": "1.5.0",
      "model_name": "HTMLModel",
      "state": {
       "layout": "IPY_MODEL_cec4c8b2c6f340089717a9f834eaad7f",
       "style": "IPY_MODEL_c5e993fdd2ea498d942abc10dde25958",
       "value": " 6/8 [00:00&lt;00:00, 58.82it/s]"
      }
     },
     "2b7811e75e5b4c6881b36483669024b0": {
      "model_module": "@jupyter-widgets/controls",
      "model_module_version": "1.5.0",
      "model_name": "HTMLModel",
      "state": {
       "layout": "IPY_MODEL_ae1124f7fb8040e2b2ae8ffc539a2bce",
       "style": "IPY_MODEL_c9bff51988ca455ab035909d514f5a55",
       "value": "Iterating through drift speeds:  88%"
      }
     },
     "2b8359f3b81749b0a08db635c9aac47d": {
      "model_module": "@jupyter-widgets/controls",
      "model_module_version": "1.5.0",
      "model_name": "HTMLModel",
      "state": {
       "layout": "IPY_MODEL_a9cf376685104881a72f3950f96fd3d1",
       "style": "IPY_MODEL_2a50df20674343af9d3032672979ecab",
       "value": "Iterating through drift speeds:  75%"
      }
     },
     "2bd86a8e445c4bb9a6d44532c7b05af8": {
      "model_module": "@jupyter-widgets/base",
      "model_module_version": "1.2.0",
      "model_name": "LayoutModel",
      "state": {}
     },
     "2bef8f709eca42b98f23ee63f04799b2": {
      "model_module": "@jupyter-widgets/controls",
      "model_module_version": "1.5.0",
      "model_name": "DescriptionStyleModel",
      "state": {
       "description_width": ""
      }
     },
     "2c69b194dd11465791c4399518dc4485": {
      "model_module": "@jupyter-widgets/base",
      "model_module_version": "1.2.0",
      "model_name": "LayoutModel",
      "state": {}
     },
     "2c821fb51af64a7dba46f1a555fac385": {
      "model_module": "@jupyter-widgets/base",
      "model_module_version": "1.2.0",
      "model_name": "LayoutModel",
      "state": {}
     },
     "2c8231462b69485cb79391f56a3db390": {
      "model_module": "@jupyter-widgets/base",
      "model_module_version": "1.2.0",
      "model_name": "LayoutModel",
      "state": {}
     },
     "2c92875a3aa94a1ca359ed6751bcf73f": {
      "model_module": "@jupyter-widgets/controls",
      "model_module_version": "1.5.0",
      "model_name": "DescriptionStyleModel",
      "state": {
       "description_width": ""
      }
     },
     "2ced695771b0483388a9d56d57dfce8c": {
      "model_module": "@jupyter-widgets/base",
      "model_module_version": "1.2.0",
      "model_name": "LayoutModel",
      "state": {}
     },
     "2d2f4f951b95488e95b3f42f3dfe0827": {
      "model_module": "@jupyter-widgets/controls",
      "model_module_version": "1.5.0",
      "model_name": "HTMLModel",
      "state": {
       "layout": "IPY_MODEL_727942ba141b4047a564af3f3cabaad3",
       "style": "IPY_MODEL_5be9de6c01ed4596a6c14db7e14db725",
       "value": "Iterating through drift speeds:  75%"
      }
     },
     "2e708af6877048fa86b00b91000388f2": {
      "model_module": "@jupyter-widgets/base",
      "model_module_version": "1.2.0",
      "model_name": "LayoutModel",
      "state": {}
     },
     "2fea0c6d7d134c0e8b0bcf7239b404a3": {
      "model_module": "@jupyter-widgets/base",
      "model_module_version": "1.2.0",
      "model_name": "LayoutModel",
      "state": {}
     },
     "3048788e881541b7b9f8cdfcaa2f6bbf": {
      "model_module": "@jupyter-widgets/controls",
      "model_module_version": "1.5.0",
      "model_name": "FloatProgressModel",
      "state": {
       "layout": "IPY_MODEL_c675d27292bc4e1caf0a564586634999",
       "max": 8,
       "style": "IPY_MODEL_95f26ce4617d434ca7163406025bb972",
       "value": 8
      }
     },
     "3090530dc69247b1be357fe08b69cb34": {
      "model_module": "@jupyter-widgets/controls",
      "model_module_version": "1.5.0",
      "model_name": "DescriptionStyleModel",
      "state": {
       "description_width": ""
      }
     },
     "30c0a162abbc4c2d9c420f08e708bfe4": {
      "model_module": "@jupyter-widgets/controls",
      "model_module_version": "1.5.0",
      "model_name": "HTMLModel",
      "state": {
       "layout": "IPY_MODEL_226df04026484b89bb06aa55358cf7ea",
       "style": "IPY_MODEL_ddac2198d0a44b4098d1089afad5bd35",
       "value": " 6/8 [00:00&lt;00:00, 55.54it/s]"
      }
     },
     "30cbdf81138642bd9a1e5a6d82f05f5a": {
      "model_module": "@jupyter-widgets/controls",
      "model_module_version": "1.5.0",
      "model_name": "DescriptionStyleModel",
      "state": {
       "description_width": ""
      }
     },
     "30d1f1e3b53f4de69ccf7b93d9d1c1d1": {
      "model_module": "@jupyter-widgets/controls",
      "model_module_version": "1.5.0",
      "model_name": "DescriptionStyleModel",
      "state": {
       "description_width": ""
      }
     },
     "3183e6d31b33493bb8742ea1cad27871": {
      "model_module": "@jupyter-widgets/controls",
      "model_module_version": "1.5.0",
      "model_name": "DescriptionStyleModel",
      "state": {
       "description_width": ""
      }
     },
     "318c0befeb264a3299e0fa6cd0f8540b": {
      "model_module": "@jupyter-widgets/base",
      "model_module_version": "1.2.0",
      "model_name": "LayoutModel",
      "state": {}
     },
     "329f0b99010b48b5aa004e192425fcb4": {
      "model_module": "@jupyter-widgets/controls",
      "model_module_version": "1.5.0",
      "model_name": "DescriptionStyleModel",
      "state": {
       "description_width": ""
      }
     },
     "32b43f746a7f4600b6ba46644a579649": {
      "model_module": "@jupyter-widgets/controls",
      "model_module_version": "1.5.0",
      "model_name": "DescriptionStyleModel",
      "state": {
       "description_width": ""
      }
     },
     "32c47b7db50e4779b265b7e55e203363": {
      "model_module": "@jupyter-widgets/controls",
      "model_module_version": "1.5.0",
      "model_name": "ProgressStyleModel",
      "state": {
       "description_width": ""
      }
     },
     "32e08fe3865d450998bffc82700c9cc9": {
      "model_module": "@jupyter-widgets/controls",
      "model_module_version": "1.5.0",
      "model_name": "HTMLModel",
      "state": {
       "layout": "IPY_MODEL_15c83f300afb4fd0b295d522897d9e33",
       "style": "IPY_MODEL_992c0f50104a4faa96603c3efea4c719",
       "value": "Iterating through drift speeds:  75%"
      }
     },
     "32f3e84b47a44981b7477c37f4a30bad": {
      "model_module": "@jupyter-widgets/base",
      "model_module_version": "1.2.0",
      "model_name": "LayoutModel",
      "state": {}
     },
     "33aa31ef223e45d6a3c45fc3e9847569": {
      "model_module": "@jupyter-widgets/controls",
      "model_module_version": "1.5.0",
      "model_name": "ProgressStyleModel",
      "state": {
       "description_width": ""
      }
     },
     "33c04c2dd5004ae2b47a053c15e792f2": {
      "model_module": "@jupyter-widgets/controls",
      "model_module_version": "1.5.0",
      "model_name": "HTMLModel",
      "state": {
       "layout": "IPY_MODEL_87404925f925416f817eddf21cfd963d",
       "style": "IPY_MODEL_dc44a10226c944d38c3af710173e08a8",
       "value": "Iterating through drift speeds:  75%"
      }
     },
     "340ab91c822d4312b8408623c9ea00a9": {
      "model_module": "@jupyter-widgets/base",
      "model_module_version": "1.2.0",
      "model_name": "LayoutModel",
      "state": {}
     },
     "3478f7463e6f4165821036bbb3d6b378": {
      "model_module": "@jupyter-widgets/base",
      "model_module_version": "1.2.0",
      "model_name": "LayoutModel",
      "state": {}
     },
     "34cd7304d00340de88a805b288fb1c2b": {
      "model_module": "@jupyter-widgets/base",
      "model_module_version": "1.2.0",
      "model_name": "LayoutModel",
      "state": {}
     },
     "34ecaf1702974d57afdb35494fb4dc79": {
      "model_module": "@jupyter-widgets/controls",
      "model_module_version": "1.5.0",
      "model_name": "ProgressStyleModel",
      "state": {
       "description_width": ""
      }
     },
     "35eb4e1bcfed475dbd0a7ac74947d1d3": {
      "model_module": "@jupyter-widgets/base",
      "model_module_version": "1.2.0",
      "model_name": "LayoutModel",
      "state": {}
     },
     "3656dcc4ed4b442ea803223d3254d33c": {
      "model_module": "jupyter-matplotlib",
      "model_module_version": "^0.8.2",
      "model_name": "ToolbarModel",
      "state": {
       "layout": "IPY_MODEL_522f941c8d3144fbad53ef6088ab5f7f",
       "toolitems": [
        [
         "Home",
         "Reset original view",
         "home",
         "home"
        ],
        [
         "Back",
         "Back to previous view",
         "arrow-left",
         "back"
        ],
        [
         "Forward",
         "Forward to next view",
         "arrow-right",
         "forward"
        ],
        [
         "Pan",
         "Left button pans, Right button zooms\nx/y fixes axis, CTRL fixes aspect",
         "arrows",
         "pan"
        ],
        [
         "Zoom",
         "Zoom to rectangle\nx/y fixes axis, CTRL fixes aspect",
         "square-o",
         "zoom"
        ],
        [
         "Download",
         "Download plot",
         "floppy-o",
         "save_figure"
        ]
       ]
      }
     },
     "3693b0e6ba534c99bc53fd1b2cde5ccc": {
      "model_module": "@jupyter-widgets/controls",
      "model_module_version": "1.5.0",
      "model_name": "HTMLModel",
      "state": {
       "layout": "IPY_MODEL_7085fedd02184c9db40ba9f21e59431f",
       "style": "IPY_MODEL_1dae3633e6ec4297a6b1859979c2cb7b",
       "value": "Iterating through drift speeds:  75%"
      }
     },
     "36b1bb242ebd4668806ea158b3e526e1": {
      "model_module": "@jupyter-widgets/controls",
      "model_module_version": "1.5.0",
      "model_name": "HTMLModel",
      "state": {
       "layout": "IPY_MODEL_23b3488f30c14f2f820c4ead0c9513f2",
       "style": "IPY_MODEL_f53c265af1b644748239858ce3eb6019",
       "value": "Iterating through drift speeds:  88%"
      }
     },
     "378f2ffc63e64157846786f3f00b88bf": {
      "model_module": "@jupyter-widgets/base",
      "model_module_version": "1.2.0",
      "model_name": "LayoutModel",
      "state": {}
     },
     "37dc70c582ee4438abc1c25e52818c76": {
      "model_module": "@jupyter-widgets/base",
      "model_module_version": "1.2.0",
      "model_name": "LayoutModel",
      "state": {}
     },
     "37f1a0b6114a45459e800076401c2ede": {
      "model_module": "@jupyter-widgets/controls",
      "model_module_version": "1.5.0",
      "model_name": "HTMLModel",
      "state": {
       "layout": "IPY_MODEL_1696060e39834a9fb79816ff9b9bc093",
       "style": "IPY_MODEL_638f64987ab84d0a8b978cee071943b7",
       "value": " 6/8 [00:00&lt;00:00, 58.82it/s]"
      }
     },
     "38271bc357d8491f85433d453165db28": {
      "model_module": "@jupyter-widgets/controls",
      "model_module_version": "1.5.0",
      "model_name": "HTMLModel",
      "state": {
       "layout": "IPY_MODEL_e6b05a2ad369421099f1af97ca2f158c",
       "style": "IPY_MODEL_bf13de2bd02c478abe9a922fa19f6c60",
       "value": " 6/8 [00:00&lt;00:00, 58.81it/s]"
      }
     },
     "382cd29224dc422da33ee66122751fa2": {
      "model_module": "@jupyter-widgets/base",
      "model_module_version": "1.2.0",
      "model_name": "LayoutModel",
      "state": {}
     },
     "382f2552198f4774a97181fd588ca55c": {
      "model_module": "@jupyter-widgets/base",
      "model_module_version": "1.2.0",
      "model_name": "LayoutModel",
      "state": {}
     },
     "387c8263afb34ed49c58e601563eca11": {
      "model_module": "@jupyter-widgets/controls",
      "model_module_version": "1.5.0",
      "model_name": "FloatProgressModel",
      "state": {
       "layout": "IPY_MODEL_4ac2f7a246bb4539845b9e9df0d142d2",
       "max": 8,
       "style": "IPY_MODEL_3988a87006284ba79c4143058bfcb0ca",
       "value": 8
      }
     },
     "3983731c3ea24ef9bfaaddb88e042f5d": {
      "model_module": "@jupyter-widgets/controls",
      "model_module_version": "1.5.0",
      "model_name": "DescriptionStyleModel",
      "state": {
       "description_width": ""
      }
     },
     "3988a87006284ba79c4143058bfcb0ca": {
      "model_module": "@jupyter-widgets/controls",
      "model_module_version": "1.5.0",
      "model_name": "ProgressStyleModel",
      "state": {
       "description_width": ""
      }
     },
     "3a074037efce428bbba4aad9b628f322": {
      "model_module": "@jupyter-widgets/controls",
      "model_module_version": "1.5.0",
      "model_name": "HBoxModel",
      "state": {
       "children": [
        "IPY_MODEL_619d0f78ad9a4f4cbe7f9ed607f5cbbc",
        "IPY_MODEL_d468616c72f74dba9fe1d0ee079d0364",
        "IPY_MODEL_98d012fb3f2a40e799daf104646c631a"
       ],
       "layout": "IPY_MODEL_4a45e560f23e4e6abbf039f303123116"
      }
     },
     "3a98d318a944476aa4e2f5244d3b8614": {
      "model_module": "@jupyter-widgets/controls",
      "model_module_version": "1.5.0",
      "model_name": "FloatProgressModel",
      "state": {
       "layout": "IPY_MODEL_87366a0834e0431ca48ce187ec90f486",
       "max": 8,
       "style": "IPY_MODEL_5597fcf2c2504faf9bc12ece7cff4c8a",
       "value": 8
      }
     },
     "3aa85cdc4ef549da99681a73ac7123e9": {
      "model_module": "@jupyter-widgets/controls",
      "model_module_version": "1.5.0",
      "model_name": "HTMLModel",
      "state": {
       "layout": "IPY_MODEL_45c18bc49ba04a2fbdd78d0cd2149a9d",
       "style": "IPY_MODEL_22c362e285ff45b697d605e94168abbb",
       "value": " 6/8 [00:00&lt;00:00, 58.82it/s]"
      }
     },
     "3b0eb070c6c54ab9bcae2e4be095b6e9": {
      "model_module": "@jupyter-widgets/controls",
      "model_module_version": "1.5.0",
      "model_name": "HTMLModel",
      "state": {
       "layout": "IPY_MODEL_0caf01dcdda849c88d7ab146001134b3",
       "style": "IPY_MODEL_329f0b99010b48b5aa004e192425fcb4",
       "value": "Iterating through drift speeds:  75%"
      }
     },
     "3b30e2e06cb6487f95e70f2a5763847a": {
      "model_module": "@jupyter-widgets/controls",
      "model_module_version": "1.5.0",
      "model_name": "DescriptionStyleModel",
      "state": {
       "description_width": ""
      }
     },
     "3bbb20d9d70e4680840629d83d4796fc": {
      "model_module": "@jupyter-widgets/base",
      "model_module_version": "1.2.0",
      "model_name": "LayoutModel",
      "state": {}
     },
     "3bc871eb26f04405989f0bd170b57082": {
      "model_module": "@jupyter-widgets/controls",
      "model_module_version": "1.5.0",
      "model_name": "HTMLModel",
      "state": {
       "layout": "IPY_MODEL_0d45222ee96c45a196a60bbe2c1d4ccb",
       "style": "IPY_MODEL_2618f37520e740afb2b5873b814c6134",
       "value": " 6/8 [00:00&lt;00:00, 57.69it/s]"
      }
     },
     "3bcef4707a644f3dbefccbf16a9a1799": {
      "model_module": "@jupyter-widgets/base",
      "model_module_version": "1.2.0",
      "model_name": "LayoutModel",
      "state": {}
     },
     "3c33ece414424d97b3236159e4735781": {
      "model_module": "@jupyter-widgets/controls",
      "model_module_version": "1.5.0",
      "model_name": "HTMLModel",
      "state": {
       "layout": "IPY_MODEL_6870fe4079474527b6d108432d602b32",
       "style": "IPY_MODEL_208f28455ad0400daf4ddf85a7bdb441",
       "value": " 6/8 [00:00&lt;00:00, 57.69it/s]"
      }
     },
     "3c835030d9a04e4aa661b6f453a07e89": {
      "model_module": "@jupyter-widgets/controls",
      "model_module_version": "1.5.0",
      "model_name": "DescriptionStyleModel",
      "state": {
       "description_width": ""
      }
     },
     "3cf3f231e5fb4530bee138a90c1e3e70": {
      "model_module": "@jupyter-widgets/controls",
      "model_module_version": "1.5.0",
      "model_name": "ProgressStyleModel",
      "state": {
       "description_width": ""
      }
     },
     "3d2ed5ae675045cda9533b907dbf2dfb": {
      "model_module": "@jupyter-widgets/controls",
      "model_module_version": "1.5.0",
      "model_name": "HTMLModel",
      "state": {
       "layout": "IPY_MODEL_83635741260a40bb97fa7636962c5c4a",
       "style": "IPY_MODEL_030a0d66985849cbbb5d04096dcf0a22",
       "value": " 6/8 [00:00&lt;00:00, 59.41it/s]"
      }
     },
     "3d517b3f432343fdb9d5af16eed1cc40": {
      "model_module": "@jupyter-widgets/controls",
      "model_module_version": "1.5.0",
      "model_name": "FloatProgressModel",
      "state": {
       "layout": "IPY_MODEL_6e3accce8bf24f33bc7619e3942f8073",
       "max": 8,
       "style": "IPY_MODEL_dc712e8b52d349f99c5fea29ea8f9b21",
       "value": 8
      }
     },
     "3d688e1746d2490182ace21a796ab780": {
      "model_module": "@jupyter-widgets/base",
      "model_module_version": "1.2.0",
      "model_name": "LayoutModel",
      "state": {}
     },
     "3d8ff56631144d529c09be9f151d168b": {
      "model_module": "@jupyter-widgets/controls",
      "model_module_version": "1.5.0",
      "model_name": "DescriptionStyleModel",
      "state": {
       "description_width": ""
      }
     },
     "3daa1a7d64a64228b96adf3acdd42d42": {
      "model_module": "@jupyter-widgets/base",
      "model_module_version": "1.2.0",
      "model_name": "LayoutModel",
      "state": {}
     },
     "3daff631820442ea96d794e6b38b1c86": {
      "model_module": "@jupyter-widgets/controls",
      "model_module_version": "1.5.0",
      "model_name": "DescriptionStyleModel",
      "state": {
       "description_width": ""
      }
     },
     "3dc9f7bd88f540cb83359e14711accb1": {
      "model_module": "@jupyter-widgets/controls",
      "model_module_version": "1.5.0",
      "model_name": "DescriptionStyleModel",
      "state": {
       "description_width": ""
      }
     },
     "3ebeeb6c417746a4b8a0430b6cbbe732": {
      "model_module": "@jupyter-widgets/base",
      "model_module_version": "1.2.0",
      "model_name": "LayoutModel",
      "state": {}
     },
     "3ec0afa23ed94d489cbb4929d3e819bb": {
      "model_module": "@jupyter-widgets/controls",
      "model_module_version": "1.5.0",
      "model_name": "ProgressStyleModel",
      "state": {
       "description_width": ""
      }
     },
     "3f06685019a34416914fbc1af4fe93b7": {
      "model_module": "@jupyter-widgets/controls",
      "model_module_version": "1.5.0",
      "model_name": "DescriptionStyleModel",
      "state": {
       "description_width": ""
      }
     },
     "3f0a76cbd6c4487ab5f85704ba592755": {
      "model_module": "@jupyter-widgets/controls",
      "model_module_version": "1.5.0",
      "model_name": "HTMLModel",
      "state": {
       "layout": "IPY_MODEL_9b14ead7c13c4093be1cdaefc195d275",
       "style": "IPY_MODEL_5afd9f5ceba941d4985ca7cee291dc79",
       "value": "Iterating through drift speeds:  75%"
      }
     },
     "3f0cbc30986f4e0c82584236540e9cb6": {
      "model_module": "@jupyter-widgets/controls",
      "model_module_version": "1.5.0",
      "model_name": "HTMLModel",
      "state": {
       "layout": "IPY_MODEL_9b3a69a411f243f8b47d983f5e97a9ca",
       "style": "IPY_MODEL_4b1cf89d699d4dfdb469ff5ce860a74e",
       "value": "Iterating through drift speeds:  75%"
      }
     },
     "3f67ee2099f24ba3a767076aa6e9b022": {
      "model_module": "@jupyter-widgets/controls",
      "model_module_version": "1.5.0",
      "model_name": "HTMLModel",
      "state": {
       "layout": "IPY_MODEL_974f56b5459e4bb9a4a4dd8d612fff0e",
       "style": "IPY_MODEL_f83459cc37ed42cd9873eb2d2dbc5c4e",
       "value": " 6/8 [00:00&lt;00:00, 57.69it/s]"
      }
     },
     "3f821aeba8e8494aa9b0f248a6526621": {
      "model_module": "@jupyter-widgets/controls",
      "model_module_version": "1.5.0",
      "model_name": "FloatProgressModel",
      "state": {
       "layout": "IPY_MODEL_abc68c51b8574d989face6812134bbc1",
       "max": 8,
       "style": "IPY_MODEL_458a040e93564d2bb76c8fba245d7afe",
       "value": 8
      }
     },
     "3faee2821be145ddb7e99a2983566ca2": {
      "model_module": "@jupyter-widgets/controls",
      "model_module_version": "1.5.0",
      "model_name": "HTMLModel",
      "state": {
       "layout": "IPY_MODEL_0e88eb37b1fe4529800c61645ce895c7",
       "style": "IPY_MODEL_22b9e8e6b2dc49e6bc5407310beb8b47",
       "value": "Iterating through drift speeds:  75%"
      }
     },
     "3fb31424a5b441ba8b55479a978f3e03": {
      "model_module": "@jupyter-widgets/controls",
      "model_module_version": "1.5.0",
      "model_name": "HTMLModel",
      "state": {
       "layout": "IPY_MODEL_452c082942a044179e99efca7952b03e",
       "style": "IPY_MODEL_faaf18beb9d645cfb233eb5b25ee54f0",
       "value": "Iterating through drift speeds:  75%"
      }
     },
     "3fc32f0c59034338b584f20bf119f55d": {
      "model_module": "@jupyter-widgets/base",
      "model_module_version": "1.2.0",
      "model_name": "LayoutModel",
      "state": {}
     },
     "3fca1102415740329309d20e856e7b4d": {
      "model_module": "@jupyter-widgets/base",
      "model_module_version": "1.2.0",
      "model_name": "LayoutModel",
      "state": {}
     },
     "4008bbd1ccc743aea8a5f4cde1829197": {
      "model_module": "@jupyter-widgets/base",
      "model_module_version": "1.2.0",
      "model_name": "LayoutModel",
      "state": {}
     },
     "404374d09b5c43c194d18cd6ab6e3fe3": {
      "model_module": "@jupyter-widgets/controls",
      "model_module_version": "1.5.0",
      "model_name": "DescriptionStyleModel",
      "state": {
       "description_width": ""
      }
     },
     "405a5f7ab8b143e4b19b5b83a82a7df3": {
      "model_module": "@jupyter-widgets/controls",
      "model_module_version": "1.5.0",
      "model_name": "DescriptionStyleModel",
      "state": {
       "description_width": ""
      }
     },
     "40a8cd067728437485f5fd9071a40394": {
      "model_module": "@jupyter-widgets/base",
      "model_module_version": "1.2.0",
      "model_name": "LayoutModel",
      "state": {}
     },
     "40d1dd9e18054cf2977a4357725609b3": {
      "model_module": "@jupyter-widgets/controls",
      "model_module_version": "1.5.0",
      "model_name": "DescriptionStyleModel",
      "state": {
       "description_width": ""
      }
     },
     "40e83095156b4a959db9d4d656c89129": {
      "model_module": "@jupyter-widgets/controls",
      "model_module_version": "1.5.0",
      "model_name": "DescriptionStyleModel",
      "state": {
       "description_width": ""
      }
     },
     "41914b4ae2b146be8a7ad0e0bfd1fb59": {
      "model_module": "@jupyter-widgets/controls",
      "model_module_version": "1.5.0",
      "model_name": "FloatProgressModel",
      "state": {
       "bar_style": "success",
       "layout": "IPY_MODEL_a5d2b6a2008142fcb72bdf4d6d804ba5",
       "max": 8,
       "style": "IPY_MODEL_591673800f0e433d917dd65481510335",
       "value": 8
      }
     },
     "419a960cf8b747578c2a638c70434067": {
      "model_module": "@jupyter-widgets/controls",
      "model_module_version": "1.5.0",
      "model_name": "HTMLModel",
      "state": {
       "layout": "IPY_MODEL_19e7d9ed06514afa8910bddf243e13e9",
       "style": "IPY_MODEL_702c500504f24f12a1f2089a857e3dad",
       "value": "Iterating through drift speeds:  75%"
      }
     },
     "42f443d8b0124e7fbf56023de242c165": {
      "model_module": "@jupyter-widgets/base",
      "model_module_version": "1.2.0",
      "model_name": "LayoutModel",
      "state": {}
     },
     "43362c0db59b4d4fac777d5cfdaf5537": {
      "model_module": "@jupyter-widgets/controls",
      "model_module_version": "1.5.0",
      "model_name": "ProgressStyleModel",
      "state": {
       "description_width": ""
      }
     },
     "433742f271a74141a4632fb333009b0c": {
      "model_module": "@jupyter-widgets/controls",
      "model_module_version": "1.5.0",
      "model_name": "FloatProgressModel",
      "state": {
       "layout": "IPY_MODEL_4486fb44d7024530bbba9f1f9c0a8d38",
       "max": 8,
       "style": "IPY_MODEL_0bc410f382d9432db4aa3370c7cd34e7",
       "value": 8
      }
     },
     "434cd61036bb4ac0aa620bb6cc482fda": {
      "model_module": "@jupyter-widgets/base",
      "model_module_version": "1.2.0",
      "model_name": "LayoutModel",
      "state": {}
     },
     "438d2c4900e443638101269a06915929": {
      "model_module": "jupyter-matplotlib",
      "model_module_version": "^0.8.2",
      "model_name": "MPLCanvasModel",
      "state": {
       "_cursor": "default",
       "_figure_label": "Figure 8",
       "_height": 480,
       "_width": 640,
       "layout": "IPY_MODEL_fc5ebb33419c46eb9e0fe9a3acc0e384",
       "toolbar": "IPY_MODEL_ba0700a49f794026a6b316de179449df",
       "toolbar_position": "left"
      }
     },
     "4392a71f433345f688a7d0f6ce8eefda": {
      "model_module": "@jupyter-widgets/base",
      "model_module_version": "1.2.0",
      "model_name": "LayoutModel",
      "state": {}
     },
     "440403b949a1420cbce042cfa9571248": {
      "model_module": "@jupyter-widgets/controls",
      "model_module_version": "1.5.0",
      "model_name": "ProgressStyleModel",
      "state": {
       "description_width": ""
      }
     },
     "442db2414bf6464ab6aa8fe76ab32374": {
      "model_module": "@jupyter-widgets/controls",
      "model_module_version": "1.5.0",
      "model_name": "HTMLModel",
      "state": {
       "layout": "IPY_MODEL_7f8069e8718f481a84f1f4a8df6dfd31",
       "style": "IPY_MODEL_f7e1421462634439b4fdab0824dbdca9",
       "value": "Iterating through drift speeds:  75%"
      }
     },
     "4486fb44d7024530bbba9f1f9c0a8d38": {
      "model_module": "@jupyter-widgets/base",
      "model_module_version": "1.2.0",
      "model_name": "LayoutModel",
      "state": {}
     },
     "44a3b4f714c449cd816ee3254e2e772f": {
      "model_module": "@jupyter-widgets/controls",
      "model_module_version": "1.5.0",
      "model_name": "HBoxModel",
      "state": {
       "children": [
        "IPY_MODEL_0cf5f0a5098f4ebba899d44f73dd970d",
        "IPY_MODEL_5f551eadfbe04ea891f99837d9feff5a",
        "IPY_MODEL_97d00814d3824c309fcda2eaa5df2f0d"
       ],
       "layout": "IPY_MODEL_fe190fe5ec3a4ffaa0d70513d510fffa"
      }
     },
     "452c082942a044179e99efca7952b03e": {
      "model_module": "@jupyter-widgets/base",
      "model_module_version": "1.2.0",
      "model_name": "LayoutModel",
      "state": {}
     },
     "458a040e93564d2bb76c8fba245d7afe": {
      "model_module": "@jupyter-widgets/controls",
      "model_module_version": "1.5.0",
      "model_name": "ProgressStyleModel",
      "state": {
       "description_width": ""
      }
     },
     "45c18bc49ba04a2fbdd78d0cd2149a9d": {
      "model_module": "@jupyter-widgets/base",
      "model_module_version": "1.2.0",
      "model_name": "LayoutModel",
      "state": {}
     },
     "45eafbde676f4a2186fd81d8a5bf8e3e": {
      "model_module": "@jupyter-widgets/controls",
      "model_module_version": "1.5.0",
      "model_name": "FloatProgressModel",
      "state": {
       "layout": "IPY_MODEL_81ce4b01d9d9449fb80102d1e080e1d0",
       "max": 8,
       "style": "IPY_MODEL_ad4fe512bdde4f058edc9d148c62df99",
       "value": 8
      }
     },
     "45ed3ea759c5487a9029644e992a78aa": {
      "model_module": "@jupyter-widgets/base",
      "model_module_version": "1.2.0",
      "model_name": "LayoutModel",
      "state": {}
     },
     "46cd8fe07d7042a9a859fe4441e751a3": {
      "model_module": "@jupyter-widgets/controls",
      "model_module_version": "1.5.0",
      "model_name": "DescriptionStyleModel",
      "state": {
       "description_width": ""
      }
     },
     "476d163844654c719ff8c7311109b174": {
      "model_module": "@jupyter-widgets/base",
      "model_module_version": "1.2.0",
      "model_name": "LayoutModel",
      "state": {}
     },
     "48871c024d4445b39fd7a7fc60c23e08": {
      "model_module": "@jupyter-widgets/controls",
      "model_module_version": "1.5.0",
      "model_name": "DescriptionStyleModel",
      "state": {
       "description_width": ""
      }
     },
     "49097df441e84bcf920511bbe943fad7": {
      "model_module": "@jupyter-widgets/base",
      "model_module_version": "1.2.0",
      "model_name": "LayoutModel",
      "state": {}
     },
     "4919c07fca1146699eda1d859da29ec1": {
      "model_module": "@jupyter-widgets/base",
      "model_module_version": "1.2.0",
      "model_name": "LayoutModel",
      "state": {}
     },
     "4928414bf9c64495b925f064b9cc319a": {
      "model_module": "@jupyter-widgets/base",
      "model_module_version": "1.2.0",
      "model_name": "LayoutModel",
      "state": {}
     },
     "4962f1e59ceb41248043ef5eace20cbb": {
      "model_module": "@jupyter-widgets/controls",
      "model_module_version": "1.5.0",
      "model_name": "HTMLModel",
      "state": {
       "layout": "IPY_MODEL_64e6bb6c1c3544d99c29526ba712d452",
       "style": "IPY_MODEL_bcf12d80df074d558ee207e981656a3b",
       "value": "Iterating through drift speeds:  75%"
      }
     },
     "4a11eb375c5d4ef999e9961a62d250de": {
      "model_module": "@jupyter-widgets/controls",
      "model_module_version": "1.5.0",
      "model_name": "HTMLModel",
      "state": {
       "layout": "IPY_MODEL_2c821fb51af64a7dba46f1a555fac385",
       "style": "IPY_MODEL_7b0c469b9c2047ae86e93587841cc1d5",
       "value": " 1/1 [00:00&lt;00:00,  4.47it/s]"
      }
     },
     "4a45e560f23e4e6abbf039f303123116": {
      "model_module": "@jupyter-widgets/base",
      "model_module_version": "1.2.0",
      "model_name": "LayoutModel",
      "state": {}
     },
     "4a6f472da6694e719d7cdc702bdd5505": {
      "model_module": "@jupyter-widgets/controls",
      "model_module_version": "1.5.0",
      "model_name": "FloatProgressModel",
      "state": {
       "layout": "IPY_MODEL_f89e3ab9521f49039e02e2aa6a60996e",
       "max": 8,
       "style": "IPY_MODEL_bf4601280fd8451da979a05aa6360f1f",
       "value": 8
      }
     },
     "4a90dd93ecbe418d83811582b6fd6d70": {
      "model_module": "jupyter-matplotlib",
      "model_module_version": "^0.8.2",
      "model_name": "MPLCanvasModel",
      "state": {
       "_cursor": "default",
       "_figure_label": "Figure 2",
       "_height": 479,
       "_width": 640,
       "layout": "IPY_MODEL_297e0368ef964d1abd2d378ccfb0477c",
       "toolbar": "IPY_MODEL_ba0bb0fbc1c343ef9301361018c6a34f",
       "toolbar_position": "left"
      }
     },
     "4ac2f7a246bb4539845b9e9df0d142d2": {
      "model_module": "@jupyter-widgets/base",
      "model_module_version": "1.2.0",
      "model_name": "LayoutModel",
      "state": {}
     },
     "4b1cf89d699d4dfdb469ff5ce860a74e": {
      "model_module": "@jupyter-widgets/controls",
      "model_module_version": "1.5.0",
      "model_name": "DescriptionStyleModel",
      "state": {
       "description_width": ""
      }
     },
     "4b587cf6f8054cc4a68da7730082e83c": {
      "model_module": "@jupyter-widgets/base",
      "model_module_version": "1.2.0",
      "model_name": "LayoutModel",
      "state": {}
     },
     "4b835cb40d684205880b89b985a40056": {
      "model_module": "@jupyter-widgets/controls",
      "model_module_version": "1.5.0",
      "model_name": "DescriptionStyleModel",
      "state": {
       "description_width": ""
      }
     },
     "4b93c13893ff49238615f39f68470f1c": {
      "model_module": "@jupyter-widgets/controls",
      "model_module_version": "1.5.0",
      "model_name": "HTMLModel",
      "state": {
       "layout": "IPY_MODEL_a25060671dae401cbac09d1d98cc0f1e",
       "style": "IPY_MODEL_98d1193adefe41c8b516fab7fa46750c",
       "value": " 6/8 [00:00&lt;00:00, 55.54it/s]"
      }
     },
     "4bc7b7b293d14572a1bd8266931480b3": {
      "model_module": "@jupyter-widgets/base",
      "model_module_version": "1.2.0",
      "model_name": "LayoutModel",
      "state": {}
     },
     "4bcf7146ea2b4bb082da79f48b7f728f": {
      "model_module": "@jupyter-widgets/controls",
      "model_module_version": "1.5.0",
      "model_name": "FloatProgressModel",
      "state": {
       "layout": "IPY_MODEL_ee42bc5b79184cdeb4eb66cdb9d00b41",
       "max": 8,
       "style": "IPY_MODEL_9dbd96fb79904152921b1a1c86367d33",
       "value": 8
      }
     },
     "4be33c9ff3e7447ebd593c3747424fdf": {
      "model_module": "@jupyter-widgets/base",
      "model_module_version": "1.2.0",
      "model_name": "LayoutModel",
      "state": {}
     },
     "4c71d1342c9b44d7b07d2cda267c0874": {
      "model_module": "@jupyter-widgets/base",
      "model_module_version": "1.2.0",
      "model_name": "LayoutModel",
      "state": {}
     },
     "4c97c8c51665451897e4ab58c9dac8d6": {
      "model_module": "@jupyter-widgets/base",
      "model_module_version": "1.2.0",
      "model_name": "LayoutModel",
      "state": {}
     },
     "4cb241656cb04ab68da08109c828171d": {
      "model_module": "@jupyter-widgets/controls",
      "model_module_version": "1.5.0",
      "model_name": "HTMLModel",
      "state": {
       "layout": "IPY_MODEL_bfd348e8b7b246f9a4e45842d87b34b3",
       "style": "IPY_MODEL_7866ce36bc134c9f84e9965c557a3b46",
       "value": "Iterating through drift speeds:  88%"
      }
     },
     "4cfb8688ca4d4de2a71e01834f8a6399": {
      "model_module": "@jupyter-widgets/base",
      "model_module_version": "1.2.0",
      "model_name": "LayoutModel",
      "state": {}
     },
     "4dc7e82c1db3446b8794e1981f519433": {
      "model_module": "@jupyter-widgets/base",
      "model_module_version": "1.2.0",
      "model_name": "LayoutModel",
      "state": {}
     },
     "4deb51ae017344efac27423e15acf144": {
      "model_module": "@jupyter-widgets/base",
      "model_module_version": "1.2.0",
      "model_name": "LayoutModel",
      "state": {}
     },
     "4e0e7079fc5d457c873a25a6e6a0aa55": {
      "model_module": "@jupyter-widgets/controls",
      "model_module_version": "1.5.0",
      "model_name": "HTMLModel",
      "state": {
       "layout": "IPY_MODEL_071b199f63454a468fcee57a43d5ad9d",
       "style": "IPY_MODEL_6c4c650f647847019fa95cd92a4a8094",
       "value": "100%"
      }
     },
     "4f3e455c516849a0b6f24fd9b4aa0ab2": {
      "model_module": "@jupyter-widgets/base",
      "model_module_version": "1.2.0",
      "model_name": "LayoutModel",
      "state": {}
     },
     "4ffe560065f9440fa2e9a8f2f43d606d": {
      "model_module": "jupyter-matplotlib",
      "model_module_version": "^0.8.2",
      "model_name": "MPLCanvasModel",
      "state": {
       "_cursor": "default",
       "_figure_label": "Figure 13",
       "_height": 480,
       "_message": "x=105.8 y=24.7\n[0.9]",
       "_width": 640,
       "layout": "IPY_MODEL_15427aa5a3374521a2c7034a59341d15",
       "toolbar": "IPY_MODEL_a9d3e9810d884428a8b02a103be4b195",
       "toolbar_position": "left"
      }
     },
     "5004a207666544b6b04a50f12306e76f": {
      "model_module": "@jupyter-widgets/base",
      "model_module_version": "1.2.0",
      "model_name": "LayoutModel",
      "state": {}
     },
     "50292b874ed74b09832d0928f7b5fe67": {
      "model_module": "@jupyter-widgets/controls",
      "model_module_version": "1.5.0",
      "model_name": "HTMLModel",
      "state": {
       "layout": "IPY_MODEL_c621f681dfa34a8cac5f4b785ab4e154",
       "style": "IPY_MODEL_30cbdf81138642bd9a1e5a6d82f05f5a",
       "value": "Iterating through drift speeds:  75%"
      }
     },
     "5093311101574bd198d2326584466686": {
      "model_module": "@jupyter-widgets/controls",
      "model_module_version": "1.5.0",
      "model_name": "FloatProgressModel",
      "state": {
       "bar_style": "success",
       "layout": "IPY_MODEL_979a5b77a40446ee89b8afb997468bac",
       "max": 1,
       "style": "IPY_MODEL_58e40bcd89d3472db69654e0142364a3",
       "value": 1
      }
     },
     "50a0bbb3907a498283a7307a86da16eb": {
      "model_module": "@jupyter-widgets/base",
      "model_module_version": "1.2.0",
      "model_name": "LayoutModel",
      "state": {}
     },
     "51083d0ad9194c018a459bb3655d52be": {
      "model_module": "@jupyter-widgets/base",
      "model_module_version": "1.2.0",
      "model_name": "LayoutModel",
      "state": {}
     },
     "51128e28779a41ada6d47cd74a612ffb": {
      "model_module": "@jupyter-widgets/controls",
      "model_module_version": "1.5.0",
      "model_name": "HTMLModel",
      "state": {
       "layout": "IPY_MODEL_beaaf4b85987444e9b241b3cb1758a07",
       "style": "IPY_MODEL_26d9339ee2084a89a525dd2c07592c02",
       "value": "Iterating through drift speeds:  75%"
      }
     },
     "514b11a4f196499ca89d2c945f624ffe": {
      "model_module": "@jupyter-widgets/base",
      "model_module_version": "1.2.0",
      "model_name": "LayoutModel",
      "state": {}
     },
     "514fbd1025d64c7c93475e77f5f4fd56": {
      "model_module": "@jupyter-widgets/base",
      "model_module_version": "1.2.0",
      "model_name": "LayoutModel",
      "state": {}
     },
     "51be0593561c493a8cb0be188f742e7b": {
      "model_module": "@jupyter-widgets/base",
      "model_module_version": "1.2.0",
      "model_name": "LayoutModel",
      "state": {}
     },
     "51d5ac08f7cd4fbf804c327bec82bff8": {
      "model_module": "@jupyter-widgets/base",
      "model_module_version": "1.2.0",
      "model_name": "LayoutModel",
      "state": {}
     },
     "51f5ddf4b30f41d282fd2e7c6a18ef0c": {
      "model_module": "@jupyter-widgets/controls",
      "model_module_version": "1.5.0",
      "model_name": "FloatProgressModel",
      "state": {
       "layout": "IPY_MODEL_378f2ffc63e64157846786f3f00b88bf",
       "max": 8,
       "style": "IPY_MODEL_3ec0afa23ed94d489cbb4929d3e819bb",
       "value": 8
      }
     },
     "52195e25101a40d49c930b95714874f4": {
      "model_module": "@jupyter-widgets/controls",
      "model_module_version": "1.5.0",
      "model_name": "DescriptionStyleModel",
      "state": {
       "description_width": ""
      }
     },
     "522f941c8d3144fbad53ef6088ab5f7f": {
      "model_module": "@jupyter-widgets/base",
      "model_module_version": "1.2.0",
      "model_name": "LayoutModel",
      "state": {}
     },
     "526a22e4af4b4fffbca9579ac5dc3f05": {
      "model_module": "@jupyter-widgets/controls",
      "model_module_version": "1.5.0",
      "model_name": "ProgressStyleModel",
      "state": {
       "description_width": ""
      }
     },
     "52ebb2763c8f4797a83ef1d9f12960c2": {
      "model_module": "@jupyter-widgets/base",
      "model_module_version": "1.2.0",
      "model_name": "LayoutModel",
      "state": {}
     },
     "530a020a55424c5f8a3ade350d108966": {
      "model_module": "@jupyter-widgets/controls",
      "model_module_version": "1.5.0",
      "model_name": "HTMLModel",
      "state": {
       "layout": "IPY_MODEL_1548b18c40c84dc68e8ce0de2a226a83",
       "style": "IPY_MODEL_0ecec74b052846768e275f9664b483fe",
       "value": "Iterating through drift speeds:  75%"
      }
     },
     "53ba026ee7bb4964857f2dd87df1f9d3": {
      "model_module": "@jupyter-widgets/base",
      "model_module_version": "1.2.0",
      "model_name": "LayoutModel",
      "state": {}
     },
     "53ce318fdbb54f3d97e08f82df22412a": {
      "model_module": "jupyter-matplotlib",
      "model_module_version": "^0.8.2",
      "model_name": "MPLCanvasModel",
      "state": {
       "_cursor": "default",
       "_figure_label": "Figure 3",
       "_height": 400,
       "_image_mode": "diff",
       "_width": 1200,
       "layout": "IPY_MODEL_e8909eaf5b704e289adb61776d199bc3",
       "toolbar": "IPY_MODEL_3656dcc4ed4b442ea803223d3254d33c",
       "toolbar_position": "left"
      }
     },
     "53f1f444ba684fa3923993fc8f9ae242": {
      "model_module": "@jupyter-widgets/controls",
      "model_module_version": "1.5.0",
      "model_name": "FloatProgressModel",
      "state": {
       "layout": "IPY_MODEL_2bd86a8e445c4bb9a6d44532c7b05af8",
       "max": 8,
       "style": "IPY_MODEL_a1844fff3e114b4b886d025e4b93b5e0",
       "value": 8
      }
     },
     "5475ad39f7e745bfb27551966cce9a20": {
      "model_module": "@jupyter-widgets/controls",
      "model_module_version": "1.5.0",
      "model_name": "HTMLModel",
      "state": {
       "layout": "IPY_MODEL_a05f4a6067ee442b8798a46d92ecf51c",
       "style": "IPY_MODEL_b0b4522d76fb41d09b71b911610a958d",
       "value": " 8/8 [00:01&lt;00:00,  7.47it/s]"
      }
     },
     "55624882941a4fdea1e102596410fe00": {
      "model_module": "@jupyter-widgets/controls",
      "model_module_version": "1.5.0",
      "model_name": "DescriptionStyleModel",
      "state": {
       "description_width": ""
      }
     },
     "5579905109ed4370a1283b9df998a532": {
      "model_module": "@jupyter-widgets/controls",
      "model_module_version": "1.5.0",
      "model_name": "HTMLModel",
      "state": {
       "layout": "IPY_MODEL_5722e22527cc4c94b266826654523669",
       "style": "IPY_MODEL_4b835cb40d684205880b89b985a40056",
       "value": " 6/8 [00:00&lt;00:00, 57.69it/s]"
      }
     },
     "5597fcf2c2504faf9bc12ece7cff4c8a": {
      "model_module": "@jupyter-widgets/controls",
      "model_module_version": "1.5.0",
      "model_name": "ProgressStyleModel",
      "state": {
       "description_width": ""
      }
     },
     "55a262e439f1490989443455445680cd": {
      "model_module": "@jupyter-widgets/controls",
      "model_module_version": "1.5.0",
      "model_name": "DescriptionStyleModel",
      "state": {
       "description_width": ""
      }
     },
     "567f4a3d676e44989f62d7e8e862ca1e": {
      "model_module": "@jupyter-widgets/controls",
      "model_module_version": "1.5.0",
      "model_name": "DescriptionStyleModel",
      "state": {
       "description_width": ""
      }
     },
     "56ed2c0afab447699128e012ea1635d9": {
      "model_module": "@jupyter-widgets/controls",
      "model_module_version": "1.5.0",
      "model_name": "DescriptionStyleModel",
      "state": {
       "description_width": ""
      }
     },
     "5722e22527cc4c94b266826654523669": {
      "model_module": "@jupyter-widgets/base",
      "model_module_version": "1.2.0",
      "model_name": "LayoutModel",
      "state": {}
     },
     "573a2ae0452c435ba1080a6427ee6bb4": {
      "model_module": "@jupyter-widgets/base",
      "model_module_version": "1.2.0",
      "model_name": "LayoutModel",
      "state": {}
     },
     "581e46e959af453e88419ca1d9113ef6": {
      "model_module": "@jupyter-widgets/controls",
      "model_module_version": "1.5.0",
      "model_name": "DescriptionStyleModel",
      "state": {
       "description_width": ""
      }
     },
     "584b6d399d9e4e8f85a0303cf31e4254": {
      "model_module": "@jupyter-widgets/base",
      "model_module_version": "1.2.0",
      "model_name": "LayoutModel",
      "state": {}
     },
     "58e40bcd89d3472db69654e0142364a3": {
      "model_module": "@jupyter-widgets/controls",
      "model_module_version": "1.5.0",
      "model_name": "ProgressStyleModel",
      "state": {
       "description_width": ""
      }
     },
     "591673800f0e433d917dd65481510335": {
      "model_module": "@jupyter-widgets/controls",
      "model_module_version": "1.5.0",
      "model_name": "ProgressStyleModel",
      "state": {
       "description_width": ""
      }
     },
     "598a95d820fe462eb2d0edcba2c80f85": {
      "model_module": "@jupyter-widgets/base",
      "model_module_version": "1.2.0",
      "model_name": "LayoutModel",
      "state": {}
     },
     "59f49553bf9f4ae59bc9b6d2207359b9": {
      "model_module": "@jupyter-widgets/controls",
      "model_module_version": "1.5.0",
      "model_name": "ProgressStyleModel",
      "state": {
       "description_width": ""
      }
     },
     "59f5e83571544efdbf745b1be24390c7": {
      "model_module": "@jupyter-widgets/controls",
      "model_module_version": "1.5.0",
      "model_name": "FloatProgressModel",
      "state": {
       "layout": "IPY_MODEL_176cdba02f934e13a71fd784e93addab",
       "max": 8,
       "style": "IPY_MODEL_80419ca5b382449ab4ac7d08f5295dc5",
       "value": 8
      }
     },
     "5a687585a84d4e51af0ac1a1d7c3a509": {
      "model_module": "@jupyter-widgets/base",
      "model_module_version": "1.2.0",
      "model_name": "LayoutModel",
      "state": {}
     },
     "5abb332e499841f6b7de4c8343208f76": {
      "model_module": "@jupyter-widgets/base",
      "model_module_version": "1.2.0",
      "model_name": "LayoutModel",
      "state": {}
     },
     "5ac605bae06e430c8f0b063b26e7cb27": {
      "model_module": "@jupyter-widgets/base",
      "model_module_version": "1.2.0",
      "model_name": "LayoutModel",
      "state": {}
     },
     "5afd9f5ceba941d4985ca7cee291dc79": {
      "model_module": "@jupyter-widgets/controls",
      "model_module_version": "1.5.0",
      "model_name": "DescriptionStyleModel",
      "state": {
       "description_width": ""
      }
     },
     "5b16d06b78c14372b7654c5d3bcbcafe": {
      "model_module": "@jupyter-widgets/controls",
      "model_module_version": "1.5.0",
      "model_name": "ProgressStyleModel",
      "state": {
       "description_width": ""
      }
     },
     "5b37779c3158472f82101c33d1249c22": {
      "model_module": "@jupyter-widgets/base",
      "model_module_version": "1.2.0",
      "model_name": "LayoutModel",
      "state": {}
     },
     "5b3f4dfd59f94622a101c77f301e1338": {
      "model_module": "@jupyter-widgets/base",
      "model_module_version": "1.2.0",
      "model_name": "LayoutModel",
      "state": {}
     },
     "5b7b4d7b6b0e4e7291ebfd3241b91850": {
      "model_module": "@jupyter-widgets/base",
      "model_module_version": "1.2.0",
      "model_name": "LayoutModel",
      "state": {}
     },
     "5be565c9abe44416a5706b5a392500a0": {
      "model_module": "@jupyter-widgets/controls",
      "model_module_version": "1.5.0",
      "model_name": "HTMLModel",
      "state": {
       "layout": "IPY_MODEL_2540fdb26b1049ceb62b15542d9f89eb",
       "style": "IPY_MODEL_f43310e419eb4f629824821bb6ed878c",
       "value": " 6/8 [00:00&lt;00:00, 55.06it/s]"
      }
     },
     "5be9de6c01ed4596a6c14db7e14db725": {
      "model_module": "@jupyter-widgets/controls",
      "model_module_version": "1.5.0",
      "model_name": "DescriptionStyleModel",
      "state": {
       "description_width": ""
      }
     },
     "5bf4c13fca6949c08d3ee72568e3abb0": {
      "model_module": "@jupyter-widgets/controls",
      "model_module_version": "1.5.0",
      "model_name": "DescriptionStyleModel",
      "state": {
       "description_width": ""
      }
     },
     "5bf52317747f4054aebef1dac7b6f478": {
      "model_module": "@jupyter-widgets/controls",
      "model_module_version": "1.5.0",
      "model_name": "HTMLModel",
      "state": {
       "layout": "IPY_MODEL_fb669fa8e93647ffbdc7e6bdfef38e0c",
       "style": "IPY_MODEL_ce77e6b8e0414b208985bb9338257795",
       "value": "Iterating through drift speeds:  75%"
      }
     },
     "5c0f01e0f5f949989e3a429fb825723c": {
      "model_module": "@jupyter-widgets/controls",
      "model_module_version": "1.5.0",
      "model_name": "DescriptionStyleModel",
      "state": {
       "description_width": ""
      }
     },
     "5c232466458049cb9b9f700a54e9fb12": {
      "model_module": "@jupyter-widgets/base",
      "model_module_version": "1.2.0",
      "model_name": "LayoutModel",
      "state": {}
     },
     "5c504e98e78f40c4bf315c4aefe29210": {
      "model_module": "@jupyter-widgets/controls",
      "model_module_version": "1.5.0",
      "model_name": "ProgressStyleModel",
      "state": {
       "description_width": ""
      }
     },
     "5c7c2ed0e07a4fe38c6282c059bec522": {
      "model_module": "jupyter-matplotlib",
      "model_module_version": "^0.8.2",
      "model_name": "MPLCanvasModel",
      "state": {
       "_cursor": "default",
       "_figure_label": "Figure 16",
       "_height": 480,
       "_message": "x=39.6 y=6.8\n[145]",
       "_width": 640,
       "layout": "IPY_MODEL_8a531890ff084bd79a3be76ae939566b",
       "toolbar": "IPY_MODEL_dd1f9ba3a8f245849a8c0e0850e8dca8",
       "toolbar_position": "left"
      }
     },
     "5cc1a98b6fc74dd2994544a08703af52": {
      "model_module": "@jupyter-widgets/controls",
      "model_module_version": "1.5.0",
      "model_name": "DescriptionStyleModel",
      "state": {
       "description_width": ""
      }
     },
     "5cde168ab29e4ea78b38f747b1335023": {
      "model_module": "@jupyter-widgets/controls",
      "model_module_version": "1.5.0",
      "model_name": "DescriptionStyleModel",
      "state": {
       "description_width": ""
      }
     },
     "5d09ff9a9971421da03e8b8461d4accd": {
      "model_module": "@jupyter-widgets/controls",
      "model_module_version": "1.5.0",
      "model_name": "HBoxModel",
      "state": {
       "children": [
        "IPY_MODEL_0fffcb4bbfca46e19fc51e5585c72128",
        "IPY_MODEL_a8146e09c26d49fda5ae735634dee739",
        "IPY_MODEL_b8348422b96144e1a8f5bcb4c7ec1e0c"
       ],
       "layout": "IPY_MODEL_ffa8b2053ff5460da666bcba968be55d"
      }
     },
     "5d64b3b58c8442d2b5f65520e8566c6f": {
      "model_module": "@jupyter-widgets/base",
      "model_module_version": "1.2.0",
      "model_name": "LayoutModel",
      "state": {}
     },
     "5eb940bce6c847f3bc9a19ecb23862b4": {
      "model_module": "@jupyter-widgets/controls",
      "model_module_version": "1.5.0",
      "model_name": "FloatProgressModel",
      "state": {
       "layout": "IPY_MODEL_d9f33059e1604b60801bf8947c5890d6",
       "max": 8,
       "style": "IPY_MODEL_32c47b7db50e4779b265b7e55e203363",
       "value": 8
      }
     },
     "5ed90b458fc3484bbea99fb1ac3e0dc0": {
      "model_module": "jupyter-matplotlib",
      "model_module_version": "^0.8.2",
      "model_name": "MPLCanvasModel",
      "state": {
       "_cursor": "default",
       "_figure_label": "Figure 14",
       "_height": 480,
       "_width": 640,
       "layout": "IPY_MODEL_67f1c8ffcda0474194b188e37a77656f",
       "toolbar": "IPY_MODEL_f85f095b96ab4fc2a7504a0c60154dc8",
       "toolbar_position": "left"
      }
     },
     "5f415b7e821b4b9ba916d3f2064e97b1": {
      "model_module": "@jupyter-widgets/controls",
      "model_module_version": "1.5.0",
      "model_name": "DescriptionStyleModel",
      "state": {
       "description_width": ""
      }
     },
     "5f551eadfbe04ea891f99837d9feff5a": {
      "model_module": "@jupyter-widgets/controls",
      "model_module_version": "1.5.0",
      "model_name": "FloatProgressModel",
      "state": {
       "bar_style": "success",
       "layout": "IPY_MODEL_514fbd1025d64c7c93475e77f5f4fd56",
       "max": 8,
       "style": "IPY_MODEL_6c5c73120f424fc39c42df69a86ff8e6",
       "value": 8
      }
     },
     "5fbc01a1cdc2477eb3bca863df30ba3f": {
      "model_module": "@jupyter-widgets/controls",
      "model_module_version": "1.5.0",
      "model_name": "FloatProgressModel",
      "state": {
       "layout": "IPY_MODEL_0e10c9fa94364180ac92afb542344708",
       "max": 8,
       "style": "IPY_MODEL_1d385700d3f447679516af070b2ae7c1",
       "value": 8
      }
     },
     "601e8a0fec68423cbee416fcae8c9406": {
      "model_module": "jupyter-matplotlib",
      "model_module_version": "^0.8.2",
      "model_name": "MPLCanvasModel",
      "state": {
       "_cursor": "default",
       "_figure_label": "Figure 17",
       "_height": 480,
       "_width": 640,
       "layout": "IPY_MODEL_b705c5509dde45769ee5889a0f0cfec9",
       "toolbar": "IPY_MODEL_967bffa576d94108af8192ae523d29fd",
       "toolbar_position": "left"
      }
     },
     "60777dc0156b42f595ba2c0f23de3b6b": {
      "model_module": "@jupyter-widgets/controls",
      "model_module_version": "1.5.0",
      "model_name": "ProgressStyleModel",
      "state": {
       "description_width": ""
      }
     },
     "608d0fe8701048029582e6655a6c4fd3": {
      "model_module": "@jupyter-widgets/controls",
      "model_module_version": "1.5.0",
      "model_name": "ProgressStyleModel",
      "state": {
       "description_width": ""
      }
     },
     "60e8334f097948ae852f649500b6a14d": {
      "model_module": "jupyter-matplotlib",
      "model_module_version": "^0.8.2",
      "model_name": "ToolbarModel",
      "state": {
       "layout": "IPY_MODEL_6b57d3686c204b4cb8640ce98bdc2ee9",
       "toolitems": [
        [
         "Home",
         "Reset original view",
         "home",
         "home"
        ],
        [
         "Back",
         "Back to previous view",
         "arrow-left",
         "back"
        ],
        [
         "Forward",
         "Forward to next view",
         "arrow-right",
         "forward"
        ],
        [
         "Pan",
         "Left button pans, Right button zooms\nx/y fixes axis, CTRL fixes aspect",
         "arrows",
         "pan"
        ],
        [
         "Zoom",
         "Zoom to rectangle\nx/y fixes axis, CTRL fixes aspect",
         "square-o",
         "zoom"
        ],
        [
         "Download",
         "Download plot",
         "floppy-o",
         "save_figure"
        ]
       ]
      }
     },
     "619b1233778b4ccbb80719b5038692b9": {
      "model_module": "@jupyter-widgets/controls",
      "model_module_version": "1.5.0",
      "model_name": "HTMLModel",
      "state": {
       "layout": "IPY_MODEL_64f4add096784f51a86e2e9ebd7ce044",
       "style": "IPY_MODEL_e06f3ba1b811430f85d3229a7bd33091",
       "value": "Iterating through drift speeds:  75%"
      }
     },
     "619d0f78ad9a4f4cbe7f9ed607f5cbbc": {
      "model_module": "@jupyter-widgets/controls",
      "model_module_version": "1.5.0",
      "model_name": "HTMLModel",
      "state": {
       "layout": "IPY_MODEL_823c0cd0a07842699edb4afad6cda74f",
       "style": "IPY_MODEL_d7156bf5cc5f4226b492895b7f9beb59",
       "value": "Iterating through drift angles: 100%"
      }
     },
     "61a603d7b6bf447dabc8517bfe09f8db": {
      "model_module": "@jupyter-widgets/controls",
      "model_module_version": "1.5.0",
      "model_name": "HTMLModel",
      "state": {
       "layout": "IPY_MODEL_6e4e5b3dfcb3459189a3b72bc0048a2e",
       "style": "IPY_MODEL_bbb0a1345ff04ee9946fc442c9201ecb",
       "value": " 1/1 [00:00&lt;00:00,  4.13it/s]"
      }
     },
     "61efe5fef2684bcf9e1ec584c90cbf74": {
      "model_module": "@jupyter-widgets/base",
      "model_module_version": "1.2.0",
      "model_name": "LayoutModel",
      "state": {}
     },
     "62c1a02e3afc42e18ec4e6888922cde0": {
      "model_module": "@jupyter-widgets/base",
      "model_module_version": "1.2.0",
      "model_name": "LayoutModel",
      "state": {}
     },
     "62df24ecdb324f0f8e3c9479971fb47a": {
      "model_module": "@jupyter-widgets/controls",
      "model_module_version": "1.5.0",
      "model_name": "DescriptionStyleModel",
      "state": {
       "description_width": ""
      }
     },
     "62e3b79d52e64f5d98ced6559fba0010": {
      "model_module": "@jupyter-widgets/base",
      "model_module_version": "1.2.0",
      "model_name": "LayoutModel",
      "state": {}
     },
     "638f64987ab84d0a8b978cee071943b7": {
      "model_module": "@jupyter-widgets/controls",
      "model_module_version": "1.5.0",
      "model_name": "DescriptionStyleModel",
      "state": {
       "description_width": ""
      }
     },
     "63a8f636d24b42949fef72e1dd193692": {
      "model_module": "@jupyter-widgets/base",
      "model_module_version": "1.2.0",
      "model_name": "LayoutModel",
      "state": {}
     },
     "63d43e6324d949deb39a9f4418de9029": {
      "model_module": "@jupyter-widgets/base",
      "model_module_version": "1.2.0",
      "model_name": "LayoutModel",
      "state": {}
     },
     "6404803da262475c8e1b9b00b89f42d9": {
      "model_module": "@jupyter-widgets/controls",
      "model_module_version": "1.5.0",
      "model_name": "DescriptionStyleModel",
      "state": {
       "description_width": ""
      }
     },
     "642e0ba9d1f04a7bb04c3735e43c12a1": {
      "model_module": "@jupyter-widgets/controls",
      "model_module_version": "1.5.0",
      "model_name": "HTMLModel",
      "state": {
       "layout": "IPY_MODEL_e62422ad1e264d79af6c33cc358cb555",
       "style": "IPY_MODEL_c96f6c54b63a44ee966121d7b4065139",
       "value": " 6/8 [00:00&lt;00:00, 58.23it/s]"
      }
     },
     "649de0938e2846c79b18b2b711400951": {
      "model_module": "@jupyter-widgets/controls",
      "model_module_version": "1.5.0",
      "model_name": "DescriptionStyleModel",
      "state": {
       "description_width": ""
      }
     },
     "64e6bb6c1c3544d99c29526ba712d452": {
      "model_module": "@jupyter-widgets/base",
      "model_module_version": "1.2.0",
      "model_name": "LayoutModel",
      "state": {}
     },
     "64f4add096784f51a86e2e9ebd7ce044": {
      "model_module": "@jupyter-widgets/base",
      "model_module_version": "1.2.0",
      "model_name": "LayoutModel",
      "state": {}
     },
     "652252d5d386447a86462f8a88eb8022": {
      "model_module": "@jupyter-widgets/base",
      "model_module_version": "1.2.0",
      "model_name": "LayoutModel",
      "state": {}
     },
     "654d4427ef554fee80fea571ae13bd1d": {
      "model_module": "@jupyter-widgets/controls",
      "model_module_version": "1.5.0",
      "model_name": "ProgressStyleModel",
      "state": {
       "description_width": ""
      }
     },
     "65d5ef630fdc44c5b76217629f9ef22c": {
      "model_module": "@jupyter-widgets/controls",
      "model_module_version": "1.5.0",
      "model_name": "FloatProgressModel",
      "state": {
       "layout": "IPY_MODEL_2c69b194dd11465791c4399518dc4485",
       "max": 8,
       "style": "IPY_MODEL_59f49553bf9f4ae59bc9b6d2207359b9",
       "value": 8
      }
     },
     "663f230a19634e7bb2bf6195bcfd7181": {
      "model_module": "@jupyter-widgets/controls",
      "model_module_version": "1.5.0",
      "model_name": "ProgressStyleModel",
      "state": {
       "description_width": ""
      }
     },
     "66d8487915054a2f90cdac96bf6c143e": {
      "model_module": "@jupyter-widgets/base",
      "model_module_version": "1.2.0",
      "model_name": "LayoutModel",
      "state": {}
     },
     "66de9cc3461f4aa0a475802852ea277b": {
      "model_module": "@jupyter-widgets/base",
      "model_module_version": "1.2.0",
      "model_name": "LayoutModel",
      "state": {}
     },
     "670eb16e9c744c49a1130cdf83c91dab": {
      "model_module": "@jupyter-widgets/controls",
      "model_module_version": "1.5.0",
      "model_name": "ProgressStyleModel",
      "state": {
       "description_width": ""
      }
     },
     "6715218188324db4ae5f2cd4b9ac354b": {
      "model_module": "@jupyter-widgets/controls",
      "model_module_version": "1.5.0",
      "model_name": "ProgressStyleModel",
      "state": {
       "description_width": ""
      }
     },
     "6731cf87ce6243f88bc8ad8c8c5ce42a": {
      "model_module": "@jupyter-widgets/controls",
      "model_module_version": "1.5.0",
      "model_name": "DescriptionStyleModel",
      "state": {
       "description_width": ""
      }
     },
     "6740129045f745b8b4a832a7d11658ef": {
      "model_module": "@jupyter-widgets/base",
      "model_module_version": "1.2.0",
      "model_name": "LayoutModel",
      "state": {}
     },
     "67917e7d1c7c468cb2019cd01800d104": {
      "model_module": "@jupyter-widgets/controls",
      "model_module_version": "1.5.0",
      "model_name": "HTMLModel",
      "state": {
       "layout": "IPY_MODEL_27f1aea3ed934e03a5384a1940ed351c",
       "style": "IPY_MODEL_3c835030d9a04e4aa661b6f453a07e89",
       "value": " 6/8 [00:00&lt;00:00, 59.98it/s]"
      }
     },
     "6794f54be6b8451db721e6b4b9001492": {
      "model_module": "@jupyter-widgets/base",
      "model_module_version": "1.2.0",
      "model_name": "LayoutModel",
      "state": {}
     },
     "67f1c8ffcda0474194b188e37a77656f": {
      "model_module": "@jupyter-widgets/base",
      "model_module_version": "1.2.0",
      "model_name": "LayoutModel",
      "state": {}
     },
     "6870fe4079474527b6d108432d602b32": {
      "model_module": "@jupyter-widgets/base",
      "model_module_version": "1.2.0",
      "model_name": "LayoutModel",
      "state": {}
     },
     "68732e50faeb4e73ae0f62a8cf1bb17f": {
      "model_module": "@jupyter-widgets/controls",
      "model_module_version": "1.5.0",
      "model_name": "HTMLModel",
      "state": {
       "layout": "IPY_MODEL_5b3f4dfd59f94622a101c77f301e1338",
       "style": "IPY_MODEL_dbd2d74340b342ea968e374adf3f458a",
       "value": " 6/8 [00:00&lt;00:00, 58.25it/s]"
      }
     },
     "68a3bbc8dfd543e8a5473e9fdb6dfbb5": {
      "model_module": "@jupyter-widgets/controls",
      "model_module_version": "1.5.0",
      "model_name": "FloatProgressModel",
      "state": {
       "layout": "IPY_MODEL_2b390019f448437f8ec6eee0a5dea291",
       "max": 8,
       "style": "IPY_MODEL_6715218188324db4ae5f2cd4b9ac354b",
       "value": 8
      }
     },
     "68ef23363174487c9c3da9db393da23a": {
      "model_module": "@jupyter-widgets/base",
      "model_module_version": "1.2.0",
      "model_name": "LayoutModel",
      "state": {}
     },
     "691602295c304628bf6ee5beeabe0919": {
      "model_module": "@jupyter-widgets/base",
      "model_module_version": "1.2.0",
      "model_name": "LayoutModel",
      "state": {}
     },
     "6916684916bf45ad984144fabf74a4a5": {
      "model_module": "@jupyter-widgets/controls",
      "model_module_version": "1.5.0",
      "model_name": "HTMLModel",
      "state": {
       "layout": "IPY_MODEL_77935a9b15ae4b068ca67fe574dd69df",
       "style": "IPY_MODEL_3d8ff56631144d529c09be9f151d168b",
       "value": "Iterating through drift speeds:  75%"
      }
     },
     "69492d47be51401d99aef5719ab54c2c": {
      "model_module": "@jupyter-widgets/base",
      "model_module_version": "1.2.0",
      "model_name": "LayoutModel",
      "state": {}
     },
     "69b01d7f35984fae82cb869f17e85dbb": {
      "model_module": "@jupyter-widgets/base",
      "model_module_version": "1.2.0",
      "model_name": "LayoutModel",
      "state": {}
     },
     "69d32c1b672f41b3b62bb51918601d0a": {
      "model_module": "@jupyter-widgets/controls",
      "model_module_version": "1.5.0",
      "model_name": "ProgressStyleModel",
      "state": {
       "description_width": ""
      }
     },
     "6a06d7eae9bc4be4969b64ce167b898b": {
      "model_module": "@jupyter-widgets/controls",
      "model_module_version": "1.5.0",
      "model_name": "HTMLModel",
      "state": {
       "layout": "IPY_MODEL_db2b2d8420424ce19109025ecb792402",
       "style": "IPY_MODEL_2c92875a3aa94a1ca359ed6751bcf73f",
       "value": " 6/8 [00:00&lt;00:00, 58.25it/s]"
      }
     },
     "6acce9091b1d4d8cb6a2ec4b580cc2ea": {
      "model_module": "@jupyter-widgets/base",
      "model_module_version": "1.2.0",
      "model_name": "LayoutModel",
      "state": {}
     },
     "6b1096cc0d7540ef82d4c223f7853cd7": {
      "model_module": "@jupyter-widgets/base",
      "model_module_version": "1.2.0",
      "model_name": "LayoutModel",
      "state": {}
     },
     "6b241a3fbd98478cb8c546e10140f61b": {
      "model_module": "@jupyter-widgets/base",
      "model_module_version": "1.2.0",
      "model_name": "LayoutModel",
      "state": {}
     },
     "6b57d3686c204b4cb8640ce98bdc2ee9": {
      "model_module": "@jupyter-widgets/base",
      "model_module_version": "1.2.0",
      "model_name": "LayoutModel",
      "state": {}
     },
     "6bbbbf7750224fe5af22ce7dd0d57261": {
      "model_module": "@jupyter-widgets/controls",
      "model_module_version": "1.5.0",
      "model_name": "DescriptionStyleModel",
      "state": {
       "description_width": ""
      }
     },
     "6bf4ce792b7f48beb690c92eb6142291": {
      "model_module": "@jupyter-widgets/base",
      "model_module_version": "1.2.0",
      "model_name": "LayoutModel",
      "state": {}
     },
     "6c4c650f647847019fa95cd92a4a8094": {
      "model_module": "@jupyter-widgets/controls",
      "model_module_version": "1.5.0",
      "model_name": "DescriptionStyleModel",
      "state": {
       "description_width": ""
      }
     },
     "6c5c73120f424fc39c42df69a86ff8e6": {
      "model_module": "@jupyter-widgets/controls",
      "model_module_version": "1.5.0",
      "model_name": "ProgressStyleModel",
      "state": {
       "description_width": ""
      }
     },
     "6c5f270a0d5b49a29bde1bd9dc149aad": {
      "model_module": "@jupyter-widgets/controls",
      "model_module_version": "1.5.0",
      "model_name": "FloatProgressModel",
      "state": {
       "layout": "IPY_MODEL_d7e7fbb6f98144bf97cd6cf04572c47b",
       "max": 8,
       "style": "IPY_MODEL_10d5b15aef4c4298a855417849bf407c",
       "value": 8
      }
     },
     "6c749399eb704ffebea9233d926d116d": {
      "model_module": "@jupyter-widgets/controls",
      "model_module_version": "1.5.0",
      "model_name": "ProgressStyleModel",
      "state": {
       "description_width": ""
      }
     },
     "6d08b1cf7d1448bb8aa6e2525de41f6a": {
      "model_module": "@jupyter-widgets/controls",
      "model_module_version": "1.5.0",
      "model_name": "DescriptionStyleModel",
      "state": {
       "description_width": ""
      }
     },
     "6d26a7502f4148b9bd7f4446f450f8e9": {
      "model_module": "@jupyter-widgets/base",
      "model_module_version": "1.2.0",
      "model_name": "LayoutModel",
      "state": {}
     },
     "6d508bae129f402388f91a1f442d6fef": {
      "model_module": "@jupyter-widgets/base",
      "model_module_version": "1.2.0",
      "model_name": "LayoutModel",
      "state": {}
     },
     "6d5ce33b44a04a058c209427be4c8266": {
      "model_module": "@jupyter-widgets/base",
      "model_module_version": "1.2.0",
      "model_name": "LayoutModel",
      "state": {}
     },
     "6db150dafadc436c9e72f062eba33ad6": {
      "model_module": "jupyter-matplotlib",
      "model_module_version": "^0.8.2",
      "model_name": "MPLCanvasModel",
      "state": {
       "_cursor": "default",
       "_figure_label": "Figure 11",
       "_height": 480,
       "_width": 640,
       "layout": "IPY_MODEL_42f443d8b0124e7fbf56023de242c165",
       "toolbar": "IPY_MODEL_298baf4c19654dd4b1833829e608eb36",
       "toolbar_position": "left"
      }
     },
     "6e3accce8bf24f33bc7619e3942f8073": {
      "model_module": "@jupyter-widgets/base",
      "model_module_version": "1.2.0",
      "model_name": "LayoutModel",
      "state": {}
     },
     "6e4e5b3dfcb3459189a3b72bc0048a2e": {
      "model_module": "@jupyter-widgets/base",
      "model_module_version": "1.2.0",
      "model_name": "LayoutModel",
      "state": {}
     },
     "6ed55112b356494fb684d26d3b7226e9": {
      "model_module": "@jupyter-widgets/controls",
      "model_module_version": "1.5.0",
      "model_name": "DescriptionStyleModel",
      "state": {
       "description_width": ""
      }
     },
     "6eddc9f92b0746e886565d4b75bde5cb": {
      "model_module": "@jupyter-widgets/controls",
      "model_module_version": "1.5.0",
      "model_name": "HTMLModel",
      "state": {
       "layout": "IPY_MODEL_3fc32f0c59034338b584f20bf119f55d",
       "style": "IPY_MODEL_3983731c3ea24ef9bfaaddb88e042f5d",
       "value": "Iterating through drift speeds:  75%"
      }
     },
     "6f28f33afe53483ea80a4dc7a775101a": {
      "model_module": "@jupyter-widgets/controls",
      "model_module_version": "1.5.0",
      "model_name": "HTMLModel",
      "state": {
       "layout": "IPY_MODEL_7ecc1c7e009c49029121e475df420d89",
       "style": "IPY_MODEL_7ef369d2fef24d44af7dc5e647d1c15d",
       "value": "Iterating through drift speeds:  75%"
      }
     },
     "6f53bb2ecaa1489596bff52e59f514f9": {
      "model_module": "@jupyter-widgets/base",
      "model_module_version": "1.2.0",
      "model_name": "LayoutModel",
      "state": {}
     },
     "6f93262fc35a40d8aa9901383a591748": {
      "model_module": "@jupyter-widgets/controls",
      "model_module_version": "1.5.0",
      "model_name": "HTMLModel",
      "state": {
       "layout": "IPY_MODEL_91dcda5072f440d2820ebf424f2fa5b6",
       "style": "IPY_MODEL_404374d09b5c43c194d18cd6ab6e3fe3",
       "value": "Iterating through drift speeds:  75%"
      }
     },
     "6fac93662fbd4fa2a23568d97414620b": {
      "model_module": "@jupyter-widgets/controls",
      "model_module_version": "1.5.0",
      "model_name": "ProgressStyleModel",
      "state": {
       "description_width": ""
      }
     },
     "700d0b42ab834f25ab1e68c9c8ad4b7d": {
      "model_module": "@jupyter-widgets/controls",
      "model_module_version": "1.5.0",
      "model_name": "FloatProgressModel",
      "state": {
       "layout": "IPY_MODEL_32f3e84b47a44981b7477c37f4a30bad",
       "max": 8,
       "style": "IPY_MODEL_9ae12269238c4f749aab5cf96720794b",
       "value": 8
      }
     },
     "7010de0562a242e7b8fb90ea4786dd33": {
      "model_module": "@jupyter-widgets/controls",
      "model_module_version": "1.5.0",
      "model_name": "HTMLModel",
      "state": {
       "layout": "IPY_MODEL_6d5ce33b44a04a058c209427be4c8266",
       "style": "IPY_MODEL_3f06685019a34416914fbc1af4fe93b7",
       "value": " 6/8 [00:00&lt;00:00, 56.59it/s]"
      }
     },
     "702c500504f24f12a1f2089a857e3dad": {
      "model_module": "@jupyter-widgets/controls",
      "model_module_version": "1.5.0",
      "model_name": "DescriptionStyleModel",
      "state": {
       "description_width": ""
      }
     },
     "7085fedd02184c9db40ba9f21e59431f": {
      "model_module": "@jupyter-widgets/base",
      "model_module_version": "1.2.0",
      "model_name": "LayoutModel",
      "state": {}
     },
     "711c56c1575446b9b2e0404c6c0c6d01": {
      "model_module": "@jupyter-widgets/base",
      "model_module_version": "1.2.0",
      "model_name": "LayoutModel",
      "state": {}
     },
     "71524f3d615b4352838de8646293c5ef": {
      "model_module": "@jupyter-widgets/base",
      "model_module_version": "1.2.0",
      "model_name": "LayoutModel",
      "state": {}
     },
     "71720215761043209595ab40062ef115": {
      "model_module": "@jupyter-widgets/controls",
      "model_module_version": "1.5.0",
      "model_name": "ProgressStyleModel",
      "state": {
       "description_width": ""
      }
     },
     "71bba3a936ba4bfea2c0fa29b337df68": {
      "model_module": "@jupyter-widgets/base",
      "model_module_version": "1.2.0",
      "model_name": "LayoutModel",
      "state": {}
     },
     "71d2c6a839234d12af4589261159f6da": {
      "model_module": "@jupyter-widgets/controls",
      "model_module_version": "1.5.0",
      "model_name": "HTMLModel",
      "state": {
       "layout": "IPY_MODEL_69b01d7f35984fae82cb869f17e85dbb",
       "style": "IPY_MODEL_1558d35aa68047b790810d33655ffbea",
       "value": "Iterating through drift speeds:  75%"
      }
     },
     "727942ba141b4047a564af3f3cabaad3": {
      "model_module": "@jupyter-widgets/base",
      "model_module_version": "1.2.0",
      "model_name": "LayoutModel",
      "state": {}
     },
     "727b7d4deb1d4ac898f15d6fbb61c230": {
      "model_module": "@jupyter-widgets/base",
      "model_module_version": "1.2.0",
      "model_name": "LayoutModel",
      "state": {}
     },
     "7286518bc432468abbc3ef9ac3172bc9": {
      "model_module": "@jupyter-widgets/controls",
      "model_module_version": "1.5.0",
      "model_name": "ProgressStyleModel",
      "state": {
       "description_width": ""
      }
     },
     "72acc3b3636c4b53a8b96074be9ddd57": {
      "model_module": "@jupyter-widgets/controls",
      "model_module_version": "1.5.0",
      "model_name": "DescriptionStyleModel",
      "state": {
       "description_width": ""
      }
     },
     "72bb9864157d44858982b2aaa18df23f": {
      "model_module": "@jupyter-widgets/base",
      "model_module_version": "1.2.0",
      "model_name": "LayoutModel",
      "state": {}
     },
     "7320c48b27b64e32a4d27b06d21f93b8": {
      "model_module": "@jupyter-widgets/controls",
      "model_module_version": "1.5.0",
      "model_name": "HTMLModel",
      "state": {
       "layout": "IPY_MODEL_5b37779c3158472f82101c33d1249c22",
       "style": "IPY_MODEL_52195e25101a40d49c930b95714874f4",
       "value": "Iterating through drift angles: 100%"
      }
     },
     "73340a3618904276b962f9b29bea71bd": {
      "model_module": "@jupyter-widgets/controls",
      "model_module_version": "1.5.0",
      "model_name": "HTMLModel",
      "state": {
       "layout": "IPY_MODEL_c30c2c881d114263822e10abc31a9dee",
       "style": "IPY_MODEL_56ed2c0afab447699128e012ea1635d9",
       "value": " 6/8 [00:00&lt;00:00, 59.41it/s]"
      }
     },
     "73611b8063f8426a9bd18175d6aeb9bc": {
      "model_module": "@jupyter-widgets/controls",
      "model_module_version": "1.5.0",
      "model_name": "ProgressStyleModel",
      "state": {
       "description_width": ""
      }
     },
     "74adedc62130454b95c7081472a58486": {
      "model_module": "@jupyter-widgets/base",
      "model_module_version": "1.2.0",
      "model_name": "LayoutModel",
      "state": {}
     },
     "74be7b16eb6c4e89a7ee75582d1e057a": {
      "model_module": "@jupyter-widgets/controls",
      "model_module_version": "1.5.0",
      "model_name": "HTMLModel",
      "state": {
       "layout": "IPY_MODEL_3fca1102415740329309d20e856e7b4d",
       "style": "IPY_MODEL_d4e87ce349f74a91b6017f04538f715b",
       "value": " 7/8 [00:00&lt;00:00, 62.48it/s]"
      }
     },
     "74f940d69e264076b7213e66396297cb": {
      "model_module": "@jupyter-widgets/controls",
      "model_module_version": "1.5.0",
      "model_name": "DescriptionStyleModel",
      "state": {
       "description_width": ""
      }
     },
     "757ca19c1d1b439e8d4d0b21dcae5c2d": {
      "model_module": "@jupyter-widgets/controls",
      "model_module_version": "1.5.0",
      "model_name": "ProgressStyleModel",
      "state": {
       "description_width": ""
      }
     },
     "758f57d160844f9c8a6a88d4ccf9a5ba": {
      "model_module": "@jupyter-widgets/controls",
      "model_module_version": "1.5.0",
      "model_name": "DescriptionStyleModel",
      "state": {
       "description_width": ""
      }
     },
     "76046efd84424068b7ac305432c3ccee": {
      "model_module": "@jupyter-widgets/controls",
      "model_module_version": "1.5.0",
      "model_name": "DescriptionStyleModel",
      "state": {
       "description_width": ""
      }
     },
     "77935a9b15ae4b068ca67fe574dd69df": {
      "model_module": "@jupyter-widgets/base",
      "model_module_version": "1.2.0",
      "model_name": "LayoutModel",
      "state": {}
     },
     "7817579c13fa4288854ae49913de99c3": {
      "model_module": "@jupyter-widgets/controls",
      "model_module_version": "1.5.0",
      "model_name": "HTMLModel",
      "state": {
       "layout": "IPY_MODEL_ede7548bb0f948f083761504018ebf38",
       "style": "IPY_MODEL_3daff631820442ea96d794e6b38b1c86",
       "value": "Iterating through drift speeds:  75%"
      }
     },
     "78331379860c4d7f8600c3dde0d5cf53": {
      "model_module": "@jupyter-widgets/base",
      "model_module_version": "1.2.0",
      "model_name": "LayoutModel",
      "state": {}
     },
     "7845eef8cb9541e79397b6bbcfa71c7b": {
      "model_module": "@jupyter-widgets/controls",
      "model_module_version": "1.5.0",
      "model_name": "DescriptionStyleModel",
      "state": {
       "description_width": ""
      }
     },
     "7866ce36bc134c9f84e9965c557a3b46": {
      "model_module": "@jupyter-widgets/controls",
      "model_module_version": "1.5.0",
      "model_name": "DescriptionStyleModel",
      "state": {
       "description_width": ""
      }
     },
     "790b31f8ada241f2966fb920593630b2": {
      "model_module": "@jupyter-widgets/controls",
      "model_module_version": "1.5.0",
      "model_name": "ProgressStyleModel",
      "state": {
       "description_width": ""
      }
     },
     "7954ef3f34f643698330f20f5ba0138f": {
      "model_module": "@jupyter-widgets/controls",
      "model_module_version": "1.5.0",
      "model_name": "HTMLModel",
      "state": {
       "layout": "IPY_MODEL_25e334aaec0c44d5973f94ff67a09624",
       "style": "IPY_MODEL_d4eb74e348184b939f9c6887ea779baf",
       "value": " 6/8 [00:00&lt;00:00, 56.60it/s]"
      }
     },
     "7995332eaa204073a873dc5d34f9bd75": {
      "model_module": "@jupyter-widgets/controls",
      "model_module_version": "1.5.0",
      "model_name": "HTMLModel",
      "state": {
       "layout": "IPY_MODEL_35eb4e1bcfed475dbd0a7ac74947d1d3",
       "style": "IPY_MODEL_6404803da262475c8e1b9b00b89f42d9",
       "value": " 6/8 [00:00&lt;00:00, 57.69it/s]"
      }
     },
     "79f36e74575743ea9afa8e5742286505": {
      "model_module": "@jupyter-widgets/base",
      "model_module_version": "1.2.0",
      "model_name": "LayoutModel",
      "state": {}
     },
     "7a3214327e564d60847c829e320d4c96": {
      "model_module": "@jupyter-widgets/controls",
      "model_module_version": "1.5.0",
      "model_name": "ProgressStyleModel",
      "state": {
       "description_width": ""
      }
     },
     "7b03e78581a34eb98c194ab43bd85401": {
      "model_module": "@jupyter-widgets/controls",
      "model_module_version": "1.5.0",
      "model_name": "DescriptionStyleModel",
      "state": {
       "description_width": ""
      }
     },
     "7b0c469b9c2047ae86e93587841cc1d5": {
      "model_module": "@jupyter-widgets/controls",
      "model_module_version": "1.5.0",
      "model_name": "DescriptionStyleModel",
      "state": {
       "description_width": ""
      }
     },
     "7b154ae24fb14db1a222f75f35f38652": {
      "model_module": "@jupyter-widgets/controls",
      "model_module_version": "1.5.0",
      "model_name": "DescriptionStyleModel",
      "state": {
       "description_width": ""
      }
     },
     "7c5bb21654374db18b01ea8b6c6d5dd8": {
      "model_module": "@jupyter-widgets/base",
      "model_module_version": "1.2.0",
      "model_name": "LayoutModel",
      "state": {}
     },
     "7c778c91e85746cc951035991048f3c3": {
      "model_module": "@jupyter-widgets/base",
      "model_module_version": "1.2.0",
      "model_name": "LayoutModel",
      "state": {}
     },
     "7c96ca0ef1be4524b6a94053914203c9": {
      "model_module": "jupyter-matplotlib",
      "model_module_version": "^0.8.2",
      "model_name": "ToolbarModel",
      "state": {
       "layout": "IPY_MODEL_a2e36161614044e580fd0f340f3f0d96",
       "toolitems": [
        [
         "Home",
         "Reset original view",
         "home",
         "home"
        ],
        [
         "Back",
         "Back to previous view",
         "arrow-left",
         "back"
        ],
        [
         "Forward",
         "Forward to next view",
         "arrow-right",
         "forward"
        ],
        [
         "Pan",
         "Left button pans, Right button zooms\nx/y fixes axis, CTRL fixes aspect",
         "arrows",
         "pan"
        ],
        [
         "Zoom",
         "Zoom to rectangle\nx/y fixes axis, CTRL fixes aspect",
         "square-o",
         "zoom"
        ],
        [
         "Download",
         "Download plot",
         "floppy-o",
         "save_figure"
        ]
       ]
      }
     },
     "7d202a25096f4e49ad10712867228716": {
      "model_module": "@jupyter-widgets/base",
      "model_module_version": "1.2.0",
      "model_name": "LayoutModel",
      "state": {}
     },
     "7e085b72bd1d4c488ea20508f3a090ee": {
      "model_module": "@jupyter-widgets/base",
      "model_module_version": "1.2.0",
      "model_name": "LayoutModel",
      "state": {}
     },
     "7eb0945e4d19419a8a6d97c05cf85241": {
      "model_module": "@jupyter-widgets/controls",
      "model_module_version": "1.5.0",
      "model_name": "DescriptionStyleModel",
      "state": {
       "description_width": ""
      }
     },
     "7ec19527e5d7498b9cdb304a270cd15f": {
      "model_module": "@jupyter-widgets/controls",
      "model_module_version": "1.5.0",
      "model_name": "HBoxModel",
      "state": {
       "children": [
        "IPY_MODEL_9a6f0fb6b2514c4499aaa52e982ce135",
        "IPY_MODEL_41914b4ae2b146be8a7ad0e0bfd1fb59",
        "IPY_MODEL_ea3cbaa9a40c4483992462cfd1625be1"
       ],
       "layout": "IPY_MODEL_9cded54794fd44cfa3f2491c84769ae0"
      }
     },
     "7ecc1c7e009c49029121e475df420d89": {
      "model_module": "@jupyter-widgets/base",
      "model_module_version": "1.2.0",
      "model_name": "LayoutModel",
      "state": {}
     },
     "7ee06e95245c4d92839b52a554c12dce": {
      "model_module": "@jupyter-widgets/controls",
      "model_module_version": "1.5.0",
      "model_name": "HTMLModel",
      "state": {
       "layout": "IPY_MODEL_a827e7d74d1f4a549cf70662fca53268",
       "style": "IPY_MODEL_888019bc7a194f1d98874cb65c32fc86",
       "value": "Iterating through drift speeds:  75%"
      }
     },
     "7ef369d2fef24d44af7dc5e647d1c15d": {
      "model_module": "@jupyter-widgets/controls",
      "model_module_version": "1.5.0",
      "model_name": "DescriptionStyleModel",
      "state": {
       "description_width": ""
      }
     },
     "7f7852c1b8bb47c7bc00be9fe30c583b": {
      "model_module": "@jupyter-widgets/controls",
      "model_module_version": "1.5.0",
      "model_name": "HTMLModel",
      "state": {
       "layout": "IPY_MODEL_f4274c91ce0c487987f637ea6d260952",
       "style": "IPY_MODEL_e4160240fc27453e89c414912881cc6f",
       "value": "Iterating through drift speeds:  75%"
      }
     },
     "7f8069e8718f481a84f1f4a8df6dfd31": {
      "model_module": "@jupyter-widgets/base",
      "model_module_version": "1.2.0",
      "model_name": "LayoutModel",
      "state": {}
     },
     "7f9327b9bb5e4f3894dbcd17fe799e2a": {
      "model_module": "@jupyter-widgets/controls",
      "model_module_version": "1.5.0",
      "model_name": "HTMLModel",
      "state": {
       "layout": "IPY_MODEL_72bb9864157d44858982b2aaa18df23f",
       "style": "IPY_MODEL_c068ea3019da4a3c8432b9b94abdb861",
       "value": "Iterating through drift speeds:  75%"
      }
     },
     "80419ca5b382449ab4ac7d08f5295dc5": {
      "model_module": "@jupyter-widgets/controls",
      "model_module_version": "1.5.0",
      "model_name": "ProgressStyleModel",
      "state": {
       "description_width": ""
      }
     },
     "8069b76e7d0e432592ed53d576565447": {
      "model_module": "@jupyter-widgets/controls",
      "model_module_version": "1.5.0",
      "model_name": "FloatProgressModel",
      "state": {
       "layout": "IPY_MODEL_09ac84dce1954e6ea1e93bc378219dd7",
       "max": 8,
       "style": "IPY_MODEL_9935a7458473475b8cb13f6fa5aeb83d",
       "value": 8
      }
     },
     "807a3da9a23748c7b7cb40f980714afe": {
      "model_module": "@jupyter-widgets/controls",
      "model_module_version": "1.5.0",
      "model_name": "HTMLModel",
      "state": {
       "layout": "IPY_MODEL_4919c07fca1146699eda1d859da29ec1",
       "style": "IPY_MODEL_de25e5fd914e4fbf8ce6904874eb3f05",
       "value": " 8/8 [00:01&lt;00:00,  7.48it/s]"
      }
     },
     "80a05f1949304db3a9ac2f2bfcda2413": {
      "model_module": "@jupyter-widgets/base",
      "model_module_version": "1.2.0",
      "model_name": "LayoutModel",
      "state": {}
     },
     "80ae1e9825654b3aad035ba3db5a6995": {
      "model_module": "@jupyter-widgets/controls",
      "model_module_version": "1.5.0",
      "model_name": "FloatProgressModel",
      "state": {
       "layout": "IPY_MODEL_ea2ba3528edd435fa82c0a9f8733c3a7",
       "max": 8,
       "style": "IPY_MODEL_43362c0db59b4d4fac777d5cfdaf5537",
       "value": 8
      }
     },
     "819818f021c7409ba3cf4fb5e48134ef": {
      "model_module": "@jupyter-widgets/controls",
      "model_module_version": "1.5.0",
      "model_name": "ProgressStyleModel",
      "state": {
       "description_width": ""
      }
     },
     "81ce4b01d9d9449fb80102d1e080e1d0": {
      "model_module": "@jupyter-widgets/base",
      "model_module_version": "1.2.0",
      "model_name": "LayoutModel",
      "state": {}
     },
     "8206379063f644b8bb07b81d87a367f1": {
      "model_module": "jupyter-matplotlib",
      "model_module_version": "^0.8.2",
      "model_name": "MPLCanvasModel",
      "state": {
       "_cursor": "default",
       "_figure_label": "Figure 1",
       "_height": 600,
       "_image_mode": "diff",
       "_width": 1200,
       "layout": "IPY_MODEL_6f53bb2ecaa1489596bff52e59f514f9",
       "toolbar": "IPY_MODEL_944e0b3fbca74469b1e2558a9675f039",
       "toolbar_position": "left"
      }
     },
     "8208bd53a03646dfa23ccda091ace33b": {
      "model_module": "@jupyter-widgets/controls",
      "model_module_version": "1.5.0",
      "model_name": "HTMLModel",
      "state": {
       "layout": "IPY_MODEL_b48a046f0b904953a72f4c8b885e08bf",
       "style": "IPY_MODEL_ec1b74271fd540ed86381203157c5210",
       "value": "Iterating through drift speeds:  75%"
      }
     },
     "822ebe94d1a54d05831a7c69463464cc": {
      "model_module": "@jupyter-widgets/base",
      "model_module_version": "1.2.0",
      "model_name": "LayoutModel",
      "state": {}
     },
     "823b7478f3b1437599e7e3e51f34b62b": {
      "model_module": "@jupyter-widgets/controls",
      "model_module_version": "1.5.0",
      "model_name": "ProgressStyleModel",
      "state": {
       "description_width": ""
      }
     },
     "823c0cd0a07842699edb4afad6cda74f": {
      "model_module": "@jupyter-widgets/base",
      "model_module_version": "1.2.0",
      "model_name": "LayoutModel",
      "state": {}
     },
     "827f9f789a62487e9e2400a2d1ea2e42": {
      "model_module": "@jupyter-widgets/controls",
      "model_module_version": "1.5.0",
      "model_name": "HTMLModel",
      "state": {
       "layout": "IPY_MODEL_1820527e16384b3f9b5c38372546113b",
       "style": "IPY_MODEL_152d46918e6c42c0b563569ee2baa6e8",
       "value": " 6/8 [00:00&lt;00:00, 57.14it/s]"
      }
     },
     "82d064afaab2496e9b64ab111b5f7ca1": {
      "model_module": "@jupyter-widgets/base",
      "model_module_version": "1.2.0",
      "model_name": "LayoutModel",
      "state": {}
     },
     "8330f20ac6ea4d438a1d20246cb48935": {
      "model_module": "@jupyter-widgets/controls",
      "model_module_version": "1.5.0",
      "model_name": "HTMLModel",
      "state": {
       "layout": "IPY_MODEL_dcf806198da04240a138e1575364fed4",
       "style": "IPY_MODEL_b1c313b31af34bdb801a83c9b330726c",
       "value": "Iterating through drift speeds:  75%"
      }
     },
     "83635741260a40bb97fa7636962c5c4a": {
      "model_module": "@jupyter-widgets/base",
      "model_module_version": "1.2.0",
      "model_name": "LayoutModel",
      "state": {}
     },
     "83877396cf464ae1aeff0d6f292f5358": {
      "model_module": "@jupyter-widgets/controls",
      "model_module_version": "1.5.0",
      "model_name": "HTMLModel",
      "state": {
       "layout": "IPY_MODEL_66de9cc3461f4aa0a475802852ea277b",
       "style": "IPY_MODEL_1cc85c75fca64e649cad07edfac938e0",
       "value": "Iterating through drift speeds:  75%"
      }
     },
     "83c567a615254459b91e8603b89e37fb": {
      "model_module": "@jupyter-widgets/controls",
      "model_module_version": "1.5.0",
      "model_name": "HTMLModel",
      "state": {
       "layout": "IPY_MODEL_f067746c4831464b93c5ece1c9c9e1a8",
       "style": "IPY_MODEL_405a5f7ab8b143e4b19b5b83a82a7df3",
       "value": "Iterating through drift speeds:  75%"
      }
     },
     "842678a4178a49db9c09b3b4a28be6c7": {
      "model_module": "@jupyter-widgets/controls",
      "model_module_version": "1.5.0",
      "model_name": "HTMLModel",
      "state": {
       "layout": "IPY_MODEL_19daa2740ca245c99b137f3f82dc2b4d",
       "style": "IPY_MODEL_a5742ccca8cb45c290adf895be669982",
       "value": " 6/8 [00:00&lt;00:00, 58.25it/s]"
      }
     },
     "84a1bee696a041de87df0286924b4475": {
      "model_module": "@jupyter-widgets/controls",
      "model_module_version": "1.5.0",
      "model_name": "HTMLModel",
      "state": {
       "layout": "IPY_MODEL_6794f54be6b8451db721e6b4b9001492",
       "style": "IPY_MODEL_32b43f746a7f4600b6ba46644a579649",
       "value": " 6/8 [00:00&lt;00:00, 59.39it/s]"
      }
     },
     "85244f3da64940fa826344e167c3f7e6": {
      "model_module": "@jupyter-widgets/base",
      "model_module_version": "1.2.0",
      "model_name": "LayoutModel",
      "state": {}
     },
     "86000c39ec0d48018ebcc07d0174c373": {
      "model_module": "@jupyter-widgets/controls",
      "model_module_version": "1.5.0",
      "model_name": "FloatProgressModel",
      "state": {
       "layout": "IPY_MODEL_c1c4e3364e754022b49f378c44b88900",
       "max": 8,
       "style": "IPY_MODEL_96e19aa3ee9c4c2b9607bbb5e8695d9a",
       "value": 8
      }
     },
     "865c70f43bd54e6199744bebf6bd0584": {
      "model_module": "@jupyter-widgets/controls",
      "model_module_version": "1.5.0",
      "model_name": "HBoxModel",
      "state": {
       "children": [
        "IPY_MODEL_bf0e29e0bcab4902ad21833f961e81b7",
        "IPY_MODEL_a59e583c6b674865b8b743ea63611457",
        "IPY_MODEL_5475ad39f7e745bfb27551966cce9a20"
       ],
       "layout": "IPY_MODEL_f806674698484668918dcb6e68e503da"
      }
     },
     "867f55d6033f4491bc83139eccf10108": {
      "model_module": "@jupyter-widgets/controls",
      "model_module_version": "1.5.0",
      "model_name": "DescriptionStyleModel",
      "state": {
       "description_width": ""
      }
     },
     "87366a0834e0431ca48ce187ec90f486": {
      "model_module": "@jupyter-widgets/base",
      "model_module_version": "1.2.0",
      "model_name": "LayoutModel",
      "state": {}
     },
     "87404925f925416f817eddf21cfd963d": {
      "model_module": "@jupyter-widgets/base",
      "model_module_version": "1.2.0",
      "model_name": "LayoutModel",
      "state": {}
     },
     "876b83ef1c514760ab2d157f598b8dce": {
      "model_module": "@jupyter-widgets/base",
      "model_module_version": "1.2.0",
      "model_name": "LayoutModel",
      "state": {}
     },
     "87f90f071cbf4914bc36d583ff5295e2": {
      "model_module": "@jupyter-widgets/controls",
      "model_module_version": "1.5.0",
      "model_name": "DescriptionStyleModel",
      "state": {
       "description_width": ""
      }
     },
     "888019bc7a194f1d98874cb65c32fc86": {
      "model_module": "@jupyter-widgets/controls",
      "model_module_version": "1.5.0",
      "model_name": "DescriptionStyleModel",
      "state": {
       "description_width": ""
      }
     },
     "893704aa38804d2ab4d8fc947045c9ce": {
      "model_module": "@jupyter-widgets/controls",
      "model_module_version": "1.5.0",
      "model_name": "DescriptionStyleModel",
      "state": {
       "description_width": ""
      }
     },
     "89b9b8ea3d15470d9952af60f43a5f85": {
      "model_module": "@jupyter-widgets/base",
      "model_module_version": "1.2.0",
      "model_name": "LayoutModel",
      "state": {}
     },
     "89ba7f8ed16443c295886652ae71de41": {
      "model_module": "@jupyter-widgets/base",
      "model_module_version": "1.2.0",
      "model_name": "LayoutModel",
      "state": {}
     },
     "89f4a07a0e374ba0b209b5dfc1d3819a": {
      "model_module": "@jupyter-widgets/controls",
      "model_module_version": "1.5.0",
      "model_name": "ProgressStyleModel",
      "state": {
       "description_width": ""
      }
     },
     "8a3dd925afbe4b16a35d32e1325a6ad2": {
      "model_module": "@jupyter-widgets/controls",
      "model_module_version": "1.5.0",
      "model_name": "FloatProgressModel",
      "state": {
       "layout": "IPY_MODEL_93ef216794304634ba00d0ef769adf65",
       "max": 8,
       "style": "IPY_MODEL_1de57c62c8af4a42966f9750f5278ea6",
       "value": 8
      }
     },
     "8a4491abcdf547c3a0f42400b3ace5e6": {
      "model_module": "@jupyter-widgets/base",
      "model_module_version": "1.2.0",
      "model_name": "LayoutModel",
      "state": {}
     },
     "8a531890ff084bd79a3be76ae939566b": {
      "model_module": "@jupyter-widgets/base",
      "model_module_version": "1.2.0",
      "model_name": "LayoutModel",
      "state": {}
     },
     "8b5ca48ea15d4045965c99e630f77e7b": {
      "model_module": "@jupyter-widgets/base",
      "model_module_version": "1.2.0",
      "model_name": "LayoutModel",
      "state": {}
     },
     "8b84745cd345407b99197a62c64377fc": {
      "model_module": "@jupyter-widgets/controls",
      "model_module_version": "1.5.0",
      "model_name": "FloatProgressModel",
      "state": {
       "layout": "IPY_MODEL_40a8cd067728437485f5fd9071a40394",
       "max": 8,
       "style": "IPY_MODEL_04f3a3d91e1147e48334821a6c23e214",
       "value": 8
      }
     },
     "8b84c2e5f230453f842176acacb02fff": {
      "model_module": "@jupyter-widgets/controls",
      "model_module_version": "1.5.0",
      "model_name": "ProgressStyleModel",
      "state": {
       "description_width": ""
      }
     },
     "8c2fba12983a48bca1a119aca3da3688": {
      "model_module": "@jupyter-widgets/controls",
      "model_module_version": "1.5.0",
      "model_name": "FloatProgressModel",
      "state": {
       "layout": "IPY_MODEL_52ebb2763c8f4797a83ef1d9f12960c2",
       "max": 8,
       "style": "IPY_MODEL_8b84c2e5f230453f842176acacb02fff",
       "value": 8
      }
     },
     "8c6deabc68084ebc92a558fc3948aec5": {
      "model_module": "@jupyter-widgets/controls",
      "model_module_version": "1.5.0",
      "model_name": "FloatProgressModel",
      "state": {
       "layout": "IPY_MODEL_6d508bae129f402388f91a1f442d6fef",
       "max": 8,
       "style": "IPY_MODEL_de6304f0bc4c48f09f5f070ac0391092",
       "value": 8
      }
     },
     "8cfa6ca3ae384cb3b33c7d37aba6f9ad": {
      "model_module": "jupyter-matplotlib",
      "model_module_version": "^0.8.2",
      "model_name": "ToolbarModel",
      "state": {
       "layout": "IPY_MODEL_6740129045f745b8b4a832a7d11658ef",
       "toolitems": [
        [
         "Home",
         "Reset original view",
         "home",
         "home"
        ],
        [
         "Back",
         "Back to previous view",
         "arrow-left",
         "back"
        ],
        [
         "Forward",
         "Forward to next view",
         "arrow-right",
         "forward"
        ],
        [
         "Pan",
         "Left button pans, Right button zooms\nx/y fixes axis, CTRL fixes aspect",
         "arrows",
         "pan"
        ],
        [
         "Zoom",
         "Zoom to rectangle\nx/y fixes axis, CTRL fixes aspect",
         "square-o",
         "zoom"
        ],
        [
         "Download",
         "Download plot",
         "floppy-o",
         "save_figure"
        ]
       ]
      }
     },
     "8d427df5d7f648bbaad8013f5879e095": {
      "model_module": "@jupyter-widgets/base",
      "model_module_version": "1.2.0",
      "model_name": "LayoutModel",
      "state": {}
     },
     "8dd5af11262743ecaa601882228d60cf": {
      "model_module": "@jupyter-widgets/controls",
      "model_module_version": "1.5.0",
      "model_name": "HTMLModel",
      "state": {
       "layout": "IPY_MODEL_3478f7463e6f4165821036bbb3d6b378",
       "style": "IPY_MODEL_f73eccd3e1ff4ab3b9f7b7237c5911ca",
       "value": "Iterating through drift speeds:  75%"
      }
     },
     "8dd9f2a9edb449d7b0d7df9cf8de86f6": {
      "model_module": "@jupyter-widgets/controls",
      "model_module_version": "1.5.0",
      "model_name": "FloatProgressModel",
      "state": {
       "layout": "IPY_MODEL_9a4b491684ef48a4b883c8cf2f88d5bf",
       "max": 8,
       "style": "IPY_MODEL_654d4427ef554fee80fea571ae13bd1d",
       "value": 8
      }
     },
     "8e9e87297ef14a89a7f401d12e713fbc": {
      "model_module": "@jupyter-widgets/base",
      "model_module_version": "1.2.0",
      "model_name": "LayoutModel",
      "state": {}
     },
     "8eb52b2809624f6b93935ec3e38a2a2c": {
      "model_module": "@jupyter-widgets/controls",
      "model_module_version": "1.5.0",
      "model_name": "ProgressStyleModel",
      "state": {
       "description_width": ""
      }
     },
     "8f9335bd19414fd18767bdeb97611ce0": {
      "model_module": "@jupyter-widgets/controls",
      "model_module_version": "1.5.0",
      "model_name": "HTMLModel",
      "state": {
       "layout": "IPY_MODEL_cf147ab7d8f44459814eeef36e65293e",
       "style": "IPY_MODEL_106bb8954e9e4e9586a193fb8ef2578f",
       "value": " 6/8 [00:00&lt;00:00, 55.56it/s]"
      }
     },
     "8fe69842a8e5462fbd735ca6eda2e690": {
      "model_module": "@jupyter-widgets/controls",
      "model_module_version": "1.5.0",
      "model_name": "FloatProgressModel",
      "state": {
       "bar_style": "success",
       "layout": "IPY_MODEL_9df0b8d2fdc041a9aba5502ffb67920c",
       "max": 8,
       "style": "IPY_MODEL_823b7478f3b1437599e7e3e51f34b62b",
       "value": 8
      }
     },
     "9054a01a29d141d3b3c81b3b63315104": {
      "model_module": "@jupyter-widgets/base",
      "model_module_version": "1.2.0",
      "model_name": "LayoutModel",
      "state": {}
     },
     "90d15ef57221438bbe5cc9d3c62bcf8a": {
      "model_module": "@jupyter-widgets/controls",
      "model_module_version": "1.5.0",
      "model_name": "FloatProgressModel",
      "state": {
       "layout": "IPY_MODEL_0242b169f8f640429cadcd1b5fad2172",
       "max": 8,
       "style": "IPY_MODEL_1745badb68d14feb8fc634a9b7d1c1e6",
       "value": 8
      }
     },
     "914bba42bf1c47a8b4872cb4645690d6": {
      "model_module": "@jupyter-widgets/controls",
      "model_module_version": "1.5.0",
      "model_name": "HTMLModel",
      "state": {
       "layout": "IPY_MODEL_0aee3f9370bf41bcb0bbba9133ff3af3",
       "style": "IPY_MODEL_3183e6d31b33493bb8742ea1cad27871",
       "value": " 3/8 [00:00&lt;00:00, 29.41it/s]"
      }
     },
     "91514ba7ed124e84a929dcea832fc865": {
      "model_module": "@jupyter-widgets/controls",
      "model_module_version": "1.5.0",
      "model_name": "DescriptionStyleModel",
      "state": {
       "description_width": ""
      }
     },
     "91a3e03d83e3459d9e06885fc4ba76ae": {
      "model_module": "@jupyter-widgets/controls",
      "model_module_version": "1.5.0",
      "model_name": "ProgressStyleModel",
      "state": {
       "description_width": ""
      }
     },
     "91dcda5072f440d2820ebf424f2fa5b6": {
      "model_module": "@jupyter-widgets/base",
      "model_module_version": "1.2.0",
      "model_name": "LayoutModel",
      "state": {}
     },
     "9201b15de0774f4890237521e2671f38": {
      "model_module": "@jupyter-widgets/base",
      "model_module_version": "1.2.0",
      "model_name": "LayoutModel",
      "state": {}
     },
     "9249328043074eed9d658f61c5e28d0a": {
      "model_module": "@jupyter-widgets/base",
      "model_module_version": "1.2.0",
      "model_name": "LayoutModel",
      "state": {}
     },
     "92c534203eed496dbd065c2a63992d4f": {
      "model_module": "@jupyter-widgets/controls",
      "model_module_version": "1.5.0",
      "model_name": "HTMLModel",
      "state": {
       "layout": "IPY_MODEL_0a38c845a4834bb386d35941e351c291",
       "style": "IPY_MODEL_0768000567ab408bae6d834cf53a71d8",
       "value": " 6/8 [00:00&lt;00:00, 55.56it/s]"
      }
     },
     "934e872c8a124d208e25462ceb4c7f49": {
      "model_module": "@jupyter-widgets/base",
      "model_module_version": "1.2.0",
      "model_name": "LayoutModel",
      "state": {}
     },
     "93ab7f078f854da680c4d4deca4e5290": {
      "model_module": "@jupyter-widgets/base",
      "model_module_version": "1.2.0",
      "model_name": "LayoutModel",
      "state": {}
     },
     "93ef216794304634ba00d0ef769adf65": {
      "model_module": "@jupyter-widgets/base",
      "model_module_version": "1.2.0",
      "model_name": "LayoutModel",
      "state": {}
     },
     "9425f038a1a745d38a0a03966aeab67d": {
      "model_module": "@jupyter-widgets/controls",
      "model_module_version": "1.5.0",
      "model_name": "HTMLModel",
      "state": {
       "layout": "IPY_MODEL_5b7b4d7b6b0e4e7291ebfd3241b91850",
       "style": "IPY_MODEL_ffab69bf8a1a4ebabc5a1b2a3e808f84",
       "value": "Iterating through drift speeds:  62%"
      }
     },
     "944e0b3fbca74469b1e2558a9675f039": {
      "model_module": "jupyter-matplotlib",
      "model_module_version": "^0.8.2",
      "model_name": "ToolbarModel",
      "state": {
       "layout": "IPY_MODEL_f7bbe677bc664cc08cf724dba7183c3d",
       "toolitems": [
        [
         "Home",
         "Reset original view",
         "home",
         "home"
        ],
        [
         "Back",
         "Back to previous view",
         "arrow-left",
         "back"
        ],
        [
         "Forward",
         "Forward to next view",
         "arrow-right",
         "forward"
        ],
        [
         "Pan",
         "Left button pans, Right button zooms\nx/y fixes axis, CTRL fixes aspect",
         "arrows",
         "pan"
        ],
        [
         "Zoom",
         "Zoom to rectangle\nx/y fixes axis, CTRL fixes aspect",
         "square-o",
         "zoom"
        ],
        [
         "Download",
         "Download plot",
         "floppy-o",
         "save_figure"
        ]
       ]
      }
     },
     "94667bec1ad5405b928cbc266d6d1ada": {
      "model_module": "@jupyter-widgets/controls",
      "model_module_version": "1.5.0",
      "model_name": "HTMLModel",
      "state": {
       "layout": "IPY_MODEL_29183196ad3f4c89b05f8fd0553cbdda",
       "style": "IPY_MODEL_f5555d321589431bb6f408a4a69205ae",
       "value": " 6/8 [00:00&lt;00:00, 58.80it/s]"
      }
     },
     "94b549fd08ce472695769d585829f2f1": {
      "model_module": "@jupyter-widgets/controls",
      "model_module_version": "1.5.0",
      "model_name": "FloatProgressModel",
      "state": {
       "layout": "IPY_MODEL_d45a1bb87fca4ccab65cd8de8badcc74",
       "max": 8,
       "style": "IPY_MODEL_6c749399eb704ffebea9233d926d116d",
       "value": 8
      }
     },
     "94f17d747a424e77954aaecf06fccdec": {
      "model_module": "@jupyter-widgets/controls",
      "model_module_version": "1.5.0",
      "model_name": "HTMLModel",
      "state": {
       "layout": "IPY_MODEL_b2c72d6ae2fc4968adf6218e3dbcc77c",
       "style": "IPY_MODEL_893704aa38804d2ab4d8fc947045c9ce",
       "value": " 6/8 [00:00&lt;00:00, 58.81it/s]"
      }
     },
     "9509afde0b9440aba27c43ba3d77e341": {
      "model_module": "@jupyter-widgets/controls",
      "model_module_version": "1.5.0",
      "model_name": "FloatProgressModel",
      "state": {
       "layout": "IPY_MODEL_df450e90c3f24fb084f088165e83da65",
       "max": 8,
       "style": "IPY_MODEL_1e93204fca1c4a0abb9d65e23289afff",
       "value": 8
      }
     },
     "954e2abb4b3344d6b60d755a8a8380f5": {
      "model_module": "@jupyter-widgets/controls",
      "model_module_version": "1.5.0",
      "model_name": "HTMLModel",
      "state": {
       "layout": "IPY_MODEL_68ef23363174487c9c3da9db393da23a",
       "style": "IPY_MODEL_e543a14dd463411c9e957bdac039636f",
       "value": "Iterating through drift speeds:  75%"
      }
     },
     "95580d07610d445cb7822f1ac0a2fdd0": {
      "model_module": "jupyter-matplotlib",
      "model_module_version": "^0.8.2",
      "model_name": "MPLCanvasModel",
      "state": {
       "_cursor": "default",
       "_figure_label": "Figure 10",
       "_height": 480,
       "_message": "x=70.5 y=87.7\n[284]",
       "_width": 640,
       "layout": "IPY_MODEL_9249328043074eed9d658f61c5e28d0a",
       "toolbar": "IPY_MODEL_d1bc4768f36646dc8d5f7c607af263fb",
       "toolbar_position": "left"
      }
     },
     "95d03eb72884445d8ce13619ee741aba": {
      "model_module": "@jupyter-widgets/controls",
      "model_module_version": "1.5.0",
      "model_name": "FloatProgressModel",
      "state": {
       "layout": "IPY_MODEL_ebba7805655e42258a33c6c4f213a7f1",
       "max": 8,
       "style": "IPY_MODEL_5b16d06b78c14372b7654c5d3bcbcafe",
       "value": 8
      }
     },
     "95f26ce4617d434ca7163406025bb972": {
      "model_module": "@jupyter-widgets/controls",
      "model_module_version": "1.5.0",
      "model_name": "ProgressStyleModel",
      "state": {
       "description_width": ""
      }
     },
     "9618462a82d54dd6910aa4c25bbd34b0": {
      "model_module": "@jupyter-widgets/controls",
      "model_module_version": "1.5.0",
      "model_name": "ProgressStyleModel",
      "state": {
       "description_width": ""
      }
     },
     "963cb9ec5224461ba1c6f6032dea3ffa": {
      "model_module": "@jupyter-widgets/controls",
      "model_module_version": "1.5.0",
      "model_name": "HTMLModel",
      "state": {
       "layout": "IPY_MODEL_ded1b0a35539498797bd2e105ecf7b27",
       "style": "IPY_MODEL_5c0f01e0f5f949989e3a429fb825723c",
       "value": " 6/8 [00:00&lt;00:00, 58.23it/s]"
      }
     },
     "9646dd1dc23c4b01b873bbbe392acd6a": {
      "model_module": "@jupyter-widgets/base",
      "model_module_version": "1.2.0",
      "model_name": "LayoutModel",
      "state": {}
     },
     "967bffa576d94108af8192ae523d29fd": {
      "model_module": "jupyter-matplotlib",
      "model_module_version": "^0.8.2",
      "model_name": "ToolbarModel",
      "state": {
       "layout": "IPY_MODEL_fec3e831b487459ebd364c350cb2fa14",
       "toolitems": [
        [
         "Home",
         "Reset original view",
         "home",
         "home"
        ],
        [
         "Back",
         "Back to previous view",
         "arrow-left",
         "back"
        ],
        [
         "Forward",
         "Forward to next view",
         "arrow-right",
         "forward"
        ],
        [
         "Pan",
         "Left button pans, Right button zooms\nx/y fixes axis, CTRL fixes aspect",
         "arrows",
         "pan"
        ],
        [
         "Zoom",
         "Zoom to rectangle\nx/y fixes axis, CTRL fixes aspect",
         "square-o",
         "zoom"
        ],
        [
         "Download",
         "Download plot",
         "floppy-o",
         "save_figure"
        ]
       ]
      }
     },
     "96937a0529af415f9a99434d645bcd13": {
      "model_module": "@jupyter-widgets/base",
      "model_module_version": "1.2.0",
      "model_name": "LayoutModel",
      "state": {}
     },
     "96b4754a5f80469e98a0ab0e647dd571": {
      "model_module": "@jupyter-widgets/base",
      "model_module_version": "1.2.0",
      "model_name": "LayoutModel",
      "state": {}
     },
     "96e19aa3ee9c4c2b9607bbb5e8695d9a": {
      "model_module": "@jupyter-widgets/controls",
      "model_module_version": "1.5.0",
      "model_name": "ProgressStyleModel",
      "state": {
       "description_width": ""
      }
     },
     "96f9d022f8b54dbfa327092ea2237dba": {
      "model_module": "@jupyter-widgets/controls",
      "model_module_version": "1.5.0",
      "model_name": "HTMLModel",
      "state": {
       "layout": "IPY_MODEL_6b241a3fbd98478cb8c546e10140f61b",
       "style": "IPY_MODEL_2486c67e973641ff9b67306877317ad4",
       "value": " 6/8 [00:00&lt;00:00, 53.08it/s]"
      }
     },
     "9721422bfc2241a487ac5fbc4741e8f8": {
      "model_module": "@jupyter-widgets/controls",
      "model_module_version": "1.5.0",
      "model_name": "HTMLModel",
      "state": {
       "layout": "IPY_MODEL_128dadff76b94ce9bdd8b86bf17bf4c4",
       "style": "IPY_MODEL_f4d905fdb7894fb99337a8d2a552a621",
       "value": " 6/8 [00:00&lt;00:00, 58.27it/s]"
      }
     },
     "974f56b5459e4bb9a4a4dd8d612fff0e": {
      "model_module": "@jupyter-widgets/base",
      "model_module_version": "1.2.0",
      "model_name": "LayoutModel",
      "state": {}
     },
     "977f370a8d7545beaec862f1831dfeb5": {
      "model_module": "@jupyter-widgets/controls",
      "model_module_version": "1.5.0",
      "model_name": "HTMLModel",
      "state": {
       "layout": "IPY_MODEL_4bc7b7b293d14572a1bd8266931480b3",
       "style": "IPY_MODEL_f7ad29640cb44adca034a5323f2f5184",
       "value": " 6/8 [00:00&lt;00:00, 56.07it/s]"
      }
     },
     "979a5b77a40446ee89b8afb997468bac": {
      "model_module": "@jupyter-widgets/base",
      "model_module_version": "1.2.0",
      "model_name": "LayoutModel",
      "state": {}
     },
     "97d00814d3824c309fcda2eaa5df2f0d": {
      "model_module": "@jupyter-widgets/controls",
      "model_module_version": "1.5.0",
      "model_name": "HTMLModel",
      "state": {
       "layout": "IPY_MODEL_7c5bb21654374db18b01ea8b6c6d5dd8",
       "style": "IPY_MODEL_7eb0945e4d19419a8a6d97c05cf85241",
       "value": " 8/8 [00:01&lt;00:00,  7.33it/s]"
      }
     },
     "9808c476e4084d249f25afeb7ccc0c00": {
      "model_module": "@jupyter-widgets/controls",
      "model_module_version": "1.5.0",
      "model_name": "HTMLModel",
      "state": {
       "layout": "IPY_MODEL_c2b8fd31e258439bbce7110411189b95",
       "style": "IPY_MODEL_e6e2b10ceabf4942bd481a58266da70a",
       "value": "Iterating through drift speeds:  75%"
      }
     },
     "983f0412515d4f19bbe81ac63f931240": {
      "model_module": "@jupyter-widgets/base",
      "model_module_version": "1.2.0",
      "model_name": "LayoutModel",
      "state": {}
     },
     "989489561bca427ca0867b65f34da191": {
      "model_module": "@jupyter-widgets/base",
      "model_module_version": "1.2.0",
      "model_name": "LayoutModel",
      "state": {}
     },
     "98d012fb3f2a40e799daf104646c631a": {
      "model_module": "@jupyter-widgets/controls",
      "model_module_version": "1.5.0",
      "model_name": "HTMLModel",
      "state": {
       "layout": "IPY_MODEL_c6becb363f764ce4bc2c08e16fadd17c",
       "style": "IPY_MODEL_cd803744171045d6af645f46b7126f2a",
       "value": " 8/8 [00:01&lt;00:00,  7.43it/s]"
      }
     },
     "98d1193adefe41c8b516fab7fa46750c": {
      "model_module": "@jupyter-widgets/controls",
      "model_module_version": "1.5.0",
      "model_name": "DescriptionStyleModel",
      "state": {
       "description_width": ""
      }
     },
     "98e92df864fc46e38eb8540359903ceb": {
      "model_module": "@jupyter-widgets/controls",
      "model_module_version": "1.5.0",
      "model_name": "HTMLModel",
      "state": {
       "layout": "IPY_MODEL_3ebeeb6c417746a4b8a0430b6cbbe732",
       "style": "IPY_MODEL_a9304c4335e541029b72a0e612201967",
       "value": " 6/8 [00:00&lt;00:00, 58.24it/s]"
      }
     },
     "992c0f50104a4faa96603c3efea4c719": {
      "model_module": "@jupyter-widgets/controls",
      "model_module_version": "1.5.0",
      "model_name": "DescriptionStyleModel",
      "state": {
       "description_width": ""
      }
     },
     "9935a7458473475b8cb13f6fa5aeb83d": {
      "model_module": "@jupyter-widgets/controls",
      "model_module_version": "1.5.0",
      "model_name": "ProgressStyleModel",
      "state": {
       "description_width": ""
      }
     },
     "9965ef89c283417e9e53287a7ad4fed2": {
      "model_module": "@jupyter-widgets/controls",
      "model_module_version": "1.5.0",
      "model_name": "HTMLModel",
      "state": {
       "layout": "IPY_MODEL_aa11c70343c545a3865e6fb6de98bef7",
       "style": "IPY_MODEL_6d08b1cf7d1448bb8aa6e2525de41f6a",
       "value": " 6/8 [00:00&lt;00:00, 56.59it/s]"
      }
     },
     "99adf7ac17194d99b35c85fda475cac9": {
      "model_module": "@jupyter-widgets/controls",
      "model_module_version": "1.5.0",
      "model_name": "DescriptionStyleModel",
      "state": {
       "description_width": ""
      }
     },
     "9a4b491684ef48a4b883c8cf2f88d5bf": {
      "model_module": "@jupyter-widgets/base",
      "model_module_version": "1.2.0",
      "model_name": "LayoutModel",
      "state": {}
     },
     "9a6f0fb6b2514c4499aaa52e982ce135": {
      "model_module": "@jupyter-widgets/controls",
      "model_module_version": "1.5.0",
      "model_name": "HTMLModel",
      "state": {
       "layout": "IPY_MODEL_15f32bb82c2f44cea7a1c61b5984c132",
       "style": "IPY_MODEL_649de0938e2846c79b18b2b711400951",
       "value": "Iterating through drift angles: 100%"
      }
     },
     "9a81ed713d9c4788979cc1131f3afe78": {
      "model_module": "@jupyter-widgets/base",
      "model_module_version": "1.2.0",
      "model_name": "LayoutModel",
      "state": {}
     },
     "9a9109875a0b4798a5bc19da83539ba1": {
      "model_module": "@jupyter-widgets/controls",
      "model_module_version": "1.5.0",
      "model_name": "ProgressStyleModel",
      "state": {
       "description_width": ""
      }
     },
     "9aa0f9e07174415bb326ba9183424163": {
      "model_module": "@jupyter-widgets/controls",
      "model_module_version": "1.5.0",
      "model_name": "HTMLModel",
      "state": {
       "layout": "IPY_MODEL_9a81ed713d9c4788979cc1131f3afe78",
       "style": "IPY_MODEL_2bef8f709eca42b98f23ee63f04799b2",
       "value": " 5/8 [00:00&lt;00:00, 47.17it/s]"
      }
     },
     "9aad62e2466b42fe8c076355ae25be9c": {
      "model_module": "@jupyter-widgets/controls",
      "model_module_version": "1.5.0",
      "model_name": "DescriptionStyleModel",
      "state": {
       "description_width": ""
      }
     },
     "9ae12269238c4f749aab5cf96720794b": {
      "model_module": "@jupyter-widgets/controls",
      "model_module_version": "1.5.0",
      "model_name": "ProgressStyleModel",
      "state": {
       "description_width": ""
      }
     },
     "9afcda829492431983b8acbbd979f098": {
      "model_module": "@jupyter-widgets/controls",
      "model_module_version": "1.5.0",
      "model_name": "DescriptionStyleModel",
      "state": {
       "description_width": ""
      }
     },
     "9b14ead7c13c4093be1cdaefc195d275": {
      "model_module": "@jupyter-widgets/base",
      "model_module_version": "1.2.0",
      "model_name": "LayoutModel",
      "state": {}
     },
     "9b3a69a411f243f8b47d983f5e97a9ca": {
      "model_module": "@jupyter-widgets/base",
      "model_module_version": "1.2.0",
      "model_name": "LayoutModel",
      "state": {}
     },
     "9c0343ca2d0d40d38e04a937b23d8a0b": {
      "model_module": "@jupyter-widgets/controls",
      "model_module_version": "1.5.0",
      "model_name": "HTMLModel",
      "state": {
       "layout": "IPY_MODEL_2017e7f9e04642bc9ae74ab995fcceff",
       "style": "IPY_MODEL_758f57d160844f9c8a6a88d4ccf9a5ba",
       "value": " 6/8 [00:00&lt;00:00, 58.23it/s]"
      }
     },
     "9c684cbb1a1e4f9ebdc07f29fe779084": {
      "model_module": "@jupyter-widgets/controls",
      "model_module_version": "1.5.0",
      "model_name": "ProgressStyleModel",
      "state": {
       "description_width": ""
      }
     },
     "9cded54794fd44cfa3f2491c84769ae0": {
      "model_module": "@jupyter-widgets/base",
      "model_module_version": "1.2.0",
      "model_name": "LayoutModel",
      "state": {}
     },
     "9cf09d7a788846b7a4e6e9f8bfd4cbf0": {
      "model_module": "@jupyter-widgets/base",
      "model_module_version": "1.2.0",
      "model_name": "LayoutModel",
      "state": {}
     },
     "9d5f526f95894e62bcd62e6d528475b0": {
      "model_module": "@jupyter-widgets/base",
      "model_module_version": "1.2.0",
      "model_name": "LayoutModel",
      "state": {}
     },
     "9dbd96fb79904152921b1a1c86367d33": {
      "model_module": "@jupyter-widgets/controls",
      "model_module_version": "1.5.0",
      "model_name": "ProgressStyleModel",
      "state": {
       "description_width": ""
      }
     },
     "9dd6dc5d1d954017b11a1028575cf1a5": {
      "model_module": "@jupyter-widgets/controls",
      "model_module_version": "1.5.0",
      "model_name": "HTMLModel",
      "state": {
       "layout": "IPY_MODEL_d4d6999285774a8f9beb3eeed7d804c9",
       "style": "IPY_MODEL_e88e1533a50f42feb7473f6737169c0a",
       "value": " 6/8 [00:00&lt;00:00, 56.07it/s]"
      }
     },
     "9df0b8d2fdc041a9aba5502ffb67920c": {
      "model_module": "@jupyter-widgets/base",
      "model_module_version": "1.2.0",
      "model_name": "LayoutModel",
      "state": {}
     },
     "9e96c7f895b14bf3882334b88da54c12": {
      "model_module": "@jupyter-widgets/base",
      "model_module_version": "1.2.0",
      "model_name": "LayoutModel",
      "state": {}
     },
     "9f2a544b0350419f91d15290429855ec": {
      "model_module": "@jupyter-widgets/base",
      "model_module_version": "1.2.0",
      "model_name": "LayoutModel",
      "state": {}
     },
     "a0201b3b435445f0ad3cf20bc1ea11d8": {
      "model_module": "@jupyter-widgets/base",
      "model_module_version": "1.2.0",
      "model_name": "LayoutModel",
      "state": {}
     },
     "a05f4a6067ee442b8798a46d92ecf51c": {
      "model_module": "@jupyter-widgets/base",
      "model_module_version": "1.2.0",
      "model_name": "LayoutModel",
      "state": {}
     },
     "a07d367e22a94a98a4c5e6cbd8a6e7ea": {
      "model_module": "@jupyter-widgets/controls",
      "model_module_version": "1.5.0",
      "model_name": "FloatProgressModel",
      "state": {
       "layout": "IPY_MODEL_4392a71f433345f688a7d0f6ce8eefda",
       "max": 8,
       "style": "IPY_MODEL_c8967b99d36d4183a232517506d7e86a",
       "value": 8
      }
     },
     "a0a64f040cc44f7e9333dce4d790896a": {
      "model_module": "@jupyter-widgets/base",
      "model_module_version": "1.2.0",
      "model_name": "LayoutModel",
      "state": {}
     },
     "a0e8486a086f4d3abc0166f6be5f5a98": {
      "model_module": "@jupyter-widgets/controls",
      "model_module_version": "1.5.0",
      "model_name": "DescriptionStyleModel",
      "state": {
       "description_width": ""
      }
     },
     "a134cd568f2944da8be722d75b5adc4f": {
      "model_module": "@jupyter-widgets/base",
      "model_module_version": "1.2.0",
      "model_name": "LayoutModel",
      "state": {}
     },
     "a1844fff3e114b4b886d025e4b93b5e0": {
      "model_module": "@jupyter-widgets/controls",
      "model_module_version": "1.5.0",
      "model_name": "ProgressStyleModel",
      "state": {
       "description_width": ""
      }
     },
     "a1b6771eaaac48b4b33de23f5504f2da": {
      "model_module": "@jupyter-widgets/base",
      "model_module_version": "1.2.0",
      "model_name": "LayoutModel",
      "state": {}
     },
     "a23f2a4ab579411da84df6e264ce58b1": {
      "model_module": "@jupyter-widgets/controls",
      "model_module_version": "1.5.0",
      "model_name": "FloatProgressModel",
      "state": {
       "layout": "IPY_MODEL_8b5ca48ea15d4045965c99e630f77e7b",
       "max": 8,
       "style": "IPY_MODEL_de3c96e5628e438f9b380a4448a6b326",
       "value": 8
      }
     },
     "a25060671dae401cbac09d1d98cc0f1e": {
      "model_module": "@jupyter-widgets/base",
      "model_module_version": "1.2.0",
      "model_name": "LayoutModel",
      "state": {}
     },
     "a261a71bc11d42019c9152186d29bb23": {
      "model_module": "@jupyter-widgets/base",
      "model_module_version": "1.2.0",
      "model_name": "LayoutModel",
      "state": {}
     },
     "a2696a28c2ac4adcabb832f4d11e0a41": {
      "model_module": "@jupyter-widgets/controls",
      "model_module_version": "1.5.0",
      "model_name": "HTMLModel",
      "state": {
       "layout": "IPY_MODEL_d548987b27f744afbe44fcb67f6c3909",
       "style": "IPY_MODEL_0e548239552a447c9eeca2d04cdb1d56",
       "value": " 6/8 [00:00&lt;00:00, 58.25it/s]"
      }
     },
     "a2c3d82a347c42d39438738207f22522": {
      "model_module": "@jupyter-widgets/controls",
      "model_module_version": "1.5.0",
      "model_name": "FloatProgressModel",
      "state": {
       "layout": "IPY_MODEL_d0607a1631624ca3bc458ccb1b68f3b1",
       "max": 8,
       "style": "IPY_MODEL_9a9109875a0b4798a5bc19da83539ba1",
       "value": 8
      }
     },
     "a2e36161614044e580fd0f340f3f0d96": {
      "model_module": "@jupyter-widgets/base",
      "model_module_version": "1.2.0",
      "model_name": "LayoutModel",
      "state": {}
     },
     "a312e6960fd1471d828a8f69cb933875": {
      "model_module": "@jupyter-widgets/base",
      "model_module_version": "1.2.0",
      "model_name": "LayoutModel",
      "state": {}
     },
     "a3754aae6a8245c69a1d65b057ed616c": {
      "model_module": "@jupyter-widgets/controls",
      "model_module_version": "1.5.0",
      "model_name": "ProgressStyleModel",
      "state": {
       "description_width": ""
      }
     },
     "a3a0b2b23ae646a5bbb3a0ad8ab64b93": {
      "model_module": "@jupyter-widgets/base",
      "model_module_version": "1.2.0",
      "model_name": "LayoutModel",
      "state": {}
     },
     "a3f7ff0adeb54a9597c6459c26b60d5c": {
      "model_module": "@jupyter-widgets/controls",
      "model_module_version": "1.5.0",
      "model_name": "HTMLModel",
      "state": {
       "layout": "IPY_MODEL_9201b15de0774f4890237521e2671f38",
       "style": "IPY_MODEL_567f4a3d676e44989f62d7e8e862ca1e",
       "value": " 6/8 [00:00&lt;00:00, 56.59it/s]"
      }
     },
     "a408bae3902b43469cb3cf345af468a5": {
      "model_module": "@jupyter-widgets/base",
      "model_module_version": "1.2.0",
      "model_name": "LayoutModel",
      "state": {}
     },
     "a4dce0b84d804227b04fc82efdc446f4": {
      "model_module": "jupyter-matplotlib",
      "model_module_version": "^0.8.2",
      "model_name": "ToolbarModel",
      "state": {
       "layout": "IPY_MODEL_bb7f3f77e1694f80a51cc74e4e7e1d89",
       "toolitems": [
        [
         "Home",
         "Reset original view",
         "home",
         "home"
        ],
        [
         "Back",
         "Back to previous view",
         "arrow-left",
         "back"
        ],
        [
         "Forward",
         "Forward to next view",
         "arrow-right",
         "forward"
        ],
        [
         "Pan",
         "Left button pans, Right button zooms\nx/y fixes axis, CTRL fixes aspect",
         "arrows",
         "pan"
        ],
        [
         "Zoom",
         "Zoom to rectangle\nx/y fixes axis, CTRL fixes aspect",
         "square-o",
         "zoom"
        ],
        [
         "Download",
         "Download plot",
         "floppy-o",
         "save_figure"
        ]
       ]
      }
     },
     "a4f553d8ed5040008ec7d1f4eb77d814": {
      "model_module": "@jupyter-widgets/controls",
      "model_module_version": "1.5.0",
      "model_name": "HTMLModel",
      "state": {
       "layout": "IPY_MODEL_15a23df1e1a64cecb2360f01159da1a9",
       "style": "IPY_MODEL_fbd1c97e293f44838cc815d61fc6e5bd",
       "value": " 6/8 [00:00&lt;00:00, 58.24it/s]"
      }
     },
     "a548970213a54d38b4dd15d28ab03b36": {
      "model_module": "@jupyter-widgets/controls",
      "model_module_version": "1.5.0",
      "model_name": "FloatProgressModel",
      "state": {
       "layout": "IPY_MODEL_102eef5f73c54095a1ee6b753625a6fb",
       "max": 8,
       "style": "IPY_MODEL_02a8f8fe572f4fe6b945e850ccc2901a",
       "value": 8
      }
     },
     "a5742ccca8cb45c290adf895be669982": {
      "model_module": "@jupyter-widgets/controls",
      "model_module_version": "1.5.0",
      "model_name": "DescriptionStyleModel",
      "state": {
       "description_width": ""
      }
     },
     "a59e583c6b674865b8b743ea63611457": {
      "model_module": "@jupyter-widgets/controls",
      "model_module_version": "1.5.0",
      "model_name": "FloatProgressModel",
      "state": {
       "bar_style": "success",
       "layout": "IPY_MODEL_382f2552198f4774a97181fd588ca55c",
       "max": 8,
       "style": "IPY_MODEL_7a3214327e564d60847c829e320d4c96",
       "value": 8
      }
     },
     "a5a4e82829474d0a9f06e288129aae6a": {
      "model_module": "@jupyter-widgets/base",
      "model_module_version": "1.2.0",
      "model_name": "LayoutModel",
      "state": {}
     },
     "a5d2b6a2008142fcb72bdf4d6d804ba5": {
      "model_module": "@jupyter-widgets/base",
      "model_module_version": "1.2.0",
      "model_name": "LayoutModel",
      "state": {}
     },
     "a5dc47cee5764adaad2f6b40fd8513ea": {
      "model_module": "@jupyter-widgets/base",
      "model_module_version": "1.2.0",
      "model_name": "LayoutModel",
      "state": {}
     },
     "a76313c1775b4b02919ba772d01e1c32": {
      "model_module": "@jupyter-widgets/controls",
      "model_module_version": "1.5.0",
      "model_name": "FloatProgressModel",
      "state": {
       "layout": "IPY_MODEL_1a15c7f7145a467bae217e30d35bb350",
       "max": 8,
       "style": "IPY_MODEL_91a3e03d83e3459d9e06885fc4ba76ae",
       "value": 8
      }
     },
     "a798eb84819b46d3999a30ff2acf3075": {
      "model_module": "@jupyter-widgets/controls",
      "model_module_version": "1.5.0",
      "model_name": "HBoxModel",
      "state": {
       "children": [
        "IPY_MODEL_7320c48b27b64e32a4d27b06d21f93b8",
        "IPY_MODEL_8fe69842a8e5462fbd735ca6eda2e690",
        "IPY_MODEL_807a3da9a23748c7b7cb40f980714afe"
       ],
       "layout": "IPY_MODEL_d72980da93244cceb87300f7876768fa"
      }
     },
     "a8146e09c26d49fda5ae735634dee739": {
      "model_module": "@jupyter-widgets/controls",
      "model_module_version": "1.5.0",
      "model_name": "FloatProgressModel",
      "state": {
       "bar_style": "success",
       "layout": "IPY_MODEL_a0a64f040cc44f7e9333dce4d790896a",
       "max": 8,
       "style": "IPY_MODEL_33aa31ef223e45d6a3c45fc3e9847569",
       "value": 8
      }
     },
     "a827e7d74d1f4a549cf70662fca53268": {
      "model_module": "@jupyter-widgets/base",
      "model_module_version": "1.2.0",
      "model_name": "LayoutModel",
      "state": {}
     },
     "a871df05abad4ce285a8eeaff89ad1de": {
      "model_module": "@jupyter-widgets/controls",
      "model_module_version": "1.5.0",
      "model_name": "DescriptionStyleModel",
      "state": {
       "description_width": ""
      }
     },
     "a89806ec23974a179865ed34698b29ee": {
      "model_module": "@jupyter-widgets/base",
      "model_module_version": "1.2.0",
      "model_name": "LayoutModel",
      "state": {}
     },
     "a9252ebbfecd472f9b176e7b59a3c995": {
      "model_module": "@jupyter-widgets/controls",
      "model_module_version": "1.5.0",
      "model_name": "DescriptionStyleModel",
      "state": {
       "description_width": ""
      }
     },
     "a9304c4335e541029b72a0e612201967": {
      "model_module": "@jupyter-widgets/controls",
      "model_module_version": "1.5.0",
      "model_name": "DescriptionStyleModel",
      "state": {
       "description_width": ""
      }
     },
     "a98b783688c84df1bd0b4c3af17ebeca": {
      "model_module": "@jupyter-widgets/controls",
      "model_module_version": "1.5.0",
      "model_name": "DescriptionStyleModel",
      "state": {
       "description_width": ""
      }
     },
     "a9cf376685104881a72f3950f96fd3d1": {
      "model_module": "@jupyter-widgets/base",
      "model_module_version": "1.2.0",
      "model_name": "LayoutModel",
      "state": {}
     },
     "a9d3e9810d884428a8b02a103be4b195": {
      "model_module": "jupyter-matplotlib",
      "model_module_version": "^0.8.2",
      "model_name": "ToolbarModel",
      "state": {
       "layout": "IPY_MODEL_8e9e87297ef14a89a7f401d12e713fbc",
       "toolitems": [
        [
         "Home",
         "Reset original view",
         "home",
         "home"
        ],
        [
         "Back",
         "Back to previous view",
         "arrow-left",
         "back"
        ],
        [
         "Forward",
         "Forward to next view",
         "arrow-right",
         "forward"
        ],
        [
         "Pan",
         "Left button pans, Right button zooms\nx/y fixes axis, CTRL fixes aspect",
         "arrows",
         "pan"
        ],
        [
         "Zoom",
         "Zoom to rectangle\nx/y fixes axis, CTRL fixes aspect",
         "square-o",
         "zoom"
        ],
        [
         "Download",
         "Download plot",
         "floppy-o",
         "save_figure"
        ]
       ]
      }
     },
     "aa11c70343c545a3865e6fb6de98bef7": {
      "model_module": "@jupyter-widgets/base",
      "model_module_version": "1.2.0",
      "model_name": "LayoutModel",
      "state": {}
     },
     "aa655026adc04660a0086b0c90f54112": {
      "model_module": "@jupyter-widgets/controls",
      "model_module_version": "1.5.0",
      "model_name": "HTMLModel",
      "state": {
       "layout": "IPY_MODEL_d5f147c3a286433cbe098d4bea5a1235",
       "style": "IPY_MODEL_b7aa532987cf48d2bbcaae3955ee8c41",
       "value": "Iterating through drift speeds:  75%"
      }
     },
     "aa755a3dfbfd4177945fe151f382ce1b": {
      "model_module": "@jupyter-widgets/base",
      "model_module_version": "1.2.0",
      "model_name": "LayoutModel",
      "state": {}
     },
     "aa9c4cf09d4d45238252ea93f81f591e": {
      "model_module": "@jupyter-widgets/controls",
      "model_module_version": "1.5.0",
      "model_name": "HTMLModel",
      "state": {
       "layout": "IPY_MODEL_7d202a25096f4e49ad10712867228716",
       "style": "IPY_MODEL_72acc3b3636c4b53a8b96074be9ddd57",
       "value": " 6/8 [00:00&lt;00:00, 58.82it/s]"
      }
     },
     "aacb2b214d0c41c0a55924d306521384": {
      "model_module": "@jupyter-widgets/base",
      "model_module_version": "1.2.0",
      "model_name": "LayoutModel",
      "state": {}
     },
     "ab04dbb4559447ad9b00f45378a56d47": {
      "model_module": "@jupyter-widgets/controls",
      "model_module_version": "1.5.0",
      "model_name": "FloatProgressModel",
      "state": {
       "layout": "IPY_MODEL_f6b889eb5d0249e79b93db7bb76dbf33",
       "max": 8,
       "style": "IPY_MODEL_34ecaf1702974d57afdb35494fb4dc79",
       "value": 8
      }
     },
     "abc68c51b8574d989face6812134bbc1": {
      "model_module": "@jupyter-widgets/base",
      "model_module_version": "1.2.0",
      "model_name": "LayoutModel",
      "state": {}
     },
     "ac6d2b34eb5742d5bf629fcc68638016": {
      "model_module": "@jupyter-widgets/base",
      "model_module_version": "1.2.0",
      "model_name": "LayoutModel",
      "state": {}
     },
     "ac7f77c9838147389f4cb748ecabc1cd": {
      "model_module": "@jupyter-widgets/controls",
      "model_module_version": "1.5.0",
      "model_name": "HTMLModel",
      "state": {
       "layout": "IPY_MODEL_c3fe2f5d96a14858a1938baa1b01c8a6",
       "style": "IPY_MODEL_164f896be72a48f9b1130cb9d90a09c7",
       "value": " 6/8 [00:00&lt;00:00, 58.80it/s]"
      }
     },
     "acc748aee81f44cd9e62839dfe3048c4": {
      "model_module": "@jupyter-widgets/base",
      "model_module_version": "1.2.0",
      "model_name": "LayoutModel",
      "state": {}
     },
     "ad2451f0c07240dfbe643e925d4465d4": {
      "model_module": "@jupyter-widgets/base",
      "model_module_version": "1.2.0",
      "model_name": "LayoutModel",
      "state": {}
     },
     "ad4fe512bdde4f058edc9d148c62df99": {
      "model_module": "@jupyter-widgets/controls",
      "model_module_version": "1.5.0",
      "model_name": "ProgressStyleModel",
      "state": {
       "description_width": ""
      }
     },
     "ad5366ac47dd4f298ab6310cedc60783": {
      "model_module": "@jupyter-widgets/controls",
      "model_module_version": "1.5.0",
      "model_name": "HTMLModel",
      "state": {
       "layout": "IPY_MODEL_b27a05b19627414f87fe58c3060d41f9",
       "style": "IPY_MODEL_55a262e439f1490989443455445680cd",
       "value": "Iterating through drift speeds:  88%"
      }
     },
     "ae1124f7fb8040e2b2ae8ffc539a2bce": {
      "model_module": "@jupyter-widgets/base",
      "model_module_version": "1.2.0",
      "model_name": "LayoutModel",
      "state": {}
     },
     "ae132880b334471ab82d2761f06bb106": {
      "model_module": "@jupyter-widgets/controls",
      "model_module_version": "1.5.0",
      "model_name": "HTMLModel",
      "state": {
       "layout": "IPY_MODEL_efd3ad2f0d264139aa87e24623035d51",
       "style": "IPY_MODEL_40d1dd9e18054cf2977a4357725609b3",
       "value": "Iterating through drift speeds:  75%"
      }
     },
     "aef20ba7a31b47c791e6d75064cc50cb": {
      "model_module": "@jupyter-widgets/controls",
      "model_module_version": "1.5.0",
      "model_name": "ProgressStyleModel",
      "state": {
       "description_width": ""
      }
     },
     "aef776c088d9413e93e140e7790bead4": {
      "model_module": "@jupyter-widgets/controls",
      "model_module_version": "1.5.0",
      "model_name": "HTMLModel",
      "state": {
       "layout": "IPY_MODEL_96937a0529af415f9a99434d645bcd13",
       "style": "IPY_MODEL_1518fad1601c4cd4a5d771896bcacd34",
       "value": "Iterating through drift speeds:  75%"
      }
     },
     "afecebb2b5224c4fb94ce1a25829c7e8": {
      "model_module": "@jupyter-widgets/controls",
      "model_module_version": "1.5.0",
      "model_name": "DescriptionStyleModel",
      "state": {
       "description_width": ""
      }
     },
     "b00a02b6e0674de1b10f652bf7a8d763": {
      "model_module": "@jupyter-widgets/base",
      "model_module_version": "1.2.0",
      "model_name": "LayoutModel",
      "state": {}
     },
     "b03ada29601b4314802975587f49eadc": {
      "model_module": "@jupyter-widgets/controls",
      "model_module_version": "1.5.0",
      "model_name": "ProgressStyleModel",
      "state": {
       "description_width": ""
      }
     },
     "b07443978be34b0f966d90a51fbcd534": {
      "model_module": "@jupyter-widgets/base",
      "model_module_version": "1.2.0",
      "model_name": "LayoutModel",
      "state": {}
     },
     "b08d08ff84cb43b58acc5dd66053fc25": {
      "model_module": "@jupyter-widgets/base",
      "model_module_version": "1.2.0",
      "model_name": "LayoutModel",
      "state": {}
     },
     "b0b4522d76fb41d09b71b911610a958d": {
      "model_module": "@jupyter-widgets/controls",
      "model_module_version": "1.5.0",
      "model_name": "DescriptionStyleModel",
      "state": {
       "description_width": ""
      }
     },
     "b1a21eca8b1d4d8482aa1bbde4cf56b9": {
      "model_module": "@jupyter-widgets/controls",
      "model_module_version": "1.5.0",
      "model_name": "ProgressStyleModel",
      "state": {
       "description_width": ""
      }
     },
     "b1c313b31af34bdb801a83c9b330726c": {
      "model_module": "@jupyter-widgets/controls",
      "model_module_version": "1.5.0",
      "model_name": "DescriptionStyleModel",
      "state": {
       "description_width": ""
      }
     },
     "b1da5d948b4b4cbea64801d6a6551f24": {
      "model_module": "@jupyter-widgets/base",
      "model_module_version": "1.2.0",
      "model_name": "LayoutModel",
      "state": {}
     },
     "b20f81b3aabc489f980ef2844b0392d5": {
      "model_module": "@jupyter-widgets/base",
      "model_module_version": "1.2.0",
      "model_name": "LayoutModel",
      "state": {}
     },
     "b27a05b19627414f87fe58c3060d41f9": {
      "model_module": "@jupyter-widgets/base",
      "model_module_version": "1.2.0",
      "model_name": "LayoutModel",
      "state": {}
     },
     "b2c72d6ae2fc4968adf6218e3dbcc77c": {
      "model_module": "@jupyter-widgets/base",
      "model_module_version": "1.2.0",
      "model_name": "LayoutModel",
      "state": {}
     },
     "b36322832936486eaa3f2f7eb55c7ea2": {
      "model_module": "@jupyter-widgets/controls",
      "model_module_version": "1.5.0",
      "model_name": "DescriptionStyleModel",
      "state": {
       "description_width": ""
      }
     },
     "b3b78968f1e6439d8501ee539075ba50": {
      "model_module": "@jupyter-widgets/base",
      "model_module_version": "1.2.0",
      "model_name": "LayoutModel",
      "state": {}
     },
     "b46687913ccd4817a28dbffa7b3b4ce7": {
      "model_module": "@jupyter-widgets/controls",
      "model_module_version": "1.5.0",
      "model_name": "HTMLModel",
      "state": {
       "layout": "IPY_MODEL_03e93251990344728e2d9d0df17fa580",
       "style": "IPY_MODEL_1521faefaa2f4fd59276d925476a1537",
       "value": "Iterating through drift speeds:  75%"
      }
     },
     "b48a046f0b904953a72f4c8b885e08bf": {
      "model_module": "@jupyter-widgets/base",
      "model_module_version": "1.2.0",
      "model_name": "LayoutModel",
      "state": {}
     },
     "b4bca0a32fec446b99e3e6eef5420ae3": {
      "model_module": "@jupyter-widgets/controls",
      "model_module_version": "1.5.0",
      "model_name": "HBoxModel",
      "state": {
       "children": [
        "IPY_MODEL_d8f4330e0fc448ae9bb6d320b9da998f",
        "IPY_MODEL_d284d73b7c304dc9961ea3312b8db9a1",
        "IPY_MODEL_d0042705f6be4fb393fe2dbb648f1b02"
       ],
       "layout": "IPY_MODEL_299764a4fe2645bb80dd471b9167b124"
      }
     },
     "b525cbb1e286448eadd9f264c9917bbf": {
      "model_module": "@jupyter-widgets/controls",
      "model_module_version": "1.5.0",
      "model_name": "ProgressStyleModel",
      "state": {
       "description_width": ""
      }
     },
     "b59e324b83c94538be21bd8d60630e5a": {
      "model_module": "@jupyter-widgets/controls",
      "model_module_version": "1.5.0",
      "model_name": "DescriptionStyleModel",
      "state": {
       "description_width": ""
      }
     },
     "b5a7c6a15b3b44e3a05be96426edf9f2": {
      "model_module": "@jupyter-widgets/controls",
      "model_module_version": "1.5.0",
      "model_name": "HTMLModel",
      "state": {
       "layout": "IPY_MODEL_b5ebd950f8114ac5a27b22b8b7b6cd14",
       "style": "IPY_MODEL_87f90f071cbf4914bc36d583ff5295e2",
       "value": "Iterating through drift speeds:  75%"
      }
     },
     "b5ebd950f8114ac5a27b22b8b7b6cd14": {
      "model_module": "@jupyter-widgets/base",
      "model_module_version": "1.2.0",
      "model_name": "LayoutModel",
      "state": {}
     },
     "b65cb1fb83ba4fd5a6ce591c4847e7f3": {
      "model_module": "@jupyter-widgets/controls",
      "model_module_version": "1.5.0",
      "model_name": "FloatProgressModel",
      "state": {
       "layout": "IPY_MODEL_9054a01a29d141d3b3c81b3b63315104",
       "max": 8,
       "style": "IPY_MODEL_28d362f613c14c0b9e97f29c4782b87c",
       "value": 8
      }
     },
     "b6939fe2bde74fc199954a381329bc6b": {
      "model_module": "@jupyter-widgets/base",
      "model_module_version": "1.2.0",
      "model_name": "LayoutModel",
      "state": {}
     },
     "b6c843da77514c11957b9c88048d405c": {
      "model_module": "@jupyter-widgets/base",
      "model_module_version": "1.2.0",
      "model_name": "LayoutModel",
      "state": {}
     },
     "b705c5509dde45769ee5889a0f0cfec9": {
      "model_module": "@jupyter-widgets/base",
      "model_module_version": "1.2.0",
      "model_name": "LayoutModel",
      "state": {}
     },
     "b7aa532987cf48d2bbcaae3955ee8c41": {
      "model_module": "@jupyter-widgets/controls",
      "model_module_version": "1.5.0",
      "model_name": "DescriptionStyleModel",
      "state": {
       "description_width": ""
      }
     },
     "b7bb72ca3a3e446b96df24106da417d4": {
      "model_module": "@jupyter-widgets/controls",
      "model_module_version": "1.5.0",
      "model_name": "FloatProgressModel",
      "state": {
       "layout": "IPY_MODEL_382cd29224dc422da33ee66122751fa2",
       "max": 8,
       "style": "IPY_MODEL_5c504e98e78f40c4bf315c4aefe29210",
       "value": 8
      }
     },
     "b7da6c7e3abf43c4be4aae3e01cb1a28": {
      "model_module": "@jupyter-widgets/controls",
      "model_module_version": "1.5.0",
      "model_name": "DescriptionStyleModel",
      "state": {
       "description_width": ""
      }
     },
     "b7df629a8e234d129601fd9977684a7a": {
      "model_module": "@jupyter-widgets/base",
      "model_module_version": "1.2.0",
      "model_name": "LayoutModel",
      "state": {}
     },
     "b7fbb27eb92e4bcca0d0dff44929e434": {
      "model_module": "@jupyter-widgets/base",
      "model_module_version": "1.2.0",
      "model_name": "LayoutModel",
      "state": {}
     },
     "b814ddb0556a45d2a0f9775a491ddfc2": {
      "model_module": "@jupyter-widgets/controls",
      "model_module_version": "1.5.0",
      "model_name": "DescriptionStyleModel",
      "state": {
       "description_width": ""
      }
     },
     "b8348422b96144e1a8f5bcb4c7ec1e0c": {
      "model_module": "@jupyter-widgets/controls",
      "model_module_version": "1.5.0",
      "model_name": "HTMLModel",
      "state": {
       "layout": "IPY_MODEL_96b4754a5f80469e98a0ab0e647dd571",
       "style": "IPY_MODEL_91514ba7ed124e84a929dcea832fc865",
       "value": " 8/8 [00:01&lt;00:00,  7.46it/s]"
      }
     },
     "b8be57d1c6f9421d92f0df3a3e04e43b": {
      "model_module": "@jupyter-widgets/controls",
      "model_module_version": "1.5.0",
      "model_name": "ProgressStyleModel",
      "state": {
       "description_width": ""
      }
     },
     "b8d22ccb736b492b85ecb9ecc39d6254": {
      "model_module": "@jupyter-widgets/controls",
      "model_module_version": "1.5.0",
      "model_name": "HTMLModel",
      "state": {
       "layout": "IPY_MODEL_183d33172cc84b84b403c96a355e5b94",
       "style": "IPY_MODEL_1b2f891c33f34b25acd1f788a49a78b8",
       "value": " 7/8 [00:00&lt;00:00, 61.93it/s]"
      }
     },
     "b943aaabaf9a49d4899cf7ac64723973": {
      "model_module": "@jupyter-widgets/controls",
      "model_module_version": "1.5.0",
      "model_name": "HTMLModel",
      "state": {
       "layout": "IPY_MODEL_166e40328e1e414eafd1baa23788026f",
       "style": "IPY_MODEL_178d16ad5e7f477a82ad50c198f14ee7",
       "value": " 6/8 [00:00&lt;00:00, 58.82it/s]"
      }
     },
     "b947f84cdeaa4c90a30938c4bc993e17": {
      "model_module": "@jupyter-widgets/base",
      "model_module_version": "1.2.0",
      "model_name": "LayoutModel",
      "state": {}
     },
     "b9c6902b45b24f67a693316d8fc68bbc": {
      "model_module": "@jupyter-widgets/base",
      "model_module_version": "1.2.0",
      "model_name": "LayoutModel",
      "state": {}
     },
     "b9ca307cd37e4dfda5ea91c1f080aabc": {
      "model_module": "@jupyter-widgets/base",
      "model_module_version": "1.2.0",
      "model_name": "LayoutModel",
      "state": {}
     },
     "ba025712f72943849ce689a8f3e7b18f": {
      "model_module": "@jupyter-widgets/controls",
      "model_module_version": "1.5.0",
      "model_name": "HTMLModel",
      "state": {
       "layout": "IPY_MODEL_49097df441e84bcf920511bbe943fad7",
       "style": "IPY_MODEL_d5400106b6d14629a1ba365f3ea84ccf",
       "value": "Iterating through drift speeds:  75%"
      }
     },
     "ba0700a49f794026a6b316de179449df": {
      "model_module": "jupyter-matplotlib",
      "model_module_version": "^0.8.2",
      "model_name": "ToolbarModel",
      "state": {
       "layout": "IPY_MODEL_45ed3ea759c5487a9029644e992a78aa",
       "toolitems": [
        [
         "Home",
         "Reset original view",
         "home",
         "home"
        ],
        [
         "Back",
         "Back to previous view",
         "arrow-left",
         "back"
        ],
        [
         "Forward",
         "Forward to next view",
         "arrow-right",
         "forward"
        ],
        [
         "Pan",
         "Left button pans, Right button zooms\nx/y fixes axis, CTRL fixes aspect",
         "arrows",
         "pan"
        ],
        [
         "Zoom",
         "Zoom to rectangle\nx/y fixes axis, CTRL fixes aspect",
         "square-o",
         "zoom"
        ],
        [
         "Download",
         "Download plot",
         "floppy-o",
         "save_figure"
        ]
       ]
      }
     },
     "ba0bb0fbc1c343ef9301361018c6a34f": {
      "model_module": "jupyter-matplotlib",
      "model_module_version": "^0.8.2",
      "model_name": "ToolbarModel",
      "state": {
       "layout": "IPY_MODEL_51be0593561c493a8cb0be188f742e7b",
       "toolitems": [
        [
         "Home",
         "Reset original view",
         "home",
         "home"
        ],
        [
         "Back",
         "Back to previous view",
         "arrow-left",
         "back"
        ],
        [
         "Forward",
         "Forward to next view",
         "arrow-right",
         "forward"
        ],
        [
         "Pan",
         "Left button pans, Right button zooms\nx/y fixes axis, CTRL fixes aspect",
         "arrows",
         "pan"
        ],
        [
         "Zoom",
         "Zoom to rectangle\nx/y fixes axis, CTRL fixes aspect",
         "square-o",
         "zoom"
        ],
        [
         "Download",
         "Download plot",
         "floppy-o",
         "save_figure"
        ]
       ]
      }
     },
     "ba22784db3214383a2c19b6d6a7efdeb": {
      "model_module": "@jupyter-widgets/base",
      "model_module_version": "1.2.0",
      "model_name": "LayoutModel",
      "state": {}
     },
     "ba5beb77e3c94882bdcb094e08a9b1b6": {
      "model_module": "@jupyter-widgets/controls",
      "model_module_version": "1.5.0",
      "model_name": "HTMLModel",
      "state": {
       "layout": "IPY_MODEL_ef3bd8339574448fab8d8386401f1ec7",
       "style": "IPY_MODEL_0b5ee6c3255340348b4dd318f61c0e1b",
       "value": " 6/8 [00:00&lt;00:00, 58.81it/s]"
      }
     },
     "ba641a0a609e4ba8accf9aaeac936583": {
      "model_module": "@jupyter-widgets/controls",
      "model_module_version": "1.5.0",
      "model_name": "HTMLModel",
      "state": {
       "layout": "IPY_MODEL_d5395a783141485a8efa083ee78c471c",
       "style": "IPY_MODEL_e64805a38881433cbebb90c359936ac1",
       "value": "Iterating through drift speeds: 100%"
      }
     },
     "ba8d18c9879f4af9b930fcc9e119f1b9": {
      "model_module": "@jupyter-widgets/base",
      "model_module_version": "1.2.0",
      "model_name": "LayoutModel",
      "state": {}
     },
     "babf868f30964dcea8b8d4a6fc12c83d": {
      "model_module": "jupyter-matplotlib",
      "model_module_version": "^0.8.2",
      "model_name": "ToolbarModel",
      "state": {
       "layout": "IPY_MODEL_2fea0c6d7d134c0e8b0bcf7239b404a3",
       "toolitems": [
        [
         "Home",
         "Reset original view",
         "home",
         "home"
        ],
        [
         "Back",
         "Back to previous view",
         "arrow-left",
         "back"
        ],
        [
         "Forward",
         "Forward to next view",
         "arrow-right",
         "forward"
        ],
        [
         "Pan",
         "Left button pans, Right button zooms\nx/y fixes axis, CTRL fixes aspect",
         "arrows",
         "pan"
        ],
        [
         "Zoom",
         "Zoom to rectangle\nx/y fixes axis, CTRL fixes aspect",
         "square-o",
         "zoom"
        ],
        [
         "Download",
         "Download plot",
         "floppy-o",
         "save_figure"
        ]
       ]
      }
     },
     "bb1995b90a62433385aba373a8fbf7e4": {
      "model_module": "@jupyter-widgets/controls",
      "model_module_version": "1.5.0",
      "model_name": "FloatProgressModel",
      "state": {
       "layout": "IPY_MODEL_4b587cf6f8054cc4a68da7730082e83c",
       "max": 8,
       "style": "IPY_MODEL_180c3dae93ad461cadb16a56a7244d11",
       "value": 8
      }
     },
     "bb749caa815148b5b6ef18ca840a4b69": {
      "model_module": "@jupyter-widgets/controls",
      "model_module_version": "1.5.0",
      "model_name": "HTMLModel",
      "state": {
       "layout": "IPY_MODEL_711c56c1575446b9b2e0404c6c0c6d01",
       "style": "IPY_MODEL_282a25d1d9894de79320d86613632d0c",
       "value": " 6/8 [00:00&lt;00:00, 58.23it/s]"
      }
     },
     "bb7f3f77e1694f80a51cc74e4e7e1d89": {
      "model_module": "@jupyter-widgets/base",
      "model_module_version": "1.2.0",
      "model_name": "LayoutModel",
      "state": {}
     },
     "bbb0a1345ff04ee9946fc442c9201ecb": {
      "model_module": "@jupyter-widgets/controls",
      "model_module_version": "1.5.0",
      "model_name": "DescriptionStyleModel",
      "state": {
       "description_width": ""
      }
     },
     "bc6bbb73cbf54f00866784faa0c591b7": {
      "model_module": "@jupyter-widgets/controls",
      "model_module_version": "1.5.0",
      "model_name": "ProgressStyleModel",
      "state": {
       "description_width": ""
      }
     },
     "bc92b3ddb68d407686ad91cd13b1631e": {
      "model_module": "@jupyter-widgets/base",
      "model_module_version": "1.2.0",
      "model_name": "LayoutModel",
      "state": {}
     },
     "bc972f7882504d88b4c03907cfd9a393": {
      "model_module": "@jupyter-widgets/controls",
      "model_module_version": "1.5.0",
      "model_name": "HTMLModel",
      "state": {
       "layout": "IPY_MODEL_2514c4f9be7d4aafbf1a69e09fe012d9",
       "style": "IPY_MODEL_a9252ebbfecd472f9b176e7b59a3c995",
       "value": "Iterating through drift speeds:  75%"
      }
     },
     "bcf12d80df074d558ee207e981656a3b": {
      "model_module": "@jupyter-widgets/controls",
      "model_module_version": "1.5.0",
      "model_name": "DescriptionStyleModel",
      "state": {
       "description_width": ""
      }
     },
     "bda9cf8b29024ee990ea82052763df32": {
      "model_module": "@jupyter-widgets/controls",
      "model_module_version": "1.5.0",
      "model_name": "HTMLModel",
      "state": {
       "layout": "IPY_MODEL_cdd0af53b15c447cba807b922645851f",
       "style": "IPY_MODEL_e2c6af6ea88340c78eb95cf501adcb6c",
       "value": "Iterating through drift speeds:  75%"
      }
     },
     "be2367c82f1f43ebbc734d8cc7701bca": {
      "model_module": "@jupyter-widgets/controls",
      "model_module_version": "1.5.0",
      "model_name": "HTMLModel",
      "state": {
       "layout": "IPY_MODEL_8d427df5d7f648bbaad8013f5879e095",
       "style": "IPY_MODEL_e911a87b05b248628be84e75212b8ba3",
       "value": " 6/8 [00:00&lt;00:00, 58.82it/s]"
      }
     },
     "be498c6b3f6e47f0bb7426bccec21c0f": {
      "model_module": "@jupyter-widgets/base",
      "model_module_version": "1.2.0",
      "model_name": "LayoutModel",
      "state": {}
     },
     "beaaf4b85987444e9b241b3cb1758a07": {
      "model_module": "@jupyter-widgets/base",
      "model_module_version": "1.2.0",
      "model_name": "LayoutModel",
      "state": {}
     },
     "bec5eba9b1134e469d4d4f825d0b99b9": {
      "model_module": "@jupyter-widgets/controls",
      "model_module_version": "1.5.0",
      "model_name": "FloatProgressModel",
      "state": {
       "layout": "IPY_MODEL_573a2ae0452c435ba1080a6427ee6bb4",
       "max": 8,
       "style": "IPY_MODEL_819818f021c7409ba3cf4fb5e48134ef",
       "value": 8
      }
     },
     "bf0e29e0bcab4902ad21833f961e81b7": {
      "model_module": "@jupyter-widgets/controls",
      "model_module_version": "1.5.0",
      "model_name": "HTMLModel",
      "state": {
       "layout": "IPY_MODEL_318c0befeb264a3299e0fa6cd0f8540b",
       "style": "IPY_MODEL_46cd8fe07d7042a9a859fe4441e751a3",
       "value": "Iterating through drift angles: 100%"
      }
     },
     "bf13de2bd02c478abe9a922fa19f6c60": {
      "model_module": "@jupyter-widgets/controls",
      "model_module_version": "1.5.0",
      "model_name": "DescriptionStyleModel",
      "state": {
       "description_width": ""
      }
     },
     "bf4601280fd8451da979a05aa6360f1f": {
      "model_module": "@jupyter-widgets/controls",
      "model_module_version": "1.5.0",
      "model_name": "ProgressStyleModel",
      "state": {
       "description_width": ""
      }
     },
     "bf692de130644b659761816b089b8456": {
      "model_module": "@jupyter-widgets/controls",
      "model_module_version": "1.5.0",
      "model_name": "DescriptionStyleModel",
      "state": {
       "description_width": ""
      }
     },
     "bfd348e8b7b246f9a4e45842d87b34b3": {
      "model_module": "@jupyter-widgets/base",
      "model_module_version": "1.2.0",
      "model_name": "LayoutModel",
      "state": {}
     },
     "c006844b413848a384dc6dcdb0f6abdd": {
      "model_module": "@jupyter-widgets/base",
      "model_module_version": "1.2.0",
      "model_name": "LayoutModel",
      "state": {}
     },
     "c068ea3019da4a3c8432b9b94abdb861": {
      "model_module": "@jupyter-widgets/controls",
      "model_module_version": "1.5.0",
      "model_name": "DescriptionStyleModel",
      "state": {
       "description_width": ""
      }
     },
     "c0a383ea840b414087aa3f5d8f8af6aa": {
      "model_module": "@jupyter-widgets/base",
      "model_module_version": "1.2.0",
      "model_name": "LayoutModel",
      "state": {}
     },
     "c1c4e3364e754022b49f378c44b88900": {
      "model_module": "@jupyter-widgets/base",
      "model_module_version": "1.2.0",
      "model_name": "LayoutModel",
      "state": {}
     },
     "c2b8fd31e258439bbce7110411189b95": {
      "model_module": "@jupyter-widgets/base",
      "model_module_version": "1.2.0",
      "model_name": "LayoutModel",
      "state": {}
     },
     "c30c2c881d114263822e10abc31a9dee": {
      "model_module": "@jupyter-widgets/base",
      "model_module_version": "1.2.0",
      "model_name": "LayoutModel",
      "state": {}
     },
     "c3d694d7a88e4d2aa5c0223f9e14e891": {
      "model_module": "@jupyter-widgets/controls",
      "model_module_version": "1.5.0",
      "model_name": "FloatProgressModel",
      "state": {
       "layout": "IPY_MODEL_80a05f1949304db3a9ac2f2bfcda2413",
       "max": 8,
       "style": "IPY_MODEL_f51b93cb5d204ed7a0420a6c62c58690",
       "value": 8
      }
     },
     "c3d9f25f71c141ed83bf935525f2190e": {
      "model_module": "@jupyter-widgets/controls",
      "model_module_version": "1.5.0",
      "model_name": "ProgressStyleModel",
      "state": {
       "description_width": ""
      }
     },
     "c3fe2f5d96a14858a1938baa1b01c8a6": {
      "model_module": "@jupyter-widgets/base",
      "model_module_version": "1.2.0",
      "model_name": "LayoutModel",
      "state": {}
     },
     "c4181af64bdc4fcbb8ce6b9e91ec4762": {
      "model_module": "@jupyter-widgets/base",
      "model_module_version": "1.2.0",
      "model_name": "LayoutModel",
      "state": {}
     },
     "c4663c36907d453bb50ec55ae4b2ee84": {
      "model_module": "@jupyter-widgets/controls",
      "model_module_version": "1.5.0",
      "model_name": "HTMLModel",
      "state": {
       "layout": "IPY_MODEL_9d5f526f95894e62bcd62e6d528475b0",
       "style": "IPY_MODEL_5f415b7e821b4b9ba916d3f2064e97b1",
       "value": " 6/8 [00:00&lt;00:00, 55.05it/s]"
      }
     },
     "c4bbed5c573947e89aae611cb54591b7": {
      "model_module": "@jupyter-widgets/controls",
      "model_module_version": "1.5.0",
      "model_name": "FloatProgressModel",
      "state": {
       "layout": "IPY_MODEL_3daa1a7d64a64228b96adf3acdd42d42",
       "max": 8,
       "style": "IPY_MODEL_e92ade13d1b24dad93f905b85c166e14",
       "value": 8
      }
     },
     "c55783cd9c714819b33c0d21e71e6501": {
      "model_module": "@jupyter-widgets/base",
      "model_module_version": "1.2.0",
      "model_name": "LayoutModel",
      "state": {}
     },
     "c599d9f39a9c46c7890f0d7a30d76961": {
      "model_module": "@jupyter-widgets/base",
      "model_module_version": "1.2.0",
      "model_name": "LayoutModel",
      "state": {}
     },
     "c5e993fdd2ea498d942abc10dde25958": {
      "model_module": "@jupyter-widgets/controls",
      "model_module_version": "1.5.0",
      "model_name": "DescriptionStyleModel",
      "state": {
       "description_width": ""
      }
     },
     "c5ea0ae91c9f4ea4bc32535eac6e44ea": {
      "model_module": "@jupyter-widgets/controls",
      "model_module_version": "1.5.0",
      "model_name": "HBoxModel",
      "state": {
       "children": [
        "IPY_MODEL_da188792d9de4236a9a4bd0b550f72dd",
        "IPY_MODEL_281437c5b372486b9630cfbea763d139",
        "IPY_MODEL_ff1d92cabc6448a790dd4f3f40983e1a"
       ],
       "layout": "IPY_MODEL_dd610bc2ed76483dac102442e8ac9652"
      }
     },
     "c621f681dfa34a8cac5f4b785ab4e154": {
      "model_module": "@jupyter-widgets/base",
      "model_module_version": "1.2.0",
      "model_name": "LayoutModel",
      "state": {}
     },
     "c675d27292bc4e1caf0a564586634999": {
      "model_module": "@jupyter-widgets/base",
      "model_module_version": "1.2.0",
      "model_name": "LayoutModel",
      "state": {}
     },
     "c6becb363f764ce4bc2c08e16fadd17c": {
      "model_module": "@jupyter-widgets/base",
      "model_module_version": "1.2.0",
      "model_name": "LayoutModel",
      "state": {}
     },
     "c6e7103aeb584143a27fb6edeec19314": {
      "model_module": "@jupyter-widgets/controls",
      "model_module_version": "1.5.0",
      "model_name": "DescriptionStyleModel",
      "state": {
       "description_width": ""
      }
     },
     "c7cbdf38257e4ab982b35a85bd5f6d37": {
      "model_module": "@jupyter-widgets/base",
      "model_module_version": "1.2.0",
      "model_name": "LayoutModel",
      "state": {}
     },
     "c8967b99d36d4183a232517506d7e86a": {
      "model_module": "@jupyter-widgets/controls",
      "model_module_version": "1.5.0",
      "model_name": "ProgressStyleModel",
      "state": {
       "description_width": ""
      }
     },
     "c8b0a66f075f4dbea9fbc88e980d2073": {
      "model_module": "@jupyter-widgets/controls",
      "model_module_version": "1.5.0",
      "model_name": "FloatProgressModel",
      "state": {
       "layout": "IPY_MODEL_1882da8b6d5a4b0e887d44be4e926f2f",
       "max": 8,
       "style": "IPY_MODEL_bc6bbb73cbf54f00866784faa0c591b7",
       "value": 8
      }
     },
     "c8ba96cbf97749ca8777de63f038158e": {
      "model_module": "@jupyter-widgets/base",
      "model_module_version": "1.2.0",
      "model_name": "LayoutModel",
      "state": {}
     },
     "c924a996523a4bfc9e9691f484e9b6ce": {
      "model_module": "@jupyter-widgets/controls",
      "model_module_version": "1.5.0",
      "model_name": "HTMLModel",
      "state": {
       "layout": "IPY_MODEL_727b7d4deb1d4ac898f15d6fbb61c230",
       "style": "IPY_MODEL_3dc9f7bd88f540cb83359e14711accb1",
       "value": " 6/8 [00:00&lt;00:00, 57.69it/s]"
      }
     },
     "c953dbbeadb54d5a87473ee238b43936": {
      "model_module": "@jupyter-widgets/controls",
      "model_module_version": "1.5.0",
      "model_name": "FloatProgressModel",
      "state": {
       "layout": "IPY_MODEL_66d8487915054a2f90cdac96bf6c143e",
       "max": 8,
       "style": "IPY_MODEL_69d32c1b672f41b3b62bb51918601d0a",
       "value": 8
      }
     },
     "c96f6c54b63a44ee966121d7b4065139": {
      "model_module": "@jupyter-widgets/controls",
      "model_module_version": "1.5.0",
      "model_name": "DescriptionStyleModel",
      "state": {
       "description_width": ""
      }
     },
     "c9bff51988ca455ab035909d514f5a55": {
      "model_module": "@jupyter-widgets/controls",
      "model_module_version": "1.5.0",
      "model_name": "DescriptionStyleModel",
      "state": {
       "description_width": ""
      }
     },
     "ca0fec37f440462caddbc40babf0d47d": {
      "model_module": "jupyter-matplotlib",
      "model_module_version": "^0.8.2",
      "model_name": "ToolbarModel",
      "state": {
       "layout": "IPY_MODEL_476d163844654c719ff8c7311109b174",
       "toolitems": [
        [
         "Home",
         "Reset original view",
         "home",
         "home"
        ],
        [
         "Back",
         "Back to previous view",
         "arrow-left",
         "back"
        ],
        [
         "Forward",
         "Forward to next view",
         "arrow-right",
         "forward"
        ],
        [
         "Pan",
         "Left button pans, Right button zooms\nx/y fixes axis, CTRL fixes aspect",
         "arrows",
         "pan"
        ],
        [
         "Zoom",
         "Zoom to rectangle\nx/y fixes axis, CTRL fixes aspect",
         "square-o",
         "zoom"
        ],
        [
         "Download",
         "Download plot",
         "floppy-o",
         "save_figure"
        ]
       ]
      }
     },
     "ca742bb153ae4e11b0e0edac0b5c4b25": {
      "model_module": "@jupyter-widgets/controls",
      "model_module_version": "1.5.0",
      "model_name": "DescriptionStyleModel",
      "state": {
       "description_width": ""
      }
     },
     "cae1b3ee16fd4014a0276d1c91da5546": {
      "model_module": "@jupyter-widgets/controls",
      "model_module_version": "1.5.0",
      "model_name": "HTMLModel",
      "state": {
       "layout": "IPY_MODEL_89b9b8ea3d15470d9952af60f43a5f85",
       "style": "IPY_MODEL_55624882941a4fdea1e102596410fe00",
       "value": "Iterating through drift speeds:  88%"
      }
     },
     "cb7f84f75e3c456e98854acb2462c4a4": {
      "model_module": "@jupyter-widgets/base",
      "model_module_version": "1.2.0",
      "model_name": "LayoutModel",
      "state": {}
     },
     "cb9a1ffe10294f3daeec3ca27d7dafa4": {
      "model_module": "@jupyter-widgets/base",
      "model_module_version": "1.2.0",
      "model_name": "LayoutModel",
      "state": {}
     },
     "cc033adf31e647a8bff29ed30ca4f3bc": {
      "model_module": "@jupyter-widgets/controls",
      "model_module_version": "1.5.0",
      "model_name": "FloatProgressModel",
      "state": {
       "bar_style": "success",
       "layout": "IPY_MODEL_d467e0a3938948eab929c36b4680e880",
       "max": 8,
       "style": "IPY_MODEL_b03ada29601b4314802975587f49eadc",
       "value": 8
      }
     },
     "cc277b5966084c9e95b69bbc99c23368": {
      "model_module": "@jupyter-widgets/controls",
      "model_module_version": "1.5.0",
      "model_name": "HTMLModel",
      "state": {
       "layout": "IPY_MODEL_652252d5d386447a86462f8a88eb8022",
       "style": "IPY_MODEL_5cc1a98b6fc74dd2994544a08703af52",
       "value": " 8/8 [00:01&lt;00:00,  7.39it/s]"
      }
     },
     "cc6b082c9019436593381ca2510c7984": {
      "model_module": "@jupyter-widgets/base",
      "model_module_version": "1.2.0",
      "model_name": "LayoutModel",
      "state": {}
     },
     "ccb73e5369e24eacb3e6d8ce84a7a8ae": {
      "model_module": "@jupyter-widgets/base",
      "model_module_version": "1.2.0",
      "model_name": "LayoutModel",
      "state": {}
     },
     "ccc272613727475a82383f50d11019b2": {
      "model_module": "@jupyter-widgets/controls",
      "model_module_version": "1.5.0",
      "model_name": "HTMLModel",
      "state": {
       "layout": "IPY_MODEL_4928414bf9c64495b925f064b9cc319a",
       "style": "IPY_MODEL_581e46e959af453e88419ca1d9113ef6",
       "value": " 6/8 [00:00&lt;00:00, 57.13it/s]"
      }
     },
     "cd803744171045d6af645f46b7126f2a": {
      "model_module": "@jupyter-widgets/controls",
      "model_module_version": "1.5.0",
      "model_name": "DescriptionStyleModel",
      "state": {
       "description_width": ""
      }
     },
     "cdd0af53b15c447cba807b922645851f": {
      "model_module": "@jupyter-widgets/base",
      "model_module_version": "1.2.0",
      "model_name": "LayoutModel",
      "state": {}
     },
     "cdd5cc50f85149948ac5a8cf90070684": {
      "model_module": "@jupyter-widgets/base",
      "model_module_version": "1.2.0",
      "model_name": "LayoutModel",
      "state": {}
     },
     "ce77e6b8e0414b208985bb9338257795": {
      "model_module": "@jupyter-widgets/controls",
      "model_module_version": "1.5.0",
      "model_name": "DescriptionStyleModel",
      "state": {
       "description_width": ""
      }
     },
     "cec4c8b2c6f340089717a9f834eaad7f": {
      "model_module": "@jupyter-widgets/base",
      "model_module_version": "1.2.0",
      "model_name": "LayoutModel",
      "state": {}
     },
     "cf147ab7d8f44459814eeef36e65293e": {
      "model_module": "@jupyter-widgets/base",
      "model_module_version": "1.2.0",
      "model_name": "LayoutModel",
      "state": {}
     },
     "d0042705f6be4fb393fe2dbb648f1b02": {
      "model_module": "@jupyter-widgets/controls",
      "model_module_version": "1.5.0",
      "model_name": "HTMLModel",
      "state": {
       "layout": "IPY_MODEL_29a7824752864337b895c77ed7611e11",
       "style": "IPY_MODEL_1b5ad6a01270470e9e271f1a25f70433",
       "value": " 8/8 [00:01&lt;00:00,  7.12it/s]"
      }
     },
     "d015836378d943419d7fc366ea7de024": {
      "model_module": "@jupyter-widgets/controls",
      "model_module_version": "1.5.0",
      "model_name": "HTMLModel",
      "state": {
       "layout": "IPY_MODEL_eea5dc395b1b4ef18a6657d7b93b1325",
       "style": "IPY_MODEL_0bd07b8dbafd4a05ab20211347988809",
       "value": "Iterating through drift speeds:  75%"
      }
     },
     "d0232f36f8664e5483fce99db8ffdef4": {
      "model_module": "@jupyter-widgets/controls",
      "model_module_version": "1.5.0",
      "model_name": "HTMLModel",
      "state": {
       "layout": "IPY_MODEL_0f6ed593c409446a9462f91f29f62a4e",
       "style": "IPY_MODEL_05504e0acf51496ba4956a63de9ac7bc",
       "value": "Iterating through drift speeds:  75%"
      }
     },
     "d0607a1631624ca3bc458ccb1b68f3b1": {
      "model_module": "@jupyter-widgets/base",
      "model_module_version": "1.2.0",
      "model_name": "LayoutModel",
      "state": {}
     },
     "d081a5d1e49e4ad6bc41684dc42fad27": {
      "model_module": "@jupyter-widgets/controls",
      "model_module_version": "1.5.0",
      "model_name": "ProgressStyleModel",
      "state": {
       "description_width": ""
      }
     },
     "d125affe83494cbd9cacc2c0c044d1a5": {
      "model_module": "@jupyter-widgets/controls",
      "model_module_version": "1.5.0",
      "model_name": "FloatProgressModel",
      "state": {
       "layout": "IPY_MODEL_d4a969bc6e94482185270b6b6a5666a0",
       "max": 8,
       "style": "IPY_MODEL_6fac93662fbd4fa2a23568d97414620b",
       "value": 8
      }
     },
     "d1bc4768f36646dc8d5f7c607af263fb": {
      "model_module": "jupyter-matplotlib",
      "model_module_version": "^0.8.2",
      "model_name": "ToolbarModel",
      "state": {
       "layout": "IPY_MODEL_6d26a7502f4148b9bd7f4446f450f8e9",
       "toolitems": [
        [
         "Home",
         "Reset original view",
         "home",
         "home"
        ],
        [
         "Back",
         "Back to previous view",
         "arrow-left",
         "back"
        ],
        [
         "Forward",
         "Forward to next view",
         "arrow-right",
         "forward"
        ],
        [
         "Pan",
         "Left button pans, Right button zooms\nx/y fixes axis, CTRL fixes aspect",
         "arrows",
         "pan"
        ],
        [
         "Zoom",
         "Zoom to rectangle\nx/y fixes axis, CTRL fixes aspect",
         "square-o",
         "zoom"
        ],
        [
         "Download",
         "Download plot",
         "floppy-o",
         "save_figure"
        ]
       ]
      }
     },
     "d2261d3ef5b740d8bda54eb3627c67c9": {
      "model_module": "@jupyter-widgets/controls",
      "model_module_version": "1.5.0",
      "model_name": "HTMLModel",
      "state": {
       "layout": "IPY_MODEL_bc92b3ddb68d407686ad91cd13b1631e",
       "style": "IPY_MODEL_b7da6c7e3abf43c4be4aae3e01cb1a28",
       "value": "Iterating through drift speeds:  75%"
      }
     },
     "d284d73b7c304dc9961ea3312b8db9a1": {
      "model_module": "@jupyter-widgets/controls",
      "model_module_version": "1.5.0",
      "model_name": "FloatProgressModel",
      "state": {
       "bar_style": "success",
       "layout": "IPY_MODEL_19cf3724f20942548e77dbce231f5b3c",
       "max": 8,
       "style": "IPY_MODEL_a3754aae6a8245c69a1d65b057ed616c",
       "value": 8
      }
     },
     "d288d5f2b24248cfa093fd21a8e76269": {
      "model_module": "@jupyter-widgets/controls",
      "model_module_version": "1.5.0",
      "model_name": "HTMLModel",
      "state": {
       "layout": "IPY_MODEL_cc6b082c9019436593381ca2510c7984",
       "style": "IPY_MODEL_30d1f1e3b53f4de69ccf7b93d9d1c1d1",
       "value": "Iterating through drift speeds:  38%"
      }
     },
     "d2c2960e627f4872a83b7ef301737c06": {
      "model_module": "@jupyter-widgets/base",
      "model_module_version": "1.2.0",
      "model_name": "LayoutModel",
      "state": {}
     },
     "d30369c58a4a4653b1179a9066a59713": {
      "model_module": "@jupyter-widgets/controls",
      "model_module_version": "1.5.0",
      "model_name": "FloatProgressModel",
      "state": {
       "layout": "IPY_MODEL_b7fbb27eb92e4bcca0d0dff44929e434",
       "max": 8,
       "style": "IPY_MODEL_1485818cb3f144419356b531ea1176b1",
       "value": 8
      }
     },
     "d339829c9be645f19f43a903d69dad0b": {
      "model_module": "@jupyter-widgets/base",
      "model_module_version": "1.2.0",
      "model_name": "LayoutModel",
      "state": {}
     },
     "d3eaec79b317479fac1efea3eb3a4d58": {
      "model_module": "@jupyter-widgets/controls",
      "model_module_version": "1.5.0",
      "model_name": "HTMLModel",
      "state": {
       "layout": "IPY_MODEL_eacf894606044d10b29081848ea3774e",
       "style": "IPY_MODEL_74f940d69e264076b7213e66396297cb",
       "value": " 7/8 [00:00&lt;00:00, 62.48it/s]"
      }
     },
     "d43198f8e8454a78a19d0dd6691341d0": {
      "model_module": "@jupyter-widgets/controls",
      "model_module_version": "1.5.0",
      "model_name": "HTMLModel",
      "state": {
       "layout": "IPY_MODEL_3bcef4707a644f3dbefccbf16a9a1799",
       "style": "IPY_MODEL_a0e8486a086f4d3abc0166f6be5f5a98",
       "value": " 6/8 [00:00&lt;00:00, 57.69it/s]"
      }
     },
     "d45a1bb87fca4ccab65cd8de8badcc74": {
      "model_module": "@jupyter-widgets/base",
      "model_module_version": "1.2.0",
      "model_name": "LayoutModel",
      "state": {}
     },
     "d45cc7fdef5942a9849559610081a239": {
      "model_module": "@jupyter-widgets/base",
      "model_module_version": "1.2.0",
      "model_name": "LayoutModel",
      "state": {}
     },
     "d467e0a3938948eab929c36b4680e880": {
      "model_module": "@jupyter-widgets/base",
      "model_module_version": "1.2.0",
      "model_name": "LayoutModel",
      "state": {}
     },
     "d468616c72f74dba9fe1d0ee079d0364": {
      "model_module": "@jupyter-widgets/controls",
      "model_module_version": "1.5.0",
      "model_name": "FloatProgressModel",
      "state": {
       "bar_style": "success",
       "layout": "IPY_MODEL_ec6e5d26101647d5b803553ecf858c65",
       "max": 8,
       "style": "IPY_MODEL_8eb52b2809624f6b93935ec3e38a2a2c",
       "value": 8
      }
     },
     "d481d34ae52c462b872e654e964f38c5": {
      "model_module": "@jupyter-widgets/controls",
      "model_module_version": "1.5.0",
      "model_name": "FloatProgressModel",
      "state": {
       "layout": "IPY_MODEL_a5a4e82829474d0a9f06e288129aae6a",
       "max": 8,
       "style": "IPY_MODEL_9c684cbb1a1e4f9ebdc07f29fe779084",
       "value": 8
      }
     },
     "d4a969bc6e94482185270b6b6a5666a0": {
      "model_module": "@jupyter-widgets/base",
      "model_module_version": "1.2.0",
      "model_name": "LayoutModel",
      "state": {}
     },
     "d4d6999285774a8f9beb3eeed7d804c9": {
      "model_module": "@jupyter-widgets/base",
      "model_module_version": "1.2.0",
      "model_name": "LayoutModel",
      "state": {}
     },
     "d4e87ce349f74a91b6017f04538f715b": {
      "model_module": "@jupyter-widgets/controls",
      "model_module_version": "1.5.0",
      "model_name": "DescriptionStyleModel",
      "state": {
       "description_width": ""
      }
     },
     "d4eb74e348184b939f9c6887ea779baf": {
      "model_module": "@jupyter-widgets/controls",
      "model_module_version": "1.5.0",
      "model_name": "DescriptionStyleModel",
      "state": {
       "description_width": ""
      }
     },
     "d5395a783141485a8efa083ee78c471c": {
      "model_module": "@jupyter-widgets/base",
      "model_module_version": "1.2.0",
      "model_name": "LayoutModel",
      "state": {}
     },
     "d5400106b6d14629a1ba365f3ea84ccf": {
      "model_module": "@jupyter-widgets/controls",
      "model_module_version": "1.5.0",
      "model_name": "DescriptionStyleModel",
      "state": {
       "description_width": ""
      }
     },
     "d547992f90d2460ca7a204d1c5731e91": {
      "model_module": "@jupyter-widgets/controls",
      "model_module_version": "1.5.0",
      "model_name": "HTMLModel",
      "state": {
       "layout": "IPY_MODEL_62e3b79d52e64f5d98ced6559fba0010",
       "style": "IPY_MODEL_e6dbb2bf5c8b4ce5a9a52404cdc2c8aa",
       "value": " 6/8 [00:00&lt;00:00, 57.14it/s]"
      }
     },
     "d548987b27f744afbe44fcb67f6c3909": {
      "model_module": "@jupyter-widgets/base",
      "model_module_version": "1.2.0",
      "model_name": "LayoutModel",
      "state": {}
     },
     "d55635c713904b31b933f08b45bd51d8": {
      "model_module": "@jupyter-widgets/controls",
      "model_module_version": "1.5.0",
      "model_name": "FloatProgressModel",
      "state": {
       "bar_style": "success",
       "layout": "IPY_MODEL_4dc7e82c1db3446b8794e1981f519433",
       "max": 8,
       "style": "IPY_MODEL_c3d9f25f71c141ed83bf935525f2190e",
       "value": 8
      }
     },
     "d5735a76c22a4b568ec22b6f74685cad": {
      "model_module": "@jupyter-widgets/controls",
      "model_module_version": "1.5.0",
      "model_name": "HTMLModel",
      "state": {
       "layout": "IPY_MODEL_434cd61036bb4ac0aa620bb6cc482fda",
       "style": "IPY_MODEL_5bf4c13fca6949c08d3ee72568e3abb0",
       "value": " 6/8 [00:00&lt;00:00, 58.81it/s]"
      }
     },
     "d5f147c3a286433cbe098d4bea5a1235": {
      "model_module": "@jupyter-widgets/base",
      "model_module_version": "1.2.0",
      "model_name": "LayoutModel",
      "state": {}
     },
     "d6b59a2aa01d47709e0027f0244f939b": {
      "model_module": "@jupyter-widgets/controls",
      "model_module_version": "1.5.0",
      "model_name": "HBoxModel",
      "state": {
       "children": [
        "IPY_MODEL_4e0e7079fc5d457c873a25a6e6a0aa55",
        "IPY_MODEL_d55635c713904b31b933f08b45bd51d8",
        "IPY_MODEL_e25c4037a63748d0b84adb9210109a99"
       ],
       "layout": "IPY_MODEL_7e085b72bd1d4c488ea20508f3a090ee"
      }
     },
     "d6ba568bcdeb4a17a41a584eace9926e": {
      "model_module": "@jupyter-widgets/controls",
      "model_module_version": "1.5.0",
      "model_name": "HTMLModel",
      "state": {
       "layout": "IPY_MODEL_0b9a2ec6bb784df2bd966afff1139c41",
       "style": "IPY_MODEL_268a116c8ef645868ec8a33105887004",
       "value": " 6/8 [00:00&lt;00:00, 55.56it/s]"
      }
     },
     "d6ba8cc243c844c9ad9e93232d930dd6": {
      "model_module": "@jupyter-widgets/controls",
      "model_module_version": "1.5.0",
      "model_name": "FloatProgressModel",
      "state": {
       "layout": "IPY_MODEL_598a95d820fe462eb2d0edcba2c80f85",
       "max": 8,
       "style": "IPY_MODEL_db7d01890bb6435d87fa53f16921df02",
       "value": 8
      }
     },
     "d712935b747d4a0393a247035d6c472a": {
      "model_module": "jupyter-matplotlib",
      "model_module_version": "^0.8.2",
      "model_name": "MPLCanvasModel",
      "state": {
       "_cursor": "default",
       "_figure_label": "Figure 12",
       "_height": 480,
       "_width": 640,
       "layout": "IPY_MODEL_63a8f636d24b42949fef72e1dd193692",
       "toolbar": "IPY_MODEL_7c96ca0ef1be4524b6a94053914203c9",
       "toolbar_position": "left"
      }
     },
     "d7156bf5cc5f4226b492895b7f9beb59": {
      "model_module": "@jupyter-widgets/controls",
      "model_module_version": "1.5.0",
      "model_name": "DescriptionStyleModel",
      "state": {
       "description_width": ""
      }
     },
     "d72980da93244cceb87300f7876768fa": {
      "model_module": "@jupyter-widgets/base",
      "model_module_version": "1.2.0",
      "model_name": "LayoutModel",
      "state": {}
     },
     "d7e7fbb6f98144bf97cd6cf04572c47b": {
      "model_module": "@jupyter-widgets/base",
      "model_module_version": "1.2.0",
      "model_name": "LayoutModel",
      "state": {}
     },
     "d811a7b0502346bab481b6ea49ccec20": {
      "model_module": "@jupyter-widgets/controls",
      "model_module_version": "1.5.0",
      "model_name": "HTMLModel",
      "state": {
       "layout": "IPY_MODEL_0daa118fc68145e78f9af507607c7e4b",
       "style": "IPY_MODEL_a98b783688c84df1bd0b4c3af17ebeca",
       "value": "Iterating through drift speeds:  75%"
      }
     },
     "d8f4330e0fc448ae9bb6d320b9da998f": {
      "model_module": "@jupyter-widgets/controls",
      "model_module_version": "1.5.0",
      "model_name": "HTMLModel",
      "state": {
       "layout": "IPY_MODEL_4c71d1342c9b44d7b07d2cda267c0874",
       "style": "IPY_MODEL_3090530dc69247b1be357fe08b69cb34",
       "value": "Iterating through drift angles: 100%"
      }
     },
     "d910a680cc68455b8829a3b2500439b2": {
      "model_module": "@jupyter-widgets/controls",
      "model_module_version": "1.5.0",
      "model_name": "FloatProgressModel",
      "state": {
       "layout": "IPY_MODEL_194257f2bf8b407ab3ce2acf43bc7733",
       "max": 8,
       "style": "IPY_MODEL_1437cc0a68c246318086eda5f985b16d",
       "value": 8
      }
     },
     "d98b21bd6629492db24e9233b5f4fa17": {
      "model_module": "@jupyter-widgets/base",
      "model_module_version": "1.2.0",
      "model_name": "LayoutModel",
      "state": {}
     },
     "d993853ff83e47c6ac00c22e7e07c58e": {
      "model_module": "@jupyter-widgets/controls",
      "model_module_version": "1.5.0",
      "model_name": "HTMLModel",
      "state": {
       "layout": "IPY_MODEL_b9ca307cd37e4dfda5ea91c1f080aabc",
       "style": "IPY_MODEL_fe2358c2f04c4c15bd469b35260535ab",
       "value": "Iterating through drift speeds:  75%"
      }
     },
     "d9f33059e1604b60801bf8947c5890d6": {
      "model_module": "@jupyter-widgets/base",
      "model_module_version": "1.2.0",
      "model_name": "LayoutModel",
      "state": {}
     },
     "da16d0bad3574254ab84b8f63215cd6a": {
      "model_module": "@jupyter-widgets/controls",
      "model_module_version": "1.5.0",
      "model_name": "FloatProgressModel",
      "state": {
       "layout": "IPY_MODEL_ac6d2b34eb5742d5bf629fcc68638016",
       "max": 8,
       "style": "IPY_MODEL_526a22e4af4b4fffbca9579ac5dc3f05",
       "value": 8
      }
     },
     "da188792d9de4236a9a4bd0b550f72dd": {
      "model_module": "@jupyter-widgets/controls",
      "model_module_version": "1.5.0",
      "model_name": "HTMLModel",
      "state": {
       "layout": "IPY_MODEL_0a89faab01bf4e5bb09766b87d05a3b2",
       "style": "IPY_MODEL_99adf7ac17194d99b35c85fda475cac9",
       "value": "Iterating through drift angles: 100%"
      }
     },
     "daecdfcc9d7042438769d4bd72acbeb7": {
      "model_module": "@jupyter-widgets/base",
      "model_module_version": "1.2.0",
      "model_name": "LayoutModel",
      "state": {}
     },
     "db2b2d8420424ce19109025ecb792402": {
      "model_module": "@jupyter-widgets/base",
      "model_module_version": "1.2.0",
      "model_name": "LayoutModel",
      "state": {}
     },
     "db37b521e48847a19078b0810873405a": {
      "model_module": "@jupyter-widgets/base",
      "model_module_version": "1.2.0",
      "model_name": "LayoutModel",
      "state": {}
     },
     "db3dfa48a9524e1a9a945583fd0bb045": {
      "model_module": "@jupyter-widgets/base",
      "model_module_version": "1.2.0",
      "model_name": "LayoutModel",
      "state": {}
     },
     "db7d01890bb6435d87fa53f16921df02": {
      "model_module": "@jupyter-widgets/controls",
      "model_module_version": "1.5.0",
      "model_name": "ProgressStyleModel",
      "state": {
       "description_width": ""
      }
     },
     "dbd2d74340b342ea968e374adf3f458a": {
      "model_module": "@jupyter-widgets/controls",
      "model_module_version": "1.5.0",
      "model_name": "DescriptionStyleModel",
      "state": {
       "description_width": ""
      }
     },
     "dc4367b253514b089776a2234ead989f": {
      "model_module": "@jupyter-widgets/controls",
      "model_module_version": "1.5.0",
      "model_name": "DescriptionStyleModel",
      "state": {
       "description_width": ""
      }
     },
     "dc44a10226c944d38c3af710173e08a8": {
      "model_module": "@jupyter-widgets/controls",
      "model_module_version": "1.5.0",
      "model_name": "DescriptionStyleModel",
      "state": {
       "description_width": ""
      }
     },
     "dc4b849f9cad4debb09427ebcd965426": {
      "model_module": "@jupyter-widgets/base",
      "model_module_version": "1.2.0",
      "model_name": "LayoutModel",
      "state": {}
     },
     "dc712e8b52d349f99c5fea29ea8f9b21": {
      "model_module": "@jupyter-widgets/controls",
      "model_module_version": "1.5.0",
      "model_name": "ProgressStyleModel",
      "state": {
       "description_width": ""
      }
     },
     "dcf806198da04240a138e1575364fed4": {
      "model_module": "@jupyter-widgets/base",
      "model_module_version": "1.2.0",
      "model_name": "LayoutModel",
      "state": {}
     },
     "dd18d512e253427d83010603d5bb8531": {
      "model_module": "@jupyter-widgets/controls",
      "model_module_version": "1.5.0",
      "model_name": "FloatProgressModel",
      "state": {
       "layout": "IPY_MODEL_f5214f7a1da64dc8a9ebae436dc7e624",
       "max": 8,
       "style": "IPY_MODEL_663f230a19634e7bb2bf6195bcfd7181",
       "value": 8
      }
     },
     "dd1ec09aecec433192708073e64546c0": {
      "model_module": "@jupyter-widgets/base",
      "model_module_version": "1.2.0",
      "model_name": "LayoutModel",
      "state": {}
     },
     "dd1f9ba3a8f245849a8c0e0850e8dca8": {
      "model_module": "jupyter-matplotlib",
      "model_module_version": "^0.8.2",
      "model_name": "ToolbarModel",
      "state": {
       "layout": "IPY_MODEL_e0914f0be39748909cfe07e233fdf374",
       "toolitems": [
        [
         "Home",
         "Reset original view",
         "home",
         "home"
        ],
        [
         "Back",
         "Back to previous view",
         "arrow-left",
         "back"
        ],
        [
         "Forward",
         "Forward to next view",
         "arrow-right",
         "forward"
        ],
        [
         "Pan",
         "Left button pans, Right button zooms\nx/y fixes axis, CTRL fixes aspect",
         "arrows",
         "pan"
        ],
        [
         "Zoom",
         "Zoom to rectangle\nx/y fixes axis, CTRL fixes aspect",
         "square-o",
         "zoom"
        ],
        [
         "Download",
         "Download plot",
         "floppy-o",
         "save_figure"
        ]
       ]
      }
     },
     "dd60a61d4b9e4c6e9b70587bda64700b": {
      "model_module": "@jupyter-widgets/base",
      "model_module_version": "1.2.0",
      "model_name": "LayoutModel",
      "state": {}
     },
     "dd610bc2ed76483dac102442e8ac9652": {
      "model_module": "@jupyter-widgets/base",
      "model_module_version": "1.2.0",
      "model_name": "LayoutModel",
      "state": {}
     },
     "dd7c66fab5ad4ccd8a3f00d2461a4a86": {
      "model_module": "jupyter-matplotlib",
      "model_module_version": "^0.8.2",
      "model_name": "ToolbarModel",
      "state": {
       "layout": "IPY_MODEL_6b1096cc0d7540ef82d4c223f7853cd7",
       "toolitems": [
        [
         "Home",
         "Reset original view",
         "home",
         "home"
        ],
        [
         "Back",
         "Back to previous view",
         "arrow-left",
         "back"
        ],
        [
         "Forward",
         "Forward to next view",
         "arrow-right",
         "forward"
        ],
        [
         "Pan",
         "Left button pans, Right button zooms\nx/y fixes axis, CTRL fixes aspect",
         "arrows",
         "pan"
        ],
        [
         "Zoom",
         "Zoom to rectangle\nx/y fixes axis, CTRL fixes aspect",
         "square-o",
         "zoom"
        ],
        [
         "Download",
         "Download plot",
         "floppy-o",
         "save_figure"
        ]
       ]
      }
     },
     "dd9579a518d64a309d18af24c245dbb9": {
      "model_module": "@jupyter-widgets/base",
      "model_module_version": "1.2.0",
      "model_name": "LayoutModel",
      "state": {}
     },
     "ddac2198d0a44b4098d1089afad5bd35": {
      "model_module": "@jupyter-widgets/controls",
      "model_module_version": "1.5.0",
      "model_name": "DescriptionStyleModel",
      "state": {
       "description_width": ""
      }
     },
     "de16aaf8c9a4424e9b7cef2180a69225": {
      "model_module": "@jupyter-widgets/controls",
      "model_module_version": "1.5.0",
      "model_name": "FloatProgressModel",
      "state": {
       "layout": "IPY_MODEL_79f36e74575743ea9afa8e5742286505",
       "max": 8,
       "style": "IPY_MODEL_9618462a82d54dd6910aa4c25bbd34b0",
       "value": 8
      }
     },
     "de25e5fd914e4fbf8ce6904874eb3f05": {
      "model_module": "@jupyter-widgets/controls",
      "model_module_version": "1.5.0",
      "model_name": "DescriptionStyleModel",
      "state": {
       "description_width": ""
      }
     },
     "de3c96e5628e438f9b380a4448a6b326": {
      "model_module": "@jupyter-widgets/controls",
      "model_module_version": "1.5.0",
      "model_name": "ProgressStyleModel",
      "state": {
       "description_width": ""
      }
     },
     "de6304f0bc4c48f09f5f070ac0391092": {
      "model_module": "@jupyter-widgets/controls",
      "model_module_version": "1.5.0",
      "model_name": "ProgressStyleModel",
      "state": {
       "description_width": ""
      }
     },
     "ded1b0a35539498797bd2e105ecf7b27": {
      "model_module": "@jupyter-widgets/base",
      "model_module_version": "1.2.0",
      "model_name": "LayoutModel",
      "state": {}
     },
     "df450e90c3f24fb084f088165e83da65": {
      "model_module": "@jupyter-widgets/base",
      "model_module_version": "1.2.0",
      "model_name": "LayoutModel",
      "state": {}
     },
     "df7cdd35138e45168822617e78d03ea5": {
      "model_module": "@jupyter-widgets/base",
      "model_module_version": "1.2.0",
      "model_name": "LayoutModel",
      "state": {}
     },
     "dfa220a381ad4513928d4b4a91d1b6e2": {
      "model_module": "@jupyter-widgets/base",
      "model_module_version": "1.2.0",
      "model_name": "LayoutModel",
      "state": {}
     },
     "e06f3ba1b811430f85d3229a7bd33091": {
      "model_module": "@jupyter-widgets/controls",
      "model_module_version": "1.5.0",
      "model_name": "DescriptionStyleModel",
      "state": {
       "description_width": ""
      }
     },
     "e085106345dc46d8abb1ac663aae359b": {
      "model_module": "@jupyter-widgets/controls",
      "model_module_version": "1.5.0",
      "model_name": "HTMLModel",
      "state": {
       "layout": "IPY_MODEL_f816c206036b40ea8dc9996957e03da5",
       "style": "IPY_MODEL_b814ddb0556a45d2a0f9775a491ddfc2",
       "value": " 6/8 [00:00&lt;00:00, 58.80it/s]"
      }
     },
     "e0914f0be39748909cfe07e233fdf374": {
      "model_module": "@jupyter-widgets/base",
      "model_module_version": "1.2.0",
      "model_name": "LayoutModel",
      "state": {}
     },
     "e0ac56d14d01417daf589bd3f165f17a": {
      "model_module": "@jupyter-widgets/controls",
      "model_module_version": "1.5.0",
      "model_name": "HTMLModel",
      "state": {
       "layout": "IPY_MODEL_b00a02b6e0674de1b10f652bf7a8d763",
       "style": "IPY_MODEL_afecebb2b5224c4fb94ce1a25829c7e8",
       "value": "Iterating through drift speeds:  75%"
      }
     },
     "e0bb66e0f6c34da6a0a0f785b38382ac": {
      "model_module": "@jupyter-widgets/base",
      "model_module_version": "1.2.0",
      "model_name": "LayoutModel",
      "state": {}
     },
     "e1c9af3729e44398978766454ed6e32e": {
      "model_module": "@jupyter-widgets/base",
      "model_module_version": "1.2.0",
      "model_name": "LayoutModel",
      "state": {}
     },
     "e25c4037a63748d0b84adb9210109a99": {
      "model_module": "@jupyter-widgets/controls",
      "model_module_version": "1.5.0",
      "model_name": "HTMLModel",
      "state": {
       "layout": "IPY_MODEL_1173ab12d0ba4f7db8427bbe73621645",
       "style": "IPY_MODEL_b36322832936486eaa3f2f7eb55c7ea2",
       "value": " 8/8 [00:06&lt;00:00,  2.49it/s]"
      }
     },
     "e292504765fe443cb95ae1f85638a045": {
      "model_module": "@jupyter-widgets/base",
      "model_module_version": "1.2.0",
      "model_name": "LayoutModel",
      "state": {}
     },
     "e2c566640c954de0852b10b80c3d644d": {
      "model_module": "@jupyter-widgets/base",
      "model_module_version": "1.2.0",
      "model_name": "LayoutModel",
      "state": {}
     },
     "e2c6af6ea88340c78eb95cf501adcb6c": {
      "model_module": "@jupyter-widgets/controls",
      "model_module_version": "1.5.0",
      "model_name": "DescriptionStyleModel",
      "state": {
       "description_width": ""
      }
     },
     "e3a00ed04c734f618876691a1a03bf77": {
      "model_module": "@jupyter-widgets/controls",
      "model_module_version": "1.5.0",
      "model_name": "FloatProgressModel",
      "state": {
       "layout": "IPY_MODEL_27ab945f76bb4c9da5b620f6bd54f16a",
       "max": 8,
       "style": "IPY_MODEL_440403b949a1420cbce042cfa9571248",
       "value": 8
      }
     },
     "e4160240fc27453e89c414912881cc6f": {
      "model_module": "@jupyter-widgets/controls",
      "model_module_version": "1.5.0",
      "model_name": "DescriptionStyleModel",
      "state": {
       "description_width": ""
      }
     },
     "e42cbb0b939544d2917c8266fac82649": {
      "model_module": "@jupyter-widgets/controls",
      "model_module_version": "1.5.0",
      "model_name": "FloatProgressModel",
      "state": {
       "layout": "IPY_MODEL_51d5ac08f7cd4fbf804c327bec82bff8",
       "max": 8,
       "style": "IPY_MODEL_d081a5d1e49e4ad6bc41684dc42fad27",
       "value": 8
      }
     },
     "e4ea52cc960b47c7aae4e1568cfd44c2": {
      "model_module": "@jupyter-widgets/base",
      "model_module_version": "1.2.0",
      "model_name": "LayoutModel",
      "state": {}
     },
     "e543a14dd463411c9e957bdac039636f": {
      "model_module": "@jupyter-widgets/controls",
      "model_module_version": "1.5.0",
      "model_name": "DescriptionStyleModel",
      "state": {
       "description_width": ""
      }
     },
     "e5bd2ab9f2cc4798b1a983fc1d638bea": {
      "model_module": "@jupyter-widgets/controls",
      "model_module_version": "1.5.0",
      "model_name": "DescriptionStyleModel",
      "state": {
       "description_width": ""
      }
     },
     "e608ddca127e4fc3913fb90c4c41b8db": {
      "model_module": "@jupyter-widgets/base",
      "model_module_version": "1.2.0",
      "model_name": "LayoutModel",
      "state": {}
     },
     "e62422ad1e264d79af6c33cc358cb555": {
      "model_module": "@jupyter-widgets/base",
      "model_module_version": "1.2.0",
      "model_name": "LayoutModel",
      "state": {}
     },
     "e64805a38881433cbebb90c359936ac1": {
      "model_module": "@jupyter-widgets/controls",
      "model_module_version": "1.5.0",
      "model_name": "DescriptionStyleModel",
      "state": {
       "description_width": ""
      }
     },
     "e6b05a2ad369421099f1af97ca2f158c": {
      "model_module": "@jupyter-widgets/base",
      "model_module_version": "1.2.0",
      "model_name": "LayoutModel",
      "state": {}
     },
     "e6dbb2bf5c8b4ce5a9a52404cdc2c8aa": {
      "model_module": "@jupyter-widgets/controls",
      "model_module_version": "1.5.0",
      "model_name": "DescriptionStyleModel",
      "state": {
       "description_width": ""
      }
     },
     "e6e2b10ceabf4942bd481a58266da70a": {
      "model_module": "@jupyter-widgets/controls",
      "model_module_version": "1.5.0",
      "model_name": "DescriptionStyleModel",
      "state": {
       "description_width": ""
      }
     },
     "e8515673aca84ce0acc903b3e286afc2": {
      "model_module": "@jupyter-widgets/controls",
      "model_module_version": "1.5.0",
      "model_name": "FloatProgressModel",
      "state": {
       "layout": "IPY_MODEL_aa755a3dfbfd4177945fe151f382ce1b",
       "max": 8,
       "style": "IPY_MODEL_f0f09bbaa19a475fb20eea65ee5126cd",
       "value": 8
      }
     },
     "e88e1533a50f42feb7473f6737169c0a": {
      "model_module": "@jupyter-widgets/controls",
      "model_module_version": "1.5.0",
      "model_name": "DescriptionStyleModel",
      "state": {
       "description_width": ""
      }
     },
     "e8909eaf5b704e289adb61776d199bc3": {
      "model_module": "@jupyter-widgets/base",
      "model_module_version": "1.2.0",
      "model_name": "LayoutModel",
      "state": {}
     },
     "e8cb4881834c47699a2abf0a7f8bbfab": {
      "model_module": "@jupyter-widgets/base",
      "model_module_version": "1.2.0",
      "model_name": "LayoutModel",
      "state": {}
     },
     "e8feea95a5df4741a86f73f54e16dc4a": {
      "model_module": "@jupyter-widgets/controls",
      "model_module_version": "1.5.0",
      "model_name": "DescriptionStyleModel",
      "state": {
       "description_width": ""
      }
     },
     "e911a87b05b248628be84e75212b8ba3": {
      "model_module": "@jupyter-widgets/controls",
      "model_module_version": "1.5.0",
      "model_name": "DescriptionStyleModel",
      "state": {
       "description_width": ""
      }
     },
     "e915536d69a146508806a3bca15892d8": {
      "model_module": "@jupyter-widgets/controls",
      "model_module_version": "1.5.0",
      "model_name": "HTMLModel",
      "state": {
       "layout": "IPY_MODEL_b6c843da77514c11957b9c88048d405c",
       "style": "IPY_MODEL_12e5d01c835a43478a5447ff5eb5ae8c",
       "value": "Iterating through drift angles: 100%"
      }
     },
     "e925dd8e90ef4bad97b1c8e322fe1bb1": {
      "model_module": "@jupyter-widgets/controls",
      "model_module_version": "1.5.0",
      "model_name": "HTMLModel",
      "state": {
       "layout": "IPY_MODEL_c006844b413848a384dc6dcdb0f6abdd",
       "style": "IPY_MODEL_7b03e78581a34eb98c194ab43bd85401",
       "value": " 6/8 [00:00&lt;00:00, 59.41it/s]"
      }
     },
     "e92ade13d1b24dad93f905b85c166e14": {
      "model_module": "@jupyter-widgets/controls",
      "model_module_version": "1.5.0",
      "model_name": "ProgressStyleModel",
      "state": {
       "description_width": ""
      }
     },
     "e94d399aff8e463caf599892a16f3f71": {
      "model_module": "jupyter-matplotlib",
      "model_module_version": "^0.8.2",
      "model_name": "MPLCanvasModel",
      "state": {
       "_cursor": "default",
       "_figure_label": "Figure 9",
       "_height": 480,
       "_message": "x=1.5 y=80.6\n[33.1]",
       "_width": 640,
       "layout": "IPY_MODEL_62c1a02e3afc42e18ec4e6888922cde0",
       "toolbar": "IPY_MODEL_dd7c66fab5ad4ccd8a3f00d2461a4a86",
       "toolbar_position": "left"
      }
     },
     "e9e8a08ecc6546bb9bdb2d468bd3e3ab": {
      "model_module": "@jupyter-widgets/controls",
      "model_module_version": "1.5.0",
      "model_name": "HTMLModel",
      "state": {
       "layout": "IPY_MODEL_c4181af64bdc4fcbb8ce6b9e91ec4762",
       "style": "IPY_MODEL_e8feea95a5df4741a86f73f54e16dc4a",
       "value": "Iterating through drift speeds:  75%"
      }
     },
     "e9fc1c8111664ac59a286b2303da7aff": {
      "model_module": "@jupyter-widgets/controls",
      "model_module_version": "1.5.0",
      "model_name": "DescriptionStyleModel",
      "state": {
       "description_width": ""
      }
     },
     "ea2ba3528edd435fa82c0a9f8733c3a7": {
      "model_module": "@jupyter-widgets/base",
      "model_module_version": "1.2.0",
      "model_name": "LayoutModel",
      "state": {}
     },
     "ea3adb4dd4a043c5894e8d593f664b87": {
      "model_module": "@jupyter-widgets/base",
      "model_module_version": "1.2.0",
      "model_name": "LayoutModel",
      "state": {}
     },
     "ea3cbaa9a40c4483992462cfd1625be1": {
      "model_module": "@jupyter-widgets/controls",
      "model_module_version": "1.5.0",
      "model_name": "HTMLModel",
      "state": {
       "layout": "IPY_MODEL_e8cb4881834c47699a2abf0a7f8bbfab",
       "style": "IPY_MODEL_233f60059c6248d8a51548cc786f5a8d",
       "value": " 8/8 [00:01&lt;00:00,  7.53it/s]"
      }
     },
     "ea55cd4d271744bea06eef8c7dee70e8": {
      "model_module": "@jupyter-widgets/controls",
      "model_module_version": "1.5.0",
      "model_name": "DescriptionStyleModel",
      "state": {
       "description_width": ""
      }
     },
     "eacf894606044d10b29081848ea3774e": {
      "model_module": "@jupyter-widgets/base",
      "model_module_version": "1.2.0",
      "model_name": "LayoutModel",
      "state": {}
     },
     "eb643aca62fa42b58fa1f4e5cde11ef9": {
      "model_module": "@jupyter-widgets/controls",
      "model_module_version": "1.5.0",
      "model_name": "FloatProgressModel",
      "state": {
       "layout": "IPY_MODEL_9e96c7f895b14bf3882334b88da54c12",
       "max": 8,
       "style": "IPY_MODEL_f909a6e7e8444d7382b53103f0988c61",
       "value": 8
      }
     },
     "ebba7805655e42258a33c6c4f213a7f1": {
      "model_module": "@jupyter-widgets/base",
      "model_module_version": "1.2.0",
      "model_name": "LayoutModel",
      "state": {}
     },
     "ec1b74271fd540ed86381203157c5210": {
      "model_module": "@jupyter-widgets/controls",
      "model_module_version": "1.5.0",
      "model_name": "DescriptionStyleModel",
      "state": {
       "description_width": ""
      }
     },
     "ec6e5d26101647d5b803553ecf858c65": {
      "model_module": "@jupyter-widgets/base",
      "model_module_version": "1.2.0",
      "model_name": "LayoutModel",
      "state": {}
     },
     "ece8aea6186c4cbc8d413f65b3f667fc": {
      "model_module": "@jupyter-widgets/base",
      "model_module_version": "1.2.0",
      "model_name": "LayoutModel",
      "state": {}
     },
     "ed24cc302ca443cf8033c54fe7038870": {
      "model_module": "@jupyter-widgets/controls",
      "model_module_version": "1.5.0",
      "model_name": "FloatProgressModel",
      "state": {
       "layout": "IPY_MODEL_a312e6960fd1471d828a8f69cb933875",
       "max": 8,
       "style": "IPY_MODEL_608d0fe8701048029582e6655a6c4fd3",
       "value": 8
      }
     },
     "ed27e6e146f946aa9a91e9e386298917": {
      "model_module": "@jupyter-widgets/controls",
      "model_module_version": "1.5.0",
      "model_name": "DescriptionStyleModel",
      "state": {
       "description_width": ""
      }
     },
     "ed5d3b2a835e471981edd8da6b69ef33": {
      "model_module": "@jupyter-widgets/controls",
      "model_module_version": "1.5.0",
      "model_name": "HTMLModel",
      "state": {
       "layout": "IPY_MODEL_f322602ffa1e45c08daeb8022bc4d32c",
       "style": "IPY_MODEL_ed27e6e146f946aa9a91e9e386298917",
       "value": " 7/8 [00:00&lt;00:00, 61.40it/s]"
      }
     },
     "edc817bb984741fca99afd96f9b078e2": {
      "model_module": "jupyter-matplotlib",
      "model_module_version": "^0.8.2",
      "model_name": "MPLCanvasModel",
      "state": {
       "_cursor": "default",
       "_figure_label": "Figure 18",
       "_height": 480,
       "_message": "x=19.1 y=140.9\n[225]",
       "_width": 640,
       "layout": "IPY_MODEL_114e754a282c4cc5bea4037cf7d54f39",
       "toolbar": "IPY_MODEL_60e8334f097948ae852f649500b6a14d",
       "toolbar_position": "left"
      }
     },
     "ede7548bb0f948f083761504018ebf38": {
      "model_module": "@jupyter-widgets/base",
      "model_module_version": "1.2.0",
      "model_name": "LayoutModel",
      "state": {}
     },
     "ee42bc5b79184cdeb4eb66cdb9d00b41": {
      "model_module": "@jupyter-widgets/base",
      "model_module_version": "1.2.0",
      "model_name": "LayoutModel",
      "state": {}
     },
     "ee536441968643ee9983ffa3ca9c92f5": {
      "model_module": "@jupyter-widgets/controls",
      "model_module_version": "1.5.0",
      "model_name": "FloatProgressModel",
      "state": {
       "layout": "IPY_MODEL_691602295c304628bf6ee5beeabe0919",
       "max": 8,
       "style": "IPY_MODEL_71720215761043209595ab40062ef115",
       "value": 8
      }
     },
     "eea5dc395b1b4ef18a6657d7b93b1325": {
      "model_module": "@jupyter-widgets/base",
      "model_module_version": "1.2.0",
      "model_name": "LayoutModel",
      "state": {}
     },
     "ef207e9bd8634fc5a6a16d48fefdfa6f": {
      "model_module": "@jupyter-widgets/base",
      "model_module_version": "1.2.0",
      "model_name": "LayoutModel",
      "state": {}
     },
     "ef3bd8339574448fab8d8386401f1ec7": {
      "model_module": "@jupyter-widgets/base",
      "model_module_version": "1.2.0",
      "model_name": "LayoutModel",
      "state": {}
     },
     "efd3ad2f0d264139aa87e24623035d51": {
      "model_module": "@jupyter-widgets/base",
      "model_module_version": "1.2.0",
      "model_name": "LayoutModel",
      "state": {}
     },
     "f067746c4831464b93c5ece1c9c9e1a8": {
      "model_module": "@jupyter-widgets/base",
      "model_module_version": "1.2.0",
      "model_name": "LayoutModel",
      "state": {}
     },
     "f0e27279145246e19b46e965a538208a": {
      "model_module": "@jupyter-widgets/controls",
      "model_module_version": "1.5.0",
      "model_name": "FloatProgressModel",
      "state": {
       "layout": "IPY_MODEL_74adedc62130454b95c7081472a58486",
       "max": 8,
       "style": "IPY_MODEL_89f4a07a0e374ba0b209b5dfc1d3819a",
       "value": 8
      }
     },
     "f0e2932cff05438ab51579b7267bbea7": {
      "model_module": "@jupyter-widgets/controls",
      "model_module_version": "1.5.0",
      "model_name": "HTMLModel",
      "state": {
       "layout": "IPY_MODEL_f92219fe8ab0481eb61b197b43d4a5b8",
       "style": "IPY_MODEL_9afcda829492431983b8acbbd979f098",
       "value": "Iterating through drift speeds:  75%"
      }
     },
     "f0f09bbaa19a475fb20eea65ee5126cd": {
      "model_module": "@jupyter-widgets/controls",
      "model_module_version": "1.5.0",
      "model_name": "ProgressStyleModel",
      "state": {
       "description_width": ""
      }
     },
     "f19a6dc4ab094b45881798f3f6b9571a": {
      "model_module": "@jupyter-widgets/controls",
      "model_module_version": "1.5.0",
      "model_name": "ProgressStyleModel",
      "state": {
       "description_width": ""
      }
     },
     "f1e81e7c523c4f8da55dee29372d188c": {
      "model_module": "jupyter-matplotlib",
      "model_module_version": "^0.8.2",
      "model_name": "MPLCanvasModel",
      "state": {
       "_cursor": "default",
       "_figure_label": "Figure 15",
       "_height": 480,
       "_width": 640,
       "layout": "IPY_MODEL_172665b867c3413eb506dab65e4c384f",
       "toolbar": "IPY_MODEL_8cfa6ca3ae384cb3b33c7d37aba6f9ad",
       "toolbar_position": "left"
      }
     },
     "f1e836c3c4d14ab38e1ed94e30f7bbcd": {
      "model_module": "@jupyter-widgets/controls",
      "model_module_version": "1.5.0",
      "model_name": "FloatProgressModel",
      "state": {
       "layout": "IPY_MODEL_ff8379c9daea4c0eb08d0eec5653bbfd",
       "max": 8,
       "style": "IPY_MODEL_3cf3f231e5fb4530bee138a90c1e3e70",
       "value": 8
      }
     },
     "f2469651b26e49d1971a93f29f43edf9": {
      "model_module": "@jupyter-widgets/controls",
      "model_module_version": "1.5.0",
      "model_name": "HTMLModel",
      "state": {
       "layout": "IPY_MODEL_fdf42ece48274e8e87fbbfde38230fda",
       "style": "IPY_MODEL_f5b26c65c48748e5a97f68d6c3abe4a7",
       "value": "Iterating through drift speeds:  75%"
      }
     },
     "f2eb278b88ac4a48a24d7acf18239dc4": {
      "model_module": "@jupyter-widgets/base",
      "model_module_version": "1.2.0",
      "model_name": "LayoutModel",
      "state": {}
     },
     "f322602ffa1e45c08daeb8022bc4d32c": {
      "model_module": "@jupyter-widgets/base",
      "model_module_version": "1.2.0",
      "model_name": "LayoutModel",
      "state": {}
     },
     "f4274c91ce0c487987f637ea6d260952": {
      "model_module": "@jupyter-widgets/base",
      "model_module_version": "1.2.0",
      "model_name": "LayoutModel",
      "state": {}
     },
     "f43310e419eb4f629824821bb6ed878c": {
      "model_module": "@jupyter-widgets/controls",
      "model_module_version": "1.5.0",
      "model_name": "DescriptionStyleModel",
      "state": {
       "description_width": ""
      }
     },
     "f44dbce35bc046ed87fed54fe810b197": {
      "model_module": "@jupyter-widgets/controls",
      "model_module_version": "1.5.0",
      "model_name": "FloatProgressModel",
      "state": {
       "layout": "IPY_MODEL_b6939fe2bde74fc199954a381329bc6b",
       "max": 8,
       "style": "IPY_MODEL_790b31f8ada241f2966fb920593630b2",
       "value": 8
      }
     },
     "f4d905fdb7894fb99337a8d2a552a621": {
      "model_module": "@jupyter-widgets/controls",
      "model_module_version": "1.5.0",
      "model_name": "DescriptionStyleModel",
      "state": {
       "description_width": ""
      }
     },
     "f517ea8d3b464ac8ab4b52566a7247c5": {
      "model_module": "@jupyter-widgets/controls",
      "model_module_version": "1.5.0",
      "model_name": "HTMLModel",
      "state": {
       "layout": "IPY_MODEL_1dc2a7c496604cca9a4baff359965e08",
       "style": "IPY_MODEL_27c15aaf30e74d7d9d23ce58f7963f33",
       "value": " 6/8 [00:00&lt;00:00, 55.54it/s]"
      }
     },
     "f51b93cb5d204ed7a0420a6c62c58690": {
      "model_module": "@jupyter-widgets/controls",
      "model_module_version": "1.5.0",
      "model_name": "ProgressStyleModel",
      "state": {
       "description_width": ""
      }
     },
     "f5214f7a1da64dc8a9ebae436dc7e624": {
      "model_module": "@jupyter-widgets/base",
      "model_module_version": "1.2.0",
      "model_name": "LayoutModel",
      "state": {}
     },
     "f53c265af1b644748239858ce3eb6019": {
      "model_module": "@jupyter-widgets/controls",
      "model_module_version": "1.5.0",
      "model_name": "DescriptionStyleModel",
      "state": {
       "description_width": ""
      }
     },
     "f5555d321589431bb6f408a4a69205ae": {
      "model_module": "@jupyter-widgets/controls",
      "model_module_version": "1.5.0",
      "model_name": "DescriptionStyleModel",
      "state": {
       "description_width": ""
      }
     },
     "f5b26c65c48748e5a97f68d6c3abe4a7": {
      "model_module": "@jupyter-widgets/controls",
      "model_module_version": "1.5.0",
      "model_name": "DescriptionStyleModel",
      "state": {
       "description_width": ""
      }
     },
     "f69123f7deba4ab7802d4e05f9e6ffd1": {
      "model_module": "@jupyter-widgets/base",
      "model_module_version": "1.2.0",
      "model_name": "LayoutModel",
      "state": {}
     },
     "f6b889eb5d0249e79b93db7bb76dbf33": {
      "model_module": "@jupyter-widgets/base",
      "model_module_version": "1.2.0",
      "model_name": "LayoutModel",
      "state": {}
     },
     "f73eccd3e1ff4ab3b9f7b7237c5911ca": {
      "model_module": "@jupyter-widgets/controls",
      "model_module_version": "1.5.0",
      "model_name": "DescriptionStyleModel",
      "state": {
       "description_width": ""
      }
     },
     "f7aaee9f030a4468bfa917b8a139a621": {
      "model_module": "@jupyter-widgets/controls",
      "model_module_version": "1.5.0",
      "model_name": "HTMLModel",
      "state": {
       "layout": "IPY_MODEL_82d064afaab2496e9b64ab111b5f7ca1",
       "style": "IPY_MODEL_62df24ecdb324f0f8e3c9479971fb47a",
       "value": "Iterating through drift speeds:  75%"
      }
     },
     "f7ad29640cb44adca034a5323f2f5184": {
      "model_module": "@jupyter-widgets/controls",
      "model_module_version": "1.5.0",
      "model_name": "DescriptionStyleModel",
      "state": {
       "description_width": ""
      }
     },
     "f7bbe677bc664cc08cf724dba7183c3d": {
      "model_module": "@jupyter-widgets/base",
      "model_module_version": "1.2.0",
      "model_name": "LayoutModel",
      "state": {}
     },
     "f7e1421462634439b4fdab0824dbdca9": {
      "model_module": "@jupyter-widgets/controls",
      "model_module_version": "1.5.0",
      "model_name": "DescriptionStyleModel",
      "state": {
       "description_width": ""
      }
     },
     "f7f08b503b8745dd9638bbebe3235bb2": {
      "model_module": "@jupyter-widgets/base",
      "model_module_version": "1.2.0",
      "model_name": "LayoutModel",
      "state": {}
     },
     "f806674698484668918dcb6e68e503da": {
      "model_module": "@jupyter-widgets/base",
      "model_module_version": "1.2.0",
      "model_name": "LayoutModel",
      "state": {}
     },
     "f80907ce12ed4e6088b2f2bf137eb904": {
      "model_module": "jupyter-matplotlib",
      "model_module_version": "^0.8.2",
      "model_name": "MPLCanvasModel",
      "state": {
       "_cursor": "default",
       "_figure_label": "Figure 7",
       "_height": 480,
       "_width": 640,
       "layout": "IPY_MODEL_d339829c9be645f19f43a903d69dad0b",
       "toolbar": "IPY_MODEL_babf868f30964dcea8b8d4a6fc12c83d",
       "toolbar_position": "left"
      }
     },
     "f816c206036b40ea8dc9996957e03da5": {
      "model_module": "@jupyter-widgets/base",
      "model_module_version": "1.2.0",
      "model_name": "LayoutModel",
      "state": {}
     },
     "f82c626224754caa966c558dbe9b7ed8": {
      "model_module": "@jupyter-widgets/controls",
      "model_module_version": "1.5.0",
      "model_name": "HTMLModel",
      "state": {
       "layout": "IPY_MODEL_2afac41566c1473087726c9f6952758c",
       "style": "IPY_MODEL_ea55cd4d271744bea06eef8c7dee70e8",
       "value": " 6/8 [00:00&lt;00:00, 58.82it/s]"
      }
     },
     "f83459cc37ed42cd9873eb2d2dbc5c4e": {
      "model_module": "@jupyter-widgets/controls",
      "model_module_version": "1.5.0",
      "model_name": "DescriptionStyleModel",
      "state": {
       "description_width": ""
      }
     },
     "f85f095b96ab4fc2a7504a0c60154dc8": {
      "model_module": "jupyter-matplotlib",
      "model_module_version": "^0.8.2",
      "model_name": "ToolbarModel",
      "state": {
       "layout": "IPY_MODEL_50a0bbb3907a498283a7307a86da16eb",
       "toolitems": [
        [
         "Home",
         "Reset original view",
         "home",
         "home"
        ],
        [
         "Back",
         "Back to previous view",
         "arrow-left",
         "back"
        ],
        [
         "Forward",
         "Forward to next view",
         "arrow-right",
         "forward"
        ],
        [
         "Pan",
         "Left button pans, Right button zooms\nx/y fixes axis, CTRL fixes aspect",
         "arrows",
         "pan"
        ],
        [
         "Zoom",
         "Zoom to rectangle\nx/y fixes axis, CTRL fixes aspect",
         "square-o",
         "zoom"
        ],
        [
         "Download",
         "Download plot",
         "floppy-o",
         "save_figure"
        ]
       ]
      }
     },
     "f89e3ab9521f49039e02e2aa6a60996e": {
      "model_module": "@jupyter-widgets/base",
      "model_module_version": "1.2.0",
      "model_name": "LayoutModel",
      "state": {}
     },
     "f909a6e7e8444d7382b53103f0988c61": {
      "model_module": "@jupyter-widgets/controls",
      "model_module_version": "1.5.0",
      "model_name": "ProgressStyleModel",
      "state": {
       "description_width": ""
      }
     },
     "f92219fe8ab0481eb61b197b43d4a5b8": {
      "model_module": "@jupyter-widgets/base",
      "model_module_version": "1.2.0",
      "model_name": "LayoutModel",
      "state": {}
     },
     "f946d4c4a8634f36bab542d1c6628e2e": {
      "model_module": "@jupyter-widgets/controls",
      "model_module_version": "1.5.0",
      "model_name": "HTMLModel",
      "state": {
       "layout": "IPY_MODEL_340ab91c822d4312b8408623c9ea00a9",
       "style": "IPY_MODEL_9aad62e2466b42fe8c076355ae25be9c",
       "value": "Iterating through drift speeds:  75%"
      }
     },
     "f94a73b1e6774373b2efb4a6baf74f30": {
      "model_module": "@jupyter-widgets/controls",
      "model_module_version": "1.5.0",
      "model_name": "FloatProgressModel",
      "state": {
       "layout": "IPY_MODEL_b3b78968f1e6439d8501ee539075ba50",
       "max": 8,
       "style": "IPY_MODEL_183de2526f6343d0bcea2eaea0150f8b",
       "value": 8
      }
     },
     "f9b7945e164d4d90af86deb2b9a91b2a": {
      "model_module": "@jupyter-widgets/controls",
      "model_module_version": "1.5.0",
      "model_name": "HTMLModel",
      "state": {
       "layout": "IPY_MODEL_ba22784db3214383a2c19b6d6a7efdeb",
       "style": "IPY_MODEL_b59e324b83c94538be21bd8d60630e5a",
       "value": "Iterating through drift speeds:  75%"
      }
     },
     "f9c80aabb84848e5bb863a924fbe8aa5": {
      "model_module": "@jupyter-widgets/controls",
      "model_module_version": "1.5.0",
      "model_name": "HTMLModel",
      "state": {
       "layout": "IPY_MODEL_9f2a544b0350419f91d15290429855ec",
       "style": "IPY_MODEL_0521f1efa2e747b791bc05f8c8ffd5ea",
       "value": " 7/8 [00:00&lt;00:00, 61.93it/s]"
      }
     },
     "faaf18beb9d645cfb233eb5b25ee54f0": {
      "model_module": "@jupyter-widgets/controls",
      "model_module_version": "1.5.0",
      "model_name": "DescriptionStyleModel",
      "state": {
       "description_width": ""
      }
     },
     "fb669fa8e93647ffbdc7e6bdfef38e0c": {
      "model_module": "@jupyter-widgets/base",
      "model_module_version": "1.2.0",
      "model_name": "LayoutModel",
      "state": {}
     },
     "fbd1c97e293f44838cc815d61fc6e5bd": {
      "model_module": "@jupyter-widgets/controls",
      "model_module_version": "1.5.0",
      "model_name": "DescriptionStyleModel",
      "state": {
       "description_width": ""
      }
     },
     "fc5ebb33419c46eb9e0fe9a3acc0e384": {
      "model_module": "@jupyter-widgets/base",
      "model_module_version": "1.2.0",
      "model_name": "LayoutModel",
      "state": {}
     },
     "fc69e172a3984a9184ee005ca5af1e28": {
      "model_module": "@jupyter-widgets/controls",
      "model_module_version": "1.5.0",
      "model_name": "HTMLModel",
      "state": {
       "layout": "IPY_MODEL_e2c566640c954de0852b10b80c3d644d",
       "style": "IPY_MODEL_ca742bb153ae4e11b0e0edac0b5c4b25",
       "value": "Iterating through drift speeds:  75%"
      }
     },
     "fdf42ece48274e8e87fbbfde38230fda": {
      "model_module": "@jupyter-widgets/base",
      "model_module_version": "1.2.0",
      "model_name": "LayoutModel",
      "state": {}
     },
     "fe190fe5ec3a4ffaa0d70513d510fffa": {
      "model_module": "@jupyter-widgets/base",
      "model_module_version": "1.2.0",
      "model_name": "LayoutModel",
      "state": {}
     },
     "fe2358c2f04c4c15bd469b35260535ab": {
      "model_module": "@jupyter-widgets/controls",
      "model_module_version": "1.5.0",
      "model_name": "DescriptionStyleModel",
      "state": {
       "description_width": ""
      }
     },
     "fec3e831b487459ebd364c350cb2fa14": {
      "model_module": "@jupyter-widgets/base",
      "model_module_version": "1.2.0",
      "model_name": "LayoutModel",
      "state": {}
     },
     "ff1d92cabc6448a790dd4f3f40983e1a": {
      "model_module": "@jupyter-widgets/controls",
      "model_module_version": "1.5.0",
      "model_name": "HTMLModel",
      "state": {
       "layout": "IPY_MODEL_1cbcc60ab4774ba28d5659b79f80e8f1",
       "style": "IPY_MODEL_02beb92405064e0aba05e579e564b697",
       "value": " 8/8 [00:01&lt;00:00,  7.37it/s]"
      }
     },
     "ff76b5029f884aa4ac9b3d3c3b1944fe": {
      "model_module": "@jupyter-widgets/base",
      "model_module_version": "1.2.0",
      "model_name": "LayoutModel",
      "state": {}
     },
     "ff8379c9daea4c0eb08d0eec5653bbfd": {
      "model_module": "@jupyter-widgets/base",
      "model_module_version": "1.2.0",
      "model_name": "LayoutModel",
      "state": {}
     },
     "ffa8b2053ff5460da666bcba968be55d": {
      "model_module": "@jupyter-widgets/base",
      "model_module_version": "1.2.0",
      "model_name": "LayoutModel",
      "state": {}
     },
     "ffab69bf8a1a4ebabc5a1b2a3e808f84": {
      "model_module": "@jupyter-widgets/controls",
      "model_module_version": "1.5.0",
      "model_name": "DescriptionStyleModel",
      "state": {
       "description_width": ""
      }
     }
    },
    "version_major": 2,
    "version_minor": 0
   }
  }
 },
 "nbformat": 4,
 "nbformat_minor": 4
}
